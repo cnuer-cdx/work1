{
  "nbformat": 4,
  "nbformat_minor": 0,
  "metadata": {
    "colab": {
      "name": "Untitled",
      "provenance": [],
      "collapsed_sections": []
    },
    "kernelspec": {
      "name": "python3",
      "display_name": "Python 3"
    },
    "language_info": {
      "name": "python"
    },
    "accelerator": "GPU",
    "widgets": {
      "application/vnd.jupyter.widget-state+json": {
        "c8a6ba6829b1472b85213cfa32102933": {
          "model_module": "@jupyter-widgets/controls",
          "model_name": "HBoxModel",
          "state": {
            "_view_name": "HBoxView",
            "_dom_classes": [],
            "_model_name": "HBoxModel",
            "_view_module": "@jupyter-widgets/controls",
            "_model_module_version": "1.5.0",
            "_view_count": null,
            "_view_module_version": "1.5.0",
            "box_style": "",
            "layout": "IPY_MODEL_6dc1fec2846749c9b6637d35fdbff6e5",
            "_model_module": "@jupyter-widgets/controls",
            "children": [
              "IPY_MODEL_3e6ea7a3061d45739b7f5b675a4b7cf6",
              "IPY_MODEL_205b8cc73dc44cbbb8a448da93ebf1aa"
            ]
          }
        },
        "6dc1fec2846749c9b6637d35fdbff6e5": {
          "model_module": "@jupyter-widgets/base",
          "model_name": "LayoutModel",
          "state": {
            "_view_name": "LayoutView",
            "grid_template_rows": null,
            "right": null,
            "justify_content": null,
            "_view_module": "@jupyter-widgets/base",
            "overflow": null,
            "_model_module_version": "1.2.0",
            "_view_count": null,
            "flex_flow": null,
            "width": null,
            "min_width": null,
            "border": null,
            "align_items": null,
            "bottom": null,
            "_model_module": "@jupyter-widgets/base",
            "top": null,
            "grid_column": null,
            "overflow_y": null,
            "overflow_x": null,
            "grid_auto_flow": null,
            "grid_area": null,
            "grid_template_columns": null,
            "flex": null,
            "_model_name": "LayoutModel",
            "justify_items": null,
            "grid_row": null,
            "max_height": null,
            "align_content": null,
            "visibility": null,
            "align_self": null,
            "height": null,
            "min_height": null,
            "padding": null,
            "grid_auto_rows": null,
            "grid_gap": null,
            "max_width": null,
            "order": null,
            "_view_module_version": "1.2.0",
            "grid_template_areas": null,
            "object_position": null,
            "object_fit": null,
            "grid_auto_columns": null,
            "margin": null,
            "display": null,
            "left": null
          }
        },
        "3e6ea7a3061d45739b7f5b675a4b7cf6": {
          "model_module": "@jupyter-widgets/controls",
          "model_name": "FloatProgressModel",
          "state": {
            "_view_name": "ProgressView",
            "style": "IPY_MODEL_5d730a79d74f46ae87dab17eb4a945ae",
            "_dom_classes": [],
            "description": "",
            "_model_name": "FloatProgressModel",
            "bar_style": "success",
            "max": 26421880,
            "_view_module": "@jupyter-widgets/controls",
            "_model_module_version": "1.5.0",
            "value": 26421880,
            "_view_count": null,
            "_view_module_version": "1.5.0",
            "orientation": "horizontal",
            "min": 0,
            "description_tooltip": null,
            "_model_module": "@jupyter-widgets/controls",
            "layout": "IPY_MODEL_3bc54b45be204602b724545cda729971"
          }
        },
        "205b8cc73dc44cbbb8a448da93ebf1aa": {
          "model_module": "@jupyter-widgets/controls",
          "model_name": "HTMLModel",
          "state": {
            "_view_name": "HTMLView",
            "style": "IPY_MODEL_0759472f691240159ddfb36a086bc19a",
            "_dom_classes": [],
            "description": "",
            "_model_name": "HTMLModel",
            "placeholder": "​",
            "_view_module": "@jupyter-widgets/controls",
            "_model_module_version": "1.5.0",
            "value": " 26422272/? [00:27&lt;00:00, 972732.42it/s]",
            "_view_count": null,
            "_view_module_version": "1.5.0",
            "description_tooltip": null,
            "_model_module": "@jupyter-widgets/controls",
            "layout": "IPY_MODEL_2647220e33f9441b80e3b7e5dfa15e58"
          }
        },
        "5d730a79d74f46ae87dab17eb4a945ae": {
          "model_module": "@jupyter-widgets/controls",
          "model_name": "ProgressStyleModel",
          "state": {
            "_view_name": "StyleView",
            "_model_name": "ProgressStyleModel",
            "description_width": "initial",
            "_view_module": "@jupyter-widgets/base",
            "_model_module_version": "1.5.0",
            "_view_count": null,
            "_view_module_version": "1.2.0",
            "bar_color": null,
            "_model_module": "@jupyter-widgets/controls"
          }
        },
        "3bc54b45be204602b724545cda729971": {
          "model_module": "@jupyter-widgets/base",
          "model_name": "LayoutModel",
          "state": {
            "_view_name": "LayoutView",
            "grid_template_rows": null,
            "right": null,
            "justify_content": null,
            "_view_module": "@jupyter-widgets/base",
            "overflow": null,
            "_model_module_version": "1.2.0",
            "_view_count": null,
            "flex_flow": null,
            "width": null,
            "min_width": null,
            "border": null,
            "align_items": null,
            "bottom": null,
            "_model_module": "@jupyter-widgets/base",
            "top": null,
            "grid_column": null,
            "overflow_y": null,
            "overflow_x": null,
            "grid_auto_flow": null,
            "grid_area": null,
            "grid_template_columns": null,
            "flex": null,
            "_model_name": "LayoutModel",
            "justify_items": null,
            "grid_row": null,
            "max_height": null,
            "align_content": null,
            "visibility": null,
            "align_self": null,
            "height": null,
            "min_height": null,
            "padding": null,
            "grid_auto_rows": null,
            "grid_gap": null,
            "max_width": null,
            "order": null,
            "_view_module_version": "1.2.0",
            "grid_template_areas": null,
            "object_position": null,
            "object_fit": null,
            "grid_auto_columns": null,
            "margin": null,
            "display": null,
            "left": null
          }
        },
        "0759472f691240159ddfb36a086bc19a": {
          "model_module": "@jupyter-widgets/controls",
          "model_name": "DescriptionStyleModel",
          "state": {
            "_view_name": "StyleView",
            "_model_name": "DescriptionStyleModel",
            "description_width": "",
            "_view_module": "@jupyter-widgets/base",
            "_model_module_version": "1.5.0",
            "_view_count": null,
            "_view_module_version": "1.2.0",
            "_model_module": "@jupyter-widgets/controls"
          }
        },
        "2647220e33f9441b80e3b7e5dfa15e58": {
          "model_module": "@jupyter-widgets/base",
          "model_name": "LayoutModel",
          "state": {
            "_view_name": "LayoutView",
            "grid_template_rows": null,
            "right": null,
            "justify_content": null,
            "_view_module": "@jupyter-widgets/base",
            "overflow": null,
            "_model_module_version": "1.2.0",
            "_view_count": null,
            "flex_flow": null,
            "width": null,
            "min_width": null,
            "border": null,
            "align_items": null,
            "bottom": null,
            "_model_module": "@jupyter-widgets/base",
            "top": null,
            "grid_column": null,
            "overflow_y": null,
            "overflow_x": null,
            "grid_auto_flow": null,
            "grid_area": null,
            "grid_template_columns": null,
            "flex": null,
            "_model_name": "LayoutModel",
            "justify_items": null,
            "grid_row": null,
            "max_height": null,
            "align_content": null,
            "visibility": null,
            "align_self": null,
            "height": null,
            "min_height": null,
            "padding": null,
            "grid_auto_rows": null,
            "grid_gap": null,
            "max_width": null,
            "order": null,
            "_view_module_version": "1.2.0",
            "grid_template_areas": null,
            "object_position": null,
            "object_fit": null,
            "grid_auto_columns": null,
            "margin": null,
            "display": null,
            "left": null
          }
        },
        "4b0289bf9a41446197e4cca0a6a0b342": {
          "model_module": "@jupyter-widgets/controls",
          "model_name": "HBoxModel",
          "state": {
            "_view_name": "HBoxView",
            "_dom_classes": [],
            "_model_name": "HBoxModel",
            "_view_module": "@jupyter-widgets/controls",
            "_model_module_version": "1.5.0",
            "_view_count": null,
            "_view_module_version": "1.5.0",
            "box_style": "",
            "layout": "IPY_MODEL_1e96b63fb62f4a319c5eccdd01f34628",
            "_model_module": "@jupyter-widgets/controls",
            "children": [
              "IPY_MODEL_e6c0a0a10d544bf4a79f9f7f6898a144",
              "IPY_MODEL_18225f49e72749d4a3cca881c03479c1"
            ]
          }
        },
        "1e96b63fb62f4a319c5eccdd01f34628": {
          "model_module": "@jupyter-widgets/base",
          "model_name": "LayoutModel",
          "state": {
            "_view_name": "LayoutView",
            "grid_template_rows": null,
            "right": null,
            "justify_content": null,
            "_view_module": "@jupyter-widgets/base",
            "overflow": null,
            "_model_module_version": "1.2.0",
            "_view_count": null,
            "flex_flow": null,
            "width": null,
            "min_width": null,
            "border": null,
            "align_items": null,
            "bottom": null,
            "_model_module": "@jupyter-widgets/base",
            "top": null,
            "grid_column": null,
            "overflow_y": null,
            "overflow_x": null,
            "grid_auto_flow": null,
            "grid_area": null,
            "grid_template_columns": null,
            "flex": null,
            "_model_name": "LayoutModel",
            "justify_items": null,
            "grid_row": null,
            "max_height": null,
            "align_content": null,
            "visibility": null,
            "align_self": null,
            "height": null,
            "min_height": null,
            "padding": null,
            "grid_auto_rows": null,
            "grid_gap": null,
            "max_width": null,
            "order": null,
            "_view_module_version": "1.2.0",
            "grid_template_areas": null,
            "object_position": null,
            "object_fit": null,
            "grid_auto_columns": null,
            "margin": null,
            "display": null,
            "left": null
          }
        },
        "e6c0a0a10d544bf4a79f9f7f6898a144": {
          "model_module": "@jupyter-widgets/controls",
          "model_name": "FloatProgressModel",
          "state": {
            "_view_name": "ProgressView",
            "style": "IPY_MODEL_143edb8b4d8546548c467268fea5734a",
            "_dom_classes": [],
            "description": "",
            "_model_name": "FloatProgressModel",
            "bar_style": "success",
            "max": 29515,
            "_view_module": "@jupyter-widgets/controls",
            "_model_module_version": "1.5.0",
            "value": 29515,
            "_view_count": null,
            "_view_module_version": "1.5.0",
            "orientation": "horizontal",
            "min": 0,
            "description_tooltip": null,
            "_model_module": "@jupyter-widgets/controls",
            "layout": "IPY_MODEL_b0b136e9185b4f12b88760b51e7972a1"
          }
        },
        "18225f49e72749d4a3cca881c03479c1": {
          "model_module": "@jupyter-widgets/controls",
          "model_name": "HTMLModel",
          "state": {
            "_view_name": "HTMLView",
            "style": "IPY_MODEL_0bb0f2e46c974860a0343791d3056f49",
            "_dom_classes": [],
            "description": "",
            "_model_name": "HTMLModel",
            "placeholder": "​",
            "_view_module": "@jupyter-widgets/controls",
            "_model_module_version": "1.5.0",
            "value": " 29696/? [00:01&lt;00:00, 23264.15it/s]",
            "_view_count": null,
            "_view_module_version": "1.5.0",
            "description_tooltip": null,
            "_model_module": "@jupyter-widgets/controls",
            "layout": "IPY_MODEL_f574778077e0455d85d5f53585a2035f"
          }
        },
        "143edb8b4d8546548c467268fea5734a": {
          "model_module": "@jupyter-widgets/controls",
          "model_name": "ProgressStyleModel",
          "state": {
            "_view_name": "StyleView",
            "_model_name": "ProgressStyleModel",
            "description_width": "initial",
            "_view_module": "@jupyter-widgets/base",
            "_model_module_version": "1.5.0",
            "_view_count": null,
            "_view_module_version": "1.2.0",
            "bar_color": null,
            "_model_module": "@jupyter-widgets/controls"
          }
        },
        "b0b136e9185b4f12b88760b51e7972a1": {
          "model_module": "@jupyter-widgets/base",
          "model_name": "LayoutModel",
          "state": {
            "_view_name": "LayoutView",
            "grid_template_rows": null,
            "right": null,
            "justify_content": null,
            "_view_module": "@jupyter-widgets/base",
            "overflow": null,
            "_model_module_version": "1.2.0",
            "_view_count": null,
            "flex_flow": null,
            "width": null,
            "min_width": null,
            "border": null,
            "align_items": null,
            "bottom": null,
            "_model_module": "@jupyter-widgets/base",
            "top": null,
            "grid_column": null,
            "overflow_y": null,
            "overflow_x": null,
            "grid_auto_flow": null,
            "grid_area": null,
            "grid_template_columns": null,
            "flex": null,
            "_model_name": "LayoutModel",
            "justify_items": null,
            "grid_row": null,
            "max_height": null,
            "align_content": null,
            "visibility": null,
            "align_self": null,
            "height": null,
            "min_height": null,
            "padding": null,
            "grid_auto_rows": null,
            "grid_gap": null,
            "max_width": null,
            "order": null,
            "_view_module_version": "1.2.0",
            "grid_template_areas": null,
            "object_position": null,
            "object_fit": null,
            "grid_auto_columns": null,
            "margin": null,
            "display": null,
            "left": null
          }
        },
        "0bb0f2e46c974860a0343791d3056f49": {
          "model_module": "@jupyter-widgets/controls",
          "model_name": "DescriptionStyleModel",
          "state": {
            "_view_name": "StyleView",
            "_model_name": "DescriptionStyleModel",
            "description_width": "",
            "_view_module": "@jupyter-widgets/base",
            "_model_module_version": "1.5.0",
            "_view_count": null,
            "_view_module_version": "1.2.0",
            "_model_module": "@jupyter-widgets/controls"
          }
        },
        "f574778077e0455d85d5f53585a2035f": {
          "model_module": "@jupyter-widgets/base",
          "model_name": "LayoutModel",
          "state": {
            "_view_name": "LayoutView",
            "grid_template_rows": null,
            "right": null,
            "justify_content": null,
            "_view_module": "@jupyter-widgets/base",
            "overflow": null,
            "_model_module_version": "1.2.0",
            "_view_count": null,
            "flex_flow": null,
            "width": null,
            "min_width": null,
            "border": null,
            "align_items": null,
            "bottom": null,
            "_model_module": "@jupyter-widgets/base",
            "top": null,
            "grid_column": null,
            "overflow_y": null,
            "overflow_x": null,
            "grid_auto_flow": null,
            "grid_area": null,
            "grid_template_columns": null,
            "flex": null,
            "_model_name": "LayoutModel",
            "justify_items": null,
            "grid_row": null,
            "max_height": null,
            "align_content": null,
            "visibility": null,
            "align_self": null,
            "height": null,
            "min_height": null,
            "padding": null,
            "grid_auto_rows": null,
            "grid_gap": null,
            "max_width": null,
            "order": null,
            "_view_module_version": "1.2.0",
            "grid_template_areas": null,
            "object_position": null,
            "object_fit": null,
            "grid_auto_columns": null,
            "margin": null,
            "display": null,
            "left": null
          }
        },
        "cf7efb415f014ed08d6f34c7f9acc5b8": {
          "model_module": "@jupyter-widgets/controls",
          "model_name": "HBoxModel",
          "state": {
            "_view_name": "HBoxView",
            "_dom_classes": [],
            "_model_name": "HBoxModel",
            "_view_module": "@jupyter-widgets/controls",
            "_model_module_version": "1.5.0",
            "_view_count": null,
            "_view_module_version": "1.5.0",
            "box_style": "",
            "layout": "IPY_MODEL_1e388fdebebc48c186d9d68b4770a793",
            "_model_module": "@jupyter-widgets/controls",
            "children": [
              "IPY_MODEL_b71cf31b0ce74ebf89e9199826f61794",
              "IPY_MODEL_d07a623e62bc4309bb255d2f1d0e023b"
            ]
          }
        },
        "1e388fdebebc48c186d9d68b4770a793": {
          "model_module": "@jupyter-widgets/base",
          "model_name": "LayoutModel",
          "state": {
            "_view_name": "LayoutView",
            "grid_template_rows": null,
            "right": null,
            "justify_content": null,
            "_view_module": "@jupyter-widgets/base",
            "overflow": null,
            "_model_module_version": "1.2.0",
            "_view_count": null,
            "flex_flow": null,
            "width": null,
            "min_width": null,
            "border": null,
            "align_items": null,
            "bottom": null,
            "_model_module": "@jupyter-widgets/base",
            "top": null,
            "grid_column": null,
            "overflow_y": null,
            "overflow_x": null,
            "grid_auto_flow": null,
            "grid_area": null,
            "grid_template_columns": null,
            "flex": null,
            "_model_name": "LayoutModel",
            "justify_items": null,
            "grid_row": null,
            "max_height": null,
            "align_content": null,
            "visibility": null,
            "align_self": null,
            "height": null,
            "min_height": null,
            "padding": null,
            "grid_auto_rows": null,
            "grid_gap": null,
            "max_width": null,
            "order": null,
            "_view_module_version": "1.2.0",
            "grid_template_areas": null,
            "object_position": null,
            "object_fit": null,
            "grid_auto_columns": null,
            "margin": null,
            "display": null,
            "left": null
          }
        },
        "b71cf31b0ce74ebf89e9199826f61794": {
          "model_module": "@jupyter-widgets/controls",
          "model_name": "FloatProgressModel",
          "state": {
            "_view_name": "ProgressView",
            "style": "IPY_MODEL_2b656055b2e64a188cc9395fb4cc67e1",
            "_dom_classes": [],
            "description": "",
            "_model_name": "FloatProgressModel",
            "bar_style": "success",
            "max": 4422102,
            "_view_module": "@jupyter-widgets/controls",
            "_model_module_version": "1.5.0",
            "value": 4422102,
            "_view_count": null,
            "_view_module_version": "1.5.0",
            "orientation": "horizontal",
            "min": 0,
            "description_tooltip": null,
            "_model_module": "@jupyter-widgets/controls",
            "layout": "IPY_MODEL_d9a577c3bbf74b85b02b08b6fa66b859"
          }
        },
        "d07a623e62bc4309bb255d2f1d0e023b": {
          "model_module": "@jupyter-widgets/controls",
          "model_name": "HTMLModel",
          "state": {
            "_view_name": "HTMLView",
            "style": "IPY_MODEL_35202fda2bf4429e847cfd6cc47aba24",
            "_dom_classes": [],
            "description": "",
            "_model_name": "HTMLModel",
            "placeholder": "​",
            "_view_module": "@jupyter-widgets/controls",
            "_model_module_version": "1.5.0",
            "value": " 4422656/? [00:22&lt;00:00, 194718.66it/s]",
            "_view_count": null,
            "_view_module_version": "1.5.0",
            "description_tooltip": null,
            "_model_module": "@jupyter-widgets/controls",
            "layout": "IPY_MODEL_5050128eb3ef4b7db60dd92cbf35e14d"
          }
        },
        "2b656055b2e64a188cc9395fb4cc67e1": {
          "model_module": "@jupyter-widgets/controls",
          "model_name": "ProgressStyleModel",
          "state": {
            "_view_name": "StyleView",
            "_model_name": "ProgressStyleModel",
            "description_width": "initial",
            "_view_module": "@jupyter-widgets/base",
            "_model_module_version": "1.5.0",
            "_view_count": null,
            "_view_module_version": "1.2.0",
            "bar_color": null,
            "_model_module": "@jupyter-widgets/controls"
          }
        },
        "d9a577c3bbf74b85b02b08b6fa66b859": {
          "model_module": "@jupyter-widgets/base",
          "model_name": "LayoutModel",
          "state": {
            "_view_name": "LayoutView",
            "grid_template_rows": null,
            "right": null,
            "justify_content": null,
            "_view_module": "@jupyter-widgets/base",
            "overflow": null,
            "_model_module_version": "1.2.0",
            "_view_count": null,
            "flex_flow": null,
            "width": null,
            "min_width": null,
            "border": null,
            "align_items": null,
            "bottom": null,
            "_model_module": "@jupyter-widgets/base",
            "top": null,
            "grid_column": null,
            "overflow_y": null,
            "overflow_x": null,
            "grid_auto_flow": null,
            "grid_area": null,
            "grid_template_columns": null,
            "flex": null,
            "_model_name": "LayoutModel",
            "justify_items": null,
            "grid_row": null,
            "max_height": null,
            "align_content": null,
            "visibility": null,
            "align_self": null,
            "height": null,
            "min_height": null,
            "padding": null,
            "grid_auto_rows": null,
            "grid_gap": null,
            "max_width": null,
            "order": null,
            "_view_module_version": "1.2.0",
            "grid_template_areas": null,
            "object_position": null,
            "object_fit": null,
            "grid_auto_columns": null,
            "margin": null,
            "display": null,
            "left": null
          }
        },
        "35202fda2bf4429e847cfd6cc47aba24": {
          "model_module": "@jupyter-widgets/controls",
          "model_name": "DescriptionStyleModel",
          "state": {
            "_view_name": "StyleView",
            "_model_name": "DescriptionStyleModel",
            "description_width": "",
            "_view_module": "@jupyter-widgets/base",
            "_model_module_version": "1.5.0",
            "_view_count": null,
            "_view_module_version": "1.2.0",
            "_model_module": "@jupyter-widgets/controls"
          }
        },
        "5050128eb3ef4b7db60dd92cbf35e14d": {
          "model_module": "@jupyter-widgets/base",
          "model_name": "LayoutModel",
          "state": {
            "_view_name": "LayoutView",
            "grid_template_rows": null,
            "right": null,
            "justify_content": null,
            "_view_module": "@jupyter-widgets/base",
            "overflow": null,
            "_model_module_version": "1.2.0",
            "_view_count": null,
            "flex_flow": null,
            "width": null,
            "min_width": null,
            "border": null,
            "align_items": null,
            "bottom": null,
            "_model_module": "@jupyter-widgets/base",
            "top": null,
            "grid_column": null,
            "overflow_y": null,
            "overflow_x": null,
            "grid_auto_flow": null,
            "grid_area": null,
            "grid_template_columns": null,
            "flex": null,
            "_model_name": "LayoutModel",
            "justify_items": null,
            "grid_row": null,
            "max_height": null,
            "align_content": null,
            "visibility": null,
            "align_self": null,
            "height": null,
            "min_height": null,
            "padding": null,
            "grid_auto_rows": null,
            "grid_gap": null,
            "max_width": null,
            "order": null,
            "_view_module_version": "1.2.0",
            "grid_template_areas": null,
            "object_position": null,
            "object_fit": null,
            "grid_auto_columns": null,
            "margin": null,
            "display": null,
            "left": null
          }
        },
        "b9cdc9d7a3e9402da8d8872f24c66293": {
          "model_module": "@jupyter-widgets/controls",
          "model_name": "HBoxModel",
          "state": {
            "_view_name": "HBoxView",
            "_dom_classes": [],
            "_model_name": "HBoxModel",
            "_view_module": "@jupyter-widgets/controls",
            "_model_module_version": "1.5.0",
            "_view_count": null,
            "_view_module_version": "1.5.0",
            "box_style": "",
            "layout": "IPY_MODEL_5fbbcbaa554648dbaa1a51215b0420ad",
            "_model_module": "@jupyter-widgets/controls",
            "children": [
              "IPY_MODEL_605a76b65a7f41a794bf9fce8785ed53",
              "IPY_MODEL_b9d7874472a84a7c9957d5aa0afbb889"
            ]
          }
        },
        "5fbbcbaa554648dbaa1a51215b0420ad": {
          "model_module": "@jupyter-widgets/base",
          "model_name": "LayoutModel",
          "state": {
            "_view_name": "LayoutView",
            "grid_template_rows": null,
            "right": null,
            "justify_content": null,
            "_view_module": "@jupyter-widgets/base",
            "overflow": null,
            "_model_module_version": "1.2.0",
            "_view_count": null,
            "flex_flow": null,
            "width": null,
            "min_width": null,
            "border": null,
            "align_items": null,
            "bottom": null,
            "_model_module": "@jupyter-widgets/base",
            "top": null,
            "grid_column": null,
            "overflow_y": null,
            "overflow_x": null,
            "grid_auto_flow": null,
            "grid_area": null,
            "grid_template_columns": null,
            "flex": null,
            "_model_name": "LayoutModel",
            "justify_items": null,
            "grid_row": null,
            "max_height": null,
            "align_content": null,
            "visibility": null,
            "align_self": null,
            "height": null,
            "min_height": null,
            "padding": null,
            "grid_auto_rows": null,
            "grid_gap": null,
            "max_width": null,
            "order": null,
            "_view_module_version": "1.2.0",
            "grid_template_areas": null,
            "object_position": null,
            "object_fit": null,
            "grid_auto_columns": null,
            "margin": null,
            "display": null,
            "left": null
          }
        },
        "605a76b65a7f41a794bf9fce8785ed53": {
          "model_module": "@jupyter-widgets/controls",
          "model_name": "FloatProgressModel",
          "state": {
            "_view_name": "ProgressView",
            "style": "IPY_MODEL_730dbc6070da48fa98429c06c238ed5b",
            "_dom_classes": [],
            "description": "",
            "_model_name": "FloatProgressModel",
            "bar_style": "success",
            "max": 5148,
            "_view_module": "@jupyter-widgets/controls",
            "_model_module_version": "1.5.0",
            "value": 5148,
            "_view_count": null,
            "_view_module_version": "1.5.0",
            "orientation": "horizontal",
            "min": 0,
            "description_tooltip": null,
            "_model_module": "@jupyter-widgets/controls",
            "layout": "IPY_MODEL_1a4242d2a55a4e019b1a6d0b812b28b2"
          }
        },
        "b9d7874472a84a7c9957d5aa0afbb889": {
          "model_module": "@jupyter-widgets/controls",
          "model_name": "HTMLModel",
          "state": {
            "_view_name": "HTMLView",
            "style": "IPY_MODEL_27c1436b197f4f88a36620d33c545c08",
            "_dom_classes": [],
            "description": "",
            "_model_name": "HTMLModel",
            "placeholder": "​",
            "_view_module": "@jupyter-widgets/controls",
            "_model_module_version": "1.5.0",
            "value": " 6144/? [00:02&lt;00:00, 2115.98it/s]",
            "_view_count": null,
            "_view_module_version": "1.5.0",
            "description_tooltip": null,
            "_model_module": "@jupyter-widgets/controls",
            "layout": "IPY_MODEL_90250b36b0164db098f769b5484c47dd"
          }
        },
        "730dbc6070da48fa98429c06c238ed5b": {
          "model_module": "@jupyter-widgets/controls",
          "model_name": "ProgressStyleModel",
          "state": {
            "_view_name": "StyleView",
            "_model_name": "ProgressStyleModel",
            "description_width": "initial",
            "_view_module": "@jupyter-widgets/base",
            "_model_module_version": "1.5.0",
            "_view_count": null,
            "_view_module_version": "1.2.0",
            "bar_color": null,
            "_model_module": "@jupyter-widgets/controls"
          }
        },
        "1a4242d2a55a4e019b1a6d0b812b28b2": {
          "model_module": "@jupyter-widgets/base",
          "model_name": "LayoutModel",
          "state": {
            "_view_name": "LayoutView",
            "grid_template_rows": null,
            "right": null,
            "justify_content": null,
            "_view_module": "@jupyter-widgets/base",
            "overflow": null,
            "_model_module_version": "1.2.0",
            "_view_count": null,
            "flex_flow": null,
            "width": null,
            "min_width": null,
            "border": null,
            "align_items": null,
            "bottom": null,
            "_model_module": "@jupyter-widgets/base",
            "top": null,
            "grid_column": null,
            "overflow_y": null,
            "overflow_x": null,
            "grid_auto_flow": null,
            "grid_area": null,
            "grid_template_columns": null,
            "flex": null,
            "_model_name": "LayoutModel",
            "justify_items": null,
            "grid_row": null,
            "max_height": null,
            "align_content": null,
            "visibility": null,
            "align_self": null,
            "height": null,
            "min_height": null,
            "padding": null,
            "grid_auto_rows": null,
            "grid_gap": null,
            "max_width": null,
            "order": null,
            "_view_module_version": "1.2.0",
            "grid_template_areas": null,
            "object_position": null,
            "object_fit": null,
            "grid_auto_columns": null,
            "margin": null,
            "display": null,
            "left": null
          }
        },
        "27c1436b197f4f88a36620d33c545c08": {
          "model_module": "@jupyter-widgets/controls",
          "model_name": "DescriptionStyleModel",
          "state": {
            "_view_name": "StyleView",
            "_model_name": "DescriptionStyleModel",
            "description_width": "",
            "_view_module": "@jupyter-widgets/base",
            "_model_module_version": "1.5.0",
            "_view_count": null,
            "_view_module_version": "1.2.0",
            "_model_module": "@jupyter-widgets/controls"
          }
        },
        "90250b36b0164db098f769b5484c47dd": {
          "model_module": "@jupyter-widgets/base",
          "model_name": "LayoutModel",
          "state": {
            "_view_name": "LayoutView",
            "grid_template_rows": null,
            "right": null,
            "justify_content": null,
            "_view_module": "@jupyter-widgets/base",
            "overflow": null,
            "_model_module_version": "1.2.0",
            "_view_count": null,
            "flex_flow": null,
            "width": null,
            "min_width": null,
            "border": null,
            "align_items": null,
            "bottom": null,
            "_model_module": "@jupyter-widgets/base",
            "top": null,
            "grid_column": null,
            "overflow_y": null,
            "overflow_x": null,
            "grid_auto_flow": null,
            "grid_area": null,
            "grid_template_columns": null,
            "flex": null,
            "_model_name": "LayoutModel",
            "justify_items": null,
            "grid_row": null,
            "max_height": null,
            "align_content": null,
            "visibility": null,
            "align_self": null,
            "height": null,
            "min_height": null,
            "padding": null,
            "grid_auto_rows": null,
            "grid_gap": null,
            "max_width": null,
            "order": null,
            "_view_module_version": "1.2.0",
            "grid_template_areas": null,
            "object_position": null,
            "object_fit": null,
            "grid_auto_columns": null,
            "margin": null,
            "display": null,
            "left": null
          }
        },
        "5da3d353a1c243f9a1d0c2b0a1225142": {
          "model_module": "@jupyter-widgets/controls",
          "model_name": "HBoxModel",
          "state": {
            "_view_name": "HBoxView",
            "_dom_classes": [],
            "_model_name": "HBoxModel",
            "_view_module": "@jupyter-widgets/controls",
            "_model_module_version": "1.5.0",
            "_view_count": null,
            "_view_module_version": "1.5.0",
            "box_style": "",
            "layout": "IPY_MODEL_31cad01289004c31be1be39c8ba89c82",
            "_model_module": "@jupyter-widgets/controls",
            "children": [
              "IPY_MODEL_fa69cc19afe24334b552aae33938496d",
              "IPY_MODEL_d7d493449e624559bfe658fd85607c8e"
            ]
          }
        },
        "31cad01289004c31be1be39c8ba89c82": {
          "model_module": "@jupyter-widgets/base",
          "model_name": "LayoutModel",
          "state": {
            "_view_name": "LayoutView",
            "grid_template_rows": null,
            "right": null,
            "justify_content": null,
            "_view_module": "@jupyter-widgets/base",
            "overflow": null,
            "_model_module_version": "1.2.0",
            "_view_count": null,
            "flex_flow": null,
            "width": null,
            "min_width": null,
            "border": null,
            "align_items": null,
            "bottom": null,
            "_model_module": "@jupyter-widgets/base",
            "top": null,
            "grid_column": null,
            "overflow_y": null,
            "overflow_x": null,
            "grid_auto_flow": null,
            "grid_area": null,
            "grid_template_columns": null,
            "flex": null,
            "_model_name": "LayoutModel",
            "justify_items": null,
            "grid_row": null,
            "max_height": null,
            "align_content": null,
            "visibility": null,
            "align_self": null,
            "height": null,
            "min_height": null,
            "padding": null,
            "grid_auto_rows": null,
            "grid_gap": null,
            "max_width": null,
            "order": null,
            "_view_module_version": "1.2.0",
            "grid_template_areas": null,
            "object_position": null,
            "object_fit": null,
            "grid_auto_columns": null,
            "margin": null,
            "display": null,
            "left": null
          }
        },
        "fa69cc19afe24334b552aae33938496d": {
          "model_module": "@jupyter-widgets/controls",
          "model_name": "FloatProgressModel",
          "state": {
            "_view_name": "ProgressView",
            "style": "IPY_MODEL_c1ffe984f7b84aa59f31370ef56ccc27",
            "_dom_classes": [],
            "description": "",
            "_model_name": "FloatProgressModel",
            "bar_style": "success",
            "max": 26421880,
            "_view_module": "@jupyter-widgets/controls",
            "_model_module_version": "1.5.0",
            "value": 26421880,
            "_view_count": null,
            "_view_module_version": "1.5.0",
            "orientation": "horizontal",
            "min": 0,
            "description_tooltip": null,
            "_model_module": "@jupyter-widgets/controls",
            "layout": "IPY_MODEL_bb486ca50f3145f982345bf72659a703"
          }
        },
        "d7d493449e624559bfe658fd85607c8e": {
          "model_module": "@jupyter-widgets/controls",
          "model_name": "HTMLModel",
          "state": {
            "_view_name": "HTMLView",
            "style": "IPY_MODEL_bbb5f03064a64b1eb365eeab14fc9ee5",
            "_dom_classes": [],
            "description": "",
            "_model_name": "HTMLModel",
            "placeholder": "​",
            "_view_module": "@jupyter-widgets/controls",
            "_model_module_version": "1.5.0",
            "value": " 26422272/? [00:06&lt;00:00, 4056805.03it/s]",
            "_view_count": null,
            "_view_module_version": "1.5.0",
            "description_tooltip": null,
            "_model_module": "@jupyter-widgets/controls",
            "layout": "IPY_MODEL_2cc62bf66f834cdeaf492a17d8a827bd"
          }
        },
        "c1ffe984f7b84aa59f31370ef56ccc27": {
          "model_module": "@jupyter-widgets/controls",
          "model_name": "ProgressStyleModel",
          "state": {
            "_view_name": "StyleView",
            "_model_name": "ProgressStyleModel",
            "description_width": "initial",
            "_view_module": "@jupyter-widgets/base",
            "_model_module_version": "1.5.0",
            "_view_count": null,
            "_view_module_version": "1.2.0",
            "bar_color": null,
            "_model_module": "@jupyter-widgets/controls"
          }
        },
        "bb486ca50f3145f982345bf72659a703": {
          "model_module": "@jupyter-widgets/base",
          "model_name": "LayoutModel",
          "state": {
            "_view_name": "LayoutView",
            "grid_template_rows": null,
            "right": null,
            "justify_content": null,
            "_view_module": "@jupyter-widgets/base",
            "overflow": null,
            "_model_module_version": "1.2.0",
            "_view_count": null,
            "flex_flow": null,
            "width": null,
            "min_width": null,
            "border": null,
            "align_items": null,
            "bottom": null,
            "_model_module": "@jupyter-widgets/base",
            "top": null,
            "grid_column": null,
            "overflow_y": null,
            "overflow_x": null,
            "grid_auto_flow": null,
            "grid_area": null,
            "grid_template_columns": null,
            "flex": null,
            "_model_name": "LayoutModel",
            "justify_items": null,
            "grid_row": null,
            "max_height": null,
            "align_content": null,
            "visibility": null,
            "align_self": null,
            "height": null,
            "min_height": null,
            "padding": null,
            "grid_auto_rows": null,
            "grid_gap": null,
            "max_width": null,
            "order": null,
            "_view_module_version": "1.2.0",
            "grid_template_areas": null,
            "object_position": null,
            "object_fit": null,
            "grid_auto_columns": null,
            "margin": null,
            "display": null,
            "left": null
          }
        },
        "bbb5f03064a64b1eb365eeab14fc9ee5": {
          "model_module": "@jupyter-widgets/controls",
          "model_name": "DescriptionStyleModel",
          "state": {
            "_view_name": "StyleView",
            "_model_name": "DescriptionStyleModel",
            "description_width": "",
            "_view_module": "@jupyter-widgets/base",
            "_model_module_version": "1.5.0",
            "_view_count": null,
            "_view_module_version": "1.2.0",
            "_model_module": "@jupyter-widgets/controls"
          }
        },
        "2cc62bf66f834cdeaf492a17d8a827bd": {
          "model_module": "@jupyter-widgets/base",
          "model_name": "LayoutModel",
          "state": {
            "_view_name": "LayoutView",
            "grid_template_rows": null,
            "right": null,
            "justify_content": null,
            "_view_module": "@jupyter-widgets/base",
            "overflow": null,
            "_model_module_version": "1.2.0",
            "_view_count": null,
            "flex_flow": null,
            "width": null,
            "min_width": null,
            "border": null,
            "align_items": null,
            "bottom": null,
            "_model_module": "@jupyter-widgets/base",
            "top": null,
            "grid_column": null,
            "overflow_y": null,
            "overflow_x": null,
            "grid_auto_flow": null,
            "grid_area": null,
            "grid_template_columns": null,
            "flex": null,
            "_model_name": "LayoutModel",
            "justify_items": null,
            "grid_row": null,
            "max_height": null,
            "align_content": null,
            "visibility": null,
            "align_self": null,
            "height": null,
            "min_height": null,
            "padding": null,
            "grid_auto_rows": null,
            "grid_gap": null,
            "max_width": null,
            "order": null,
            "_view_module_version": "1.2.0",
            "grid_template_areas": null,
            "object_position": null,
            "object_fit": null,
            "grid_auto_columns": null,
            "margin": null,
            "display": null,
            "left": null
          }
        },
        "4bb3ab6413de41139e978e16f6f7200e": {
          "model_module": "@jupyter-widgets/controls",
          "model_name": "HBoxModel",
          "state": {
            "_view_name": "HBoxView",
            "_dom_classes": [],
            "_model_name": "HBoxModel",
            "_view_module": "@jupyter-widgets/controls",
            "_model_module_version": "1.5.0",
            "_view_count": null,
            "_view_module_version": "1.5.0",
            "box_style": "",
            "layout": "IPY_MODEL_9b216070a1bd4fc8b7955b231e1b4a79",
            "_model_module": "@jupyter-widgets/controls",
            "children": [
              "IPY_MODEL_9518f27fd5894eac9bdce177ceffcb01",
              "IPY_MODEL_b809beae5ffc42f0b140351786fb9688"
            ]
          }
        },
        "9b216070a1bd4fc8b7955b231e1b4a79": {
          "model_module": "@jupyter-widgets/base",
          "model_name": "LayoutModel",
          "state": {
            "_view_name": "LayoutView",
            "grid_template_rows": null,
            "right": null,
            "justify_content": null,
            "_view_module": "@jupyter-widgets/base",
            "overflow": null,
            "_model_module_version": "1.2.0",
            "_view_count": null,
            "flex_flow": null,
            "width": null,
            "min_width": null,
            "border": null,
            "align_items": null,
            "bottom": null,
            "_model_module": "@jupyter-widgets/base",
            "top": null,
            "grid_column": null,
            "overflow_y": null,
            "overflow_x": null,
            "grid_auto_flow": null,
            "grid_area": null,
            "grid_template_columns": null,
            "flex": null,
            "_model_name": "LayoutModel",
            "justify_items": null,
            "grid_row": null,
            "max_height": null,
            "align_content": null,
            "visibility": null,
            "align_self": null,
            "height": null,
            "min_height": null,
            "padding": null,
            "grid_auto_rows": null,
            "grid_gap": null,
            "max_width": null,
            "order": null,
            "_view_module_version": "1.2.0",
            "grid_template_areas": null,
            "object_position": null,
            "object_fit": null,
            "grid_auto_columns": null,
            "margin": null,
            "display": null,
            "left": null
          }
        },
        "9518f27fd5894eac9bdce177ceffcb01": {
          "model_module": "@jupyter-widgets/controls",
          "model_name": "FloatProgressModel",
          "state": {
            "_view_name": "ProgressView",
            "style": "IPY_MODEL_015a7fd4f4894b628b327c749177868b",
            "_dom_classes": [],
            "description": "",
            "_model_name": "FloatProgressModel",
            "bar_style": "success",
            "max": 29515,
            "_view_module": "@jupyter-widgets/controls",
            "_model_module_version": "1.5.0",
            "value": 29515,
            "_view_count": null,
            "_view_module_version": "1.5.0",
            "orientation": "horizontal",
            "min": 0,
            "description_tooltip": null,
            "_model_module": "@jupyter-widgets/controls",
            "layout": "IPY_MODEL_bd5e635f30244c8f80bbf3c4266b4974"
          }
        },
        "b809beae5ffc42f0b140351786fb9688": {
          "model_module": "@jupyter-widgets/controls",
          "model_name": "HTMLModel",
          "state": {
            "_view_name": "HTMLView",
            "style": "IPY_MODEL_0b2ae1b792bb432d83242750cadeb655",
            "_dom_classes": [],
            "description": "",
            "_model_name": "HTMLModel",
            "placeholder": "​",
            "_view_module": "@jupyter-widgets/controls",
            "_model_module_version": "1.5.0",
            "value": " 29696/? [00:02&lt;00:00, 10353.32it/s]",
            "_view_count": null,
            "_view_module_version": "1.5.0",
            "description_tooltip": null,
            "_model_module": "@jupyter-widgets/controls",
            "layout": "IPY_MODEL_e730cadb6aa54621b97a4418eeee5c8f"
          }
        },
        "015a7fd4f4894b628b327c749177868b": {
          "model_module": "@jupyter-widgets/controls",
          "model_name": "ProgressStyleModel",
          "state": {
            "_view_name": "StyleView",
            "_model_name": "ProgressStyleModel",
            "description_width": "initial",
            "_view_module": "@jupyter-widgets/base",
            "_model_module_version": "1.5.0",
            "_view_count": null,
            "_view_module_version": "1.2.0",
            "bar_color": null,
            "_model_module": "@jupyter-widgets/controls"
          }
        },
        "bd5e635f30244c8f80bbf3c4266b4974": {
          "model_module": "@jupyter-widgets/base",
          "model_name": "LayoutModel",
          "state": {
            "_view_name": "LayoutView",
            "grid_template_rows": null,
            "right": null,
            "justify_content": null,
            "_view_module": "@jupyter-widgets/base",
            "overflow": null,
            "_model_module_version": "1.2.0",
            "_view_count": null,
            "flex_flow": null,
            "width": null,
            "min_width": null,
            "border": null,
            "align_items": null,
            "bottom": null,
            "_model_module": "@jupyter-widgets/base",
            "top": null,
            "grid_column": null,
            "overflow_y": null,
            "overflow_x": null,
            "grid_auto_flow": null,
            "grid_area": null,
            "grid_template_columns": null,
            "flex": null,
            "_model_name": "LayoutModel",
            "justify_items": null,
            "grid_row": null,
            "max_height": null,
            "align_content": null,
            "visibility": null,
            "align_self": null,
            "height": null,
            "min_height": null,
            "padding": null,
            "grid_auto_rows": null,
            "grid_gap": null,
            "max_width": null,
            "order": null,
            "_view_module_version": "1.2.0",
            "grid_template_areas": null,
            "object_position": null,
            "object_fit": null,
            "grid_auto_columns": null,
            "margin": null,
            "display": null,
            "left": null
          }
        },
        "0b2ae1b792bb432d83242750cadeb655": {
          "model_module": "@jupyter-widgets/controls",
          "model_name": "DescriptionStyleModel",
          "state": {
            "_view_name": "StyleView",
            "_model_name": "DescriptionStyleModel",
            "description_width": "",
            "_view_module": "@jupyter-widgets/base",
            "_model_module_version": "1.5.0",
            "_view_count": null,
            "_view_module_version": "1.2.0",
            "_model_module": "@jupyter-widgets/controls"
          }
        },
        "e730cadb6aa54621b97a4418eeee5c8f": {
          "model_module": "@jupyter-widgets/base",
          "model_name": "LayoutModel",
          "state": {
            "_view_name": "LayoutView",
            "grid_template_rows": null,
            "right": null,
            "justify_content": null,
            "_view_module": "@jupyter-widgets/base",
            "overflow": null,
            "_model_module_version": "1.2.0",
            "_view_count": null,
            "flex_flow": null,
            "width": null,
            "min_width": null,
            "border": null,
            "align_items": null,
            "bottom": null,
            "_model_module": "@jupyter-widgets/base",
            "top": null,
            "grid_column": null,
            "overflow_y": null,
            "overflow_x": null,
            "grid_auto_flow": null,
            "grid_area": null,
            "grid_template_columns": null,
            "flex": null,
            "_model_name": "LayoutModel",
            "justify_items": null,
            "grid_row": null,
            "max_height": null,
            "align_content": null,
            "visibility": null,
            "align_self": null,
            "height": null,
            "min_height": null,
            "padding": null,
            "grid_auto_rows": null,
            "grid_gap": null,
            "max_width": null,
            "order": null,
            "_view_module_version": "1.2.0",
            "grid_template_areas": null,
            "object_position": null,
            "object_fit": null,
            "grid_auto_columns": null,
            "margin": null,
            "display": null,
            "left": null
          }
        },
        "d1bde62cabb6406f954ca560c3551cd5": {
          "model_module": "@jupyter-widgets/controls",
          "model_name": "HBoxModel",
          "state": {
            "_view_name": "HBoxView",
            "_dom_classes": [],
            "_model_name": "HBoxModel",
            "_view_module": "@jupyter-widgets/controls",
            "_model_module_version": "1.5.0",
            "_view_count": null,
            "_view_module_version": "1.5.0",
            "box_style": "",
            "layout": "IPY_MODEL_447c9e511fed4a46be9a74ce577c66a6",
            "_model_module": "@jupyter-widgets/controls",
            "children": [
              "IPY_MODEL_cfe803ebc75d4b9da80c3865db8f8b8b",
              "IPY_MODEL_adbdc47f0e7a4df6953245e011d75dcd"
            ]
          }
        },
        "447c9e511fed4a46be9a74ce577c66a6": {
          "model_module": "@jupyter-widgets/base",
          "model_name": "LayoutModel",
          "state": {
            "_view_name": "LayoutView",
            "grid_template_rows": null,
            "right": null,
            "justify_content": null,
            "_view_module": "@jupyter-widgets/base",
            "overflow": null,
            "_model_module_version": "1.2.0",
            "_view_count": null,
            "flex_flow": null,
            "width": null,
            "min_width": null,
            "border": null,
            "align_items": null,
            "bottom": null,
            "_model_module": "@jupyter-widgets/base",
            "top": null,
            "grid_column": null,
            "overflow_y": null,
            "overflow_x": null,
            "grid_auto_flow": null,
            "grid_area": null,
            "grid_template_columns": null,
            "flex": null,
            "_model_name": "LayoutModel",
            "justify_items": null,
            "grid_row": null,
            "max_height": null,
            "align_content": null,
            "visibility": null,
            "align_self": null,
            "height": null,
            "min_height": null,
            "padding": null,
            "grid_auto_rows": null,
            "grid_gap": null,
            "max_width": null,
            "order": null,
            "_view_module_version": "1.2.0",
            "grid_template_areas": null,
            "object_position": null,
            "object_fit": null,
            "grid_auto_columns": null,
            "margin": null,
            "display": null,
            "left": null
          }
        },
        "cfe803ebc75d4b9da80c3865db8f8b8b": {
          "model_module": "@jupyter-widgets/controls",
          "model_name": "FloatProgressModel",
          "state": {
            "_view_name": "ProgressView",
            "style": "IPY_MODEL_d5087dd52d0d401dbc289f1e35b4a9b3",
            "_dom_classes": [],
            "description": "",
            "_model_name": "FloatProgressModel",
            "bar_style": "success",
            "max": 4422102,
            "_view_module": "@jupyter-widgets/controls",
            "_model_module_version": "1.5.0",
            "value": 4422102,
            "_view_count": null,
            "_view_module_version": "1.5.0",
            "orientation": "horizontal",
            "min": 0,
            "description_tooltip": null,
            "_model_module": "@jupyter-widgets/controls",
            "layout": "IPY_MODEL_c0814739f3014f9e837858d74e4de849"
          }
        },
        "adbdc47f0e7a4df6953245e011d75dcd": {
          "model_module": "@jupyter-widgets/controls",
          "model_name": "HTMLModel",
          "state": {
            "_view_name": "HTMLView",
            "style": "IPY_MODEL_f63d617c5e4d47ab96ea2ab78ffd9f6d",
            "_dom_classes": [],
            "description": "",
            "_model_name": "HTMLModel",
            "placeholder": "​",
            "_view_module": "@jupyter-widgets/controls",
            "_model_module_version": "1.5.0",
            "value": " 4422656/? [00:01&lt;00:00, 2249557.52it/s]",
            "_view_count": null,
            "_view_module_version": "1.5.0",
            "description_tooltip": null,
            "_model_module": "@jupyter-widgets/controls",
            "layout": "IPY_MODEL_3eb3299ecd544cfc8d0c7a5b04ab5ffb"
          }
        },
        "d5087dd52d0d401dbc289f1e35b4a9b3": {
          "model_module": "@jupyter-widgets/controls",
          "model_name": "ProgressStyleModel",
          "state": {
            "_view_name": "StyleView",
            "_model_name": "ProgressStyleModel",
            "description_width": "initial",
            "_view_module": "@jupyter-widgets/base",
            "_model_module_version": "1.5.0",
            "_view_count": null,
            "_view_module_version": "1.2.0",
            "bar_color": null,
            "_model_module": "@jupyter-widgets/controls"
          }
        },
        "c0814739f3014f9e837858d74e4de849": {
          "model_module": "@jupyter-widgets/base",
          "model_name": "LayoutModel",
          "state": {
            "_view_name": "LayoutView",
            "grid_template_rows": null,
            "right": null,
            "justify_content": null,
            "_view_module": "@jupyter-widgets/base",
            "overflow": null,
            "_model_module_version": "1.2.0",
            "_view_count": null,
            "flex_flow": null,
            "width": null,
            "min_width": null,
            "border": null,
            "align_items": null,
            "bottom": null,
            "_model_module": "@jupyter-widgets/base",
            "top": null,
            "grid_column": null,
            "overflow_y": null,
            "overflow_x": null,
            "grid_auto_flow": null,
            "grid_area": null,
            "grid_template_columns": null,
            "flex": null,
            "_model_name": "LayoutModel",
            "justify_items": null,
            "grid_row": null,
            "max_height": null,
            "align_content": null,
            "visibility": null,
            "align_self": null,
            "height": null,
            "min_height": null,
            "padding": null,
            "grid_auto_rows": null,
            "grid_gap": null,
            "max_width": null,
            "order": null,
            "_view_module_version": "1.2.0",
            "grid_template_areas": null,
            "object_position": null,
            "object_fit": null,
            "grid_auto_columns": null,
            "margin": null,
            "display": null,
            "left": null
          }
        },
        "f63d617c5e4d47ab96ea2ab78ffd9f6d": {
          "model_module": "@jupyter-widgets/controls",
          "model_name": "DescriptionStyleModel",
          "state": {
            "_view_name": "StyleView",
            "_model_name": "DescriptionStyleModel",
            "description_width": "",
            "_view_module": "@jupyter-widgets/base",
            "_model_module_version": "1.5.0",
            "_view_count": null,
            "_view_module_version": "1.2.0",
            "_model_module": "@jupyter-widgets/controls"
          }
        },
        "3eb3299ecd544cfc8d0c7a5b04ab5ffb": {
          "model_module": "@jupyter-widgets/base",
          "model_name": "LayoutModel",
          "state": {
            "_view_name": "LayoutView",
            "grid_template_rows": null,
            "right": null,
            "justify_content": null,
            "_view_module": "@jupyter-widgets/base",
            "overflow": null,
            "_model_module_version": "1.2.0",
            "_view_count": null,
            "flex_flow": null,
            "width": null,
            "min_width": null,
            "border": null,
            "align_items": null,
            "bottom": null,
            "_model_module": "@jupyter-widgets/base",
            "top": null,
            "grid_column": null,
            "overflow_y": null,
            "overflow_x": null,
            "grid_auto_flow": null,
            "grid_area": null,
            "grid_template_columns": null,
            "flex": null,
            "_model_name": "LayoutModel",
            "justify_items": null,
            "grid_row": null,
            "max_height": null,
            "align_content": null,
            "visibility": null,
            "align_self": null,
            "height": null,
            "min_height": null,
            "padding": null,
            "grid_auto_rows": null,
            "grid_gap": null,
            "max_width": null,
            "order": null,
            "_view_module_version": "1.2.0",
            "grid_template_areas": null,
            "object_position": null,
            "object_fit": null,
            "grid_auto_columns": null,
            "margin": null,
            "display": null,
            "left": null
          }
        },
        "34e5434198a241f3b349560fc650ab68": {
          "model_module": "@jupyter-widgets/controls",
          "model_name": "HBoxModel",
          "state": {
            "_view_name": "HBoxView",
            "_dom_classes": [],
            "_model_name": "HBoxModel",
            "_view_module": "@jupyter-widgets/controls",
            "_model_module_version": "1.5.0",
            "_view_count": null,
            "_view_module_version": "1.5.0",
            "box_style": "",
            "layout": "IPY_MODEL_c4aad43a5fa244149a2f92ff1e86a9ef",
            "_model_module": "@jupyter-widgets/controls",
            "children": [
              "IPY_MODEL_3c3d14438e924f118989a494bcd7c3ad",
              "IPY_MODEL_4aac0a7bb23645dfb270425ac0815a7f"
            ]
          }
        },
        "c4aad43a5fa244149a2f92ff1e86a9ef": {
          "model_module": "@jupyter-widgets/base",
          "model_name": "LayoutModel",
          "state": {
            "_view_name": "LayoutView",
            "grid_template_rows": null,
            "right": null,
            "justify_content": null,
            "_view_module": "@jupyter-widgets/base",
            "overflow": null,
            "_model_module_version": "1.2.0",
            "_view_count": null,
            "flex_flow": null,
            "width": null,
            "min_width": null,
            "border": null,
            "align_items": null,
            "bottom": null,
            "_model_module": "@jupyter-widgets/base",
            "top": null,
            "grid_column": null,
            "overflow_y": null,
            "overflow_x": null,
            "grid_auto_flow": null,
            "grid_area": null,
            "grid_template_columns": null,
            "flex": null,
            "_model_name": "LayoutModel",
            "justify_items": null,
            "grid_row": null,
            "max_height": null,
            "align_content": null,
            "visibility": null,
            "align_self": null,
            "height": null,
            "min_height": null,
            "padding": null,
            "grid_auto_rows": null,
            "grid_gap": null,
            "max_width": null,
            "order": null,
            "_view_module_version": "1.2.0",
            "grid_template_areas": null,
            "object_position": null,
            "object_fit": null,
            "grid_auto_columns": null,
            "margin": null,
            "display": null,
            "left": null
          }
        },
        "3c3d14438e924f118989a494bcd7c3ad": {
          "model_module": "@jupyter-widgets/controls",
          "model_name": "FloatProgressModel",
          "state": {
            "_view_name": "ProgressView",
            "style": "IPY_MODEL_9cad64bd725f4b4a912e80d4f8719e2a",
            "_dom_classes": [],
            "description": "",
            "_model_name": "FloatProgressModel",
            "bar_style": "success",
            "max": 5148,
            "_view_module": "@jupyter-widgets/controls",
            "_model_module_version": "1.5.0",
            "value": 5148,
            "_view_count": null,
            "_view_module_version": "1.5.0",
            "orientation": "horizontal",
            "min": 0,
            "description_tooltip": null,
            "_model_module": "@jupyter-widgets/controls",
            "layout": "IPY_MODEL_06e2a6e48d8742ed835fdb79f21da76f"
          }
        },
        "4aac0a7bb23645dfb270425ac0815a7f": {
          "model_module": "@jupyter-widgets/controls",
          "model_name": "HTMLModel",
          "state": {
            "_view_name": "HTMLView",
            "style": "IPY_MODEL_2162dcc3d9594754bcd13efcd22cb6d9",
            "_dom_classes": [],
            "description": "",
            "_model_name": "HTMLModel",
            "placeholder": "​",
            "_view_module": "@jupyter-widgets/controls",
            "_model_module_version": "1.5.0",
            "value": " 6144/? [00:00&lt;00:00, 85876.73it/s]",
            "_view_count": null,
            "_view_module_version": "1.5.0",
            "description_tooltip": null,
            "_model_module": "@jupyter-widgets/controls",
            "layout": "IPY_MODEL_5821b17142094f6f893f24aa79e19fdf"
          }
        },
        "9cad64bd725f4b4a912e80d4f8719e2a": {
          "model_module": "@jupyter-widgets/controls",
          "model_name": "ProgressStyleModel",
          "state": {
            "_view_name": "StyleView",
            "_model_name": "ProgressStyleModel",
            "description_width": "initial",
            "_view_module": "@jupyter-widgets/base",
            "_model_module_version": "1.5.0",
            "_view_count": null,
            "_view_module_version": "1.2.0",
            "bar_color": null,
            "_model_module": "@jupyter-widgets/controls"
          }
        },
        "06e2a6e48d8742ed835fdb79f21da76f": {
          "model_module": "@jupyter-widgets/base",
          "model_name": "LayoutModel",
          "state": {
            "_view_name": "LayoutView",
            "grid_template_rows": null,
            "right": null,
            "justify_content": null,
            "_view_module": "@jupyter-widgets/base",
            "overflow": null,
            "_model_module_version": "1.2.0",
            "_view_count": null,
            "flex_flow": null,
            "width": null,
            "min_width": null,
            "border": null,
            "align_items": null,
            "bottom": null,
            "_model_module": "@jupyter-widgets/base",
            "top": null,
            "grid_column": null,
            "overflow_y": null,
            "overflow_x": null,
            "grid_auto_flow": null,
            "grid_area": null,
            "grid_template_columns": null,
            "flex": null,
            "_model_name": "LayoutModel",
            "justify_items": null,
            "grid_row": null,
            "max_height": null,
            "align_content": null,
            "visibility": null,
            "align_self": null,
            "height": null,
            "min_height": null,
            "padding": null,
            "grid_auto_rows": null,
            "grid_gap": null,
            "max_width": null,
            "order": null,
            "_view_module_version": "1.2.0",
            "grid_template_areas": null,
            "object_position": null,
            "object_fit": null,
            "grid_auto_columns": null,
            "margin": null,
            "display": null,
            "left": null
          }
        },
        "2162dcc3d9594754bcd13efcd22cb6d9": {
          "model_module": "@jupyter-widgets/controls",
          "model_name": "DescriptionStyleModel",
          "state": {
            "_view_name": "StyleView",
            "_model_name": "DescriptionStyleModel",
            "description_width": "",
            "_view_module": "@jupyter-widgets/base",
            "_model_module_version": "1.5.0",
            "_view_count": null,
            "_view_module_version": "1.2.0",
            "_model_module": "@jupyter-widgets/controls"
          }
        },
        "5821b17142094f6f893f24aa79e19fdf": {
          "model_module": "@jupyter-widgets/base",
          "model_name": "LayoutModel",
          "state": {
            "_view_name": "LayoutView",
            "grid_template_rows": null,
            "right": null,
            "justify_content": null,
            "_view_module": "@jupyter-widgets/base",
            "overflow": null,
            "_model_module_version": "1.2.0",
            "_view_count": null,
            "flex_flow": null,
            "width": null,
            "min_width": null,
            "border": null,
            "align_items": null,
            "bottom": null,
            "_model_module": "@jupyter-widgets/base",
            "top": null,
            "grid_column": null,
            "overflow_y": null,
            "overflow_x": null,
            "grid_auto_flow": null,
            "grid_area": null,
            "grid_template_columns": null,
            "flex": null,
            "_model_name": "LayoutModel",
            "justify_items": null,
            "grid_row": null,
            "max_height": null,
            "align_content": null,
            "visibility": null,
            "align_self": null,
            "height": null,
            "min_height": null,
            "padding": null,
            "grid_auto_rows": null,
            "grid_gap": null,
            "max_width": null,
            "order": null,
            "_view_module_version": "1.2.0",
            "grid_template_areas": null,
            "object_position": null,
            "object_fit": null,
            "grid_auto_columns": null,
            "margin": null,
            "display": null,
            "left": null
          }
        },
        "e3695996207943598ee219795e906234": {
          "model_module": "@jupyter-widgets/controls",
          "model_name": "HBoxModel",
          "state": {
            "_view_name": "HBoxView",
            "_dom_classes": [],
            "_model_name": "HBoxModel",
            "_view_module": "@jupyter-widgets/controls",
            "_model_module_version": "1.5.0",
            "_view_count": null,
            "_view_module_version": "1.5.0",
            "box_style": "",
            "layout": "IPY_MODEL_366fe923eaf84f74b28e0860836bca07",
            "_model_module": "@jupyter-widgets/controls",
            "children": [
              "IPY_MODEL_9880c29d1fdf4b32ae7e4ed25e85638b",
              "IPY_MODEL_c6dc5dcbefcc470da02ecc1ab1a37b00"
            ]
          }
        },
        "366fe923eaf84f74b28e0860836bca07": {
          "model_module": "@jupyter-widgets/base",
          "model_name": "LayoutModel",
          "state": {
            "_view_name": "LayoutView",
            "grid_template_rows": null,
            "right": null,
            "justify_content": null,
            "_view_module": "@jupyter-widgets/base",
            "overflow": null,
            "_model_module_version": "1.2.0",
            "_view_count": null,
            "flex_flow": null,
            "width": null,
            "min_width": null,
            "border": null,
            "align_items": null,
            "bottom": null,
            "_model_module": "@jupyter-widgets/base",
            "top": null,
            "grid_column": null,
            "overflow_y": null,
            "overflow_x": null,
            "grid_auto_flow": null,
            "grid_area": null,
            "grid_template_columns": null,
            "flex": null,
            "_model_name": "LayoutModel",
            "justify_items": null,
            "grid_row": null,
            "max_height": null,
            "align_content": null,
            "visibility": null,
            "align_self": null,
            "height": null,
            "min_height": null,
            "padding": null,
            "grid_auto_rows": null,
            "grid_gap": null,
            "max_width": null,
            "order": null,
            "_view_module_version": "1.2.0",
            "grid_template_areas": null,
            "object_position": null,
            "object_fit": null,
            "grid_auto_columns": null,
            "margin": null,
            "display": null,
            "left": null
          }
        },
        "9880c29d1fdf4b32ae7e4ed25e85638b": {
          "model_module": "@jupyter-widgets/controls",
          "model_name": "FloatProgressModel",
          "state": {
            "_view_name": "ProgressView",
            "style": "IPY_MODEL_709ea62af349484ea5ed95f9cd8c42bb",
            "_dom_classes": [],
            "description": "",
            "_model_name": "FloatProgressModel",
            "bar_style": "success",
            "max": 26421880,
            "_view_module": "@jupyter-widgets/controls",
            "_model_module_version": "1.5.0",
            "value": 26421880,
            "_view_count": null,
            "_view_module_version": "1.5.0",
            "orientation": "horizontal",
            "min": 0,
            "description_tooltip": null,
            "_model_module": "@jupyter-widgets/controls",
            "layout": "IPY_MODEL_55cde2b7f9fa487cb3c4ab5716118fed"
          }
        },
        "c6dc5dcbefcc470da02ecc1ab1a37b00": {
          "model_module": "@jupyter-widgets/controls",
          "model_name": "HTMLModel",
          "state": {
            "_view_name": "HTMLView",
            "style": "IPY_MODEL_e3149a22c46342a791d6d25a9cd2bfc4",
            "_dom_classes": [],
            "description": "",
            "_model_name": "HTMLModel",
            "placeholder": "​",
            "_view_module": "@jupyter-widgets/controls",
            "_model_module_version": "1.5.0",
            "value": " 26422272/? [00:25&lt;00:00, 1035832.35it/s]",
            "_view_count": null,
            "_view_module_version": "1.5.0",
            "description_tooltip": null,
            "_model_module": "@jupyter-widgets/controls",
            "layout": "IPY_MODEL_08aca7b3f4bb4560a9c7487509b20caf"
          }
        },
        "709ea62af349484ea5ed95f9cd8c42bb": {
          "model_module": "@jupyter-widgets/controls",
          "model_name": "ProgressStyleModel",
          "state": {
            "_view_name": "StyleView",
            "_model_name": "ProgressStyleModel",
            "description_width": "initial",
            "_view_module": "@jupyter-widgets/base",
            "_model_module_version": "1.5.0",
            "_view_count": null,
            "_view_module_version": "1.2.0",
            "bar_color": null,
            "_model_module": "@jupyter-widgets/controls"
          }
        },
        "55cde2b7f9fa487cb3c4ab5716118fed": {
          "model_module": "@jupyter-widgets/base",
          "model_name": "LayoutModel",
          "state": {
            "_view_name": "LayoutView",
            "grid_template_rows": null,
            "right": null,
            "justify_content": null,
            "_view_module": "@jupyter-widgets/base",
            "overflow": null,
            "_model_module_version": "1.2.0",
            "_view_count": null,
            "flex_flow": null,
            "width": null,
            "min_width": null,
            "border": null,
            "align_items": null,
            "bottom": null,
            "_model_module": "@jupyter-widgets/base",
            "top": null,
            "grid_column": null,
            "overflow_y": null,
            "overflow_x": null,
            "grid_auto_flow": null,
            "grid_area": null,
            "grid_template_columns": null,
            "flex": null,
            "_model_name": "LayoutModel",
            "justify_items": null,
            "grid_row": null,
            "max_height": null,
            "align_content": null,
            "visibility": null,
            "align_self": null,
            "height": null,
            "min_height": null,
            "padding": null,
            "grid_auto_rows": null,
            "grid_gap": null,
            "max_width": null,
            "order": null,
            "_view_module_version": "1.2.0",
            "grid_template_areas": null,
            "object_position": null,
            "object_fit": null,
            "grid_auto_columns": null,
            "margin": null,
            "display": null,
            "left": null
          }
        },
        "e3149a22c46342a791d6d25a9cd2bfc4": {
          "model_module": "@jupyter-widgets/controls",
          "model_name": "DescriptionStyleModel",
          "state": {
            "_view_name": "StyleView",
            "_model_name": "DescriptionStyleModel",
            "description_width": "",
            "_view_module": "@jupyter-widgets/base",
            "_model_module_version": "1.5.0",
            "_view_count": null,
            "_view_module_version": "1.2.0",
            "_model_module": "@jupyter-widgets/controls"
          }
        },
        "08aca7b3f4bb4560a9c7487509b20caf": {
          "model_module": "@jupyter-widgets/base",
          "model_name": "LayoutModel",
          "state": {
            "_view_name": "LayoutView",
            "grid_template_rows": null,
            "right": null,
            "justify_content": null,
            "_view_module": "@jupyter-widgets/base",
            "overflow": null,
            "_model_module_version": "1.2.0",
            "_view_count": null,
            "flex_flow": null,
            "width": null,
            "min_width": null,
            "border": null,
            "align_items": null,
            "bottom": null,
            "_model_module": "@jupyter-widgets/base",
            "top": null,
            "grid_column": null,
            "overflow_y": null,
            "overflow_x": null,
            "grid_auto_flow": null,
            "grid_area": null,
            "grid_template_columns": null,
            "flex": null,
            "_model_name": "LayoutModel",
            "justify_items": null,
            "grid_row": null,
            "max_height": null,
            "align_content": null,
            "visibility": null,
            "align_self": null,
            "height": null,
            "min_height": null,
            "padding": null,
            "grid_auto_rows": null,
            "grid_gap": null,
            "max_width": null,
            "order": null,
            "_view_module_version": "1.2.0",
            "grid_template_areas": null,
            "object_position": null,
            "object_fit": null,
            "grid_auto_columns": null,
            "margin": null,
            "display": null,
            "left": null
          }
        },
        "69383ea3d9da4d36a245225bf8fa2215": {
          "model_module": "@jupyter-widgets/controls",
          "model_name": "HBoxModel",
          "state": {
            "_view_name": "HBoxView",
            "_dom_classes": [],
            "_model_name": "HBoxModel",
            "_view_module": "@jupyter-widgets/controls",
            "_model_module_version": "1.5.0",
            "_view_count": null,
            "_view_module_version": "1.5.0",
            "box_style": "",
            "layout": "IPY_MODEL_195210819f374a06bfcfed69a8582db3",
            "_model_module": "@jupyter-widgets/controls",
            "children": [
              "IPY_MODEL_5348fba18b854b65bc9e8deb1ac44f8a",
              "IPY_MODEL_c5a99eace2f444a2aaca0f15a80c306f"
            ]
          }
        },
        "195210819f374a06bfcfed69a8582db3": {
          "model_module": "@jupyter-widgets/base",
          "model_name": "LayoutModel",
          "state": {
            "_view_name": "LayoutView",
            "grid_template_rows": null,
            "right": null,
            "justify_content": null,
            "_view_module": "@jupyter-widgets/base",
            "overflow": null,
            "_model_module_version": "1.2.0",
            "_view_count": null,
            "flex_flow": null,
            "width": null,
            "min_width": null,
            "border": null,
            "align_items": null,
            "bottom": null,
            "_model_module": "@jupyter-widgets/base",
            "top": null,
            "grid_column": null,
            "overflow_y": null,
            "overflow_x": null,
            "grid_auto_flow": null,
            "grid_area": null,
            "grid_template_columns": null,
            "flex": null,
            "_model_name": "LayoutModel",
            "justify_items": null,
            "grid_row": null,
            "max_height": null,
            "align_content": null,
            "visibility": null,
            "align_self": null,
            "height": null,
            "min_height": null,
            "padding": null,
            "grid_auto_rows": null,
            "grid_gap": null,
            "max_width": null,
            "order": null,
            "_view_module_version": "1.2.0",
            "grid_template_areas": null,
            "object_position": null,
            "object_fit": null,
            "grid_auto_columns": null,
            "margin": null,
            "display": null,
            "left": null
          }
        },
        "5348fba18b854b65bc9e8deb1ac44f8a": {
          "model_module": "@jupyter-widgets/controls",
          "model_name": "FloatProgressModel",
          "state": {
            "_view_name": "ProgressView",
            "style": "IPY_MODEL_f0c0e3c468c54d2da7383f6cc257a8f7",
            "_dom_classes": [],
            "description": "",
            "_model_name": "FloatProgressModel",
            "bar_style": "success",
            "max": 29515,
            "_view_module": "@jupyter-widgets/controls",
            "_model_module_version": "1.5.0",
            "value": 29515,
            "_view_count": null,
            "_view_module_version": "1.5.0",
            "orientation": "horizontal",
            "min": 0,
            "description_tooltip": null,
            "_model_module": "@jupyter-widgets/controls",
            "layout": "IPY_MODEL_867afd99df0d4379b8fa811d4e773714"
          }
        },
        "c5a99eace2f444a2aaca0f15a80c306f": {
          "model_module": "@jupyter-widgets/controls",
          "model_name": "HTMLModel",
          "state": {
            "_view_name": "HTMLView",
            "style": "IPY_MODEL_a010e55647d44fbf8fd3684f2aa5489e",
            "_dom_classes": [],
            "description": "",
            "_model_name": "HTMLModel",
            "placeholder": "​",
            "_view_module": "@jupyter-widgets/controls",
            "_model_module_version": "1.5.0",
            "value": " 29696/? [00:02&lt;00:00, 10500.28it/s]",
            "_view_count": null,
            "_view_module_version": "1.5.0",
            "description_tooltip": null,
            "_model_module": "@jupyter-widgets/controls",
            "layout": "IPY_MODEL_e7e97eee39cb46ba92eb17972648d25f"
          }
        },
        "f0c0e3c468c54d2da7383f6cc257a8f7": {
          "model_module": "@jupyter-widgets/controls",
          "model_name": "ProgressStyleModel",
          "state": {
            "_view_name": "StyleView",
            "_model_name": "ProgressStyleModel",
            "description_width": "initial",
            "_view_module": "@jupyter-widgets/base",
            "_model_module_version": "1.5.0",
            "_view_count": null,
            "_view_module_version": "1.2.0",
            "bar_color": null,
            "_model_module": "@jupyter-widgets/controls"
          }
        },
        "867afd99df0d4379b8fa811d4e773714": {
          "model_module": "@jupyter-widgets/base",
          "model_name": "LayoutModel",
          "state": {
            "_view_name": "LayoutView",
            "grid_template_rows": null,
            "right": null,
            "justify_content": null,
            "_view_module": "@jupyter-widgets/base",
            "overflow": null,
            "_model_module_version": "1.2.0",
            "_view_count": null,
            "flex_flow": null,
            "width": null,
            "min_width": null,
            "border": null,
            "align_items": null,
            "bottom": null,
            "_model_module": "@jupyter-widgets/base",
            "top": null,
            "grid_column": null,
            "overflow_y": null,
            "overflow_x": null,
            "grid_auto_flow": null,
            "grid_area": null,
            "grid_template_columns": null,
            "flex": null,
            "_model_name": "LayoutModel",
            "justify_items": null,
            "grid_row": null,
            "max_height": null,
            "align_content": null,
            "visibility": null,
            "align_self": null,
            "height": null,
            "min_height": null,
            "padding": null,
            "grid_auto_rows": null,
            "grid_gap": null,
            "max_width": null,
            "order": null,
            "_view_module_version": "1.2.0",
            "grid_template_areas": null,
            "object_position": null,
            "object_fit": null,
            "grid_auto_columns": null,
            "margin": null,
            "display": null,
            "left": null
          }
        },
        "a010e55647d44fbf8fd3684f2aa5489e": {
          "model_module": "@jupyter-widgets/controls",
          "model_name": "DescriptionStyleModel",
          "state": {
            "_view_name": "StyleView",
            "_model_name": "DescriptionStyleModel",
            "description_width": "",
            "_view_module": "@jupyter-widgets/base",
            "_model_module_version": "1.5.0",
            "_view_count": null,
            "_view_module_version": "1.2.0",
            "_model_module": "@jupyter-widgets/controls"
          }
        },
        "e7e97eee39cb46ba92eb17972648d25f": {
          "model_module": "@jupyter-widgets/base",
          "model_name": "LayoutModel",
          "state": {
            "_view_name": "LayoutView",
            "grid_template_rows": null,
            "right": null,
            "justify_content": null,
            "_view_module": "@jupyter-widgets/base",
            "overflow": null,
            "_model_module_version": "1.2.0",
            "_view_count": null,
            "flex_flow": null,
            "width": null,
            "min_width": null,
            "border": null,
            "align_items": null,
            "bottom": null,
            "_model_module": "@jupyter-widgets/base",
            "top": null,
            "grid_column": null,
            "overflow_y": null,
            "overflow_x": null,
            "grid_auto_flow": null,
            "grid_area": null,
            "grid_template_columns": null,
            "flex": null,
            "_model_name": "LayoutModel",
            "justify_items": null,
            "grid_row": null,
            "max_height": null,
            "align_content": null,
            "visibility": null,
            "align_self": null,
            "height": null,
            "min_height": null,
            "padding": null,
            "grid_auto_rows": null,
            "grid_gap": null,
            "max_width": null,
            "order": null,
            "_view_module_version": "1.2.0",
            "grid_template_areas": null,
            "object_position": null,
            "object_fit": null,
            "grid_auto_columns": null,
            "margin": null,
            "display": null,
            "left": null
          }
        },
        "430e3cb236f04540b2b9512790dcb827": {
          "model_module": "@jupyter-widgets/controls",
          "model_name": "HBoxModel",
          "state": {
            "_view_name": "HBoxView",
            "_dom_classes": [],
            "_model_name": "HBoxModel",
            "_view_module": "@jupyter-widgets/controls",
            "_model_module_version": "1.5.0",
            "_view_count": null,
            "_view_module_version": "1.5.0",
            "box_style": "",
            "layout": "IPY_MODEL_7b85c93737544e168977293ee8471afe",
            "_model_module": "@jupyter-widgets/controls",
            "children": [
              "IPY_MODEL_836f209c09754c149fdc32ae719a875d",
              "IPY_MODEL_1cc005afeb0e4e6eb7cede83720ee336"
            ]
          }
        },
        "7b85c93737544e168977293ee8471afe": {
          "model_module": "@jupyter-widgets/base",
          "model_name": "LayoutModel",
          "state": {
            "_view_name": "LayoutView",
            "grid_template_rows": null,
            "right": null,
            "justify_content": null,
            "_view_module": "@jupyter-widgets/base",
            "overflow": null,
            "_model_module_version": "1.2.0",
            "_view_count": null,
            "flex_flow": null,
            "width": null,
            "min_width": null,
            "border": null,
            "align_items": null,
            "bottom": null,
            "_model_module": "@jupyter-widgets/base",
            "top": null,
            "grid_column": null,
            "overflow_y": null,
            "overflow_x": null,
            "grid_auto_flow": null,
            "grid_area": null,
            "grid_template_columns": null,
            "flex": null,
            "_model_name": "LayoutModel",
            "justify_items": null,
            "grid_row": null,
            "max_height": null,
            "align_content": null,
            "visibility": null,
            "align_self": null,
            "height": null,
            "min_height": null,
            "padding": null,
            "grid_auto_rows": null,
            "grid_gap": null,
            "max_width": null,
            "order": null,
            "_view_module_version": "1.2.0",
            "grid_template_areas": null,
            "object_position": null,
            "object_fit": null,
            "grid_auto_columns": null,
            "margin": null,
            "display": null,
            "left": null
          }
        },
        "836f209c09754c149fdc32ae719a875d": {
          "model_module": "@jupyter-widgets/controls",
          "model_name": "FloatProgressModel",
          "state": {
            "_view_name": "ProgressView",
            "style": "IPY_MODEL_8335ad86727b4c9ca9d7525b429e49c4",
            "_dom_classes": [],
            "description": "",
            "_model_name": "FloatProgressModel",
            "bar_style": "success",
            "max": 4422102,
            "_view_module": "@jupyter-widgets/controls",
            "_model_module_version": "1.5.0",
            "value": 4422102,
            "_view_count": null,
            "_view_module_version": "1.5.0",
            "orientation": "horizontal",
            "min": 0,
            "description_tooltip": null,
            "_model_module": "@jupyter-widgets/controls",
            "layout": "IPY_MODEL_989234aed3574d82bed182f7ef53a025"
          }
        },
        "1cc005afeb0e4e6eb7cede83720ee336": {
          "model_module": "@jupyter-widgets/controls",
          "model_name": "HTMLModel",
          "state": {
            "_view_name": "HTMLView",
            "style": "IPY_MODEL_847fa395d75a4d998d0c2400b3f269ae",
            "_dom_classes": [],
            "description": "",
            "_model_name": "HTMLModel",
            "placeholder": "​",
            "_view_module": "@jupyter-widgets/controls",
            "_model_module_version": "1.5.0",
            "value": " 4422656/? [00:01&lt;00:00, 2241921.81it/s]",
            "_view_count": null,
            "_view_module_version": "1.5.0",
            "description_tooltip": null,
            "_model_module": "@jupyter-widgets/controls",
            "layout": "IPY_MODEL_e64f637487ea4e3887274eb2d25e14b0"
          }
        },
        "8335ad86727b4c9ca9d7525b429e49c4": {
          "model_module": "@jupyter-widgets/controls",
          "model_name": "ProgressStyleModel",
          "state": {
            "_view_name": "StyleView",
            "_model_name": "ProgressStyleModel",
            "description_width": "initial",
            "_view_module": "@jupyter-widgets/base",
            "_model_module_version": "1.5.0",
            "_view_count": null,
            "_view_module_version": "1.2.0",
            "bar_color": null,
            "_model_module": "@jupyter-widgets/controls"
          }
        },
        "989234aed3574d82bed182f7ef53a025": {
          "model_module": "@jupyter-widgets/base",
          "model_name": "LayoutModel",
          "state": {
            "_view_name": "LayoutView",
            "grid_template_rows": null,
            "right": null,
            "justify_content": null,
            "_view_module": "@jupyter-widgets/base",
            "overflow": null,
            "_model_module_version": "1.2.0",
            "_view_count": null,
            "flex_flow": null,
            "width": null,
            "min_width": null,
            "border": null,
            "align_items": null,
            "bottom": null,
            "_model_module": "@jupyter-widgets/base",
            "top": null,
            "grid_column": null,
            "overflow_y": null,
            "overflow_x": null,
            "grid_auto_flow": null,
            "grid_area": null,
            "grid_template_columns": null,
            "flex": null,
            "_model_name": "LayoutModel",
            "justify_items": null,
            "grid_row": null,
            "max_height": null,
            "align_content": null,
            "visibility": null,
            "align_self": null,
            "height": null,
            "min_height": null,
            "padding": null,
            "grid_auto_rows": null,
            "grid_gap": null,
            "max_width": null,
            "order": null,
            "_view_module_version": "1.2.0",
            "grid_template_areas": null,
            "object_position": null,
            "object_fit": null,
            "grid_auto_columns": null,
            "margin": null,
            "display": null,
            "left": null
          }
        },
        "847fa395d75a4d998d0c2400b3f269ae": {
          "model_module": "@jupyter-widgets/controls",
          "model_name": "DescriptionStyleModel",
          "state": {
            "_view_name": "StyleView",
            "_model_name": "DescriptionStyleModel",
            "description_width": "",
            "_view_module": "@jupyter-widgets/base",
            "_model_module_version": "1.5.0",
            "_view_count": null,
            "_view_module_version": "1.2.0",
            "_model_module": "@jupyter-widgets/controls"
          }
        },
        "e64f637487ea4e3887274eb2d25e14b0": {
          "model_module": "@jupyter-widgets/base",
          "model_name": "LayoutModel",
          "state": {
            "_view_name": "LayoutView",
            "grid_template_rows": null,
            "right": null,
            "justify_content": null,
            "_view_module": "@jupyter-widgets/base",
            "overflow": null,
            "_model_module_version": "1.2.0",
            "_view_count": null,
            "flex_flow": null,
            "width": null,
            "min_width": null,
            "border": null,
            "align_items": null,
            "bottom": null,
            "_model_module": "@jupyter-widgets/base",
            "top": null,
            "grid_column": null,
            "overflow_y": null,
            "overflow_x": null,
            "grid_auto_flow": null,
            "grid_area": null,
            "grid_template_columns": null,
            "flex": null,
            "_model_name": "LayoutModel",
            "justify_items": null,
            "grid_row": null,
            "max_height": null,
            "align_content": null,
            "visibility": null,
            "align_self": null,
            "height": null,
            "min_height": null,
            "padding": null,
            "grid_auto_rows": null,
            "grid_gap": null,
            "max_width": null,
            "order": null,
            "_view_module_version": "1.2.0",
            "grid_template_areas": null,
            "object_position": null,
            "object_fit": null,
            "grid_auto_columns": null,
            "margin": null,
            "display": null,
            "left": null
          }
        },
        "fd65ceca92624cccbfa40d8cd4f6e3f4": {
          "model_module": "@jupyter-widgets/controls",
          "model_name": "HBoxModel",
          "state": {
            "_view_name": "HBoxView",
            "_dom_classes": [],
            "_model_name": "HBoxModel",
            "_view_module": "@jupyter-widgets/controls",
            "_model_module_version": "1.5.0",
            "_view_count": null,
            "_view_module_version": "1.5.0",
            "box_style": "",
            "layout": "IPY_MODEL_b0a1e12a70f146579e9fbc6c93349be1",
            "_model_module": "@jupyter-widgets/controls",
            "children": [
              "IPY_MODEL_cb4bdef505cf4b1fa81b9cc1f9ca00fe",
              "IPY_MODEL_d0196ebf27254cb48c6e44ce4a4f6c85"
            ]
          }
        },
        "b0a1e12a70f146579e9fbc6c93349be1": {
          "model_module": "@jupyter-widgets/base",
          "model_name": "LayoutModel",
          "state": {
            "_view_name": "LayoutView",
            "grid_template_rows": null,
            "right": null,
            "justify_content": null,
            "_view_module": "@jupyter-widgets/base",
            "overflow": null,
            "_model_module_version": "1.2.0",
            "_view_count": null,
            "flex_flow": null,
            "width": null,
            "min_width": null,
            "border": null,
            "align_items": null,
            "bottom": null,
            "_model_module": "@jupyter-widgets/base",
            "top": null,
            "grid_column": null,
            "overflow_y": null,
            "overflow_x": null,
            "grid_auto_flow": null,
            "grid_area": null,
            "grid_template_columns": null,
            "flex": null,
            "_model_name": "LayoutModel",
            "justify_items": null,
            "grid_row": null,
            "max_height": null,
            "align_content": null,
            "visibility": null,
            "align_self": null,
            "height": null,
            "min_height": null,
            "padding": null,
            "grid_auto_rows": null,
            "grid_gap": null,
            "max_width": null,
            "order": null,
            "_view_module_version": "1.2.0",
            "grid_template_areas": null,
            "object_position": null,
            "object_fit": null,
            "grid_auto_columns": null,
            "margin": null,
            "display": null,
            "left": null
          }
        },
        "cb4bdef505cf4b1fa81b9cc1f9ca00fe": {
          "model_module": "@jupyter-widgets/controls",
          "model_name": "FloatProgressModel",
          "state": {
            "_view_name": "ProgressView",
            "style": "IPY_MODEL_fd6a831b659043c08e9ca2c94e28eb9e",
            "_dom_classes": [],
            "description": "",
            "_model_name": "FloatProgressModel",
            "bar_style": "success",
            "max": 5148,
            "_view_module": "@jupyter-widgets/controls",
            "_model_module_version": "1.5.0",
            "value": 5148,
            "_view_count": null,
            "_view_module_version": "1.5.0",
            "orientation": "horizontal",
            "min": 0,
            "description_tooltip": null,
            "_model_module": "@jupyter-widgets/controls",
            "layout": "IPY_MODEL_adafb308b6064c4f94d072cc6404a3e6"
          }
        },
        "d0196ebf27254cb48c6e44ce4a4f6c85": {
          "model_module": "@jupyter-widgets/controls",
          "model_name": "HTMLModel",
          "state": {
            "_view_name": "HTMLView",
            "style": "IPY_MODEL_542ab3502a264b4dac08c06e3b2df272",
            "_dom_classes": [],
            "description": "",
            "_model_name": "HTMLModel",
            "placeholder": "​",
            "_view_module": "@jupyter-widgets/controls",
            "_model_module_version": "1.5.0",
            "value": " 6144/? [00:18&lt;00:00, 324.03it/s]",
            "_view_count": null,
            "_view_module_version": "1.5.0",
            "description_tooltip": null,
            "_model_module": "@jupyter-widgets/controls",
            "layout": "IPY_MODEL_4b4225a7edaf462aaad8c001ea163c0b"
          }
        },
        "fd6a831b659043c08e9ca2c94e28eb9e": {
          "model_module": "@jupyter-widgets/controls",
          "model_name": "ProgressStyleModel",
          "state": {
            "_view_name": "StyleView",
            "_model_name": "ProgressStyleModel",
            "description_width": "initial",
            "_view_module": "@jupyter-widgets/base",
            "_model_module_version": "1.5.0",
            "_view_count": null,
            "_view_module_version": "1.2.0",
            "bar_color": null,
            "_model_module": "@jupyter-widgets/controls"
          }
        },
        "adafb308b6064c4f94d072cc6404a3e6": {
          "model_module": "@jupyter-widgets/base",
          "model_name": "LayoutModel",
          "state": {
            "_view_name": "LayoutView",
            "grid_template_rows": null,
            "right": null,
            "justify_content": null,
            "_view_module": "@jupyter-widgets/base",
            "overflow": null,
            "_model_module_version": "1.2.0",
            "_view_count": null,
            "flex_flow": null,
            "width": null,
            "min_width": null,
            "border": null,
            "align_items": null,
            "bottom": null,
            "_model_module": "@jupyter-widgets/base",
            "top": null,
            "grid_column": null,
            "overflow_y": null,
            "overflow_x": null,
            "grid_auto_flow": null,
            "grid_area": null,
            "grid_template_columns": null,
            "flex": null,
            "_model_name": "LayoutModel",
            "justify_items": null,
            "grid_row": null,
            "max_height": null,
            "align_content": null,
            "visibility": null,
            "align_self": null,
            "height": null,
            "min_height": null,
            "padding": null,
            "grid_auto_rows": null,
            "grid_gap": null,
            "max_width": null,
            "order": null,
            "_view_module_version": "1.2.0",
            "grid_template_areas": null,
            "object_position": null,
            "object_fit": null,
            "grid_auto_columns": null,
            "margin": null,
            "display": null,
            "left": null
          }
        },
        "542ab3502a264b4dac08c06e3b2df272": {
          "model_module": "@jupyter-widgets/controls",
          "model_name": "DescriptionStyleModel",
          "state": {
            "_view_name": "StyleView",
            "_model_name": "DescriptionStyleModel",
            "description_width": "",
            "_view_module": "@jupyter-widgets/base",
            "_model_module_version": "1.5.0",
            "_view_count": null,
            "_view_module_version": "1.2.0",
            "_model_module": "@jupyter-widgets/controls"
          }
        },
        "4b4225a7edaf462aaad8c001ea163c0b": {
          "model_module": "@jupyter-widgets/base",
          "model_name": "LayoutModel",
          "state": {
            "_view_name": "LayoutView",
            "grid_template_rows": null,
            "right": null,
            "justify_content": null,
            "_view_module": "@jupyter-widgets/base",
            "overflow": null,
            "_model_module_version": "1.2.0",
            "_view_count": null,
            "flex_flow": null,
            "width": null,
            "min_width": null,
            "border": null,
            "align_items": null,
            "bottom": null,
            "_model_module": "@jupyter-widgets/base",
            "top": null,
            "grid_column": null,
            "overflow_y": null,
            "overflow_x": null,
            "grid_auto_flow": null,
            "grid_area": null,
            "grid_template_columns": null,
            "flex": null,
            "_model_name": "LayoutModel",
            "justify_items": null,
            "grid_row": null,
            "max_height": null,
            "align_content": null,
            "visibility": null,
            "align_self": null,
            "height": null,
            "min_height": null,
            "padding": null,
            "grid_auto_rows": null,
            "grid_gap": null,
            "max_width": null,
            "order": null,
            "_view_module_version": "1.2.0",
            "grid_template_areas": null,
            "object_position": null,
            "object_fit": null,
            "grid_auto_columns": null,
            "margin": null,
            "display": null,
            "left": null
          }
        }
      }
    }
  },
  "cells": [
    {
      "cell_type": "code",
      "metadata": {
        "colab": {
          "base_uri": "https://localhost:8080/"
        },
        "id": "KDxz3ML1Rqf0",
        "outputId": "304d502a-5564-4715-a28d-bf959c6bc694"
      },
      "source": [
        "pip install d2l"
      ],
      "execution_count": null,
      "outputs": [
        {
          "output_type": "stream",
          "text": [
            "Collecting d2l\n",
            "  Downloading d2l-0.17.0-py3-none-any.whl (83 kB)\n",
            "\u001b[?25l\r\u001b[K     |████                            | 10 kB 37.9 MB/s eta 0:00:01\r\u001b[K     |███████▉                        | 20 kB 20.9 MB/s eta 0:00:01\r\u001b[K     |███████████▉                    | 30 kB 16.1 MB/s eta 0:00:01\r\u001b[K     |███████████████▊                | 40 kB 15.2 MB/s eta 0:00:01\r\u001b[K     |███████████████████▊            | 51 kB 7.5 MB/s eta 0:00:01\r\u001b[K     |███████████████████████▋        | 61 kB 8.8 MB/s eta 0:00:01\r\u001b[K     |███████████████████████████▋    | 71 kB 8.3 MB/s eta 0:00:01\r\u001b[K     |███████████████████████████████▌| 81 kB 9.2 MB/s eta 0:00:01\r\u001b[K     |████████████████████████████████| 83 kB 1.7 MB/s \n",
            "\u001b[?25hRequirement already satisfied: jupyter in /usr/local/lib/python3.7/dist-packages (from d2l) (1.0.0)\n",
            "Requirement already satisfied: requests in /usr/local/lib/python3.7/dist-packages (from d2l) (2.23.0)\n",
            "Requirement already satisfied: pandas in /usr/local/lib/python3.7/dist-packages (from d2l) (1.1.5)\n",
            "Requirement already satisfied: matplotlib in /usr/local/lib/python3.7/dist-packages (from d2l) (3.2.2)\n",
            "Requirement already satisfied: numpy in /usr/local/lib/python3.7/dist-packages (from d2l) (1.19.5)\n",
            "Requirement already satisfied: jupyter-console in /usr/local/lib/python3.7/dist-packages (from jupyter->d2l) (5.2.0)\n",
            "Requirement already satisfied: qtconsole in /usr/local/lib/python3.7/dist-packages (from jupyter->d2l) (5.1.1)\n",
            "Requirement already satisfied: nbconvert in /usr/local/lib/python3.7/dist-packages (from jupyter->d2l) (5.6.1)\n",
            "Requirement already satisfied: notebook in /usr/local/lib/python3.7/dist-packages (from jupyter->d2l) (5.3.1)\n",
            "Requirement already satisfied: ipywidgets in /usr/local/lib/python3.7/dist-packages (from jupyter->d2l) (7.6.3)\n",
            "Requirement already satisfied: ipykernel in /usr/local/lib/python3.7/dist-packages (from jupyter->d2l) (4.10.1)\n",
            "Requirement already satisfied: jupyter-client in /usr/local/lib/python3.7/dist-packages (from ipykernel->jupyter->d2l) (5.3.5)\n",
            "Requirement already satisfied: tornado>=4.0 in /usr/local/lib/python3.7/dist-packages (from ipykernel->jupyter->d2l) (5.1.1)\n",
            "Requirement already satisfied: ipython>=4.0.0 in /usr/local/lib/python3.7/dist-packages (from ipykernel->jupyter->d2l) (5.5.0)\n",
            "Requirement already satisfied: traitlets>=4.1.0 in /usr/local/lib/python3.7/dist-packages (from ipykernel->jupyter->d2l) (5.0.5)\n",
            "Requirement already satisfied: prompt-toolkit<2.0.0,>=1.0.4 in /usr/local/lib/python3.7/dist-packages (from ipython>=4.0.0->ipykernel->jupyter->d2l) (1.0.18)\n",
            "Requirement already satisfied: decorator in /usr/local/lib/python3.7/dist-packages (from ipython>=4.0.0->ipykernel->jupyter->d2l) (4.4.2)\n",
            "Requirement already satisfied: pexpect in /usr/local/lib/python3.7/dist-packages (from ipython>=4.0.0->ipykernel->jupyter->d2l) (4.8.0)\n",
            "Requirement already satisfied: pickleshare in /usr/local/lib/python3.7/dist-packages (from ipython>=4.0.0->ipykernel->jupyter->d2l) (0.7.5)\n",
            "Requirement already satisfied: simplegeneric>0.8 in /usr/local/lib/python3.7/dist-packages (from ipython>=4.0.0->ipykernel->jupyter->d2l) (0.8.1)\n",
            "Requirement already satisfied: setuptools>=18.5 in /usr/local/lib/python3.7/dist-packages (from ipython>=4.0.0->ipykernel->jupyter->d2l) (57.2.0)\n",
            "Requirement already satisfied: pygments in /usr/local/lib/python3.7/dist-packages (from ipython>=4.0.0->ipykernel->jupyter->d2l) (2.6.1)\n",
            "Requirement already satisfied: six>=1.9.0 in /usr/local/lib/python3.7/dist-packages (from prompt-toolkit<2.0.0,>=1.0.4->ipython>=4.0.0->ipykernel->jupyter->d2l) (1.15.0)\n",
            "Requirement already satisfied: wcwidth in /usr/local/lib/python3.7/dist-packages (from prompt-toolkit<2.0.0,>=1.0.4->ipython>=4.0.0->ipykernel->jupyter->d2l) (0.2.5)\n",
            "Requirement already satisfied: ipython-genutils in /usr/local/lib/python3.7/dist-packages (from traitlets>=4.1.0->ipykernel->jupyter->d2l) (0.2.0)\n",
            "Requirement already satisfied: nbformat>=4.2.0 in /usr/local/lib/python3.7/dist-packages (from ipywidgets->jupyter->d2l) (5.1.3)\n",
            "Requirement already satisfied: widgetsnbextension~=3.5.0 in /usr/local/lib/python3.7/dist-packages (from ipywidgets->jupyter->d2l) (3.5.1)\n",
            "Requirement already satisfied: jupyterlab-widgets>=1.0.0 in /usr/local/lib/python3.7/dist-packages (from ipywidgets->jupyter->d2l) (1.0.0)\n",
            "Requirement already satisfied: jsonschema!=2.5.0,>=2.4 in /usr/local/lib/python3.7/dist-packages (from nbformat>=4.2.0->ipywidgets->jupyter->d2l) (2.6.0)\n",
            "Requirement already satisfied: jupyter-core in /usr/local/lib/python3.7/dist-packages (from nbformat>=4.2.0->ipywidgets->jupyter->d2l) (4.7.1)\n",
            "Requirement already satisfied: jinja2 in /usr/local/lib/python3.7/dist-packages (from notebook->jupyter->d2l) (2.11.3)\n",
            "Requirement already satisfied: terminado>=0.8.1 in /usr/local/lib/python3.7/dist-packages (from notebook->jupyter->d2l) (0.10.1)\n",
            "Requirement already satisfied: Send2Trash in /usr/local/lib/python3.7/dist-packages (from notebook->jupyter->d2l) (1.7.1)\n",
            "Requirement already satisfied: python-dateutil>=2.1 in /usr/local/lib/python3.7/dist-packages (from jupyter-client->ipykernel->jupyter->d2l) (2.8.1)\n",
            "Requirement already satisfied: pyzmq>=13 in /usr/local/lib/python3.7/dist-packages (from jupyter-client->ipykernel->jupyter->d2l) (22.1.0)\n",
            "Requirement already satisfied: ptyprocess in /usr/local/lib/python3.7/dist-packages (from terminado>=0.8.1->notebook->jupyter->d2l) (0.7.0)\n",
            "Requirement already satisfied: MarkupSafe>=0.23 in /usr/local/lib/python3.7/dist-packages (from jinja2->notebook->jupyter->d2l) (2.0.1)\n",
            "Requirement already satisfied: kiwisolver>=1.0.1 in /usr/local/lib/python3.7/dist-packages (from matplotlib->d2l) (1.3.1)\n",
            "Requirement already satisfied: pyparsing!=2.0.4,!=2.1.2,!=2.1.6,>=2.0.1 in /usr/local/lib/python3.7/dist-packages (from matplotlib->d2l) (2.4.7)\n",
            "Requirement already satisfied: cycler>=0.10 in /usr/local/lib/python3.7/dist-packages (from matplotlib->d2l) (0.10.0)\n",
            "Requirement already satisfied: mistune<2,>=0.8.1 in /usr/local/lib/python3.7/dist-packages (from nbconvert->jupyter->d2l) (0.8.4)\n",
            "Requirement already satisfied: bleach in /usr/local/lib/python3.7/dist-packages (from nbconvert->jupyter->d2l) (3.3.0)\n",
            "Requirement already satisfied: defusedxml in /usr/local/lib/python3.7/dist-packages (from nbconvert->jupyter->d2l) (0.7.1)\n",
            "Requirement already satisfied: pandocfilters>=1.4.1 in /usr/local/lib/python3.7/dist-packages (from nbconvert->jupyter->d2l) (1.4.3)\n",
            "Requirement already satisfied: testpath in /usr/local/lib/python3.7/dist-packages (from nbconvert->jupyter->d2l) (0.5.0)\n",
            "Requirement already satisfied: entrypoints>=0.2.2 in /usr/local/lib/python3.7/dist-packages (from nbconvert->jupyter->d2l) (0.3)\n",
            "Requirement already satisfied: packaging in /usr/local/lib/python3.7/dist-packages (from bleach->nbconvert->jupyter->d2l) (21.0)\n",
            "Requirement already satisfied: webencodings in /usr/local/lib/python3.7/dist-packages (from bleach->nbconvert->jupyter->d2l) (0.5.1)\n",
            "Requirement already satisfied: pytz>=2017.2 in /usr/local/lib/python3.7/dist-packages (from pandas->d2l) (2018.9)\n",
            "Requirement already satisfied: qtpy in /usr/local/lib/python3.7/dist-packages (from qtconsole->jupyter->d2l) (1.9.0)\n",
            "Requirement already satisfied: idna<3,>=2.5 in /usr/local/lib/python3.7/dist-packages (from requests->d2l) (2.10)\n",
            "Requirement already satisfied: certifi>=2017.4.17 in /usr/local/lib/python3.7/dist-packages (from requests->d2l) (2021.5.30)\n",
            "Requirement already satisfied: chardet<4,>=3.0.2 in /usr/local/lib/python3.7/dist-packages (from requests->d2l) (3.0.4)\n",
            "Requirement already satisfied: urllib3!=1.25.0,!=1.25.1,<1.26,>=1.21.1 in /usr/local/lib/python3.7/dist-packages (from requests->d2l) (1.24.3)\n",
            "Installing collected packages: d2l\n",
            "Successfully installed d2l-0.17.0\n"
          ],
          "name": "stdout"
        }
      ]
    },
    {
      "cell_type": "markdown",
      "metadata": {
        "id": "gWeVeQXbdBjF"
      },
      "source": [
        "AlexNet"
      ]
    },
    {
      "cell_type": "markdown",
      "metadata": {
        "id": "qwX1KShUdMKE"
      },
      "source": [
        "![image.png](data:image/png;base64,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)"
      ]
    },
    {
      "cell_type": "code",
      "metadata": {
        "id": "i5wA35KCRwsP"
      },
      "source": [
        "import torch\n",
        "from torch import nn\n",
        "from d2l import torch as d2l\n",
        "net = nn.Sequential(\n",
        "    nn.Conv2d(1, 96, kernel_size = 11, stride = 4, padding = 1), nn.ReLU(),\n",
        "    nn.MaxPool2d(kernel_size = 3, stride = 2),\n",
        "    nn.Conv2d(96, 256, kernel_size = 5, padding = 2), nn.ReLU(),\n",
        "    nn.MaxPool2d(kernel_size = 3, stride = 2),\n",
        "    nn.Conv2d(256, 384, kernel_size = 3, padding = 1), nn.ReLU(),\n",
        "    nn.Conv2d(384, 384, kernel_size = 3, padding = 1), nn.ReLU(),\n",
        "    nn.Conv2d(384, 256, kernel_size = 3, padding = 1), nn.ReLU(),\n",
        "    nn.MaxPool2d(kernel_size = 3, stride = 2), nn.Flatten(),\n",
        "    nn.Linear(6400, 4096), nn.ReLU(), nn.Dropout(p = 0.5),\n",
        "    nn.Linear(4096, 4096), nn.ReLU(), nn.Dropout(p = 0.5),\n",
        "    nn.Linear(4096, 10)\n",
        ")"
      ],
      "execution_count": null,
      "outputs": []
    },
    {
      "cell_type": "code",
      "metadata": {
        "colab": {
          "base_uri": "https://localhost:8080/"
        },
        "id": "TjtrAzBtohgY",
        "outputId": "570984b7-87ed-45d2-af57-e2b7a0147038"
      },
      "source": [
        "X = torch.randn(1,1,224,224)\n",
        "for layer in net:\n",
        "  X = layer(X)\n",
        "  print(layer.__class__.__name__, 'OutPut shape:\\t', X.shape)"
      ],
      "execution_count": null,
      "outputs": [
        {
          "output_type": "stream",
          "text": [
            "Conv2d OutPut shape:\t torch.Size([1, 96, 54, 54])\n",
            "ReLU OutPut shape:\t torch.Size([1, 96, 54, 54])\n",
            "MaxPool2d OutPut shape:\t torch.Size([1, 96, 26, 26])\n",
            "Conv2d OutPut shape:\t torch.Size([1, 256, 26, 26])\n",
            "ReLU OutPut shape:\t torch.Size([1, 256, 26, 26])\n",
            "MaxPool2d OutPut shape:\t torch.Size([1, 256, 12, 12])\n",
            "Conv2d OutPut shape:\t torch.Size([1, 384, 12, 12])\n",
            "ReLU OutPut shape:\t torch.Size([1, 384, 12, 12])\n",
            "Conv2d OutPut shape:\t torch.Size([1, 384, 12, 12])\n",
            "ReLU OutPut shape:\t torch.Size([1, 384, 12, 12])\n",
            "Conv2d OutPut shape:\t torch.Size([1, 256, 12, 12])\n",
            "ReLU OutPut shape:\t torch.Size([1, 256, 12, 12])\n",
            "MaxPool2d OutPut shape:\t torch.Size([1, 256, 5, 5])\n",
            "Flatten OutPut shape:\t torch.Size([1, 6400])\n",
            "Linear OutPut shape:\t torch.Size([1, 4096])\n",
            "ReLU OutPut shape:\t torch.Size([1, 4096])\n",
            "Dropout OutPut shape:\t torch.Size([1, 4096])\n",
            "Linear OutPut shape:\t torch.Size([1, 4096])\n",
            "ReLU OutPut shape:\t torch.Size([1, 4096])\n",
            "Dropout OutPut shape:\t torch.Size([1, 4096])\n",
            "Linear OutPut shape:\t torch.Size([1, 10])\n"
          ],
          "name": "stdout"
        }
      ]
    },
    {
      "cell_type": "code",
      "metadata": {
        "colab": {
          "base_uri": "https://localhost:8080/",
          "height": 592,
          "referenced_widgets": [
            "c8a6ba6829b1472b85213cfa32102933",
            "6dc1fec2846749c9b6637d35fdbff6e5",
            "3e6ea7a3061d45739b7f5b675a4b7cf6",
            "205b8cc73dc44cbbb8a448da93ebf1aa",
            "5d730a79d74f46ae87dab17eb4a945ae",
            "3bc54b45be204602b724545cda729971",
            "0759472f691240159ddfb36a086bc19a",
            "2647220e33f9441b80e3b7e5dfa15e58",
            "4b0289bf9a41446197e4cca0a6a0b342",
            "1e96b63fb62f4a319c5eccdd01f34628",
            "e6c0a0a10d544bf4a79f9f7f6898a144",
            "18225f49e72749d4a3cca881c03479c1",
            "143edb8b4d8546548c467268fea5734a",
            "b0b136e9185b4f12b88760b51e7972a1",
            "0bb0f2e46c974860a0343791d3056f49",
            "f574778077e0455d85d5f53585a2035f",
            "cf7efb415f014ed08d6f34c7f9acc5b8",
            "1e388fdebebc48c186d9d68b4770a793",
            "b71cf31b0ce74ebf89e9199826f61794",
            "d07a623e62bc4309bb255d2f1d0e023b",
            "2b656055b2e64a188cc9395fb4cc67e1",
            "d9a577c3bbf74b85b02b08b6fa66b859",
            "35202fda2bf4429e847cfd6cc47aba24",
            "5050128eb3ef4b7db60dd92cbf35e14d",
            "b9cdc9d7a3e9402da8d8872f24c66293",
            "5fbbcbaa554648dbaa1a51215b0420ad",
            "605a76b65a7f41a794bf9fce8785ed53",
            "b9d7874472a84a7c9957d5aa0afbb889",
            "730dbc6070da48fa98429c06c238ed5b",
            "1a4242d2a55a4e019b1a6d0b812b28b2",
            "27c1436b197f4f88a36620d33c545c08",
            "90250b36b0164db098f769b5484c47dd"
          ]
        },
        "id": "iqmAEZ_ao82_",
        "outputId": "ba92c5ed-db6f-4dc0-8491-fc4a1c568bf8"
      },
      "source": [
        "batch_size = 128\n",
        "train_iter, test_iter = d2l.load_data_fashion_mnist(batch_size, resize = 224)"
      ],
      "execution_count": null,
      "outputs": [
        {
          "output_type": "stream",
          "text": [
            "Downloading http://fashion-mnist.s3-website.eu-central-1.amazonaws.com/train-images-idx3-ubyte.gz\n",
            "Downloading http://fashion-mnist.s3-website.eu-central-1.amazonaws.com/train-images-idx3-ubyte.gz to ../data/FashionMNIST/raw/train-images-idx3-ubyte.gz\n"
          ],
          "name": "stdout"
        },
        {
          "output_type": "display_data",
          "data": {
            "application/vnd.jupyter.widget-view+json": {
              "model_id": "c8a6ba6829b1472b85213cfa32102933",
              "version_minor": 0,
              "version_major": 2
            },
            "text/plain": [
              "HBox(children=(FloatProgress(value=0.0, max=26421880.0), HTML(value='')))"
            ]
          },
          "metadata": {
            "tags": []
          }
        },
        {
          "output_type": "stream",
          "text": [
            "\n",
            "Extracting ../data/FashionMNIST/raw/train-images-idx3-ubyte.gz to ../data/FashionMNIST/raw\n",
            "\n",
            "Downloading http://fashion-mnist.s3-website.eu-central-1.amazonaws.com/train-labels-idx1-ubyte.gz\n",
            "Downloading http://fashion-mnist.s3-website.eu-central-1.amazonaws.com/train-labels-idx1-ubyte.gz to ../data/FashionMNIST/raw/train-labels-idx1-ubyte.gz\n"
          ],
          "name": "stdout"
        },
        {
          "output_type": "display_data",
          "data": {
            "application/vnd.jupyter.widget-view+json": {
              "model_id": "4b0289bf9a41446197e4cca0a6a0b342",
              "version_minor": 0,
              "version_major": 2
            },
            "text/plain": [
              "HBox(children=(FloatProgress(value=0.0, max=29515.0), HTML(value='')))"
            ]
          },
          "metadata": {
            "tags": []
          }
        },
        {
          "output_type": "stream",
          "text": [
            "\n",
            "Extracting ../data/FashionMNIST/raw/train-labels-idx1-ubyte.gz to ../data/FashionMNIST/raw\n",
            "\n",
            "Downloading http://fashion-mnist.s3-website.eu-central-1.amazonaws.com/t10k-images-idx3-ubyte.gz\n",
            "Downloading http://fashion-mnist.s3-website.eu-central-1.amazonaws.com/t10k-images-idx3-ubyte.gz to ../data/FashionMNIST/raw/t10k-images-idx3-ubyte.gz\n"
          ],
          "name": "stdout"
        },
        {
          "output_type": "display_data",
          "data": {
            "application/vnd.jupyter.widget-view+json": {
              "model_id": "cf7efb415f014ed08d6f34c7f9acc5b8",
              "version_minor": 0,
              "version_major": 2
            },
            "text/plain": [
              "HBox(children=(FloatProgress(value=0.0, max=4422102.0), HTML(value='')))"
            ]
          },
          "metadata": {
            "tags": []
          }
        },
        {
          "output_type": "stream",
          "text": [
            "\n",
            "Extracting ../data/FashionMNIST/raw/t10k-images-idx3-ubyte.gz to ../data/FashionMNIST/raw\n",
            "\n",
            "Downloading http://fashion-mnist.s3-website.eu-central-1.amazonaws.com/t10k-labels-idx1-ubyte.gz\n",
            "Downloading http://fashion-mnist.s3-website.eu-central-1.amazonaws.com/t10k-labels-idx1-ubyte.gz to ../data/FashionMNIST/raw/t10k-labels-idx1-ubyte.gz\n"
          ],
          "name": "stdout"
        },
        {
          "output_type": "display_data",
          "data": {
            "application/vnd.jupyter.widget-view+json": {
              "model_id": "b9cdc9d7a3e9402da8d8872f24c66293",
              "version_minor": 0,
              "version_major": 2
            },
            "text/plain": [
              "HBox(children=(FloatProgress(value=0.0, max=5148.0), HTML(value='')))"
            ]
          },
          "metadata": {
            "tags": []
          }
        },
        {
          "output_type": "stream",
          "text": [
            "\n",
            "Extracting ../data/FashionMNIST/raw/t10k-labels-idx1-ubyte.gz to ../data/FashionMNIST/raw\n",
            "\n"
          ],
          "name": "stdout"
        },
        {
          "output_type": "stream",
          "text": [
            "/usr/local/lib/python3.7/dist-packages/torchvision/datasets/mnist.py:498: UserWarning: The given NumPy array is not writeable, and PyTorch does not support non-writeable tensors. This means you can write to the underlying (supposedly non-writeable) NumPy array using the tensor. You may want to copy the array to protect its data or make it writeable before converting it to a tensor. This type of warning will be suppressed for the rest of this program. (Triggered internally at  /pytorch/torch/csrc/utils/tensor_numpy.cpp:180.)\n",
            "  return torch.from_numpy(parsed.astype(m[2], copy=False)).view(*s)\n",
            "/usr/local/lib/python3.7/dist-packages/torch/utils/data/dataloader.py:481: UserWarning: This DataLoader will create 4 worker processes in total. Our suggested max number of worker in current system is 2, which is smaller than what this DataLoader is going to create. Please be aware that excessive worker creation might get DataLoader running slow or even freeze, lower the worker number to avoid potential slowness/freeze if necessary.\n",
            "  cpuset_checked))\n"
          ],
          "name": "stderr"
        }
      ]
    },
    {
      "cell_type": "code",
      "metadata": {
        "colab": {
          "base_uri": "https://localhost:8080/",
          "height": 296
        },
        "id": "hB94AjHvpUaf",
        "outputId": "2e3b13f7-5a4a-42e8-dca9-f8526acc7b5c"
      },
      "source": [
        "lr, num_epochs = 0.01, 10\n",
        "d2l.train_ch6(net, train_iter, test_iter, num_epochs, lr, d2l.try_gpu())"
      ],
      "execution_count": null,
      "outputs": [
        {
          "output_type": "stream",
          "text": [
            "loss 0.329, train acc 0.879, test acc 0.879\n",
            "1433.4 examples/sec on cuda:0\n"
          ],
          "name": "stdout"
        },
        {
          "output_type": "display_data",
          "data": {
            "text/plain": [
              "<Figure size 252x180 with 1 Axes>"
            ],
            "image/svg+xml": "<?xml version=\"1.0\" encoding=\"utf-8\" standalone=\"no\"?>\n<!DOCTYPE svg PUBLIC \"-//W3C//DTD SVG 1.1//EN\"\n  \"http://www.w3.org/Graphics/SVG/1.1/DTD/svg11.dtd\">\n<!-- Created with matplotlib (https://matplotlib.org/) -->\n<svg height=\"180.65625pt\" version=\"1.1\" viewBox=\"0 0 238.965625 180.65625\" width=\"238.965625pt\" xmlns=\"http://www.w3.org/2000/svg\" xmlns:xlink=\"http://www.w3.org/1999/xlink\">\n <defs>\n  <style type=\"text/css\">\n*{stroke-linecap:butt;stroke-linejoin:round;}\n  </style>\n </defs>\n <g id=\"figure_1\">\n  <g id=\"patch_1\">\n   <path d=\"M 0 180.65625 \nL 238.965625 180.65625 \nL 238.965625 0 \nL 0 0 \nz\n\" style=\"fill:none;\"/>\n  </g>\n  <g id=\"axes_1\">\n   <g id=\"patch_2\">\n    <path d=\"M 30.103125 143.1 \nL 225.403125 143.1 \nL 225.403125 7.2 \nL 30.103125 7.2 \nz\n\" style=\"fill:#ffffff;\"/>\n   </g>\n   <g id=\"matplotlib.axis_1\">\n    <g id=\"xtick_1\">\n     <g id=\"line2d_1\">\n      <path clip-path=\"url(#p4b8b3cc65c)\" d=\"M 51.803125 143.1 \nL 51.803125 7.2 \n\" style=\"fill:none;stroke:#b0b0b0;stroke-linecap:square;stroke-width:0.8;\"/>\n     </g>\n     <g id=\"line2d_2\">\n      <defs>\n       <path d=\"M 0 0 \nL 0 3.5 \n\" id=\"m8dd0c59da2\" style=\"stroke:#000000;stroke-width:0.8;\"/>\n      </defs>\n      <g>\n       <use style=\"stroke:#000000;stroke-width:0.8;\" x=\"51.803125\" xlink:href=\"#m8dd0c59da2\" y=\"143.1\"/>\n      </g>\n     </g>\n     <g id=\"text_1\">\n      <!-- 2 -->\n      <defs>\n       <path d=\"M 19.1875 8.296875 \nL 53.609375 8.296875 \nL 53.609375 0 \nL 7.328125 0 \nL 7.328125 8.296875 \nQ 12.9375 14.109375 22.625 23.890625 \nQ 32.328125 33.6875 34.8125 36.53125 \nQ 39.546875 41.84375 41.421875 45.53125 \nQ 43.3125 49.21875 43.3125 52.78125 \nQ 43.3125 58.59375 39.234375 62.25 \nQ 35.15625 65.921875 28.609375 65.921875 \nQ 23.96875 65.921875 18.8125 64.3125 \nQ 13.671875 62.703125 7.8125 59.421875 \nL 7.8125 69.390625 \nQ 13.765625 71.78125 18.9375 73 \nQ 24.125 74.21875 28.421875 74.21875 \nQ 39.75 74.21875 46.484375 68.546875 \nQ 53.21875 62.890625 53.21875 53.421875 \nQ 53.21875 48.921875 51.53125 44.890625 \nQ 49.859375 40.875 45.40625 35.40625 \nQ 44.1875 33.984375 37.640625 27.21875 \nQ 31.109375 20.453125 19.1875 8.296875 \nz\n\" id=\"DejaVuSans-50\"/>\n      </defs>\n      <g transform=\"translate(48.621875 157.698438)scale(0.1 -0.1)\">\n       <use xlink:href=\"#DejaVuSans-50\"/>\n      </g>\n     </g>\n    </g>\n    <g id=\"xtick_2\">\n     <g id=\"line2d_3\">\n      <path clip-path=\"url(#p4b8b3cc65c)\" d=\"M 95.203125 143.1 \nL 95.203125 7.2 \n\" style=\"fill:none;stroke:#b0b0b0;stroke-linecap:square;stroke-width:0.8;\"/>\n     </g>\n     <g id=\"line2d_4\">\n      <g>\n       <use style=\"stroke:#000000;stroke-width:0.8;\" x=\"95.203125\" xlink:href=\"#m8dd0c59da2\" y=\"143.1\"/>\n      </g>\n     </g>\n     <g id=\"text_2\">\n      <!-- 4 -->\n      <defs>\n       <path d=\"M 37.796875 64.3125 \nL 12.890625 25.390625 \nL 37.796875 25.390625 \nz\nM 35.203125 72.90625 \nL 47.609375 72.90625 \nL 47.609375 25.390625 \nL 58.015625 25.390625 \nL 58.015625 17.1875 \nL 47.609375 17.1875 \nL 47.609375 0 \nL 37.796875 0 \nL 37.796875 17.1875 \nL 4.890625 17.1875 \nL 4.890625 26.703125 \nz\n\" id=\"DejaVuSans-52\"/>\n      </defs>\n      <g transform=\"translate(92.021875 157.698438)scale(0.1 -0.1)\">\n       <use xlink:href=\"#DejaVuSans-52\"/>\n      </g>\n     </g>\n    </g>\n    <g id=\"xtick_3\">\n     <g id=\"line2d_5\">\n      <path clip-path=\"url(#p4b8b3cc65c)\" d=\"M 138.603125 143.1 \nL 138.603125 7.2 \n\" style=\"fill:none;stroke:#b0b0b0;stroke-linecap:square;stroke-width:0.8;\"/>\n     </g>\n     <g id=\"line2d_6\">\n      <g>\n       <use style=\"stroke:#000000;stroke-width:0.8;\" x=\"138.603125\" xlink:href=\"#m8dd0c59da2\" y=\"143.1\"/>\n      </g>\n     </g>\n     <g id=\"text_3\">\n      <!-- 6 -->\n      <defs>\n       <path d=\"M 33.015625 40.375 \nQ 26.375 40.375 22.484375 35.828125 \nQ 18.609375 31.296875 18.609375 23.390625 \nQ 18.609375 15.53125 22.484375 10.953125 \nQ 26.375 6.390625 33.015625 6.390625 \nQ 39.65625 6.390625 43.53125 10.953125 \nQ 47.40625 15.53125 47.40625 23.390625 \nQ 47.40625 31.296875 43.53125 35.828125 \nQ 39.65625 40.375 33.015625 40.375 \nz\nM 52.59375 71.296875 \nL 52.59375 62.3125 \nQ 48.875 64.0625 45.09375 64.984375 \nQ 41.3125 65.921875 37.59375 65.921875 \nQ 27.828125 65.921875 22.671875 59.328125 \nQ 17.53125 52.734375 16.796875 39.40625 \nQ 19.671875 43.65625 24.015625 45.921875 \nQ 28.375 48.1875 33.59375 48.1875 \nQ 44.578125 48.1875 50.953125 41.515625 \nQ 57.328125 34.859375 57.328125 23.390625 \nQ 57.328125 12.15625 50.6875 5.359375 \nQ 44.046875 -1.421875 33.015625 -1.421875 \nQ 20.359375 -1.421875 13.671875 8.265625 \nQ 6.984375 17.96875 6.984375 36.375 \nQ 6.984375 53.65625 15.1875 63.9375 \nQ 23.390625 74.21875 37.203125 74.21875 \nQ 40.921875 74.21875 44.703125 73.484375 \nQ 48.484375 72.75 52.59375 71.296875 \nz\n\" id=\"DejaVuSans-54\"/>\n      </defs>\n      <g transform=\"translate(135.421875 157.698438)scale(0.1 -0.1)\">\n       <use xlink:href=\"#DejaVuSans-54\"/>\n      </g>\n     </g>\n    </g>\n    <g id=\"xtick_4\">\n     <g id=\"line2d_7\">\n      <path clip-path=\"url(#p4b8b3cc65c)\" d=\"M 182.003125 143.1 \nL 182.003125 7.2 \n\" style=\"fill:none;stroke:#b0b0b0;stroke-linecap:square;stroke-width:0.8;\"/>\n     </g>\n     <g id=\"line2d_8\">\n      <g>\n       <use style=\"stroke:#000000;stroke-width:0.8;\" x=\"182.003125\" xlink:href=\"#m8dd0c59da2\" y=\"143.1\"/>\n      </g>\n     </g>\n     <g id=\"text_4\">\n      <!-- 8 -->\n      <defs>\n       <path d=\"M 31.78125 34.625 \nQ 24.75 34.625 20.71875 30.859375 \nQ 16.703125 27.09375 16.703125 20.515625 \nQ 16.703125 13.921875 20.71875 10.15625 \nQ 24.75 6.390625 31.78125 6.390625 \nQ 38.8125 6.390625 42.859375 10.171875 \nQ 46.921875 13.96875 46.921875 20.515625 \nQ 46.921875 27.09375 42.890625 30.859375 \nQ 38.875 34.625 31.78125 34.625 \nz\nM 21.921875 38.8125 \nQ 15.578125 40.375 12.03125 44.71875 \nQ 8.5 49.078125 8.5 55.328125 \nQ 8.5 64.0625 14.71875 69.140625 \nQ 20.953125 74.21875 31.78125 74.21875 \nQ 42.671875 74.21875 48.875 69.140625 \nQ 55.078125 64.0625 55.078125 55.328125 \nQ 55.078125 49.078125 51.53125 44.71875 \nQ 48 40.375 41.703125 38.8125 \nQ 48.828125 37.15625 52.796875 32.3125 \nQ 56.78125 27.484375 56.78125 20.515625 \nQ 56.78125 9.90625 50.3125 4.234375 \nQ 43.84375 -1.421875 31.78125 -1.421875 \nQ 19.734375 -1.421875 13.25 4.234375 \nQ 6.78125 9.90625 6.78125 20.515625 \nQ 6.78125 27.484375 10.78125 32.3125 \nQ 14.796875 37.15625 21.921875 38.8125 \nz\nM 18.3125 54.390625 \nQ 18.3125 48.734375 21.84375 45.5625 \nQ 25.390625 42.390625 31.78125 42.390625 \nQ 38.140625 42.390625 41.71875 45.5625 \nQ 45.3125 48.734375 45.3125 54.390625 \nQ 45.3125 60.0625 41.71875 63.234375 \nQ 38.140625 66.40625 31.78125 66.40625 \nQ 25.390625 66.40625 21.84375 63.234375 \nQ 18.3125 60.0625 18.3125 54.390625 \nz\n\" id=\"DejaVuSans-56\"/>\n      </defs>\n      <g transform=\"translate(178.821875 157.698438)scale(0.1 -0.1)\">\n       <use xlink:href=\"#DejaVuSans-56\"/>\n      </g>\n     </g>\n    </g>\n    <g id=\"xtick_5\">\n     <g id=\"line2d_9\">\n      <path clip-path=\"url(#p4b8b3cc65c)\" d=\"M 225.403125 143.1 \nL 225.403125 7.2 \n\" style=\"fill:none;stroke:#b0b0b0;stroke-linecap:square;stroke-width:0.8;\"/>\n     </g>\n     <g id=\"line2d_10\">\n      <g>\n       <use style=\"stroke:#000000;stroke-width:0.8;\" x=\"225.403125\" xlink:href=\"#m8dd0c59da2\" y=\"143.1\"/>\n      </g>\n     </g>\n     <g id=\"text_5\">\n      <!-- 10 -->\n      <defs>\n       <path d=\"M 12.40625 8.296875 \nL 28.515625 8.296875 \nL 28.515625 63.921875 \nL 10.984375 60.40625 \nL 10.984375 69.390625 \nL 28.421875 72.90625 \nL 38.28125 72.90625 \nL 38.28125 8.296875 \nL 54.390625 8.296875 \nL 54.390625 0 \nL 12.40625 0 \nz\n\" id=\"DejaVuSans-49\"/>\n       <path d=\"M 31.78125 66.40625 \nQ 24.171875 66.40625 20.328125 58.90625 \nQ 16.5 51.421875 16.5 36.375 \nQ 16.5 21.390625 20.328125 13.890625 \nQ 24.171875 6.390625 31.78125 6.390625 \nQ 39.453125 6.390625 43.28125 13.890625 \nQ 47.125 21.390625 47.125 36.375 \nQ 47.125 51.421875 43.28125 58.90625 \nQ 39.453125 66.40625 31.78125 66.40625 \nz\nM 31.78125 74.21875 \nQ 44.046875 74.21875 50.515625 64.515625 \nQ 56.984375 54.828125 56.984375 36.375 \nQ 56.984375 17.96875 50.515625 8.265625 \nQ 44.046875 -1.421875 31.78125 -1.421875 \nQ 19.53125 -1.421875 13.0625 8.265625 \nQ 6.59375 17.96875 6.59375 36.375 \nQ 6.59375 54.828125 13.0625 64.515625 \nQ 19.53125 74.21875 31.78125 74.21875 \nz\n\" id=\"DejaVuSans-48\"/>\n      </defs>\n      <g transform=\"translate(219.040625 157.698438)scale(0.1 -0.1)\">\n       <use xlink:href=\"#DejaVuSans-49\"/>\n       <use x=\"63.623047\" xlink:href=\"#DejaVuSans-48\"/>\n      </g>\n     </g>\n    </g>\n    <g id=\"text_6\">\n     <!-- epoch -->\n     <defs>\n      <path d=\"M 56.203125 29.59375 \nL 56.203125 25.203125 \nL 14.890625 25.203125 \nQ 15.484375 15.921875 20.484375 11.0625 \nQ 25.484375 6.203125 34.421875 6.203125 \nQ 39.59375 6.203125 44.453125 7.46875 \nQ 49.3125 8.734375 54.109375 11.28125 \nL 54.109375 2.78125 \nQ 49.265625 0.734375 44.1875 -0.34375 \nQ 39.109375 -1.421875 33.890625 -1.421875 \nQ 20.796875 -1.421875 13.15625 6.1875 \nQ 5.515625 13.8125 5.515625 26.8125 \nQ 5.515625 40.234375 12.765625 48.109375 \nQ 20.015625 56 32.328125 56 \nQ 43.359375 56 49.78125 48.890625 \nQ 56.203125 41.796875 56.203125 29.59375 \nz\nM 47.21875 32.234375 \nQ 47.125 39.59375 43.09375 43.984375 \nQ 39.0625 48.390625 32.421875 48.390625 \nQ 24.90625 48.390625 20.390625 44.140625 \nQ 15.875 39.890625 15.1875 32.171875 \nz\n\" id=\"DejaVuSans-101\"/>\n      <path d=\"M 18.109375 8.203125 \nL 18.109375 -20.796875 \nL 9.078125 -20.796875 \nL 9.078125 54.6875 \nL 18.109375 54.6875 \nL 18.109375 46.390625 \nQ 20.953125 51.265625 25.265625 53.625 \nQ 29.59375 56 35.59375 56 \nQ 45.5625 56 51.78125 48.09375 \nQ 58.015625 40.1875 58.015625 27.296875 \nQ 58.015625 14.40625 51.78125 6.484375 \nQ 45.5625 -1.421875 35.59375 -1.421875 \nQ 29.59375 -1.421875 25.265625 0.953125 \nQ 20.953125 3.328125 18.109375 8.203125 \nz\nM 48.6875 27.296875 \nQ 48.6875 37.203125 44.609375 42.84375 \nQ 40.53125 48.484375 33.40625 48.484375 \nQ 26.265625 48.484375 22.1875 42.84375 \nQ 18.109375 37.203125 18.109375 27.296875 \nQ 18.109375 17.390625 22.1875 11.75 \nQ 26.265625 6.109375 33.40625 6.109375 \nQ 40.53125 6.109375 44.609375 11.75 \nQ 48.6875 17.390625 48.6875 27.296875 \nz\n\" id=\"DejaVuSans-112\"/>\n      <path d=\"M 30.609375 48.390625 \nQ 23.390625 48.390625 19.1875 42.75 \nQ 14.984375 37.109375 14.984375 27.296875 \nQ 14.984375 17.484375 19.15625 11.84375 \nQ 23.34375 6.203125 30.609375 6.203125 \nQ 37.796875 6.203125 41.984375 11.859375 \nQ 46.1875 17.53125 46.1875 27.296875 \nQ 46.1875 37.015625 41.984375 42.703125 \nQ 37.796875 48.390625 30.609375 48.390625 \nz\nM 30.609375 56 \nQ 42.328125 56 49.015625 48.375 \nQ 55.71875 40.765625 55.71875 27.296875 \nQ 55.71875 13.875 49.015625 6.21875 \nQ 42.328125 -1.421875 30.609375 -1.421875 \nQ 18.84375 -1.421875 12.171875 6.21875 \nQ 5.515625 13.875 5.515625 27.296875 \nQ 5.515625 40.765625 12.171875 48.375 \nQ 18.84375 56 30.609375 56 \nz\n\" id=\"DejaVuSans-111\"/>\n      <path d=\"M 48.78125 52.59375 \nL 48.78125 44.1875 \nQ 44.96875 46.296875 41.140625 47.34375 \nQ 37.3125 48.390625 33.40625 48.390625 \nQ 24.65625 48.390625 19.8125 42.84375 \nQ 14.984375 37.3125 14.984375 27.296875 \nQ 14.984375 17.28125 19.8125 11.734375 \nQ 24.65625 6.203125 33.40625 6.203125 \nQ 37.3125 6.203125 41.140625 7.25 \nQ 44.96875 8.296875 48.78125 10.40625 \nL 48.78125 2.09375 \nQ 45.015625 0.34375 40.984375 -0.53125 \nQ 36.96875 -1.421875 32.421875 -1.421875 \nQ 20.0625 -1.421875 12.78125 6.34375 \nQ 5.515625 14.109375 5.515625 27.296875 \nQ 5.515625 40.671875 12.859375 48.328125 \nQ 20.21875 56 33.015625 56 \nQ 37.15625 56 41.109375 55.140625 \nQ 45.0625 54.296875 48.78125 52.59375 \nz\n\" id=\"DejaVuSans-99\"/>\n      <path d=\"M 54.890625 33.015625 \nL 54.890625 0 \nL 45.90625 0 \nL 45.90625 32.71875 \nQ 45.90625 40.484375 42.875 44.328125 \nQ 39.84375 48.1875 33.796875 48.1875 \nQ 26.515625 48.1875 22.3125 43.546875 \nQ 18.109375 38.921875 18.109375 30.90625 \nL 18.109375 0 \nL 9.078125 0 \nL 9.078125 75.984375 \nL 18.109375 75.984375 \nL 18.109375 46.1875 \nQ 21.34375 51.125 25.703125 53.5625 \nQ 30.078125 56 35.796875 56 \nQ 45.21875 56 50.046875 50.171875 \nQ 54.890625 44.34375 54.890625 33.015625 \nz\n\" id=\"DejaVuSans-104\"/>\n     </defs>\n     <g transform=\"translate(112.525 171.376563)scale(0.1 -0.1)\">\n      <use xlink:href=\"#DejaVuSans-101\"/>\n      <use x=\"61.523438\" xlink:href=\"#DejaVuSans-112\"/>\n      <use x=\"125\" xlink:href=\"#DejaVuSans-111\"/>\n      <use x=\"186.181641\" xlink:href=\"#DejaVuSans-99\"/>\n      <use x=\"241.162109\" xlink:href=\"#DejaVuSans-104\"/>\n     </g>\n    </g>\n   </g>\n   <g id=\"matplotlib.axis_2\">\n    <g id=\"ytick_1\">\n     <g id=\"line2d_11\">\n      <path clip-path=\"url(#p4b8b3cc65c)\" d=\"M 30.103125 117.711229 \nL 225.403125 117.711229 \n\" style=\"fill:none;stroke:#b0b0b0;stroke-linecap:square;stroke-width:0.8;\"/>\n     </g>\n     <g id=\"line2d_12\">\n      <defs>\n       <path d=\"M 0 0 \nL -3.5 0 \n\" id=\"m3763466df8\" style=\"stroke:#000000;stroke-width:0.8;\"/>\n      </defs>\n      <g>\n       <use style=\"stroke:#000000;stroke-width:0.8;\" x=\"30.103125\" xlink:href=\"#m3763466df8\" y=\"117.711229\"/>\n      </g>\n     </g>\n     <g id=\"text_7\">\n      <!-- 0.5 -->\n      <defs>\n       <path d=\"M 10.6875 12.40625 \nL 21 12.40625 \nL 21 0 \nL 10.6875 0 \nz\n\" id=\"DejaVuSans-46\"/>\n       <path d=\"M 10.796875 72.90625 \nL 49.515625 72.90625 \nL 49.515625 64.59375 \nL 19.828125 64.59375 \nL 19.828125 46.734375 \nQ 21.96875 47.46875 24.109375 47.828125 \nQ 26.265625 48.1875 28.421875 48.1875 \nQ 40.625 48.1875 47.75 41.5 \nQ 54.890625 34.8125 54.890625 23.390625 \nQ 54.890625 11.625 47.5625 5.09375 \nQ 40.234375 -1.421875 26.90625 -1.421875 \nQ 22.3125 -1.421875 17.546875 -0.640625 \nQ 12.796875 0.140625 7.71875 1.703125 \nL 7.71875 11.625 \nQ 12.109375 9.234375 16.796875 8.0625 \nQ 21.484375 6.890625 26.703125 6.890625 \nQ 35.15625 6.890625 40.078125 11.328125 \nQ 45.015625 15.765625 45.015625 23.390625 \nQ 45.015625 31 40.078125 35.4375 \nQ 35.15625 39.890625 26.703125 39.890625 \nQ 22.75 39.890625 18.8125 39.015625 \nQ 14.890625 38.140625 10.796875 36.28125 \nz\n\" id=\"DejaVuSans-53\"/>\n      </defs>\n      <g transform=\"translate(7.2 121.510447)scale(0.1 -0.1)\">\n       <use xlink:href=\"#DejaVuSans-48\"/>\n       <use x=\"63.623047\" xlink:href=\"#DejaVuSans-46\"/>\n       <use x=\"95.410156\" xlink:href=\"#DejaVuSans-53\"/>\n      </g>\n     </g>\n    </g>\n    <g id=\"ytick_2\">\n     <g id=\"line2d_13\">\n      <path clip-path=\"url(#p4b8b3cc65c)\" d=\"M 30.103125 88.391526 \nL 225.403125 88.391526 \n\" style=\"fill:none;stroke:#b0b0b0;stroke-linecap:square;stroke-width:0.8;\"/>\n     </g>\n     <g id=\"line2d_14\">\n      <g>\n       <use style=\"stroke:#000000;stroke-width:0.8;\" x=\"30.103125\" xlink:href=\"#m3763466df8\" y=\"88.391526\"/>\n      </g>\n     </g>\n     <g id=\"text_8\">\n      <!-- 1.0 -->\n      <g transform=\"translate(7.2 92.190745)scale(0.1 -0.1)\">\n       <use xlink:href=\"#DejaVuSans-49\"/>\n       <use x=\"63.623047\" xlink:href=\"#DejaVuSans-46\"/>\n       <use x=\"95.410156\" xlink:href=\"#DejaVuSans-48\"/>\n      </g>\n     </g>\n    </g>\n    <g id=\"ytick_3\">\n     <g id=\"line2d_15\">\n      <path clip-path=\"url(#p4b8b3cc65c)\" d=\"M 30.103125 59.071824 \nL 225.403125 59.071824 \n\" style=\"fill:none;stroke:#b0b0b0;stroke-linecap:square;stroke-width:0.8;\"/>\n     </g>\n     <g id=\"line2d_16\">\n      <g>\n       <use style=\"stroke:#000000;stroke-width:0.8;\" x=\"30.103125\" xlink:href=\"#m3763466df8\" y=\"59.071824\"/>\n      </g>\n     </g>\n     <g id=\"text_9\">\n      <!-- 1.5 -->\n      <g transform=\"translate(7.2 62.871043)scale(0.1 -0.1)\">\n       <use xlink:href=\"#DejaVuSans-49\"/>\n       <use x=\"63.623047\" xlink:href=\"#DejaVuSans-46\"/>\n       <use x=\"95.410156\" xlink:href=\"#DejaVuSans-53\"/>\n      </g>\n     </g>\n    </g>\n    <g id=\"ytick_4\">\n     <g id=\"line2d_17\">\n      <path clip-path=\"url(#p4b8b3cc65c)\" d=\"M 30.103125 29.752121 \nL 225.403125 29.752121 \n\" style=\"fill:none;stroke:#b0b0b0;stroke-linecap:square;stroke-width:0.8;\"/>\n     </g>\n     <g id=\"line2d_18\">\n      <g>\n       <use style=\"stroke:#000000;stroke-width:0.8;\" x=\"30.103125\" xlink:href=\"#m3763466df8\" y=\"29.752121\"/>\n      </g>\n     </g>\n     <g id=\"text_10\">\n      <!-- 2.0 -->\n      <g transform=\"translate(7.2 33.55134)scale(0.1 -0.1)\">\n       <use xlink:href=\"#DejaVuSans-50\"/>\n       <use x=\"63.623047\" xlink:href=\"#DejaVuSans-46\"/>\n       <use x=\"95.410156\" xlink:href=\"#DejaVuSans-48\"/>\n      </g>\n     </g>\n    </g>\n   </g>\n   <g id=\"line2d_19\">\n    <path clip-path=\"url(#p4b8b3cc65c)\" d=\"M 12.70611 13.377273 \nL 17.009095 33.363515 \nL 21.31208 50.813528 \nL 25.615065 61.73766 \nL 29.91805 69.588974 \nL 30.103125 69.853275 \nL 34.40611 104.276396 \nL 38.709095 105.751686 \nL 43.01208 106.648758 \nL 47.315065 107.708155 \nL 51.61805 108.540031 \nL 51.803125 108.55892 \nL 56.10611 112.824077 \nL 60.409095 113.726382 \nL 64.71208 114.426426 \nL 69.015065 114.877007 \nL 73.31805 115.397186 \nL 73.503125 115.423824 \nL 77.80611 117.635739 \nL 82.109095 118.000309 \nL 86.41208 118.35414 \nL 90.715065 118.720691 \nL 95.01805 119.214456 \nL 95.203125 119.244286 \nL 99.50611 120.639994 \nL 103.809095 121.17915 \nL 108.11208 121.304209 \nL 112.415065 121.514765 \nL 116.71805 121.81615 \nL 116.903125 121.824369 \nL 121.20611 122.342113 \nL 125.509095 123.12227 \nL 129.81208 123.310098 \nL 134.115065 123.502442 \nL 138.41805 123.609926 \nL 138.603125 123.592342 \nL 142.90611 124.194478 \nL 147.209095 124.45513 \nL 151.51208 124.647296 \nL 155.815065 125.001757 \nL 160.11805 125.023012 \nL 160.303125 125.042736 \nL 164.60611 125.513099 \nL 168.909095 125.441915 \nL 173.21208 125.865126 \nL 177.515065 125.932515 \nL 181.81805 126.015154 \nL 182.003125 126.018603 \nL 186.30611 126.287917 \nL 190.609095 126.716011 \nL 194.91208 126.856215 \nL 199.215065 126.917725 \nL 203.51805 127.072274 \nL 203.703125 127.08382 \nL 208.00611 127.303397 \nL 212.309095 127.743011 \nL 216.61208 127.636037 \nL 220.915065 127.666723 \nL 225.21805 127.751816 \nL 225.403125 127.73104 \n\" style=\"fill:none;stroke:#1f77b4;stroke-linecap:square;stroke-width:1.5;\"/>\n   </g>\n   <g id=\"line2d_20\">\n    <path clip-path=\"url(#p4b8b3cc65c)\" d=\"M 12.70611 136.922727 \nL 17.009095 129.661766 \nL 21.31208 123.734116 \nL 25.615065 119.814641 \nL 29.91805 116.993999 \nL 30.103125 116.899073 \nL 34.40611 104.588297 \nL 38.709095 103.851857 \nL 43.01208 103.471732 \nL 47.315065 103.093249 \nL 51.61805 102.784387 \nL 51.803125 102.778704 \nL 56.10611 101.184414 \nL 60.409095 100.869148 \nL 64.71208 100.599859 \nL 69.015065 100.392555 \nL 73.31805 100.20315 \nL 73.503125 100.184888 \nL 77.80611 99.164744 \nL 82.109095 99.167207 \nL 86.41208 99.025173 \nL 90.715065 98.863024 \nL 95.01805 98.661304 \nL 95.203125 98.652445 \nL 99.50611 98.036684 \nL 103.809095 97.859347 \nL 108.11208 97.777246 \nL 112.415065 97.763289 \nL 116.71805 97.644572 \nL 116.903125 97.639938 \nL 121.20611 97.534229 \nL 125.509095 97.157388 \nL 129.81208 97.067899 \nL 134.115065 97.029312 \nL 138.41805 96.971677 \nL 138.603125 96.981222 \nL 142.90611 96.637693 \nL 147.209095 96.615525 \nL 151.51208 96.632767 \nL 155.815065 96.468976 \nL 160.11805 96.48203 \nL 160.303125 96.475946 \nL 164.60611 96.307649 \nL 168.909095 96.332279 \nL 173.21208 96.100756 \nL 177.515065 96.099524 \nL 181.81805 96.043614 \nL 182.003125 96.046901 \nL 186.30611 95.957901 \nL 190.609095 95.864307 \nL 194.91208 95.782206 \nL 199.215065 95.771944 \nL 203.51805 95.691896 \nL 203.703125 95.67845 \nL 208.00611 95.667266 \nL 212.309095 95.413575 \nL 216.61208 95.468583 \nL 220.915065 95.477614 \nL 225.21805 95.462343 \nL 225.403125 95.471257 \n\" style=\"fill:none;stroke:#bf00bf;stroke-dasharray:5.55,2.4;stroke-dashoffset:0;stroke-width:1.5;\"/>\n   </g>\n   <g id=\"line2d_21\">\n    <path clip-path=\"url(#p4b8b3cc65c)\" d=\"M 30.103125 103.555676 \nL 51.803125 100.940359 \nL 73.503125 99.239816 \nL 95.203125 97.615505 \nL 116.903125 97.644824 \nL 138.603125 96.823873 \nL 160.303125 96.489628 \nL 182.003125 96.1202 \nL 203.703125 95.645221 \nL 225.403125 95.463438 \n\" style=\"fill:none;stroke:#008000;stroke-dasharray:9.6,2.4,1.5,2.4;stroke-dashoffset:0;stroke-width:1.5;\"/>\n   </g>\n   <g id=\"patch_3\">\n    <path d=\"M 30.103125 143.1 \nL 30.103125 7.2 \n\" style=\"fill:none;stroke:#000000;stroke-linecap:square;stroke-linejoin:miter;stroke-width:0.8;\"/>\n   </g>\n   <g id=\"patch_4\">\n    <path d=\"M 225.403125 143.1 \nL 225.403125 7.2 \n\" style=\"fill:none;stroke:#000000;stroke-linecap:square;stroke-linejoin:miter;stroke-width:0.8;\"/>\n   </g>\n   <g id=\"patch_5\">\n    <path d=\"M 30.103125 143.1 \nL 225.403125 143.1 \n\" style=\"fill:none;stroke:#000000;stroke-linecap:square;stroke-linejoin:miter;stroke-width:0.8;\"/>\n   </g>\n   <g id=\"patch_6\">\n    <path d=\"M 30.103125 7.2 \nL 225.403125 7.2 \n\" style=\"fill:none;stroke:#000000;stroke-linecap:square;stroke-linejoin:miter;stroke-width:0.8;\"/>\n   </g>\n   <g id=\"legend_1\">\n    <g id=\"patch_7\">\n     <path d=\"M 140.634375 59.234375 \nL 218.403125 59.234375 \nQ 220.403125 59.234375 220.403125 57.234375 \nL 220.403125 14.2 \nQ 220.403125 12.2 218.403125 12.2 \nL 140.634375 12.2 \nQ 138.634375 12.2 138.634375 14.2 \nL 138.634375 57.234375 \nQ 138.634375 59.234375 140.634375 59.234375 \nz\n\" style=\"fill:#ffffff;opacity:0.8;stroke:#cccccc;stroke-linejoin:miter;\"/>\n    </g>\n    <g id=\"line2d_22\">\n     <path d=\"M 142.634375 20.298438 \nL 162.634375 20.298438 \n\" style=\"fill:none;stroke:#1f77b4;stroke-linecap:square;stroke-width:1.5;\"/>\n    </g>\n    <g id=\"line2d_23\"/>\n    <g id=\"text_11\">\n     <!-- train loss -->\n     <defs>\n      <path d=\"M 18.3125 70.21875 \nL 18.3125 54.6875 \nL 36.8125 54.6875 \nL 36.8125 47.703125 \nL 18.3125 47.703125 \nL 18.3125 18.015625 \nQ 18.3125 11.328125 20.140625 9.421875 \nQ 21.96875 7.515625 27.59375 7.515625 \nL 36.8125 7.515625 \nL 36.8125 0 \nL 27.59375 0 \nQ 17.1875 0 13.234375 3.875 \nQ 9.28125 7.765625 9.28125 18.015625 \nL 9.28125 47.703125 \nL 2.6875 47.703125 \nL 2.6875 54.6875 \nL 9.28125 54.6875 \nL 9.28125 70.21875 \nz\n\" id=\"DejaVuSans-116\"/>\n      <path d=\"M 41.109375 46.296875 \nQ 39.59375 47.171875 37.8125 47.578125 \nQ 36.03125 48 33.890625 48 \nQ 26.265625 48 22.1875 43.046875 \nQ 18.109375 38.09375 18.109375 28.8125 \nL 18.109375 0 \nL 9.078125 0 \nL 9.078125 54.6875 \nL 18.109375 54.6875 \nL 18.109375 46.1875 \nQ 20.953125 51.171875 25.484375 53.578125 \nQ 30.03125 56 36.53125 56 \nQ 37.453125 56 38.578125 55.875 \nQ 39.703125 55.765625 41.0625 55.515625 \nz\n\" id=\"DejaVuSans-114\"/>\n      <path d=\"M 34.28125 27.484375 \nQ 23.390625 27.484375 19.1875 25 \nQ 14.984375 22.515625 14.984375 16.5 \nQ 14.984375 11.71875 18.140625 8.90625 \nQ 21.296875 6.109375 26.703125 6.109375 \nQ 34.1875 6.109375 38.703125 11.40625 \nQ 43.21875 16.703125 43.21875 25.484375 \nL 43.21875 27.484375 \nz\nM 52.203125 31.203125 \nL 52.203125 0 \nL 43.21875 0 \nL 43.21875 8.296875 \nQ 40.140625 3.328125 35.546875 0.953125 \nQ 30.953125 -1.421875 24.3125 -1.421875 \nQ 15.921875 -1.421875 10.953125 3.296875 \nQ 6 8.015625 6 15.921875 \nQ 6 25.140625 12.171875 29.828125 \nQ 18.359375 34.515625 30.609375 34.515625 \nL 43.21875 34.515625 \nL 43.21875 35.40625 \nQ 43.21875 41.609375 39.140625 45 \nQ 35.0625 48.390625 27.6875 48.390625 \nQ 23 48.390625 18.546875 47.265625 \nQ 14.109375 46.140625 10.015625 43.890625 \nL 10.015625 52.203125 \nQ 14.9375 54.109375 19.578125 55.046875 \nQ 24.21875 56 28.609375 56 \nQ 40.484375 56 46.34375 49.84375 \nQ 52.203125 43.703125 52.203125 31.203125 \nz\n\" id=\"DejaVuSans-97\"/>\n      <path d=\"M 9.421875 54.6875 \nL 18.40625 54.6875 \nL 18.40625 0 \nL 9.421875 0 \nz\nM 9.421875 75.984375 \nL 18.40625 75.984375 \nL 18.40625 64.59375 \nL 9.421875 64.59375 \nz\n\" id=\"DejaVuSans-105\"/>\n      <path d=\"M 54.890625 33.015625 \nL 54.890625 0 \nL 45.90625 0 \nL 45.90625 32.71875 \nQ 45.90625 40.484375 42.875 44.328125 \nQ 39.84375 48.1875 33.796875 48.1875 \nQ 26.515625 48.1875 22.3125 43.546875 \nQ 18.109375 38.921875 18.109375 30.90625 \nL 18.109375 0 \nL 9.078125 0 \nL 9.078125 54.6875 \nL 18.109375 54.6875 \nL 18.109375 46.1875 \nQ 21.34375 51.125 25.703125 53.5625 \nQ 30.078125 56 35.796875 56 \nQ 45.21875 56 50.046875 50.171875 \nQ 54.890625 44.34375 54.890625 33.015625 \nz\n\" id=\"DejaVuSans-110\"/>\n      <path id=\"DejaVuSans-32\"/>\n      <path d=\"M 9.421875 75.984375 \nL 18.40625 75.984375 \nL 18.40625 0 \nL 9.421875 0 \nz\n\" id=\"DejaVuSans-108\"/>\n      <path d=\"M 44.28125 53.078125 \nL 44.28125 44.578125 \nQ 40.484375 46.53125 36.375 47.5 \nQ 32.28125 48.484375 27.875 48.484375 \nQ 21.1875 48.484375 17.84375 46.4375 \nQ 14.5 44.390625 14.5 40.28125 \nQ 14.5 37.15625 16.890625 35.375 \nQ 19.28125 33.59375 26.515625 31.984375 \nL 29.59375 31.296875 \nQ 39.15625 29.25 43.1875 25.515625 \nQ 47.21875 21.78125 47.21875 15.09375 \nQ 47.21875 7.46875 41.1875 3.015625 \nQ 35.15625 -1.421875 24.609375 -1.421875 \nQ 20.21875 -1.421875 15.453125 -0.5625 \nQ 10.6875 0.296875 5.421875 2 \nL 5.421875 11.28125 \nQ 10.40625 8.6875 15.234375 7.390625 \nQ 20.0625 6.109375 24.8125 6.109375 \nQ 31.15625 6.109375 34.5625 8.28125 \nQ 37.984375 10.453125 37.984375 14.40625 \nQ 37.984375 18.0625 35.515625 20.015625 \nQ 33.0625 21.96875 24.703125 23.78125 \nL 21.578125 24.515625 \nQ 13.234375 26.265625 9.515625 29.90625 \nQ 5.8125 33.546875 5.8125 39.890625 \nQ 5.8125 47.609375 11.28125 51.796875 \nQ 16.75 56 26.8125 56 \nQ 31.78125 56 36.171875 55.265625 \nQ 40.578125 54.546875 44.28125 53.078125 \nz\n\" id=\"DejaVuSans-115\"/>\n     </defs>\n     <g transform=\"translate(170.634375 23.798438)scale(0.1 -0.1)\">\n      <use xlink:href=\"#DejaVuSans-116\"/>\n      <use x=\"39.208984\" xlink:href=\"#DejaVuSans-114\"/>\n      <use x=\"80.322266\" xlink:href=\"#DejaVuSans-97\"/>\n      <use x=\"141.601562\" xlink:href=\"#DejaVuSans-105\"/>\n      <use x=\"169.384766\" xlink:href=\"#DejaVuSans-110\"/>\n      <use x=\"232.763672\" xlink:href=\"#DejaVuSans-32\"/>\n      <use x=\"264.550781\" xlink:href=\"#DejaVuSans-108\"/>\n      <use x=\"292.333984\" xlink:href=\"#DejaVuSans-111\"/>\n      <use x=\"353.515625\" xlink:href=\"#DejaVuSans-115\"/>\n      <use x=\"405.615234\" xlink:href=\"#DejaVuSans-115\"/>\n     </g>\n    </g>\n    <g id=\"line2d_24\">\n     <path d=\"M 142.634375 34.976562 \nL 162.634375 34.976562 \n\" style=\"fill:none;stroke:#bf00bf;stroke-dasharray:5.55,2.4;stroke-dashoffset:0;stroke-width:1.5;\"/>\n    </g>\n    <g id=\"line2d_25\"/>\n    <g id=\"text_12\">\n     <!-- train acc -->\n     <g transform=\"translate(170.634375 38.476562)scale(0.1 -0.1)\">\n      <use xlink:href=\"#DejaVuSans-116\"/>\n      <use x=\"39.208984\" xlink:href=\"#DejaVuSans-114\"/>\n      <use x=\"80.322266\" xlink:href=\"#DejaVuSans-97\"/>\n      <use x=\"141.601562\" xlink:href=\"#DejaVuSans-105\"/>\n      <use x=\"169.384766\" xlink:href=\"#DejaVuSans-110\"/>\n      <use x=\"232.763672\" xlink:href=\"#DejaVuSans-32\"/>\n      <use x=\"264.550781\" xlink:href=\"#DejaVuSans-97\"/>\n      <use x=\"325.830078\" xlink:href=\"#DejaVuSans-99\"/>\n      <use x=\"380.810547\" xlink:href=\"#DejaVuSans-99\"/>\n     </g>\n    </g>\n    <g id=\"line2d_26\">\n     <path d=\"M 142.634375 49.654688 \nL 162.634375 49.654688 \n\" style=\"fill:none;stroke:#008000;stroke-dasharray:9.6,2.4,1.5,2.4;stroke-dashoffset:0;stroke-width:1.5;\"/>\n    </g>\n    <g id=\"line2d_27\"/>\n    <g id=\"text_13\">\n     <!-- test acc -->\n     <g transform=\"translate(170.634375 53.154688)scale(0.1 -0.1)\">\n      <use xlink:href=\"#DejaVuSans-116\"/>\n      <use x=\"39.208984\" xlink:href=\"#DejaVuSans-101\"/>\n      <use x=\"100.732422\" xlink:href=\"#DejaVuSans-115\"/>\n      <use x=\"152.832031\" xlink:href=\"#DejaVuSans-116\"/>\n      <use x=\"192.041016\" xlink:href=\"#DejaVuSans-32\"/>\n      <use x=\"223.828125\" xlink:href=\"#DejaVuSans-97\"/>\n      <use x=\"285.107422\" xlink:href=\"#DejaVuSans-99\"/>\n      <use x=\"340.087891\" xlink:href=\"#DejaVuSans-99\"/>\n     </g>\n    </g>\n   </g>\n  </g>\n </g>\n <defs>\n  <clipPath id=\"p4b8b3cc65c\">\n   <rect height=\"135.9\" width=\"195.3\" x=\"30.103125\" y=\"7.2\"/>\n  </clipPath>\n </defs>\n</svg>\n"
          },
          "metadata": {
            "tags": [],
            "needs_background": "light"
          }
        }
      ]
    },
    {
      "cell_type": "markdown",
      "metadata": {
        "id": "oyOluePtruZC"
      },
      "source": [
        "VGG"
      ]
    },
    {
      "cell_type": "code",
      "metadata": {
        "id": "8_XhPqPTplJz"
      },
      "source": [
        "import torch\n",
        "from torch import nn\n",
        "from d2l import torch as d2l\n",
        "#VGG块\n",
        "def vgg_block(num_convs, in_channels, out_channels):\n",
        "  layers = []\n",
        "  for _ in range(num_convs):\n",
        "    layers.append(\n",
        "        nn.Conv2d(in_channels, out_channels, kernel_size = 3, padding = 1))\n",
        "    layers.append(nn.ReLU())\n",
        "    in_channels = out_channels\n",
        "  layers.append(nn.MaxPool2d(kernel_size = 2, stride = 2))\n",
        "  return nn.Sequential(*layers)"
      ],
      "execution_count": null,
      "outputs": []
    },
    {
      "cell_type": "markdown",
      "metadata": {
        "id": "odlz49lEv1JB"
      },
      "source": [
        "![image.png](data:image/png;base64,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)"
      ]
    },
    {
      "cell_type": "code",
      "metadata": {
        "id": "BQ6EBFVhuTDe"
      },
      "source": [
        "conv_arch = ((1, 64), (1, 128), (2, 256), (2, 512), (2, 512))\n",
        "def vgg(conv_arch):\n",
        "  conv_blks = []\n",
        "  in_channels = 1\n",
        "  for(num_convs, out_channels) in conv_arch:\n",
        "    conv_blks.append(vgg_block(num_convs, in_channels, out_channels))\n",
        "    in_channels = out_channels\n",
        "  return nn.Sequential(*conv_blks, nn.Flatten(),\n",
        "              nn.Linear(out_channels * 7 * 7, 4096), nn.ReLU(),\n",
        "              nn.Dropout(0.5), nn.Linear(4096, 4096), nn.ReLU(),\n",
        "              nn.Dropout(0.5), nn.Linear(4096, 10))\n",
        "net = vgg(conv_arch)"
      ],
      "execution_count": null,
      "outputs": []
    },
    {
      "cell_type": "code",
      "metadata": {
        "colab": {
          "base_uri": "https://localhost:8080/"
        },
        "id": "GKehi_Nnwn79",
        "outputId": "4472d187-e8f7-462a-ec88-f2f4eb22da3d"
      },
      "source": [
        "X = torch.randn(size = (1, 1, 224, 224))\n",
        "for layer in net:\n",
        "  X = layer(X)\n",
        "  print(layer.__class__.__name__, 'output shape:\\t', X.shape)\n"
      ],
      "execution_count": null,
      "outputs": [
        {
          "output_type": "stream",
          "text": [
            "Sequential output shape:\t torch.Size([1, 64, 112, 112])\n",
            "Sequential output shape:\t torch.Size([1, 128, 56, 56])\n",
            "Sequential output shape:\t torch.Size([1, 256, 28, 28])\n",
            "Sequential output shape:\t torch.Size([1, 512, 14, 14])\n",
            "Sequential output shape:\t torch.Size([1, 512, 7, 7])\n",
            "Flatten output shape:\t torch.Size([1, 25088])\n",
            "Linear output shape:\t torch.Size([1, 4096])\n",
            "ReLU output shape:\t torch.Size([1, 4096])\n",
            "Dropout output shape:\t torch.Size([1, 4096])\n",
            "Linear output shape:\t torch.Size([1, 4096])\n",
            "ReLU output shape:\t torch.Size([1, 4096])\n",
            "Dropout output shape:\t torch.Size([1, 4096])\n",
            "Linear output shape:\t torch.Size([1, 10])\n"
          ],
          "name": "stdout"
        }
      ]
    },
    {
      "cell_type": "code",
      "metadata": {
        "colab": {
          "base_uri": "https://localhost:8080/",
          "height": 296
        },
        "id": "R7lzO8xH2p6w",
        "outputId": "754d201f-fcbc-4a24-98c0-0c5668167c86"
      },
      "source": [
        "ratio = 4\n",
        "small_conv_arch = [(pair[0], pair[1] // ratio) for pair in conv_arch]\n",
        "net = vgg(small_conv_arch)\n",
        "lr, num_epochs, batch_size = 0.05, 10, 128\n",
        "train_iter, test_iter = d2l.load_data_fashion_mnist(batch_size, resize = 224)\n",
        "d2l.train_ch6(net, train_iter, test_iter, num_epochs, lr, d2l.try_gpu())"
      ],
      "execution_count": null,
      "outputs": [
        {
          "output_type": "stream",
          "text": [
            "loss 0.177, train acc 0.934, test acc 0.918\n",
            "661.0 examples/sec on cuda:0\n"
          ],
          "name": "stdout"
        },
        {
          "output_type": "display_data",
          "data": {
            "text/plain": [
              "<Figure size 252x180 with 1 Axes>"
            ],
            "image/svg+xml": "<?xml version=\"1.0\" encoding=\"utf-8\" standalone=\"no\"?>\n<!DOCTYPE svg PUBLIC \"-//W3C//DTD SVG 1.1//EN\"\n  \"http://www.w3.org/Graphics/SVG/1.1/DTD/svg11.dtd\">\n<!-- Created with matplotlib (https://matplotlib.org/) -->\n<svg height=\"180.65625pt\" version=\"1.1\" viewBox=\"0 0 238.965625 180.65625\" width=\"238.965625pt\" xmlns=\"http://www.w3.org/2000/svg\" xmlns:xlink=\"http://www.w3.org/1999/xlink\">\n <defs>\n  <style type=\"text/css\">\n*{stroke-linecap:butt;stroke-linejoin:round;}\n  </style>\n </defs>\n <g id=\"figure_1\">\n  <g id=\"patch_1\">\n   <path d=\"M 0 180.65625 \nL 238.965625 180.65625 \nL 238.965625 0 \nL 0 0 \nz\n\" style=\"fill:none;\"/>\n  </g>\n  <g id=\"axes_1\">\n   <g id=\"patch_2\">\n    <path d=\"M 30.103125 143.1 \nL 225.403125 143.1 \nL 225.403125 7.2 \nL 30.103125 7.2 \nz\n\" style=\"fill:#ffffff;\"/>\n   </g>\n   <g id=\"matplotlib.axis_1\">\n    <g id=\"xtick_1\">\n     <g id=\"line2d_1\">\n      <path clip-path=\"url(#p1be49db518)\" d=\"M 51.803125 143.1 \nL 51.803125 7.2 \n\" style=\"fill:none;stroke:#b0b0b0;stroke-linecap:square;stroke-width:0.8;\"/>\n     </g>\n     <g id=\"line2d_2\">\n      <defs>\n       <path d=\"M 0 0 \nL 0 3.5 \n\" id=\"m9bd5645a50\" style=\"stroke:#000000;stroke-width:0.8;\"/>\n      </defs>\n      <g>\n       <use style=\"stroke:#000000;stroke-width:0.8;\" x=\"51.803125\" xlink:href=\"#m9bd5645a50\" y=\"143.1\"/>\n      </g>\n     </g>\n     <g id=\"text_1\">\n      <!-- 2 -->\n      <defs>\n       <path d=\"M 19.1875 8.296875 \nL 53.609375 8.296875 \nL 53.609375 0 \nL 7.328125 0 \nL 7.328125 8.296875 \nQ 12.9375 14.109375 22.625 23.890625 \nQ 32.328125 33.6875 34.8125 36.53125 \nQ 39.546875 41.84375 41.421875 45.53125 \nQ 43.3125 49.21875 43.3125 52.78125 \nQ 43.3125 58.59375 39.234375 62.25 \nQ 35.15625 65.921875 28.609375 65.921875 \nQ 23.96875 65.921875 18.8125 64.3125 \nQ 13.671875 62.703125 7.8125 59.421875 \nL 7.8125 69.390625 \nQ 13.765625 71.78125 18.9375 73 \nQ 24.125 74.21875 28.421875 74.21875 \nQ 39.75 74.21875 46.484375 68.546875 \nQ 53.21875 62.890625 53.21875 53.421875 \nQ 53.21875 48.921875 51.53125 44.890625 \nQ 49.859375 40.875 45.40625 35.40625 \nQ 44.1875 33.984375 37.640625 27.21875 \nQ 31.109375 20.453125 19.1875 8.296875 \nz\n\" id=\"DejaVuSans-50\"/>\n      </defs>\n      <g transform=\"translate(48.621875 157.698438)scale(0.1 -0.1)\">\n       <use xlink:href=\"#DejaVuSans-50\"/>\n      </g>\n     </g>\n    </g>\n    <g id=\"xtick_2\">\n     <g id=\"line2d_3\">\n      <path clip-path=\"url(#p1be49db518)\" d=\"M 95.203125 143.1 \nL 95.203125 7.2 \n\" style=\"fill:none;stroke:#b0b0b0;stroke-linecap:square;stroke-width:0.8;\"/>\n     </g>\n     <g id=\"line2d_4\">\n      <g>\n       <use style=\"stroke:#000000;stroke-width:0.8;\" x=\"95.203125\" xlink:href=\"#m9bd5645a50\" y=\"143.1\"/>\n      </g>\n     </g>\n     <g id=\"text_2\">\n      <!-- 4 -->\n      <defs>\n       <path d=\"M 37.796875 64.3125 \nL 12.890625 25.390625 \nL 37.796875 25.390625 \nz\nM 35.203125 72.90625 \nL 47.609375 72.90625 \nL 47.609375 25.390625 \nL 58.015625 25.390625 \nL 58.015625 17.1875 \nL 47.609375 17.1875 \nL 47.609375 0 \nL 37.796875 0 \nL 37.796875 17.1875 \nL 4.890625 17.1875 \nL 4.890625 26.703125 \nz\n\" id=\"DejaVuSans-52\"/>\n      </defs>\n      <g transform=\"translate(92.021875 157.698438)scale(0.1 -0.1)\">\n       <use xlink:href=\"#DejaVuSans-52\"/>\n      </g>\n     </g>\n    </g>\n    <g id=\"xtick_3\">\n     <g id=\"line2d_5\">\n      <path clip-path=\"url(#p1be49db518)\" d=\"M 138.603125 143.1 \nL 138.603125 7.2 \n\" style=\"fill:none;stroke:#b0b0b0;stroke-linecap:square;stroke-width:0.8;\"/>\n     </g>\n     <g id=\"line2d_6\">\n      <g>\n       <use style=\"stroke:#000000;stroke-width:0.8;\" x=\"138.603125\" xlink:href=\"#m9bd5645a50\" y=\"143.1\"/>\n      </g>\n     </g>\n     <g id=\"text_3\">\n      <!-- 6 -->\n      <defs>\n       <path d=\"M 33.015625 40.375 \nQ 26.375 40.375 22.484375 35.828125 \nQ 18.609375 31.296875 18.609375 23.390625 \nQ 18.609375 15.53125 22.484375 10.953125 \nQ 26.375 6.390625 33.015625 6.390625 \nQ 39.65625 6.390625 43.53125 10.953125 \nQ 47.40625 15.53125 47.40625 23.390625 \nQ 47.40625 31.296875 43.53125 35.828125 \nQ 39.65625 40.375 33.015625 40.375 \nz\nM 52.59375 71.296875 \nL 52.59375 62.3125 \nQ 48.875 64.0625 45.09375 64.984375 \nQ 41.3125 65.921875 37.59375 65.921875 \nQ 27.828125 65.921875 22.671875 59.328125 \nQ 17.53125 52.734375 16.796875 39.40625 \nQ 19.671875 43.65625 24.015625 45.921875 \nQ 28.375 48.1875 33.59375 48.1875 \nQ 44.578125 48.1875 50.953125 41.515625 \nQ 57.328125 34.859375 57.328125 23.390625 \nQ 57.328125 12.15625 50.6875 5.359375 \nQ 44.046875 -1.421875 33.015625 -1.421875 \nQ 20.359375 -1.421875 13.671875 8.265625 \nQ 6.984375 17.96875 6.984375 36.375 \nQ 6.984375 53.65625 15.1875 63.9375 \nQ 23.390625 74.21875 37.203125 74.21875 \nQ 40.921875 74.21875 44.703125 73.484375 \nQ 48.484375 72.75 52.59375 71.296875 \nz\n\" id=\"DejaVuSans-54\"/>\n      </defs>\n      <g transform=\"translate(135.421875 157.698438)scale(0.1 -0.1)\">\n       <use xlink:href=\"#DejaVuSans-54\"/>\n      </g>\n     </g>\n    </g>\n    <g id=\"xtick_4\">\n     <g id=\"line2d_7\">\n      <path clip-path=\"url(#p1be49db518)\" d=\"M 182.003125 143.1 \nL 182.003125 7.2 \n\" style=\"fill:none;stroke:#b0b0b0;stroke-linecap:square;stroke-width:0.8;\"/>\n     </g>\n     <g id=\"line2d_8\">\n      <g>\n       <use style=\"stroke:#000000;stroke-width:0.8;\" x=\"182.003125\" xlink:href=\"#m9bd5645a50\" y=\"143.1\"/>\n      </g>\n     </g>\n     <g id=\"text_4\">\n      <!-- 8 -->\n      <defs>\n       <path d=\"M 31.78125 34.625 \nQ 24.75 34.625 20.71875 30.859375 \nQ 16.703125 27.09375 16.703125 20.515625 \nQ 16.703125 13.921875 20.71875 10.15625 \nQ 24.75 6.390625 31.78125 6.390625 \nQ 38.8125 6.390625 42.859375 10.171875 \nQ 46.921875 13.96875 46.921875 20.515625 \nQ 46.921875 27.09375 42.890625 30.859375 \nQ 38.875 34.625 31.78125 34.625 \nz\nM 21.921875 38.8125 \nQ 15.578125 40.375 12.03125 44.71875 \nQ 8.5 49.078125 8.5 55.328125 \nQ 8.5 64.0625 14.71875 69.140625 \nQ 20.953125 74.21875 31.78125 74.21875 \nQ 42.671875 74.21875 48.875 69.140625 \nQ 55.078125 64.0625 55.078125 55.328125 \nQ 55.078125 49.078125 51.53125 44.71875 \nQ 48 40.375 41.703125 38.8125 \nQ 48.828125 37.15625 52.796875 32.3125 \nQ 56.78125 27.484375 56.78125 20.515625 \nQ 56.78125 9.90625 50.3125 4.234375 \nQ 43.84375 -1.421875 31.78125 -1.421875 \nQ 19.734375 -1.421875 13.25 4.234375 \nQ 6.78125 9.90625 6.78125 20.515625 \nQ 6.78125 27.484375 10.78125 32.3125 \nQ 14.796875 37.15625 21.921875 38.8125 \nz\nM 18.3125 54.390625 \nQ 18.3125 48.734375 21.84375 45.5625 \nQ 25.390625 42.390625 31.78125 42.390625 \nQ 38.140625 42.390625 41.71875 45.5625 \nQ 45.3125 48.734375 45.3125 54.390625 \nQ 45.3125 60.0625 41.71875 63.234375 \nQ 38.140625 66.40625 31.78125 66.40625 \nQ 25.390625 66.40625 21.84375 63.234375 \nQ 18.3125 60.0625 18.3125 54.390625 \nz\n\" id=\"DejaVuSans-56\"/>\n      </defs>\n      <g transform=\"translate(178.821875 157.698438)scale(0.1 -0.1)\">\n       <use xlink:href=\"#DejaVuSans-56\"/>\n      </g>\n     </g>\n    </g>\n    <g id=\"xtick_5\">\n     <g id=\"line2d_9\">\n      <path clip-path=\"url(#p1be49db518)\" d=\"M 225.403125 143.1 \nL 225.403125 7.2 \n\" style=\"fill:none;stroke:#b0b0b0;stroke-linecap:square;stroke-width:0.8;\"/>\n     </g>\n     <g id=\"line2d_10\">\n      <g>\n       <use style=\"stroke:#000000;stroke-width:0.8;\" x=\"225.403125\" xlink:href=\"#m9bd5645a50\" y=\"143.1\"/>\n      </g>\n     </g>\n     <g id=\"text_5\">\n      <!-- 10 -->\n      <defs>\n       <path d=\"M 12.40625 8.296875 \nL 28.515625 8.296875 \nL 28.515625 63.921875 \nL 10.984375 60.40625 \nL 10.984375 69.390625 \nL 28.421875 72.90625 \nL 38.28125 72.90625 \nL 38.28125 8.296875 \nL 54.390625 8.296875 \nL 54.390625 0 \nL 12.40625 0 \nz\n\" id=\"DejaVuSans-49\"/>\n       <path d=\"M 31.78125 66.40625 \nQ 24.171875 66.40625 20.328125 58.90625 \nQ 16.5 51.421875 16.5 36.375 \nQ 16.5 21.390625 20.328125 13.890625 \nQ 24.171875 6.390625 31.78125 6.390625 \nQ 39.453125 6.390625 43.28125 13.890625 \nQ 47.125 21.390625 47.125 36.375 \nQ 47.125 51.421875 43.28125 58.90625 \nQ 39.453125 66.40625 31.78125 66.40625 \nz\nM 31.78125 74.21875 \nQ 44.046875 74.21875 50.515625 64.515625 \nQ 56.984375 54.828125 56.984375 36.375 \nQ 56.984375 17.96875 50.515625 8.265625 \nQ 44.046875 -1.421875 31.78125 -1.421875 \nQ 19.53125 -1.421875 13.0625 8.265625 \nQ 6.59375 17.96875 6.59375 36.375 \nQ 6.59375 54.828125 13.0625 64.515625 \nQ 19.53125 74.21875 31.78125 74.21875 \nz\n\" id=\"DejaVuSans-48\"/>\n      </defs>\n      <g transform=\"translate(219.040625 157.698438)scale(0.1 -0.1)\">\n       <use xlink:href=\"#DejaVuSans-49\"/>\n       <use x=\"63.623047\" xlink:href=\"#DejaVuSans-48\"/>\n      </g>\n     </g>\n    </g>\n    <g id=\"text_6\">\n     <!-- epoch -->\n     <defs>\n      <path d=\"M 56.203125 29.59375 \nL 56.203125 25.203125 \nL 14.890625 25.203125 \nQ 15.484375 15.921875 20.484375 11.0625 \nQ 25.484375 6.203125 34.421875 6.203125 \nQ 39.59375 6.203125 44.453125 7.46875 \nQ 49.3125 8.734375 54.109375 11.28125 \nL 54.109375 2.78125 \nQ 49.265625 0.734375 44.1875 -0.34375 \nQ 39.109375 -1.421875 33.890625 -1.421875 \nQ 20.796875 -1.421875 13.15625 6.1875 \nQ 5.515625 13.8125 5.515625 26.8125 \nQ 5.515625 40.234375 12.765625 48.109375 \nQ 20.015625 56 32.328125 56 \nQ 43.359375 56 49.78125 48.890625 \nQ 56.203125 41.796875 56.203125 29.59375 \nz\nM 47.21875 32.234375 \nQ 47.125 39.59375 43.09375 43.984375 \nQ 39.0625 48.390625 32.421875 48.390625 \nQ 24.90625 48.390625 20.390625 44.140625 \nQ 15.875 39.890625 15.1875 32.171875 \nz\n\" id=\"DejaVuSans-101\"/>\n      <path d=\"M 18.109375 8.203125 \nL 18.109375 -20.796875 \nL 9.078125 -20.796875 \nL 9.078125 54.6875 \nL 18.109375 54.6875 \nL 18.109375 46.390625 \nQ 20.953125 51.265625 25.265625 53.625 \nQ 29.59375 56 35.59375 56 \nQ 45.5625 56 51.78125 48.09375 \nQ 58.015625 40.1875 58.015625 27.296875 \nQ 58.015625 14.40625 51.78125 6.484375 \nQ 45.5625 -1.421875 35.59375 -1.421875 \nQ 29.59375 -1.421875 25.265625 0.953125 \nQ 20.953125 3.328125 18.109375 8.203125 \nz\nM 48.6875 27.296875 \nQ 48.6875 37.203125 44.609375 42.84375 \nQ 40.53125 48.484375 33.40625 48.484375 \nQ 26.265625 48.484375 22.1875 42.84375 \nQ 18.109375 37.203125 18.109375 27.296875 \nQ 18.109375 17.390625 22.1875 11.75 \nQ 26.265625 6.109375 33.40625 6.109375 \nQ 40.53125 6.109375 44.609375 11.75 \nQ 48.6875 17.390625 48.6875 27.296875 \nz\n\" id=\"DejaVuSans-112\"/>\n      <path d=\"M 30.609375 48.390625 \nQ 23.390625 48.390625 19.1875 42.75 \nQ 14.984375 37.109375 14.984375 27.296875 \nQ 14.984375 17.484375 19.15625 11.84375 \nQ 23.34375 6.203125 30.609375 6.203125 \nQ 37.796875 6.203125 41.984375 11.859375 \nQ 46.1875 17.53125 46.1875 27.296875 \nQ 46.1875 37.015625 41.984375 42.703125 \nQ 37.796875 48.390625 30.609375 48.390625 \nz\nM 30.609375 56 \nQ 42.328125 56 49.015625 48.375 \nQ 55.71875 40.765625 55.71875 27.296875 \nQ 55.71875 13.875 49.015625 6.21875 \nQ 42.328125 -1.421875 30.609375 -1.421875 \nQ 18.84375 -1.421875 12.171875 6.21875 \nQ 5.515625 13.875 5.515625 27.296875 \nQ 5.515625 40.765625 12.171875 48.375 \nQ 18.84375 56 30.609375 56 \nz\n\" id=\"DejaVuSans-111\"/>\n      <path d=\"M 48.78125 52.59375 \nL 48.78125 44.1875 \nQ 44.96875 46.296875 41.140625 47.34375 \nQ 37.3125 48.390625 33.40625 48.390625 \nQ 24.65625 48.390625 19.8125 42.84375 \nQ 14.984375 37.3125 14.984375 27.296875 \nQ 14.984375 17.28125 19.8125 11.734375 \nQ 24.65625 6.203125 33.40625 6.203125 \nQ 37.3125 6.203125 41.140625 7.25 \nQ 44.96875 8.296875 48.78125 10.40625 \nL 48.78125 2.09375 \nQ 45.015625 0.34375 40.984375 -0.53125 \nQ 36.96875 -1.421875 32.421875 -1.421875 \nQ 20.0625 -1.421875 12.78125 6.34375 \nQ 5.515625 14.109375 5.515625 27.296875 \nQ 5.515625 40.671875 12.859375 48.328125 \nQ 20.21875 56 33.015625 56 \nQ 37.15625 56 41.109375 55.140625 \nQ 45.0625 54.296875 48.78125 52.59375 \nz\n\" id=\"DejaVuSans-99\"/>\n      <path d=\"M 54.890625 33.015625 \nL 54.890625 0 \nL 45.90625 0 \nL 45.90625 32.71875 \nQ 45.90625 40.484375 42.875 44.328125 \nQ 39.84375 48.1875 33.796875 48.1875 \nQ 26.515625 48.1875 22.3125 43.546875 \nQ 18.109375 38.921875 18.109375 30.90625 \nL 18.109375 0 \nL 9.078125 0 \nL 9.078125 75.984375 \nL 18.109375 75.984375 \nL 18.109375 46.1875 \nQ 21.34375 51.125 25.703125 53.5625 \nQ 30.078125 56 35.796875 56 \nQ 45.21875 56 50.046875 50.171875 \nQ 54.890625 44.34375 54.890625 33.015625 \nz\n\" id=\"DejaVuSans-104\"/>\n     </defs>\n     <g transform=\"translate(112.525 171.376563)scale(0.1 -0.1)\">\n      <use xlink:href=\"#DejaVuSans-101\"/>\n      <use x=\"61.523438\" xlink:href=\"#DejaVuSans-112\"/>\n      <use x=\"125\" xlink:href=\"#DejaVuSans-111\"/>\n      <use x=\"186.181641\" xlink:href=\"#DejaVuSans-99\"/>\n      <use x=\"241.162109\" xlink:href=\"#DejaVuSans-104\"/>\n     </g>\n    </g>\n   </g>\n   <g id=\"matplotlib.axis_2\">\n    <g id=\"ytick_1\">\n     <g id=\"line2d_11\">\n      <path clip-path=\"url(#p1be49db518)\" d=\"M 30.103125 114.859843 \nL 225.403125 114.859843 \n\" style=\"fill:none;stroke:#b0b0b0;stroke-linecap:square;stroke-width:0.8;\"/>\n     </g>\n     <g id=\"line2d_12\">\n      <defs>\n       <path d=\"M 0 0 \nL -3.5 0 \n\" id=\"me9f1f1375f\" style=\"stroke:#000000;stroke-width:0.8;\"/>\n      </defs>\n      <g>\n       <use style=\"stroke:#000000;stroke-width:0.8;\" x=\"30.103125\" xlink:href=\"#me9f1f1375f\" y=\"114.859843\"/>\n      </g>\n     </g>\n     <g id=\"text_7\">\n      <!-- 0.5 -->\n      <defs>\n       <path d=\"M 10.6875 12.40625 \nL 21 12.40625 \nL 21 0 \nL 10.6875 0 \nz\n\" id=\"DejaVuSans-46\"/>\n       <path d=\"M 10.796875 72.90625 \nL 49.515625 72.90625 \nL 49.515625 64.59375 \nL 19.828125 64.59375 \nL 19.828125 46.734375 \nQ 21.96875 47.46875 24.109375 47.828125 \nQ 26.265625 48.1875 28.421875 48.1875 \nQ 40.625 48.1875 47.75 41.5 \nQ 54.890625 34.8125 54.890625 23.390625 \nQ 54.890625 11.625 47.5625 5.09375 \nQ 40.234375 -1.421875 26.90625 -1.421875 \nQ 22.3125 -1.421875 17.546875 -0.640625 \nQ 12.796875 0.140625 7.71875 1.703125 \nL 7.71875 11.625 \nQ 12.109375 9.234375 16.796875 8.0625 \nQ 21.484375 6.890625 26.703125 6.890625 \nQ 35.15625 6.890625 40.078125 11.328125 \nQ 45.015625 15.765625 45.015625 23.390625 \nQ 45.015625 31 40.078125 35.4375 \nQ 35.15625 39.890625 26.703125 39.890625 \nQ 22.75 39.890625 18.8125 39.015625 \nQ 14.890625 38.140625 10.796875 36.28125 \nz\n\" id=\"DejaVuSans-53\"/>\n      </defs>\n      <g transform=\"translate(7.2 118.659062)scale(0.1 -0.1)\">\n       <use xlink:href=\"#DejaVuSans-48\"/>\n       <use x=\"63.623047\" xlink:href=\"#DejaVuSans-46\"/>\n       <use x=\"95.410156\" xlink:href=\"#DejaVuSans-53\"/>\n      </g>\n     </g>\n    </g>\n    <g id=\"ytick_2\">\n     <g id=\"line2d_13\">\n      <path clip-path=\"url(#p1be49db518)\" d=\"M 30.103125 81.381409 \nL 225.403125 81.381409 \n\" style=\"fill:none;stroke:#b0b0b0;stroke-linecap:square;stroke-width:0.8;\"/>\n     </g>\n     <g id=\"line2d_14\">\n      <g>\n       <use style=\"stroke:#000000;stroke-width:0.8;\" x=\"30.103125\" xlink:href=\"#me9f1f1375f\" y=\"81.381409\"/>\n      </g>\n     </g>\n     <g id=\"text_8\">\n      <!-- 1.0 -->\n      <g transform=\"translate(7.2 85.180627)scale(0.1 -0.1)\">\n       <use xlink:href=\"#DejaVuSans-49\"/>\n       <use x=\"63.623047\" xlink:href=\"#DejaVuSans-46\"/>\n       <use x=\"95.410156\" xlink:href=\"#DejaVuSans-48\"/>\n      </g>\n     </g>\n    </g>\n    <g id=\"ytick_3\">\n     <g id=\"line2d_15\">\n      <path clip-path=\"url(#p1be49db518)\" d=\"M 30.103125 47.902974 \nL 225.403125 47.902974 \n\" style=\"fill:none;stroke:#b0b0b0;stroke-linecap:square;stroke-width:0.8;\"/>\n     </g>\n     <g id=\"line2d_16\">\n      <g>\n       <use style=\"stroke:#000000;stroke-width:0.8;\" x=\"30.103125\" xlink:href=\"#me9f1f1375f\" y=\"47.902974\"/>\n      </g>\n     </g>\n     <g id=\"text_9\">\n      <!-- 1.5 -->\n      <g transform=\"translate(7.2 51.702193)scale(0.1 -0.1)\">\n       <use xlink:href=\"#DejaVuSans-49\"/>\n       <use x=\"63.623047\" xlink:href=\"#DejaVuSans-46\"/>\n       <use x=\"95.410156\" xlink:href=\"#DejaVuSans-53\"/>\n      </g>\n     </g>\n    </g>\n    <g id=\"ytick_4\">\n     <g id=\"line2d_17\">\n      <path clip-path=\"url(#p1be49db518)\" d=\"M 30.103125 14.42454 \nL 225.403125 14.42454 \n\" style=\"fill:none;stroke:#b0b0b0;stroke-linecap:square;stroke-width:0.8;\"/>\n     </g>\n     <g id=\"line2d_18\">\n      <g>\n       <use style=\"stroke:#000000;stroke-width:0.8;\" x=\"30.103125\" xlink:href=\"#me9f1f1375f\" y=\"14.42454\"/>\n      </g>\n     </g>\n     <g id=\"text_10\">\n      <!-- 2.0 -->\n      <g transform=\"translate(7.2 18.223758)scale(0.1 -0.1)\">\n       <use xlink:href=\"#DejaVuSans-50\"/>\n       <use x=\"63.623047\" xlink:href=\"#DejaVuSans-46\"/>\n       <use x=\"95.410156\" xlink:href=\"#DejaVuSans-48\"/>\n      </g>\n     </g>\n    </g>\n   </g>\n   <g id=\"line2d_19\">\n    <path clip-path=\"url(#p1be49db518)\" d=\"M 12.70611 13.377273 \nL 17.009095 51.395383 \nL 21.31208 69.705646 \nL 25.615065 80.143764 \nL 29.91805 87.337219 \nL 30.103125 87.576002 \nL 34.40611 117.673992 \nL 38.709095 118.570546 \nL 43.01208 119.502122 \nL 47.315065 120.389821 \nL 51.61805 121.059059 \nL 51.803125 121.113368 \nL 56.10611 124.703685 \nL 60.409095 125.106718 \nL 64.71208 125.348403 \nL 69.015065 125.955723 \nL 73.31805 126.159353 \nL 73.503125 126.147751 \nL 77.80611 128.266327 \nL 82.109095 128.535517 \nL 86.41208 128.326481 \nL 90.715065 128.57693 \nL 95.01805 128.881192 \nL 95.203125 128.880518 \nL 99.50611 130.517608 \nL 103.809095 130.366192 \nL 108.11208 130.735079 \nL 112.415065 130.70813 \nL 116.71805 130.804867 \nL 116.903125 130.81465 \nL 121.20611 132.505699 \nL 125.509095 132.587579 \nL 129.81208 132.727003 \nL 134.115065 132.602617 \nL 138.41805 132.360874 \nL 138.603125 132.35826 \nL 142.90611 133.841094 \nL 147.209095 133.99795 \nL 151.51208 133.619278 \nL 155.815065 133.756988 \nL 160.11805 133.667354 \nL 160.303125 133.677959 \nL 164.60611 134.850113 \nL 168.909095 134.733953 \nL 173.21208 134.398689 \nL 177.515065 134.414497 \nL 181.81805 134.550489 \nL 182.003125 134.517219 \nL 186.30611 135.808767 \nL 190.609095 135.885076 \nL 194.91208 135.685527 \nL 199.215065 135.646257 \nL 203.51805 135.609513 \nL 203.703125 135.602928 \nL 208.00611 136.922727 \nL 212.309095 136.794698 \nL 216.61208 136.625726 \nL 220.915065 136.620268 \nL 225.21805 136.47923 \nL 225.403125 136.493772 \n\" style=\"fill:none;stroke:#1f77b4;stroke-linecap:square;stroke-width:1.5;\"/>\n   </g>\n   <g id=\"line2d_20\">\n    <path clip-path=\"url(#p1be49db518)\" d=\"M 12.70611 129.669776 \nL 17.009095 116.710382 \nL 21.31208 110.189437 \nL 25.615065 106.421332 \nL 29.91805 103.781361 \nL 30.103125 103.699249 \nL 34.40611 92.636507 \nL 38.709095 92.467765 \nL 43.01208 92.126531 \nL 47.315065 91.759048 \nL 51.61805 91.480061 \nL 51.803125 91.459533 \nL 56.10611 90.01538 \nL 60.409095 89.925384 \nL 64.71208 89.824139 \nL 69.015065 89.639929 \nL 73.31805 89.559776 \nL 73.503125 89.569118 \nL 77.80611 88.61482 \nL 82.109095 88.57826 \nL 86.41208 88.686067 \nL 90.715065 88.572635 \nL 95.01805 88.478702 \nL 95.203125 88.478837 \nL 99.50611 88.114219 \nL 103.809095 87.979225 \nL 108.11208 87.849856 \nL 112.415065 87.87798 \nL 116.71805 87.787984 \nL 116.903125 87.789181 \nL 121.20611 87.287382 \nL 125.509095 87.219886 \nL 129.81208 87.182387 \nL 134.115065 87.155201 \nL 138.41805 87.23676 \nL 138.603125 87.237903 \nL 142.90611 86.58429 \nL 147.209095 86.626476 \nL 151.51208 86.754907 \nL 155.815065 86.748814 \nL 160.11805 86.785656 \nL 160.303125 86.778132 \nL 164.60611 86.27493 \nL 168.909095 86.376175 \nL 173.21208 86.507419 \nL 177.515065 86.501325 \nL 181.81805 86.460546 \nL 182.003125 86.465667 \nL 186.30611 85.898072 \nL 190.609095 85.996505 \nL 194.91208 86.068689 \nL 199.215065 86.072439 \nL 203.51805 86.075814 \nL 203.703125 86.081781 \nL 208.00611 85.644959 \nL 212.309095 85.656209 \nL 216.61208 85.695582 \nL 220.915065 85.718081 \nL 225.21805 85.776578 \nL 225.403125 85.772663 \n\" style=\"fill:none;stroke:#bf00bf;stroke-dasharray:5.55,2.4;stroke-dashoffset:0;stroke-width:1.5;\"/>\n   </g>\n   <g id=\"line2d_21\">\n    <path clip-path=\"url(#p1be49db518)\" d=\"M 30.103125 92.857816 \nL 51.803125 91.137024 \nL 73.503125 89.007796 \nL 95.203125 88.552489 \nL 116.903125 87.882921 \nL 138.603125 87.481179 \nL 160.303125 87.554832 \nL 182.003125 87.287004 \nL 203.703125 87.581615 \nL 225.403125 86.838393 \n\" style=\"fill:none;stroke:#008000;stroke-dasharray:9.6,2.4,1.5,2.4;stroke-dashoffset:0;stroke-width:1.5;\"/>\n   </g>\n   <g id=\"patch_3\">\n    <path d=\"M 30.103125 143.1 \nL 30.103125 7.2 \n\" style=\"fill:none;stroke:#000000;stroke-linecap:square;stroke-linejoin:miter;stroke-width:0.8;\"/>\n   </g>\n   <g id=\"patch_4\">\n    <path d=\"M 225.403125 143.1 \nL 225.403125 7.2 \n\" style=\"fill:none;stroke:#000000;stroke-linecap:square;stroke-linejoin:miter;stroke-width:0.8;\"/>\n   </g>\n   <g id=\"patch_5\">\n    <path d=\"M 30.103125 143.1 \nL 225.403125 143.1 \n\" style=\"fill:none;stroke:#000000;stroke-linecap:square;stroke-linejoin:miter;stroke-width:0.8;\"/>\n   </g>\n   <g id=\"patch_6\">\n    <path d=\"M 30.103125 7.2 \nL 225.403125 7.2 \n\" style=\"fill:none;stroke:#000000;stroke-linecap:square;stroke-linejoin:miter;stroke-width:0.8;\"/>\n   </g>\n   <g id=\"legend_1\">\n    <g id=\"patch_7\">\n     <path d=\"M 140.634375 59.234375 \nL 218.403125 59.234375 \nQ 220.403125 59.234375 220.403125 57.234375 \nL 220.403125 14.2 \nQ 220.403125 12.2 218.403125 12.2 \nL 140.634375 12.2 \nQ 138.634375 12.2 138.634375 14.2 \nL 138.634375 57.234375 \nQ 138.634375 59.234375 140.634375 59.234375 \nz\n\" style=\"fill:#ffffff;opacity:0.8;stroke:#cccccc;stroke-linejoin:miter;\"/>\n    </g>\n    <g id=\"line2d_22\">\n     <path d=\"M 142.634375 20.298438 \nL 162.634375 20.298438 \n\" style=\"fill:none;stroke:#1f77b4;stroke-linecap:square;stroke-width:1.5;\"/>\n    </g>\n    <g id=\"line2d_23\"/>\n    <g id=\"text_11\">\n     <!-- train loss -->\n     <defs>\n      <path d=\"M 18.3125 70.21875 \nL 18.3125 54.6875 \nL 36.8125 54.6875 \nL 36.8125 47.703125 \nL 18.3125 47.703125 \nL 18.3125 18.015625 \nQ 18.3125 11.328125 20.140625 9.421875 \nQ 21.96875 7.515625 27.59375 7.515625 \nL 36.8125 7.515625 \nL 36.8125 0 \nL 27.59375 0 \nQ 17.1875 0 13.234375 3.875 \nQ 9.28125 7.765625 9.28125 18.015625 \nL 9.28125 47.703125 \nL 2.6875 47.703125 \nL 2.6875 54.6875 \nL 9.28125 54.6875 \nL 9.28125 70.21875 \nz\n\" id=\"DejaVuSans-116\"/>\n      <path d=\"M 41.109375 46.296875 \nQ 39.59375 47.171875 37.8125 47.578125 \nQ 36.03125 48 33.890625 48 \nQ 26.265625 48 22.1875 43.046875 \nQ 18.109375 38.09375 18.109375 28.8125 \nL 18.109375 0 \nL 9.078125 0 \nL 9.078125 54.6875 \nL 18.109375 54.6875 \nL 18.109375 46.1875 \nQ 20.953125 51.171875 25.484375 53.578125 \nQ 30.03125 56 36.53125 56 \nQ 37.453125 56 38.578125 55.875 \nQ 39.703125 55.765625 41.0625 55.515625 \nz\n\" id=\"DejaVuSans-114\"/>\n      <path d=\"M 34.28125 27.484375 \nQ 23.390625 27.484375 19.1875 25 \nQ 14.984375 22.515625 14.984375 16.5 \nQ 14.984375 11.71875 18.140625 8.90625 \nQ 21.296875 6.109375 26.703125 6.109375 \nQ 34.1875 6.109375 38.703125 11.40625 \nQ 43.21875 16.703125 43.21875 25.484375 \nL 43.21875 27.484375 \nz\nM 52.203125 31.203125 \nL 52.203125 0 \nL 43.21875 0 \nL 43.21875 8.296875 \nQ 40.140625 3.328125 35.546875 0.953125 \nQ 30.953125 -1.421875 24.3125 -1.421875 \nQ 15.921875 -1.421875 10.953125 3.296875 \nQ 6 8.015625 6 15.921875 \nQ 6 25.140625 12.171875 29.828125 \nQ 18.359375 34.515625 30.609375 34.515625 \nL 43.21875 34.515625 \nL 43.21875 35.40625 \nQ 43.21875 41.609375 39.140625 45 \nQ 35.0625 48.390625 27.6875 48.390625 \nQ 23 48.390625 18.546875 47.265625 \nQ 14.109375 46.140625 10.015625 43.890625 \nL 10.015625 52.203125 \nQ 14.9375 54.109375 19.578125 55.046875 \nQ 24.21875 56 28.609375 56 \nQ 40.484375 56 46.34375 49.84375 \nQ 52.203125 43.703125 52.203125 31.203125 \nz\n\" id=\"DejaVuSans-97\"/>\n      <path d=\"M 9.421875 54.6875 \nL 18.40625 54.6875 \nL 18.40625 0 \nL 9.421875 0 \nz\nM 9.421875 75.984375 \nL 18.40625 75.984375 \nL 18.40625 64.59375 \nL 9.421875 64.59375 \nz\n\" id=\"DejaVuSans-105\"/>\n      <path d=\"M 54.890625 33.015625 \nL 54.890625 0 \nL 45.90625 0 \nL 45.90625 32.71875 \nQ 45.90625 40.484375 42.875 44.328125 \nQ 39.84375 48.1875 33.796875 48.1875 \nQ 26.515625 48.1875 22.3125 43.546875 \nQ 18.109375 38.921875 18.109375 30.90625 \nL 18.109375 0 \nL 9.078125 0 \nL 9.078125 54.6875 \nL 18.109375 54.6875 \nL 18.109375 46.1875 \nQ 21.34375 51.125 25.703125 53.5625 \nQ 30.078125 56 35.796875 56 \nQ 45.21875 56 50.046875 50.171875 \nQ 54.890625 44.34375 54.890625 33.015625 \nz\n\" id=\"DejaVuSans-110\"/>\n      <path id=\"DejaVuSans-32\"/>\n      <path d=\"M 9.421875 75.984375 \nL 18.40625 75.984375 \nL 18.40625 0 \nL 9.421875 0 \nz\n\" id=\"DejaVuSans-108\"/>\n      <path d=\"M 44.28125 53.078125 \nL 44.28125 44.578125 \nQ 40.484375 46.53125 36.375 47.5 \nQ 32.28125 48.484375 27.875 48.484375 \nQ 21.1875 48.484375 17.84375 46.4375 \nQ 14.5 44.390625 14.5 40.28125 \nQ 14.5 37.15625 16.890625 35.375 \nQ 19.28125 33.59375 26.515625 31.984375 \nL 29.59375 31.296875 \nQ 39.15625 29.25 43.1875 25.515625 \nQ 47.21875 21.78125 47.21875 15.09375 \nQ 47.21875 7.46875 41.1875 3.015625 \nQ 35.15625 -1.421875 24.609375 -1.421875 \nQ 20.21875 -1.421875 15.453125 -0.5625 \nQ 10.6875 0.296875 5.421875 2 \nL 5.421875 11.28125 \nQ 10.40625 8.6875 15.234375 7.390625 \nQ 20.0625 6.109375 24.8125 6.109375 \nQ 31.15625 6.109375 34.5625 8.28125 \nQ 37.984375 10.453125 37.984375 14.40625 \nQ 37.984375 18.0625 35.515625 20.015625 \nQ 33.0625 21.96875 24.703125 23.78125 \nL 21.578125 24.515625 \nQ 13.234375 26.265625 9.515625 29.90625 \nQ 5.8125 33.546875 5.8125 39.890625 \nQ 5.8125 47.609375 11.28125 51.796875 \nQ 16.75 56 26.8125 56 \nQ 31.78125 56 36.171875 55.265625 \nQ 40.578125 54.546875 44.28125 53.078125 \nz\n\" id=\"DejaVuSans-115\"/>\n     </defs>\n     <g transform=\"translate(170.634375 23.798438)scale(0.1 -0.1)\">\n      <use xlink:href=\"#DejaVuSans-116\"/>\n      <use x=\"39.208984\" xlink:href=\"#DejaVuSans-114\"/>\n      <use x=\"80.322266\" xlink:href=\"#DejaVuSans-97\"/>\n      <use x=\"141.601562\" xlink:href=\"#DejaVuSans-105\"/>\n      <use x=\"169.384766\" xlink:href=\"#DejaVuSans-110\"/>\n      <use x=\"232.763672\" xlink:href=\"#DejaVuSans-32\"/>\n      <use x=\"264.550781\" xlink:href=\"#DejaVuSans-108\"/>\n      <use x=\"292.333984\" xlink:href=\"#DejaVuSans-111\"/>\n      <use x=\"353.515625\" xlink:href=\"#DejaVuSans-115\"/>\n      <use x=\"405.615234\" xlink:href=\"#DejaVuSans-115\"/>\n     </g>\n    </g>\n    <g id=\"line2d_24\">\n     <path d=\"M 142.634375 34.976562 \nL 162.634375 34.976562 \n\" style=\"fill:none;stroke:#bf00bf;stroke-dasharray:5.55,2.4;stroke-dashoffset:0;stroke-width:1.5;\"/>\n    </g>\n    <g id=\"line2d_25\"/>\n    <g id=\"text_12\">\n     <!-- train acc -->\n     <g transform=\"translate(170.634375 38.476562)scale(0.1 -0.1)\">\n      <use xlink:href=\"#DejaVuSans-116\"/>\n      <use x=\"39.208984\" xlink:href=\"#DejaVuSans-114\"/>\n      <use x=\"80.322266\" xlink:href=\"#DejaVuSans-97\"/>\n      <use x=\"141.601562\" xlink:href=\"#DejaVuSans-105\"/>\n      <use x=\"169.384766\" xlink:href=\"#DejaVuSans-110\"/>\n      <use x=\"232.763672\" xlink:href=\"#DejaVuSans-32\"/>\n      <use x=\"264.550781\" xlink:href=\"#DejaVuSans-97\"/>\n      <use x=\"325.830078\" xlink:href=\"#DejaVuSans-99\"/>\n      <use x=\"380.810547\" xlink:href=\"#DejaVuSans-99\"/>\n     </g>\n    </g>\n    <g id=\"line2d_26\">\n     <path d=\"M 142.634375 49.654688 \nL 162.634375 49.654688 \n\" style=\"fill:none;stroke:#008000;stroke-dasharray:9.6,2.4,1.5,2.4;stroke-dashoffset:0;stroke-width:1.5;\"/>\n    </g>\n    <g id=\"line2d_27\"/>\n    <g id=\"text_13\">\n     <!-- test acc -->\n     <g transform=\"translate(170.634375 53.154688)scale(0.1 -0.1)\">\n      <use xlink:href=\"#DejaVuSans-116\"/>\n      <use x=\"39.208984\" xlink:href=\"#DejaVuSans-101\"/>\n      <use x=\"100.732422\" xlink:href=\"#DejaVuSans-115\"/>\n      <use x=\"152.832031\" xlink:href=\"#DejaVuSans-116\"/>\n      <use x=\"192.041016\" xlink:href=\"#DejaVuSans-32\"/>\n      <use x=\"223.828125\" xlink:href=\"#DejaVuSans-97\"/>\n      <use x=\"285.107422\" xlink:href=\"#DejaVuSans-99\"/>\n      <use x=\"340.087891\" xlink:href=\"#DejaVuSans-99\"/>\n     </g>\n    </g>\n   </g>\n  </g>\n </g>\n <defs>\n  <clipPath id=\"p1be49db518\">\n   <rect height=\"135.9\" width=\"195.3\" x=\"30.103125\" y=\"7.2\"/>\n  </clipPath>\n </defs>\n</svg>\n"
          },
          "metadata": {
            "tags": [],
            "needs_background": "light"
          }
        }
      ]
    },
    {
      "cell_type": "markdown",
      "metadata": {
        "id": "NJZZLf8X4JFZ"
      },
      "source": [
        "NiN"
      ]
    },
    {
      "cell_type": "markdown",
      "metadata": {
        "id": "lWuU2FCq-dzJ"
      },
      "source": [
        "![image.png](data:image/png;base64,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)"
      ]
    },
    {
      "cell_type": "code",
      "metadata": {
        "id": "RtyVW2Ha3dDh"
      },
      "source": [
        "import torch\n",
        "from torch import nn\n",
        "from d2l import torch as d2l\n",
        "def nin_block(in_channels, out_channels, kernel_size, strides, padding):\n",
        "  return nn.Sequential(\n",
        "      nn.Conv2d(in_channels, out_channels, kernel_size, strides, padding),\n",
        "      nn.ReLU(), nn.Conv2d(out_channels, out_channels, kernel_size = 1),\n",
        "      nn.ReLU(), nn.Conv2d(out_channels, out_channels, kernel_size = 1),\n",
        "      nn.ReLU()\n",
        "  )"
      ],
      "execution_count": null,
      "outputs": []
    },
    {
      "cell_type": "code",
      "metadata": {
        "id": "QJj4Cq5c_TYf"
      },
      "source": [
        "net = nn.Sequential(\n",
        "    nin_block(1, 96, kernel_size = 11, strides = 4, padding = 0),\n",
        "    nn.MaxPool2d(3, stride = 2),\n",
        "    nin_block(96, 256, kernel_size = 5, strides = 1, padding = 2),\n",
        "    nn.MaxPool2d(3, stride = 2),\n",
        "    nin_block(256, 384, kernel_size = 3, strides = 1, padding = 1),\n",
        "    nn.MaxPool2d(3, stride = 2), nn.Dropout(0.5),\n",
        "    nin_block(384, 10, kernel_size = 3, strides = 1, padding = 1),\n",
        "    nn.AdaptiveAvgPool2d((1, 1)),\n",
        "    nn.Flatten()\n",
        ")"
      ],
      "execution_count": null,
      "outputs": []
    },
    {
      "cell_type": "code",
      "metadata": {
        "colab": {
          "base_uri": "https://localhost:8080/"
        },
        "id": "34GtWD3VAe85",
        "outputId": "3fed2b30-1cad-4f31-fc2b-746d0ad190cc"
      },
      "source": [
        "X = torch.randn(size = (1, 1, 224, 224))\n",
        "for layer in net:\n",
        "  X = layer(X)\n",
        "  print(layer.__class__.__name__, 'output shape:\\t', X.shape)"
      ],
      "execution_count": null,
      "outputs": [
        {
          "output_type": "stream",
          "text": [
            "Sequential output shape:\t torch.Size([1, 96, 54, 54])\n",
            "MaxPool2d output shape:\t torch.Size([1, 96, 26, 26])\n",
            "Sequential output shape:\t torch.Size([1, 256, 26, 26])\n",
            "MaxPool2d output shape:\t torch.Size([1, 256, 12, 12])\n",
            "Sequential output shape:\t torch.Size([1, 384, 12, 12])\n",
            "MaxPool2d output shape:\t torch.Size([1, 384, 5, 5])\n",
            "Dropout output shape:\t torch.Size([1, 384, 5, 5])\n",
            "Sequential output shape:\t torch.Size([1, 10, 5, 5])\n",
            "AdaptiveAvgPool2d output shape:\t torch.Size([1, 10, 1, 1])\n",
            "Flatten output shape:\t torch.Size([1, 10])\n"
          ],
          "name": "stdout"
        }
      ]
    },
    {
      "cell_type": "code",
      "metadata": {
        "colab": {
          "base_uri": "https://localhost:8080/",
          "height": 296
        },
        "id": "tmlxptmdA5Ip",
        "outputId": "75bf95ff-0333-4d41-f0d1-26409784a59c"
      },
      "source": [
        "lr, num_epochs, batch_size = 0.1, 10, 128\n",
        "train_iter, test_iter = d2l.load_data_fashion_mnist(batch_size, resize = 224)\n",
        "d2l.train_ch6(net, train_iter, test_iter, num_epochs, lr, d2l.try_gpu())"
      ],
      "execution_count": null,
      "outputs": [
        {
          "output_type": "stream",
          "text": [
            "loss 0.766, train acc 0.719, test acc 0.728\n",
            "1033.7 examples/sec on cuda:0\n"
          ],
          "name": "stdout"
        },
        {
          "output_type": "display_data",
          "data": {
            "text/plain": [
              "<Figure size 252x180 with 1 Axes>"
            ],
            "image/svg+xml": "<?xml version=\"1.0\" encoding=\"utf-8\" standalone=\"no\"?>\n<!DOCTYPE svg PUBLIC \"-//W3C//DTD SVG 1.1//EN\"\n  \"http://www.w3.org/Graphics/SVG/1.1/DTD/svg11.dtd\">\n<!-- Created with matplotlib (https://matplotlib.org/) -->\n<svg height=\"180.65625pt\" version=\"1.1\" viewBox=\"0 0 238.965625 180.65625\" width=\"238.965625pt\" xmlns=\"http://www.w3.org/2000/svg\" xmlns:xlink=\"http://www.w3.org/1999/xlink\">\n <defs>\n  <style type=\"text/css\">\n*{stroke-linecap:butt;stroke-linejoin:round;}\n  </style>\n </defs>\n <g id=\"figure_1\">\n  <g id=\"patch_1\">\n   <path d=\"M 0 180.65625 \nL 238.965625 180.65625 \nL 238.965625 0 \nL 0 0 \nz\n\" style=\"fill:none;\"/>\n  </g>\n  <g id=\"axes_1\">\n   <g id=\"patch_2\">\n    <path d=\"M 30.103125 143.1 \nL 225.403125 143.1 \nL 225.403125 7.2 \nL 30.103125 7.2 \nz\n\" style=\"fill:#ffffff;\"/>\n   </g>\n   <g id=\"matplotlib.axis_1\">\n    <g id=\"xtick_1\">\n     <g id=\"line2d_1\">\n      <path clip-path=\"url(#p9b1754dbdf)\" d=\"M 51.803125 143.1 \nL 51.803125 7.2 \n\" style=\"fill:none;stroke:#b0b0b0;stroke-linecap:square;stroke-width:0.8;\"/>\n     </g>\n     <g id=\"line2d_2\">\n      <defs>\n       <path d=\"M 0 0 \nL 0 3.5 \n\" id=\"ma9dadbcd27\" style=\"stroke:#000000;stroke-width:0.8;\"/>\n      </defs>\n      <g>\n       <use style=\"stroke:#000000;stroke-width:0.8;\" x=\"51.803125\" xlink:href=\"#ma9dadbcd27\" y=\"143.1\"/>\n      </g>\n     </g>\n     <g id=\"text_1\">\n      <!-- 2 -->\n      <defs>\n       <path d=\"M 19.1875 8.296875 \nL 53.609375 8.296875 \nL 53.609375 0 \nL 7.328125 0 \nL 7.328125 8.296875 \nQ 12.9375 14.109375 22.625 23.890625 \nQ 32.328125 33.6875 34.8125 36.53125 \nQ 39.546875 41.84375 41.421875 45.53125 \nQ 43.3125 49.21875 43.3125 52.78125 \nQ 43.3125 58.59375 39.234375 62.25 \nQ 35.15625 65.921875 28.609375 65.921875 \nQ 23.96875 65.921875 18.8125 64.3125 \nQ 13.671875 62.703125 7.8125 59.421875 \nL 7.8125 69.390625 \nQ 13.765625 71.78125 18.9375 73 \nQ 24.125 74.21875 28.421875 74.21875 \nQ 39.75 74.21875 46.484375 68.546875 \nQ 53.21875 62.890625 53.21875 53.421875 \nQ 53.21875 48.921875 51.53125 44.890625 \nQ 49.859375 40.875 45.40625 35.40625 \nQ 44.1875 33.984375 37.640625 27.21875 \nQ 31.109375 20.453125 19.1875 8.296875 \nz\n\" id=\"DejaVuSans-50\"/>\n      </defs>\n      <g transform=\"translate(48.621875 157.698438)scale(0.1 -0.1)\">\n       <use xlink:href=\"#DejaVuSans-50\"/>\n      </g>\n     </g>\n    </g>\n    <g id=\"xtick_2\">\n     <g id=\"line2d_3\">\n      <path clip-path=\"url(#p9b1754dbdf)\" d=\"M 95.203125 143.1 \nL 95.203125 7.2 \n\" style=\"fill:none;stroke:#b0b0b0;stroke-linecap:square;stroke-width:0.8;\"/>\n     </g>\n     <g id=\"line2d_4\">\n      <g>\n       <use style=\"stroke:#000000;stroke-width:0.8;\" x=\"95.203125\" xlink:href=\"#ma9dadbcd27\" y=\"143.1\"/>\n      </g>\n     </g>\n     <g id=\"text_2\">\n      <!-- 4 -->\n      <defs>\n       <path d=\"M 37.796875 64.3125 \nL 12.890625 25.390625 \nL 37.796875 25.390625 \nz\nM 35.203125 72.90625 \nL 47.609375 72.90625 \nL 47.609375 25.390625 \nL 58.015625 25.390625 \nL 58.015625 17.1875 \nL 47.609375 17.1875 \nL 47.609375 0 \nL 37.796875 0 \nL 37.796875 17.1875 \nL 4.890625 17.1875 \nL 4.890625 26.703125 \nz\n\" id=\"DejaVuSans-52\"/>\n      </defs>\n      <g transform=\"translate(92.021875 157.698438)scale(0.1 -0.1)\">\n       <use xlink:href=\"#DejaVuSans-52\"/>\n      </g>\n     </g>\n    </g>\n    <g id=\"xtick_3\">\n     <g id=\"line2d_5\">\n      <path clip-path=\"url(#p9b1754dbdf)\" d=\"M 138.603125 143.1 \nL 138.603125 7.2 \n\" style=\"fill:none;stroke:#b0b0b0;stroke-linecap:square;stroke-width:0.8;\"/>\n     </g>\n     <g id=\"line2d_6\">\n      <g>\n       <use style=\"stroke:#000000;stroke-width:0.8;\" x=\"138.603125\" xlink:href=\"#ma9dadbcd27\" y=\"143.1\"/>\n      </g>\n     </g>\n     <g id=\"text_3\">\n      <!-- 6 -->\n      <defs>\n       <path d=\"M 33.015625 40.375 \nQ 26.375 40.375 22.484375 35.828125 \nQ 18.609375 31.296875 18.609375 23.390625 \nQ 18.609375 15.53125 22.484375 10.953125 \nQ 26.375 6.390625 33.015625 6.390625 \nQ 39.65625 6.390625 43.53125 10.953125 \nQ 47.40625 15.53125 47.40625 23.390625 \nQ 47.40625 31.296875 43.53125 35.828125 \nQ 39.65625 40.375 33.015625 40.375 \nz\nM 52.59375 71.296875 \nL 52.59375 62.3125 \nQ 48.875 64.0625 45.09375 64.984375 \nQ 41.3125 65.921875 37.59375 65.921875 \nQ 27.828125 65.921875 22.671875 59.328125 \nQ 17.53125 52.734375 16.796875 39.40625 \nQ 19.671875 43.65625 24.015625 45.921875 \nQ 28.375 48.1875 33.59375 48.1875 \nQ 44.578125 48.1875 50.953125 41.515625 \nQ 57.328125 34.859375 57.328125 23.390625 \nQ 57.328125 12.15625 50.6875 5.359375 \nQ 44.046875 -1.421875 33.015625 -1.421875 \nQ 20.359375 -1.421875 13.671875 8.265625 \nQ 6.984375 17.96875 6.984375 36.375 \nQ 6.984375 53.65625 15.1875 63.9375 \nQ 23.390625 74.21875 37.203125 74.21875 \nQ 40.921875 74.21875 44.703125 73.484375 \nQ 48.484375 72.75 52.59375 71.296875 \nz\n\" id=\"DejaVuSans-54\"/>\n      </defs>\n      <g transform=\"translate(135.421875 157.698438)scale(0.1 -0.1)\">\n       <use xlink:href=\"#DejaVuSans-54\"/>\n      </g>\n     </g>\n    </g>\n    <g id=\"xtick_4\">\n     <g id=\"line2d_7\">\n      <path clip-path=\"url(#p9b1754dbdf)\" d=\"M 182.003125 143.1 \nL 182.003125 7.2 \n\" style=\"fill:none;stroke:#b0b0b0;stroke-linecap:square;stroke-width:0.8;\"/>\n     </g>\n     <g id=\"line2d_8\">\n      <g>\n       <use style=\"stroke:#000000;stroke-width:0.8;\" x=\"182.003125\" xlink:href=\"#ma9dadbcd27\" y=\"143.1\"/>\n      </g>\n     </g>\n     <g id=\"text_4\">\n      <!-- 8 -->\n      <defs>\n       <path d=\"M 31.78125 34.625 \nQ 24.75 34.625 20.71875 30.859375 \nQ 16.703125 27.09375 16.703125 20.515625 \nQ 16.703125 13.921875 20.71875 10.15625 \nQ 24.75 6.390625 31.78125 6.390625 \nQ 38.8125 6.390625 42.859375 10.171875 \nQ 46.921875 13.96875 46.921875 20.515625 \nQ 46.921875 27.09375 42.890625 30.859375 \nQ 38.875 34.625 31.78125 34.625 \nz\nM 21.921875 38.8125 \nQ 15.578125 40.375 12.03125 44.71875 \nQ 8.5 49.078125 8.5 55.328125 \nQ 8.5 64.0625 14.71875 69.140625 \nQ 20.953125 74.21875 31.78125 74.21875 \nQ 42.671875 74.21875 48.875 69.140625 \nQ 55.078125 64.0625 55.078125 55.328125 \nQ 55.078125 49.078125 51.53125 44.71875 \nQ 48 40.375 41.703125 38.8125 \nQ 48.828125 37.15625 52.796875 32.3125 \nQ 56.78125 27.484375 56.78125 20.515625 \nQ 56.78125 9.90625 50.3125 4.234375 \nQ 43.84375 -1.421875 31.78125 -1.421875 \nQ 19.734375 -1.421875 13.25 4.234375 \nQ 6.78125 9.90625 6.78125 20.515625 \nQ 6.78125 27.484375 10.78125 32.3125 \nQ 14.796875 37.15625 21.921875 38.8125 \nz\nM 18.3125 54.390625 \nQ 18.3125 48.734375 21.84375 45.5625 \nQ 25.390625 42.390625 31.78125 42.390625 \nQ 38.140625 42.390625 41.71875 45.5625 \nQ 45.3125 48.734375 45.3125 54.390625 \nQ 45.3125 60.0625 41.71875 63.234375 \nQ 38.140625 66.40625 31.78125 66.40625 \nQ 25.390625 66.40625 21.84375 63.234375 \nQ 18.3125 60.0625 18.3125 54.390625 \nz\n\" id=\"DejaVuSans-56\"/>\n      </defs>\n      <g transform=\"translate(178.821875 157.698438)scale(0.1 -0.1)\">\n       <use xlink:href=\"#DejaVuSans-56\"/>\n      </g>\n     </g>\n    </g>\n    <g id=\"xtick_5\">\n     <g id=\"line2d_9\">\n      <path clip-path=\"url(#p9b1754dbdf)\" d=\"M 225.403125 143.1 \nL 225.403125 7.2 \n\" style=\"fill:none;stroke:#b0b0b0;stroke-linecap:square;stroke-width:0.8;\"/>\n     </g>\n     <g id=\"line2d_10\">\n      <g>\n       <use style=\"stroke:#000000;stroke-width:0.8;\" x=\"225.403125\" xlink:href=\"#ma9dadbcd27\" y=\"143.1\"/>\n      </g>\n     </g>\n     <g id=\"text_5\">\n      <!-- 10 -->\n      <defs>\n       <path d=\"M 12.40625 8.296875 \nL 28.515625 8.296875 \nL 28.515625 63.921875 \nL 10.984375 60.40625 \nL 10.984375 69.390625 \nL 28.421875 72.90625 \nL 38.28125 72.90625 \nL 38.28125 8.296875 \nL 54.390625 8.296875 \nL 54.390625 0 \nL 12.40625 0 \nz\n\" id=\"DejaVuSans-49\"/>\n       <path d=\"M 31.78125 66.40625 \nQ 24.171875 66.40625 20.328125 58.90625 \nQ 16.5 51.421875 16.5 36.375 \nQ 16.5 21.390625 20.328125 13.890625 \nQ 24.171875 6.390625 31.78125 6.390625 \nQ 39.453125 6.390625 43.28125 13.890625 \nQ 47.125 21.390625 47.125 36.375 \nQ 47.125 51.421875 43.28125 58.90625 \nQ 39.453125 66.40625 31.78125 66.40625 \nz\nM 31.78125 74.21875 \nQ 44.046875 74.21875 50.515625 64.515625 \nQ 56.984375 54.828125 56.984375 36.375 \nQ 56.984375 17.96875 50.515625 8.265625 \nQ 44.046875 -1.421875 31.78125 -1.421875 \nQ 19.53125 -1.421875 13.0625 8.265625 \nQ 6.59375 17.96875 6.59375 36.375 \nQ 6.59375 54.828125 13.0625 64.515625 \nQ 19.53125 74.21875 31.78125 74.21875 \nz\n\" id=\"DejaVuSans-48\"/>\n      </defs>\n      <g transform=\"translate(219.040625 157.698438)scale(0.1 -0.1)\">\n       <use xlink:href=\"#DejaVuSans-49\"/>\n       <use x=\"63.623047\" xlink:href=\"#DejaVuSans-48\"/>\n      </g>\n     </g>\n    </g>\n    <g id=\"text_6\">\n     <!-- epoch -->\n     <defs>\n      <path d=\"M 56.203125 29.59375 \nL 56.203125 25.203125 \nL 14.890625 25.203125 \nQ 15.484375 15.921875 20.484375 11.0625 \nQ 25.484375 6.203125 34.421875 6.203125 \nQ 39.59375 6.203125 44.453125 7.46875 \nQ 49.3125 8.734375 54.109375 11.28125 \nL 54.109375 2.78125 \nQ 49.265625 0.734375 44.1875 -0.34375 \nQ 39.109375 -1.421875 33.890625 -1.421875 \nQ 20.796875 -1.421875 13.15625 6.1875 \nQ 5.515625 13.8125 5.515625 26.8125 \nQ 5.515625 40.234375 12.765625 48.109375 \nQ 20.015625 56 32.328125 56 \nQ 43.359375 56 49.78125 48.890625 \nQ 56.203125 41.796875 56.203125 29.59375 \nz\nM 47.21875 32.234375 \nQ 47.125 39.59375 43.09375 43.984375 \nQ 39.0625 48.390625 32.421875 48.390625 \nQ 24.90625 48.390625 20.390625 44.140625 \nQ 15.875 39.890625 15.1875 32.171875 \nz\n\" id=\"DejaVuSans-101\"/>\n      <path d=\"M 18.109375 8.203125 \nL 18.109375 -20.796875 \nL 9.078125 -20.796875 \nL 9.078125 54.6875 \nL 18.109375 54.6875 \nL 18.109375 46.390625 \nQ 20.953125 51.265625 25.265625 53.625 \nQ 29.59375 56 35.59375 56 \nQ 45.5625 56 51.78125 48.09375 \nQ 58.015625 40.1875 58.015625 27.296875 \nQ 58.015625 14.40625 51.78125 6.484375 \nQ 45.5625 -1.421875 35.59375 -1.421875 \nQ 29.59375 -1.421875 25.265625 0.953125 \nQ 20.953125 3.328125 18.109375 8.203125 \nz\nM 48.6875 27.296875 \nQ 48.6875 37.203125 44.609375 42.84375 \nQ 40.53125 48.484375 33.40625 48.484375 \nQ 26.265625 48.484375 22.1875 42.84375 \nQ 18.109375 37.203125 18.109375 27.296875 \nQ 18.109375 17.390625 22.1875 11.75 \nQ 26.265625 6.109375 33.40625 6.109375 \nQ 40.53125 6.109375 44.609375 11.75 \nQ 48.6875 17.390625 48.6875 27.296875 \nz\n\" id=\"DejaVuSans-112\"/>\n      <path d=\"M 30.609375 48.390625 \nQ 23.390625 48.390625 19.1875 42.75 \nQ 14.984375 37.109375 14.984375 27.296875 \nQ 14.984375 17.484375 19.15625 11.84375 \nQ 23.34375 6.203125 30.609375 6.203125 \nQ 37.796875 6.203125 41.984375 11.859375 \nQ 46.1875 17.53125 46.1875 27.296875 \nQ 46.1875 37.015625 41.984375 42.703125 \nQ 37.796875 48.390625 30.609375 48.390625 \nz\nM 30.609375 56 \nQ 42.328125 56 49.015625 48.375 \nQ 55.71875 40.765625 55.71875 27.296875 \nQ 55.71875 13.875 49.015625 6.21875 \nQ 42.328125 -1.421875 30.609375 -1.421875 \nQ 18.84375 -1.421875 12.171875 6.21875 \nQ 5.515625 13.875 5.515625 27.296875 \nQ 5.515625 40.765625 12.171875 48.375 \nQ 18.84375 56 30.609375 56 \nz\n\" id=\"DejaVuSans-111\"/>\n      <path d=\"M 48.78125 52.59375 \nL 48.78125 44.1875 \nQ 44.96875 46.296875 41.140625 47.34375 \nQ 37.3125 48.390625 33.40625 48.390625 \nQ 24.65625 48.390625 19.8125 42.84375 \nQ 14.984375 37.3125 14.984375 27.296875 \nQ 14.984375 17.28125 19.8125 11.734375 \nQ 24.65625 6.203125 33.40625 6.203125 \nQ 37.3125 6.203125 41.140625 7.25 \nQ 44.96875 8.296875 48.78125 10.40625 \nL 48.78125 2.09375 \nQ 45.015625 0.34375 40.984375 -0.53125 \nQ 36.96875 -1.421875 32.421875 -1.421875 \nQ 20.0625 -1.421875 12.78125 6.34375 \nQ 5.515625 14.109375 5.515625 27.296875 \nQ 5.515625 40.671875 12.859375 48.328125 \nQ 20.21875 56 33.015625 56 \nQ 37.15625 56 41.109375 55.140625 \nQ 45.0625 54.296875 48.78125 52.59375 \nz\n\" id=\"DejaVuSans-99\"/>\n      <path d=\"M 54.890625 33.015625 \nL 54.890625 0 \nL 45.90625 0 \nL 45.90625 32.71875 \nQ 45.90625 40.484375 42.875 44.328125 \nQ 39.84375 48.1875 33.796875 48.1875 \nQ 26.515625 48.1875 22.3125 43.546875 \nQ 18.109375 38.921875 18.109375 30.90625 \nL 18.109375 0 \nL 9.078125 0 \nL 9.078125 75.984375 \nL 18.109375 75.984375 \nL 18.109375 46.1875 \nQ 21.34375 51.125 25.703125 53.5625 \nQ 30.078125 56 35.796875 56 \nQ 45.21875 56 50.046875 50.171875 \nQ 54.890625 44.34375 54.890625 33.015625 \nz\n\" id=\"DejaVuSans-104\"/>\n     </defs>\n     <g transform=\"translate(112.525 171.376563)scale(0.1 -0.1)\">\n      <use xlink:href=\"#DejaVuSans-101\"/>\n      <use x=\"61.523438\" xlink:href=\"#DejaVuSans-112\"/>\n      <use x=\"125\" xlink:href=\"#DejaVuSans-111\"/>\n      <use x=\"186.181641\" xlink:href=\"#DejaVuSans-99\"/>\n      <use x=\"241.162109\" xlink:href=\"#DejaVuSans-104\"/>\n     </g>\n    </g>\n   </g>\n   <g id=\"matplotlib.axis_2\">\n    <g id=\"ytick_1\">\n     <g id=\"line2d_11\">\n      <path clip-path=\"url(#p9b1754dbdf)\" d=\"M 30.103125 143.038191 \nL 225.403125 143.038191 \n\" style=\"fill:none;stroke:#b0b0b0;stroke-linecap:square;stroke-width:0.8;\"/>\n     </g>\n     <g id=\"line2d_12\">\n      <defs>\n       <path d=\"M 0 0 \nL -3.5 0 \n\" id=\"mc9587a1a8e\" style=\"stroke:#000000;stroke-width:0.8;\"/>\n      </defs>\n      <g>\n       <use style=\"stroke:#000000;stroke-width:0.8;\" x=\"30.103125\" xlink:href=\"#mc9587a1a8e\" y=\"143.038191\"/>\n      </g>\n     </g>\n     <g id=\"text_7\">\n      <!-- 0.0 -->\n      <defs>\n       <path d=\"M 10.6875 12.40625 \nL 21 12.40625 \nL 21 0 \nL 10.6875 0 \nz\n\" id=\"DejaVuSans-46\"/>\n      </defs>\n      <g transform=\"translate(7.2 146.837409)scale(0.1 -0.1)\">\n       <use xlink:href=\"#DejaVuSans-48\"/>\n       <use x=\"63.623047\" xlink:href=\"#DejaVuSans-46\"/>\n       <use x=\"95.410156\" xlink:href=\"#DejaVuSans-48\"/>\n      </g>\n     </g>\n    </g>\n    <g id=\"ytick_2\">\n     <g id=\"line2d_13\">\n      <path clip-path=\"url(#p9b1754dbdf)\" d=\"M 30.103125 114.952359 \nL 225.403125 114.952359 \n\" style=\"fill:none;stroke:#b0b0b0;stroke-linecap:square;stroke-width:0.8;\"/>\n     </g>\n     <g id=\"line2d_14\">\n      <g>\n       <use style=\"stroke:#000000;stroke-width:0.8;\" x=\"30.103125\" xlink:href=\"#mc9587a1a8e\" y=\"114.952359\"/>\n      </g>\n     </g>\n     <g id=\"text_8\">\n      <!-- 0.5 -->\n      <defs>\n       <path d=\"M 10.796875 72.90625 \nL 49.515625 72.90625 \nL 49.515625 64.59375 \nL 19.828125 64.59375 \nL 19.828125 46.734375 \nQ 21.96875 47.46875 24.109375 47.828125 \nQ 26.265625 48.1875 28.421875 48.1875 \nQ 40.625 48.1875 47.75 41.5 \nQ 54.890625 34.8125 54.890625 23.390625 \nQ 54.890625 11.625 47.5625 5.09375 \nQ 40.234375 -1.421875 26.90625 -1.421875 \nQ 22.3125 -1.421875 17.546875 -0.640625 \nQ 12.796875 0.140625 7.71875 1.703125 \nL 7.71875 11.625 \nQ 12.109375 9.234375 16.796875 8.0625 \nQ 21.484375 6.890625 26.703125 6.890625 \nQ 35.15625 6.890625 40.078125 11.328125 \nQ 45.015625 15.765625 45.015625 23.390625 \nQ 45.015625 31 40.078125 35.4375 \nQ 35.15625 39.890625 26.703125 39.890625 \nQ 22.75 39.890625 18.8125 39.015625 \nQ 14.890625 38.140625 10.796875 36.28125 \nz\n\" id=\"DejaVuSans-53\"/>\n      </defs>\n      <g transform=\"translate(7.2 118.751578)scale(0.1 -0.1)\">\n       <use xlink:href=\"#DejaVuSans-48\"/>\n       <use x=\"63.623047\" xlink:href=\"#DejaVuSans-46\"/>\n       <use x=\"95.410156\" xlink:href=\"#DejaVuSans-53\"/>\n      </g>\n     </g>\n    </g>\n    <g id=\"ytick_3\">\n     <g id=\"line2d_15\">\n      <path clip-path=\"url(#p9b1754dbdf)\" d=\"M 30.103125 86.866528 \nL 225.403125 86.866528 \n\" style=\"fill:none;stroke:#b0b0b0;stroke-linecap:square;stroke-width:0.8;\"/>\n     </g>\n     <g id=\"line2d_16\">\n      <g>\n       <use style=\"stroke:#000000;stroke-width:0.8;\" x=\"30.103125\" xlink:href=\"#mc9587a1a8e\" y=\"86.866528\"/>\n      </g>\n     </g>\n     <g id=\"text_9\">\n      <!-- 1.0 -->\n      <g transform=\"translate(7.2 90.665746)scale(0.1 -0.1)\">\n       <use xlink:href=\"#DejaVuSans-49\"/>\n       <use x=\"63.623047\" xlink:href=\"#DejaVuSans-46\"/>\n       <use x=\"95.410156\" xlink:href=\"#DejaVuSans-48\"/>\n      </g>\n     </g>\n    </g>\n    <g id=\"ytick_4\">\n     <g id=\"line2d_17\">\n      <path clip-path=\"url(#p9b1754dbdf)\" d=\"M 30.103125 58.780696 \nL 225.403125 58.780696 \n\" style=\"fill:none;stroke:#b0b0b0;stroke-linecap:square;stroke-width:0.8;\"/>\n     </g>\n     <g id=\"line2d_18\">\n      <g>\n       <use style=\"stroke:#000000;stroke-width:0.8;\" x=\"30.103125\" xlink:href=\"#mc9587a1a8e\" y=\"58.780696\"/>\n      </g>\n     </g>\n     <g id=\"text_10\">\n      <!-- 1.5 -->\n      <g transform=\"translate(7.2 62.579915)scale(0.1 -0.1)\">\n       <use xlink:href=\"#DejaVuSans-49\"/>\n       <use x=\"63.623047\" xlink:href=\"#DejaVuSans-46\"/>\n       <use x=\"95.410156\" xlink:href=\"#DejaVuSans-53\"/>\n      </g>\n     </g>\n    </g>\n    <g id=\"ytick_5\">\n     <g id=\"line2d_19\">\n      <path clip-path=\"url(#p9b1754dbdf)\" d=\"M 30.103125 30.694865 \nL 225.403125 30.694865 \n\" style=\"fill:none;stroke:#b0b0b0;stroke-linecap:square;stroke-width:0.8;\"/>\n     </g>\n     <g id=\"line2d_20\">\n      <g>\n       <use style=\"stroke:#000000;stroke-width:0.8;\" x=\"30.103125\" xlink:href=\"#mc9587a1a8e\" y=\"30.694865\"/>\n      </g>\n     </g>\n     <g id=\"text_11\">\n      <!-- 2.0 -->\n      <g transform=\"translate(7.2 34.494083)scale(0.1 -0.1)\">\n       <use xlink:href=\"#DejaVuSans-50\"/>\n       <use x=\"63.623047\" xlink:href=\"#DejaVuSans-46\"/>\n       <use x=\"95.410156\" xlink:href=\"#DejaVuSans-48\"/>\n      </g>\n     </g>\n    </g>\n   </g>\n   <g id=\"line2d_21\">\n    <path clip-path=\"url(#p9b1754dbdf)\" d=\"M 12.70611 13.377273 \nL 17.009095 14.520344 \nL 21.31208 16.637247 \nL 25.615065 19.199893 \nL 29.91805 22.064976 \nL 30.103125 22.276763 \nL 34.40611 45.727813 \nL 38.709095 48.405341 \nL 43.01208 52.896807 \nL 47.315065 54.712706 \nL 51.61805 58.552022 \nL 51.803125 58.653669 \nL 56.10611 82.252841 \nL 60.409095 85.676665 \nL 64.71208 63.670001 \nL 69.015065 54.995492 \nL 73.31805 51.986456 \nL 73.503125 51.925049 \nL 77.80611 48.820942 \nL 82.109095 51.175201 \nL 86.41208 52.373929 \nL 90.715065 53.357825 \nL 95.01805 54.830681 \nL 95.203125 54.885896 \nL 99.50611 64.981865 \nL 103.809095 68.123033 \nL 108.11208 69.053212 \nL 112.415065 71.158022 \nL 116.71805 72.930119 \nL 116.903125 73.030372 \nL 121.20611 83.000867 \nL 125.509095 84.21767 \nL 129.81208 85.202182 \nL 134.115065 85.669069 \nL 138.41805 86.61455 \nL 138.603125 86.654596 \nL 142.90611 91.21985 \nL 147.209095 91.927004 \nL 151.51208 91.889459 \nL 155.815065 92.33045 \nL 160.11805 92.539653 \nL 160.303125 92.537041 \nL 164.60611 94.489028 \nL 168.909095 94.402725 \nL 173.21208 94.828467 \nL 177.515065 95.209572 \nL 181.81805 95.484136 \nL 182.003125 95.5052 \nL 186.30611 97.58061 \nL 190.609095 97.919241 \nL 194.91208 97.933346 \nL 199.215065 97.90933 \nL 203.51805 97.931084 \nL 203.703125 97.951847 \nL 208.00611 99.76203 \nL 212.309095 99.675646 \nL 216.61208 99.555008 \nL 220.915065 99.933735 \nL 225.21805 99.983791 \nL 225.403125 99.989799 \n\" style=\"fill:none;stroke:#1f77b4;stroke-linecap:square;stroke-width:1.5;\"/>\n   </g>\n   <g id=\"line2d_22\">\n    <path clip-path=\"url(#p9b1754dbdf)\" d=\"M 12.70611 136.922727 \nL 17.009095 135.049395 \nL 21.31208 134.272379 \nL 25.615065 133.087586 \nL 29.91805 131.946363 \nL 30.103125 131.877817 \nL 34.40611 123.413027 \nL 38.709095 122.113019 \nL 43.01208 120.706054 \nL 47.315065 120.347038 \nL 51.61805 119.244508 \nL 51.803125 119.227023 \nL 56.10611 111.106601 \nL 60.409095 109.452689 \nL 64.71208 115.707355 \nL 69.015065 119.139045 \nL 73.31805 120.346802 \nL 73.503125 120.371052 \nL 77.80611 122.393783 \nL 82.109095 121.065463 \nL 86.41208 120.322264 \nL 90.715065 119.612097 \nL 95.01805 118.852854 \nL 95.203125 118.817906 \nL 99.50611 114.900453 \nL 103.809095 113.58393 \nL 108.11208 113.33541 \nL 112.415065 112.723943 \nL 116.71805 112.134338 \nL 116.903125 112.105392 \nL 121.20611 108.398055 \nL 125.509095 108.086619 \nL 129.81208 107.861693 \nL 134.115065 107.840066 \nL 138.41805 107.51471 \nL 138.603125 107.499316 \nL 142.90611 106.175537 \nL 147.209095 105.83107 \nL 151.51208 105.862528 \nL 155.815065 105.729618 \nL 160.11805 105.646096 \nL 160.303125 105.65314 \nL 164.60611 104.679702 \nL 168.909095 104.814186 \nL 173.21208 104.709587 \nL 177.515065 104.519265 \nL 181.81805 104.477741 \nL 182.003125 104.475408 \nL 186.30611 103.915269 \nL 190.609095 103.721801 \nL 194.91208 103.685625 \nL 199.215065 103.692309 \nL 203.51805 103.614215 \nL 203.703125 103.601002 \nL 208.00611 102.645933 \nL 212.309095 102.782776 \nL 216.61208 102.856702 \nL 220.915065 102.661269 \nL 225.21805 102.665752 \nL 225.403125 102.662935 \n\" style=\"fill:none;stroke:#bf00bf;stroke-dasharray:5.55,2.4;stroke-dashoffset:0;stroke-width:1.5;\"/>\n   </g>\n   <g id=\"line2d_23\">\n    <path clip-path=\"url(#p9b1754dbdf)\" d=\"M 30.103125 126.13052 \nL 51.803125 110.144065 \nL 73.503125 124.383581 \nL 95.203125 112.924562 \nL 116.903125 108.509469 \nL 138.603125 105.627863 \nL 160.303125 105.841315 \nL 182.003125 103.448402 \nL 203.703125 102.397992 \nL 225.403125 102.156454 \n\" style=\"fill:none;stroke:#008000;stroke-dasharray:9.6,2.4,1.5,2.4;stroke-dashoffset:0;stroke-width:1.5;\"/>\n   </g>\n   <g id=\"patch_3\">\n    <path d=\"M 30.103125 143.1 \nL 30.103125 7.2 \n\" style=\"fill:none;stroke:#000000;stroke-linecap:square;stroke-linejoin:miter;stroke-width:0.8;\"/>\n   </g>\n   <g id=\"patch_4\">\n    <path d=\"M 225.403125 143.1 \nL 225.403125 7.2 \n\" style=\"fill:none;stroke:#000000;stroke-linecap:square;stroke-linejoin:miter;stroke-width:0.8;\"/>\n   </g>\n   <g id=\"patch_5\">\n    <path d=\"M 30.103125 143.1 \nL 225.403125 143.1 \n\" style=\"fill:none;stroke:#000000;stroke-linecap:square;stroke-linejoin:miter;stroke-width:0.8;\"/>\n   </g>\n   <g id=\"patch_6\">\n    <path d=\"M 30.103125 7.2 \nL 225.403125 7.2 \n\" style=\"fill:none;stroke:#000000;stroke-linecap:square;stroke-linejoin:miter;stroke-width:0.8;\"/>\n   </g>\n   <g id=\"legend_1\">\n    <g id=\"patch_7\">\n     <path d=\"M 140.634375 59.234375 \nL 218.403125 59.234375 \nQ 220.403125 59.234375 220.403125 57.234375 \nL 220.403125 14.2 \nQ 220.403125 12.2 218.403125 12.2 \nL 140.634375 12.2 \nQ 138.634375 12.2 138.634375 14.2 \nL 138.634375 57.234375 \nQ 138.634375 59.234375 140.634375 59.234375 \nz\n\" style=\"fill:#ffffff;opacity:0.8;stroke:#cccccc;stroke-linejoin:miter;\"/>\n    </g>\n    <g id=\"line2d_24\">\n     <path d=\"M 142.634375 20.298438 \nL 162.634375 20.298438 \n\" style=\"fill:none;stroke:#1f77b4;stroke-linecap:square;stroke-width:1.5;\"/>\n    </g>\n    <g id=\"line2d_25\"/>\n    <g id=\"text_12\">\n     <!-- train loss -->\n     <defs>\n      <path d=\"M 18.3125 70.21875 \nL 18.3125 54.6875 \nL 36.8125 54.6875 \nL 36.8125 47.703125 \nL 18.3125 47.703125 \nL 18.3125 18.015625 \nQ 18.3125 11.328125 20.140625 9.421875 \nQ 21.96875 7.515625 27.59375 7.515625 \nL 36.8125 7.515625 \nL 36.8125 0 \nL 27.59375 0 \nQ 17.1875 0 13.234375 3.875 \nQ 9.28125 7.765625 9.28125 18.015625 \nL 9.28125 47.703125 \nL 2.6875 47.703125 \nL 2.6875 54.6875 \nL 9.28125 54.6875 \nL 9.28125 70.21875 \nz\n\" id=\"DejaVuSans-116\"/>\n      <path d=\"M 41.109375 46.296875 \nQ 39.59375 47.171875 37.8125 47.578125 \nQ 36.03125 48 33.890625 48 \nQ 26.265625 48 22.1875 43.046875 \nQ 18.109375 38.09375 18.109375 28.8125 \nL 18.109375 0 \nL 9.078125 0 \nL 9.078125 54.6875 \nL 18.109375 54.6875 \nL 18.109375 46.1875 \nQ 20.953125 51.171875 25.484375 53.578125 \nQ 30.03125 56 36.53125 56 \nQ 37.453125 56 38.578125 55.875 \nQ 39.703125 55.765625 41.0625 55.515625 \nz\n\" id=\"DejaVuSans-114\"/>\n      <path d=\"M 34.28125 27.484375 \nQ 23.390625 27.484375 19.1875 25 \nQ 14.984375 22.515625 14.984375 16.5 \nQ 14.984375 11.71875 18.140625 8.90625 \nQ 21.296875 6.109375 26.703125 6.109375 \nQ 34.1875 6.109375 38.703125 11.40625 \nQ 43.21875 16.703125 43.21875 25.484375 \nL 43.21875 27.484375 \nz\nM 52.203125 31.203125 \nL 52.203125 0 \nL 43.21875 0 \nL 43.21875 8.296875 \nQ 40.140625 3.328125 35.546875 0.953125 \nQ 30.953125 -1.421875 24.3125 -1.421875 \nQ 15.921875 -1.421875 10.953125 3.296875 \nQ 6 8.015625 6 15.921875 \nQ 6 25.140625 12.171875 29.828125 \nQ 18.359375 34.515625 30.609375 34.515625 \nL 43.21875 34.515625 \nL 43.21875 35.40625 \nQ 43.21875 41.609375 39.140625 45 \nQ 35.0625 48.390625 27.6875 48.390625 \nQ 23 48.390625 18.546875 47.265625 \nQ 14.109375 46.140625 10.015625 43.890625 \nL 10.015625 52.203125 \nQ 14.9375 54.109375 19.578125 55.046875 \nQ 24.21875 56 28.609375 56 \nQ 40.484375 56 46.34375 49.84375 \nQ 52.203125 43.703125 52.203125 31.203125 \nz\n\" id=\"DejaVuSans-97\"/>\n      <path d=\"M 9.421875 54.6875 \nL 18.40625 54.6875 \nL 18.40625 0 \nL 9.421875 0 \nz\nM 9.421875 75.984375 \nL 18.40625 75.984375 \nL 18.40625 64.59375 \nL 9.421875 64.59375 \nz\n\" id=\"DejaVuSans-105\"/>\n      <path d=\"M 54.890625 33.015625 \nL 54.890625 0 \nL 45.90625 0 \nL 45.90625 32.71875 \nQ 45.90625 40.484375 42.875 44.328125 \nQ 39.84375 48.1875 33.796875 48.1875 \nQ 26.515625 48.1875 22.3125 43.546875 \nQ 18.109375 38.921875 18.109375 30.90625 \nL 18.109375 0 \nL 9.078125 0 \nL 9.078125 54.6875 \nL 18.109375 54.6875 \nL 18.109375 46.1875 \nQ 21.34375 51.125 25.703125 53.5625 \nQ 30.078125 56 35.796875 56 \nQ 45.21875 56 50.046875 50.171875 \nQ 54.890625 44.34375 54.890625 33.015625 \nz\n\" id=\"DejaVuSans-110\"/>\n      <path id=\"DejaVuSans-32\"/>\n      <path d=\"M 9.421875 75.984375 \nL 18.40625 75.984375 \nL 18.40625 0 \nL 9.421875 0 \nz\n\" id=\"DejaVuSans-108\"/>\n      <path d=\"M 44.28125 53.078125 \nL 44.28125 44.578125 \nQ 40.484375 46.53125 36.375 47.5 \nQ 32.28125 48.484375 27.875 48.484375 \nQ 21.1875 48.484375 17.84375 46.4375 \nQ 14.5 44.390625 14.5 40.28125 \nQ 14.5 37.15625 16.890625 35.375 \nQ 19.28125 33.59375 26.515625 31.984375 \nL 29.59375 31.296875 \nQ 39.15625 29.25 43.1875 25.515625 \nQ 47.21875 21.78125 47.21875 15.09375 \nQ 47.21875 7.46875 41.1875 3.015625 \nQ 35.15625 -1.421875 24.609375 -1.421875 \nQ 20.21875 -1.421875 15.453125 -0.5625 \nQ 10.6875 0.296875 5.421875 2 \nL 5.421875 11.28125 \nQ 10.40625 8.6875 15.234375 7.390625 \nQ 20.0625 6.109375 24.8125 6.109375 \nQ 31.15625 6.109375 34.5625 8.28125 \nQ 37.984375 10.453125 37.984375 14.40625 \nQ 37.984375 18.0625 35.515625 20.015625 \nQ 33.0625 21.96875 24.703125 23.78125 \nL 21.578125 24.515625 \nQ 13.234375 26.265625 9.515625 29.90625 \nQ 5.8125 33.546875 5.8125 39.890625 \nQ 5.8125 47.609375 11.28125 51.796875 \nQ 16.75 56 26.8125 56 \nQ 31.78125 56 36.171875 55.265625 \nQ 40.578125 54.546875 44.28125 53.078125 \nz\n\" id=\"DejaVuSans-115\"/>\n     </defs>\n     <g transform=\"translate(170.634375 23.798438)scale(0.1 -0.1)\">\n      <use xlink:href=\"#DejaVuSans-116\"/>\n      <use x=\"39.208984\" xlink:href=\"#DejaVuSans-114\"/>\n      <use x=\"80.322266\" xlink:href=\"#DejaVuSans-97\"/>\n      <use x=\"141.601562\" xlink:href=\"#DejaVuSans-105\"/>\n      <use x=\"169.384766\" xlink:href=\"#DejaVuSans-110\"/>\n      <use x=\"232.763672\" xlink:href=\"#DejaVuSans-32\"/>\n      <use x=\"264.550781\" xlink:href=\"#DejaVuSans-108\"/>\n      <use x=\"292.333984\" xlink:href=\"#DejaVuSans-111\"/>\n      <use x=\"353.515625\" xlink:href=\"#DejaVuSans-115\"/>\n      <use x=\"405.615234\" xlink:href=\"#DejaVuSans-115\"/>\n     </g>\n    </g>\n    <g id=\"line2d_26\">\n     <path d=\"M 142.634375 34.976562 \nL 162.634375 34.976562 \n\" style=\"fill:none;stroke:#bf00bf;stroke-dasharray:5.55,2.4;stroke-dashoffset:0;stroke-width:1.5;\"/>\n    </g>\n    <g id=\"line2d_27\"/>\n    <g id=\"text_13\">\n     <!-- train acc -->\n     <g transform=\"translate(170.634375 38.476562)scale(0.1 -0.1)\">\n      <use xlink:href=\"#DejaVuSans-116\"/>\n      <use x=\"39.208984\" xlink:href=\"#DejaVuSans-114\"/>\n      <use x=\"80.322266\" xlink:href=\"#DejaVuSans-97\"/>\n      <use x=\"141.601562\" xlink:href=\"#DejaVuSans-105\"/>\n      <use x=\"169.384766\" xlink:href=\"#DejaVuSans-110\"/>\n      <use x=\"232.763672\" xlink:href=\"#DejaVuSans-32\"/>\n      <use x=\"264.550781\" xlink:href=\"#DejaVuSans-97\"/>\n      <use x=\"325.830078\" xlink:href=\"#DejaVuSans-99\"/>\n      <use x=\"380.810547\" xlink:href=\"#DejaVuSans-99\"/>\n     </g>\n    </g>\n    <g id=\"line2d_28\">\n     <path d=\"M 142.634375 49.654688 \nL 162.634375 49.654688 \n\" style=\"fill:none;stroke:#008000;stroke-dasharray:9.6,2.4,1.5,2.4;stroke-dashoffset:0;stroke-width:1.5;\"/>\n    </g>\n    <g id=\"line2d_29\"/>\n    <g id=\"text_14\">\n     <!-- test acc -->\n     <g transform=\"translate(170.634375 53.154688)scale(0.1 -0.1)\">\n      <use xlink:href=\"#DejaVuSans-116\"/>\n      <use x=\"39.208984\" xlink:href=\"#DejaVuSans-101\"/>\n      <use x=\"100.732422\" xlink:href=\"#DejaVuSans-115\"/>\n      <use x=\"152.832031\" xlink:href=\"#DejaVuSans-116\"/>\n      <use x=\"192.041016\" xlink:href=\"#DejaVuSans-32\"/>\n      <use x=\"223.828125\" xlink:href=\"#DejaVuSans-97\"/>\n      <use x=\"285.107422\" xlink:href=\"#DejaVuSans-99\"/>\n      <use x=\"340.087891\" xlink:href=\"#DejaVuSans-99\"/>\n     </g>\n    </g>\n   </g>\n  </g>\n </g>\n <defs>\n  <clipPath id=\"p9b1754dbdf\">\n   <rect height=\"135.9\" width=\"195.3\" x=\"30.103125\" y=\"7.2\"/>\n  </clipPath>\n </defs>\n</svg>\n"
          },
          "metadata": {
            "tags": [],
            "needs_background": "light"
          }
        }
      ]
    },
    {
      "cell_type": "markdown",
      "metadata": {
        "id": "duflLfYmXvKq"
      },
      "source": [
        "GoogLeNet"
      ]
    },
    {
      "cell_type": "markdown",
      "metadata": {
        "id": "rG8PDAB5Xyih"
      },
      "source": [
        "![image.png](data:image/png;base64,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)\n",
        "![image.png](data:image/png;base64,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)"
      ]
    },
    {
      "cell_type": "code",
      "metadata": {
        "id": "MBSPysEVBWlb"
      },
      "source": [
        "import torch\n",
        "from torch import nn\n",
        "from torch.nn import functional as F\n",
        "from d2l import torch as d2l\n",
        "#Inception 块\n",
        "class Inception(nn.Module):\n",
        "  def __init__(self, in_channels, c1, c2, c3, c4, **kwargs):\n",
        "    super(Inception, self).__init__(**kwargs)\n",
        "    self.p1_1 = nn.Conv2d(in_channels, c1, kernel_size = 1)\n",
        "    self.p2_1 = nn.Conv2d(in_channels, c2[0], kernel_size = 1)\n",
        "    self.p2_2 = nn.Conv2d(c2[0], c2[1], kernel_size = 3, padding = 1)\n",
        "    self.p3_1 = nn.Conv2d(in_channels, c3[0], kernel_size = 1)\n",
        "    self.p3_2 = nn.Conv2d(c3[0], c3[1], kernel_size = 5, padding = 2)\n",
        "    self.p4_1 = nn.MaxPool2d(kernel_size = 3, stride = 1, padding = 1)\n",
        "    self.p4_2 = nn.Conv2d(in_channels, c4, kernel_size = 1)\n",
        "  def forward(self, x):\n",
        "    p1 = F.relu(self.p1_1(x))\n",
        "    p2 = F.relu(self.p2_2(F.relu(self.p2_1(x))))\n",
        "    p3 = F.relu(self.p3_2(F.relu(self.p3_1(x))))\n",
        "    p4 = F.relu(self.p4_2(self.p4_1(x)))\n",
        "    return torch.cat((p1, p2, p3, p4), dim = 1)\n"
      ],
      "execution_count": null,
      "outputs": []
    },
    {
      "cell_type": "code",
      "metadata": {
        "id": "7ccaVqaFXsyb"
      },
      "source": [
        "b1 = nn.Sequential(nn.Conv2d(1, 64, kernel_size = 7, stride = 2, padding = 3),\n",
        "          nn.ReLU(), nn.MaxPool2d(kernel_size = 3, stride = 2, padding = 1))\n",
        "b2 = nn.Sequential(nn.Conv2d(64, 64, kernel_size = 1), nn.ReLU(),\n",
        "                   nn.Conv2d(64, 192, kernel_size = 3, padding = 1),\n",
        "                   nn.MaxPool2d(kernel_size = 3, stride = 2, padding = 1))\n",
        "b3 = nn.Sequential(Inception(192, 64, (96, 128), (16, 32), 32),\n",
        "          Inception(256, 128, (128, 192), (32, 96), 64),\n",
        "          nn.MaxPool2d(kernel_size = 3, stride = 2, padding = 1))\n",
        "b4 = nn.Sequential(Inception(480, 192, (96, 208), (16, 48), 64),\n",
        "          Inception(512, 160, (112, 224), (24, 64), 64),\n",
        "          Inception(512, 128, (128, 256), (24, 64), 64),\n",
        "          Inception(512, 112, (144, 288), (32, 64), 64),\n",
        "          Inception(528, 256, (160, 320), (32, 128), 128),\n",
        "          nn.MaxPool2d(kernel_size = 3, stride = 2, padding = 1))\n",
        "b5 = nn.Sequential(Inception(832, 256, (160, 320), (32, 128), 128),\n",
        "          Inception(832, 384, (192, 384), (48, 128), 128),\n",
        "          nn.AdaptiveAvgPool2d((1, 1)), nn.Flatten())\n",
        "net = nn.Sequential(b1, b2, b3, b4, b5, nn.Linear(1024, 10))"
      ],
      "execution_count": null,
      "outputs": []
    },
    {
      "cell_type": "code",
      "metadata": {
        "colab": {
          "base_uri": "https://localhost:8080/"
        },
        "id": "k8eVx2YbhjYG",
        "outputId": "05b05a13-a38f-456b-cd6d-4bf4d0b9f5ef"
      },
      "source": [
        "X = torch.randn(size = (1, 1, 96, 96))\n",
        "for layer in net:\n",
        "  X = layer(X)\n",
        "  print(layer.__class__.__name__, 'output shape:\\t', X.shape)"
      ],
      "execution_count": null,
      "outputs": [
        {
          "output_type": "stream",
          "text": [
            "Sequential output shape:\t torch.Size([1, 64, 24, 24])\n",
            "Sequential output shape:\t torch.Size([1, 192, 12, 12])\n",
            "Sequential output shape:\t torch.Size([1, 480, 6, 6])\n",
            "Sequential output shape:\t torch.Size([1, 832, 3, 3])\n",
            "Sequential output shape:\t torch.Size([1, 1024])\n",
            "Linear output shape:\t torch.Size([1, 10])\n"
          ],
          "name": "stdout"
        }
      ]
    },
    {
      "cell_type": "code",
      "metadata": {
        "colab": {
          "base_uri": "https://localhost:8080/",
          "height": 296,
          "referenced_widgets": [
            "5da3d353a1c243f9a1d0c2b0a1225142",
            "31cad01289004c31be1be39c8ba89c82",
            "fa69cc19afe24334b552aae33938496d",
            "d7d493449e624559bfe658fd85607c8e",
            "c1ffe984f7b84aa59f31370ef56ccc27",
            "bb486ca50f3145f982345bf72659a703",
            "bbb5f03064a64b1eb365eeab14fc9ee5",
            "2cc62bf66f834cdeaf492a17d8a827bd",
            "4bb3ab6413de41139e978e16f6f7200e",
            "9b216070a1bd4fc8b7955b231e1b4a79",
            "9518f27fd5894eac9bdce177ceffcb01",
            "b809beae5ffc42f0b140351786fb9688",
            "015a7fd4f4894b628b327c749177868b",
            "bd5e635f30244c8f80bbf3c4266b4974",
            "0b2ae1b792bb432d83242750cadeb655",
            "e730cadb6aa54621b97a4418eeee5c8f",
            "d1bde62cabb6406f954ca560c3551cd5",
            "447c9e511fed4a46be9a74ce577c66a6",
            "cfe803ebc75d4b9da80c3865db8f8b8b",
            "adbdc47f0e7a4df6953245e011d75dcd",
            "d5087dd52d0d401dbc289f1e35b4a9b3",
            "c0814739f3014f9e837858d74e4de849",
            "f63d617c5e4d47ab96ea2ab78ffd9f6d",
            "3eb3299ecd544cfc8d0c7a5b04ab5ffb",
            "34e5434198a241f3b349560fc650ab68",
            "c4aad43a5fa244149a2f92ff1e86a9ef",
            "3c3d14438e924f118989a494bcd7c3ad",
            "4aac0a7bb23645dfb270425ac0815a7f",
            "9cad64bd725f4b4a912e80d4f8719e2a",
            "06e2a6e48d8742ed835fdb79f21da76f",
            "2162dcc3d9594754bcd13efcd22cb6d9",
            "5821b17142094f6f893f24aa79e19fdf"
          ]
        },
        "id": "XlSR50QYh4bE",
        "outputId": "0347d05c-1b9e-42ee-f8ca-532e71a3d3c9"
      },
      "source": [
        "lr, num_epochs, batch_size = 0.1, 10, 128\n",
        "train_iter, test_iter = d2l.load_data_fashion_mnist(batch_size, resize = 96)\n",
        "d2l.train_ch6(net, train_iter, test_iter, num_epochs, lr, d2l.try_gpu())"
      ],
      "execution_count": null,
      "outputs": [
        {
          "output_type": "stream",
          "text": [
            "loss 0.243, train acc 0.908, test acc 0.891\n",
            "1421.5 examples/sec on cuda:0\n"
          ],
          "name": "stdout"
        },
        {
          "output_type": "display_data",
          "data": {
            "text/plain": [
              "<Figure size 252x180 with 1 Axes>"
            ],
            "image/svg+xml": "<?xml version=\"1.0\" encoding=\"utf-8\" standalone=\"no\"?>\n<!DOCTYPE svg PUBLIC \"-//W3C//DTD SVG 1.1//EN\"\n  \"http://www.w3.org/Graphics/SVG/1.1/DTD/svg11.dtd\">\n<!-- Created with matplotlib (https://matplotlib.org/) -->\n<svg height=\"180.65625pt\" version=\"1.1\" viewBox=\"0 0 238.965625 180.65625\" width=\"238.965625pt\" xmlns=\"http://www.w3.org/2000/svg\" xmlns:xlink=\"http://www.w3.org/1999/xlink\">\n <defs>\n  <style type=\"text/css\">\n*{stroke-linecap:butt;stroke-linejoin:round;}\n  </style>\n </defs>\n <g id=\"figure_1\">\n  <g id=\"patch_1\">\n   <path d=\"M 0 180.65625 \nL 238.965625 180.65625 \nL 238.965625 0 \nL 0 0 \nz\n\" style=\"fill:none;\"/>\n  </g>\n  <g id=\"axes_1\">\n   <g id=\"patch_2\">\n    <path d=\"M 30.103125 143.1 \nL 225.403125 143.1 \nL 225.403125 7.2 \nL 30.103125 7.2 \nz\n\" style=\"fill:#ffffff;\"/>\n   </g>\n   <g id=\"matplotlib.axis_1\">\n    <g id=\"xtick_1\">\n     <g id=\"line2d_1\">\n      <path clip-path=\"url(#p9d53fbc069)\" d=\"M 51.803125 143.1 \nL 51.803125 7.2 \n\" style=\"fill:none;stroke:#b0b0b0;stroke-linecap:square;stroke-width:0.8;\"/>\n     </g>\n     <g id=\"line2d_2\">\n      <defs>\n       <path d=\"M 0 0 \nL 0 3.5 \n\" id=\"me89ad2e667\" style=\"stroke:#000000;stroke-width:0.8;\"/>\n      </defs>\n      <g>\n       <use style=\"stroke:#000000;stroke-width:0.8;\" x=\"51.803125\" xlink:href=\"#me89ad2e667\" y=\"143.1\"/>\n      </g>\n     </g>\n     <g id=\"text_1\">\n      <!-- 2 -->\n      <defs>\n       <path d=\"M 19.1875 8.296875 \nL 53.609375 8.296875 \nL 53.609375 0 \nL 7.328125 0 \nL 7.328125 8.296875 \nQ 12.9375 14.109375 22.625 23.890625 \nQ 32.328125 33.6875 34.8125 36.53125 \nQ 39.546875 41.84375 41.421875 45.53125 \nQ 43.3125 49.21875 43.3125 52.78125 \nQ 43.3125 58.59375 39.234375 62.25 \nQ 35.15625 65.921875 28.609375 65.921875 \nQ 23.96875 65.921875 18.8125 64.3125 \nQ 13.671875 62.703125 7.8125 59.421875 \nL 7.8125 69.390625 \nQ 13.765625 71.78125 18.9375 73 \nQ 24.125 74.21875 28.421875 74.21875 \nQ 39.75 74.21875 46.484375 68.546875 \nQ 53.21875 62.890625 53.21875 53.421875 \nQ 53.21875 48.921875 51.53125 44.890625 \nQ 49.859375 40.875 45.40625 35.40625 \nQ 44.1875 33.984375 37.640625 27.21875 \nQ 31.109375 20.453125 19.1875 8.296875 \nz\n\" id=\"DejaVuSans-50\"/>\n      </defs>\n      <g transform=\"translate(48.621875 157.698438)scale(0.1 -0.1)\">\n       <use xlink:href=\"#DejaVuSans-50\"/>\n      </g>\n     </g>\n    </g>\n    <g id=\"xtick_2\">\n     <g id=\"line2d_3\">\n      <path clip-path=\"url(#p9d53fbc069)\" d=\"M 95.203125 143.1 \nL 95.203125 7.2 \n\" style=\"fill:none;stroke:#b0b0b0;stroke-linecap:square;stroke-width:0.8;\"/>\n     </g>\n     <g id=\"line2d_4\">\n      <g>\n       <use style=\"stroke:#000000;stroke-width:0.8;\" x=\"95.203125\" xlink:href=\"#me89ad2e667\" y=\"143.1\"/>\n      </g>\n     </g>\n     <g id=\"text_2\">\n      <!-- 4 -->\n      <defs>\n       <path d=\"M 37.796875 64.3125 \nL 12.890625 25.390625 \nL 37.796875 25.390625 \nz\nM 35.203125 72.90625 \nL 47.609375 72.90625 \nL 47.609375 25.390625 \nL 58.015625 25.390625 \nL 58.015625 17.1875 \nL 47.609375 17.1875 \nL 47.609375 0 \nL 37.796875 0 \nL 37.796875 17.1875 \nL 4.890625 17.1875 \nL 4.890625 26.703125 \nz\n\" id=\"DejaVuSans-52\"/>\n      </defs>\n      <g transform=\"translate(92.021875 157.698438)scale(0.1 -0.1)\">\n       <use xlink:href=\"#DejaVuSans-52\"/>\n      </g>\n     </g>\n    </g>\n    <g id=\"xtick_3\">\n     <g id=\"line2d_5\">\n      <path clip-path=\"url(#p9d53fbc069)\" d=\"M 138.603125 143.1 \nL 138.603125 7.2 \n\" style=\"fill:none;stroke:#b0b0b0;stroke-linecap:square;stroke-width:0.8;\"/>\n     </g>\n     <g id=\"line2d_6\">\n      <g>\n       <use style=\"stroke:#000000;stroke-width:0.8;\" x=\"138.603125\" xlink:href=\"#me89ad2e667\" y=\"143.1\"/>\n      </g>\n     </g>\n     <g id=\"text_3\">\n      <!-- 6 -->\n      <defs>\n       <path d=\"M 33.015625 40.375 \nQ 26.375 40.375 22.484375 35.828125 \nQ 18.609375 31.296875 18.609375 23.390625 \nQ 18.609375 15.53125 22.484375 10.953125 \nQ 26.375 6.390625 33.015625 6.390625 \nQ 39.65625 6.390625 43.53125 10.953125 \nQ 47.40625 15.53125 47.40625 23.390625 \nQ 47.40625 31.296875 43.53125 35.828125 \nQ 39.65625 40.375 33.015625 40.375 \nz\nM 52.59375 71.296875 \nL 52.59375 62.3125 \nQ 48.875 64.0625 45.09375 64.984375 \nQ 41.3125 65.921875 37.59375 65.921875 \nQ 27.828125 65.921875 22.671875 59.328125 \nQ 17.53125 52.734375 16.796875 39.40625 \nQ 19.671875 43.65625 24.015625 45.921875 \nQ 28.375 48.1875 33.59375 48.1875 \nQ 44.578125 48.1875 50.953125 41.515625 \nQ 57.328125 34.859375 57.328125 23.390625 \nQ 57.328125 12.15625 50.6875 5.359375 \nQ 44.046875 -1.421875 33.015625 -1.421875 \nQ 20.359375 -1.421875 13.671875 8.265625 \nQ 6.984375 17.96875 6.984375 36.375 \nQ 6.984375 53.65625 15.1875 63.9375 \nQ 23.390625 74.21875 37.203125 74.21875 \nQ 40.921875 74.21875 44.703125 73.484375 \nQ 48.484375 72.75 52.59375 71.296875 \nz\n\" id=\"DejaVuSans-54\"/>\n      </defs>\n      <g transform=\"translate(135.421875 157.698438)scale(0.1 -0.1)\">\n       <use xlink:href=\"#DejaVuSans-54\"/>\n      </g>\n     </g>\n    </g>\n    <g id=\"xtick_4\">\n     <g id=\"line2d_7\">\n      <path clip-path=\"url(#p9d53fbc069)\" d=\"M 182.003125 143.1 \nL 182.003125 7.2 \n\" style=\"fill:none;stroke:#b0b0b0;stroke-linecap:square;stroke-width:0.8;\"/>\n     </g>\n     <g id=\"line2d_8\">\n      <g>\n       <use style=\"stroke:#000000;stroke-width:0.8;\" x=\"182.003125\" xlink:href=\"#me89ad2e667\" y=\"143.1\"/>\n      </g>\n     </g>\n     <g id=\"text_4\">\n      <!-- 8 -->\n      <defs>\n       <path d=\"M 31.78125 34.625 \nQ 24.75 34.625 20.71875 30.859375 \nQ 16.703125 27.09375 16.703125 20.515625 \nQ 16.703125 13.921875 20.71875 10.15625 \nQ 24.75 6.390625 31.78125 6.390625 \nQ 38.8125 6.390625 42.859375 10.171875 \nQ 46.921875 13.96875 46.921875 20.515625 \nQ 46.921875 27.09375 42.890625 30.859375 \nQ 38.875 34.625 31.78125 34.625 \nz\nM 21.921875 38.8125 \nQ 15.578125 40.375 12.03125 44.71875 \nQ 8.5 49.078125 8.5 55.328125 \nQ 8.5 64.0625 14.71875 69.140625 \nQ 20.953125 74.21875 31.78125 74.21875 \nQ 42.671875 74.21875 48.875 69.140625 \nQ 55.078125 64.0625 55.078125 55.328125 \nQ 55.078125 49.078125 51.53125 44.71875 \nQ 48 40.375 41.703125 38.8125 \nQ 48.828125 37.15625 52.796875 32.3125 \nQ 56.78125 27.484375 56.78125 20.515625 \nQ 56.78125 9.90625 50.3125 4.234375 \nQ 43.84375 -1.421875 31.78125 -1.421875 \nQ 19.734375 -1.421875 13.25 4.234375 \nQ 6.78125 9.90625 6.78125 20.515625 \nQ 6.78125 27.484375 10.78125 32.3125 \nQ 14.796875 37.15625 21.921875 38.8125 \nz\nM 18.3125 54.390625 \nQ 18.3125 48.734375 21.84375 45.5625 \nQ 25.390625 42.390625 31.78125 42.390625 \nQ 38.140625 42.390625 41.71875 45.5625 \nQ 45.3125 48.734375 45.3125 54.390625 \nQ 45.3125 60.0625 41.71875 63.234375 \nQ 38.140625 66.40625 31.78125 66.40625 \nQ 25.390625 66.40625 21.84375 63.234375 \nQ 18.3125 60.0625 18.3125 54.390625 \nz\n\" id=\"DejaVuSans-56\"/>\n      </defs>\n      <g transform=\"translate(178.821875 157.698438)scale(0.1 -0.1)\">\n       <use xlink:href=\"#DejaVuSans-56\"/>\n      </g>\n     </g>\n    </g>\n    <g id=\"xtick_5\">\n     <g id=\"line2d_9\">\n      <path clip-path=\"url(#p9d53fbc069)\" d=\"M 225.403125 143.1 \nL 225.403125 7.2 \n\" style=\"fill:none;stroke:#b0b0b0;stroke-linecap:square;stroke-width:0.8;\"/>\n     </g>\n     <g id=\"line2d_10\">\n      <g>\n       <use style=\"stroke:#000000;stroke-width:0.8;\" x=\"225.403125\" xlink:href=\"#me89ad2e667\" y=\"143.1\"/>\n      </g>\n     </g>\n     <g id=\"text_5\">\n      <!-- 10 -->\n      <defs>\n       <path d=\"M 12.40625 8.296875 \nL 28.515625 8.296875 \nL 28.515625 63.921875 \nL 10.984375 60.40625 \nL 10.984375 69.390625 \nL 28.421875 72.90625 \nL 38.28125 72.90625 \nL 38.28125 8.296875 \nL 54.390625 8.296875 \nL 54.390625 0 \nL 12.40625 0 \nz\n\" id=\"DejaVuSans-49\"/>\n       <path d=\"M 31.78125 66.40625 \nQ 24.171875 66.40625 20.328125 58.90625 \nQ 16.5 51.421875 16.5 36.375 \nQ 16.5 21.390625 20.328125 13.890625 \nQ 24.171875 6.390625 31.78125 6.390625 \nQ 39.453125 6.390625 43.28125 13.890625 \nQ 47.125 21.390625 47.125 36.375 \nQ 47.125 51.421875 43.28125 58.90625 \nQ 39.453125 66.40625 31.78125 66.40625 \nz\nM 31.78125 74.21875 \nQ 44.046875 74.21875 50.515625 64.515625 \nQ 56.984375 54.828125 56.984375 36.375 \nQ 56.984375 17.96875 50.515625 8.265625 \nQ 44.046875 -1.421875 31.78125 -1.421875 \nQ 19.53125 -1.421875 13.0625 8.265625 \nQ 6.59375 17.96875 6.59375 36.375 \nQ 6.59375 54.828125 13.0625 64.515625 \nQ 19.53125 74.21875 31.78125 74.21875 \nz\n\" id=\"DejaVuSans-48\"/>\n      </defs>\n      <g transform=\"translate(219.040625 157.698438)scale(0.1 -0.1)\">\n       <use xlink:href=\"#DejaVuSans-49\"/>\n       <use x=\"63.623047\" xlink:href=\"#DejaVuSans-48\"/>\n      </g>\n     </g>\n    </g>\n    <g id=\"text_6\">\n     <!-- epoch -->\n     <defs>\n      <path d=\"M 56.203125 29.59375 \nL 56.203125 25.203125 \nL 14.890625 25.203125 \nQ 15.484375 15.921875 20.484375 11.0625 \nQ 25.484375 6.203125 34.421875 6.203125 \nQ 39.59375 6.203125 44.453125 7.46875 \nQ 49.3125 8.734375 54.109375 11.28125 \nL 54.109375 2.78125 \nQ 49.265625 0.734375 44.1875 -0.34375 \nQ 39.109375 -1.421875 33.890625 -1.421875 \nQ 20.796875 -1.421875 13.15625 6.1875 \nQ 5.515625 13.8125 5.515625 26.8125 \nQ 5.515625 40.234375 12.765625 48.109375 \nQ 20.015625 56 32.328125 56 \nQ 43.359375 56 49.78125 48.890625 \nQ 56.203125 41.796875 56.203125 29.59375 \nz\nM 47.21875 32.234375 \nQ 47.125 39.59375 43.09375 43.984375 \nQ 39.0625 48.390625 32.421875 48.390625 \nQ 24.90625 48.390625 20.390625 44.140625 \nQ 15.875 39.890625 15.1875 32.171875 \nz\n\" id=\"DejaVuSans-101\"/>\n      <path d=\"M 18.109375 8.203125 \nL 18.109375 -20.796875 \nL 9.078125 -20.796875 \nL 9.078125 54.6875 \nL 18.109375 54.6875 \nL 18.109375 46.390625 \nQ 20.953125 51.265625 25.265625 53.625 \nQ 29.59375 56 35.59375 56 \nQ 45.5625 56 51.78125 48.09375 \nQ 58.015625 40.1875 58.015625 27.296875 \nQ 58.015625 14.40625 51.78125 6.484375 \nQ 45.5625 -1.421875 35.59375 -1.421875 \nQ 29.59375 -1.421875 25.265625 0.953125 \nQ 20.953125 3.328125 18.109375 8.203125 \nz\nM 48.6875 27.296875 \nQ 48.6875 37.203125 44.609375 42.84375 \nQ 40.53125 48.484375 33.40625 48.484375 \nQ 26.265625 48.484375 22.1875 42.84375 \nQ 18.109375 37.203125 18.109375 27.296875 \nQ 18.109375 17.390625 22.1875 11.75 \nQ 26.265625 6.109375 33.40625 6.109375 \nQ 40.53125 6.109375 44.609375 11.75 \nQ 48.6875 17.390625 48.6875 27.296875 \nz\n\" id=\"DejaVuSans-112\"/>\n      <path d=\"M 30.609375 48.390625 \nQ 23.390625 48.390625 19.1875 42.75 \nQ 14.984375 37.109375 14.984375 27.296875 \nQ 14.984375 17.484375 19.15625 11.84375 \nQ 23.34375 6.203125 30.609375 6.203125 \nQ 37.796875 6.203125 41.984375 11.859375 \nQ 46.1875 17.53125 46.1875 27.296875 \nQ 46.1875 37.015625 41.984375 42.703125 \nQ 37.796875 48.390625 30.609375 48.390625 \nz\nM 30.609375 56 \nQ 42.328125 56 49.015625 48.375 \nQ 55.71875 40.765625 55.71875 27.296875 \nQ 55.71875 13.875 49.015625 6.21875 \nQ 42.328125 -1.421875 30.609375 -1.421875 \nQ 18.84375 -1.421875 12.171875 6.21875 \nQ 5.515625 13.875 5.515625 27.296875 \nQ 5.515625 40.765625 12.171875 48.375 \nQ 18.84375 56 30.609375 56 \nz\n\" id=\"DejaVuSans-111\"/>\n      <path d=\"M 48.78125 52.59375 \nL 48.78125 44.1875 \nQ 44.96875 46.296875 41.140625 47.34375 \nQ 37.3125 48.390625 33.40625 48.390625 \nQ 24.65625 48.390625 19.8125 42.84375 \nQ 14.984375 37.3125 14.984375 27.296875 \nQ 14.984375 17.28125 19.8125 11.734375 \nQ 24.65625 6.203125 33.40625 6.203125 \nQ 37.3125 6.203125 41.140625 7.25 \nQ 44.96875 8.296875 48.78125 10.40625 \nL 48.78125 2.09375 \nQ 45.015625 0.34375 40.984375 -0.53125 \nQ 36.96875 -1.421875 32.421875 -1.421875 \nQ 20.0625 -1.421875 12.78125 6.34375 \nQ 5.515625 14.109375 5.515625 27.296875 \nQ 5.515625 40.671875 12.859375 48.328125 \nQ 20.21875 56 33.015625 56 \nQ 37.15625 56 41.109375 55.140625 \nQ 45.0625 54.296875 48.78125 52.59375 \nz\n\" id=\"DejaVuSans-99\"/>\n      <path d=\"M 54.890625 33.015625 \nL 54.890625 0 \nL 45.90625 0 \nL 45.90625 32.71875 \nQ 45.90625 40.484375 42.875 44.328125 \nQ 39.84375 48.1875 33.796875 48.1875 \nQ 26.515625 48.1875 22.3125 43.546875 \nQ 18.109375 38.921875 18.109375 30.90625 \nL 18.109375 0 \nL 9.078125 0 \nL 9.078125 75.984375 \nL 18.109375 75.984375 \nL 18.109375 46.1875 \nQ 21.34375 51.125 25.703125 53.5625 \nQ 30.078125 56 35.796875 56 \nQ 45.21875 56 50.046875 50.171875 \nQ 54.890625 44.34375 54.890625 33.015625 \nz\n\" id=\"DejaVuSans-104\"/>\n     </defs>\n     <g transform=\"translate(112.525 171.376563)scale(0.1 -0.1)\">\n      <use xlink:href=\"#DejaVuSans-101\"/>\n      <use x=\"61.523438\" xlink:href=\"#DejaVuSans-112\"/>\n      <use x=\"125\" xlink:href=\"#DejaVuSans-111\"/>\n      <use x=\"186.181641\" xlink:href=\"#DejaVuSans-99\"/>\n      <use x=\"241.162109\" xlink:href=\"#DejaVuSans-104\"/>\n     </g>\n    </g>\n   </g>\n   <g id=\"matplotlib.axis_2\">\n    <g id=\"ytick_1\">\n     <g id=\"line2d_11\">\n      <path clip-path=\"url(#p9d53fbc069)\" d=\"M 30.103125 115.327083 \nL 225.403125 115.327083 \n\" style=\"fill:none;stroke:#b0b0b0;stroke-linecap:square;stroke-width:0.8;\"/>\n     </g>\n     <g id=\"line2d_12\">\n      <defs>\n       <path d=\"M 0 0 \nL -3.5 0 \n\" id=\"mccd0316e81\" style=\"stroke:#000000;stroke-width:0.8;\"/>\n      </defs>\n      <g>\n       <use style=\"stroke:#000000;stroke-width:0.8;\" x=\"30.103125\" xlink:href=\"#mccd0316e81\" y=\"115.327083\"/>\n      </g>\n     </g>\n     <g id=\"text_7\">\n      <!-- 0.5 -->\n      <defs>\n       <path d=\"M 10.6875 12.40625 \nL 21 12.40625 \nL 21 0 \nL 10.6875 0 \nz\n\" id=\"DejaVuSans-46\"/>\n       <path d=\"M 10.796875 72.90625 \nL 49.515625 72.90625 \nL 49.515625 64.59375 \nL 19.828125 64.59375 \nL 19.828125 46.734375 \nQ 21.96875 47.46875 24.109375 47.828125 \nQ 26.265625 48.1875 28.421875 48.1875 \nQ 40.625 48.1875 47.75 41.5 \nQ 54.890625 34.8125 54.890625 23.390625 \nQ 54.890625 11.625 47.5625 5.09375 \nQ 40.234375 -1.421875 26.90625 -1.421875 \nQ 22.3125 -1.421875 17.546875 -0.640625 \nQ 12.796875 0.140625 7.71875 1.703125 \nL 7.71875 11.625 \nQ 12.109375 9.234375 16.796875 8.0625 \nQ 21.484375 6.890625 26.703125 6.890625 \nQ 35.15625 6.890625 40.078125 11.328125 \nQ 45.015625 15.765625 45.015625 23.390625 \nQ 45.015625 31 40.078125 35.4375 \nQ 35.15625 39.890625 26.703125 39.890625 \nQ 22.75 39.890625 18.8125 39.015625 \nQ 14.890625 38.140625 10.796875 36.28125 \nz\n\" id=\"DejaVuSans-53\"/>\n      </defs>\n      <g transform=\"translate(7.2 119.126301)scale(0.1 -0.1)\">\n       <use xlink:href=\"#DejaVuSans-48\"/>\n       <use x=\"63.623047\" xlink:href=\"#DejaVuSans-46\"/>\n       <use x=\"95.410156\" xlink:href=\"#DejaVuSans-53\"/>\n      </g>\n     </g>\n    </g>\n    <g id=\"ytick_2\">\n     <g id=\"line2d_13\">\n      <path clip-path=\"url(#p9d53fbc069)\" d=\"M 30.103125 87.002429 \nL 225.403125 87.002429 \n\" style=\"fill:none;stroke:#b0b0b0;stroke-linecap:square;stroke-width:0.8;\"/>\n     </g>\n     <g id=\"line2d_14\">\n      <g>\n       <use style=\"stroke:#000000;stroke-width:0.8;\" x=\"30.103125\" xlink:href=\"#mccd0316e81\" y=\"87.002429\"/>\n      </g>\n     </g>\n     <g id=\"text_8\">\n      <!-- 1.0 -->\n      <g transform=\"translate(7.2 90.801648)scale(0.1 -0.1)\">\n       <use xlink:href=\"#DejaVuSans-49\"/>\n       <use x=\"63.623047\" xlink:href=\"#DejaVuSans-46\"/>\n       <use x=\"95.410156\" xlink:href=\"#DejaVuSans-48\"/>\n      </g>\n     </g>\n    </g>\n    <g id=\"ytick_3\">\n     <g id=\"line2d_15\">\n      <path clip-path=\"url(#p9d53fbc069)\" d=\"M 30.103125 58.677776 \nL 225.403125 58.677776 \n\" style=\"fill:none;stroke:#b0b0b0;stroke-linecap:square;stroke-width:0.8;\"/>\n     </g>\n     <g id=\"line2d_16\">\n      <g>\n       <use style=\"stroke:#000000;stroke-width:0.8;\" x=\"30.103125\" xlink:href=\"#mccd0316e81\" y=\"58.677776\"/>\n      </g>\n     </g>\n     <g id=\"text_9\">\n      <!-- 1.5 -->\n      <g transform=\"translate(7.2 62.476995)scale(0.1 -0.1)\">\n       <use xlink:href=\"#DejaVuSans-49\"/>\n       <use x=\"63.623047\" xlink:href=\"#DejaVuSans-46\"/>\n       <use x=\"95.410156\" xlink:href=\"#DejaVuSans-53\"/>\n      </g>\n     </g>\n    </g>\n    <g id=\"ytick_4\">\n     <g id=\"line2d_17\">\n      <path clip-path=\"url(#p9d53fbc069)\" d=\"M 30.103125 30.353122 \nL 225.403125 30.353122 \n\" style=\"fill:none;stroke:#b0b0b0;stroke-linecap:square;stroke-width:0.8;\"/>\n     </g>\n     <g id=\"line2d_18\">\n      <g>\n       <use style=\"stroke:#000000;stroke-width:0.8;\" x=\"30.103125\" xlink:href=\"#mccd0316e81\" y=\"30.353122\"/>\n      </g>\n     </g>\n     <g id=\"text_10\">\n      <!-- 2.0 -->\n      <g transform=\"translate(7.2 34.152341)scale(0.1 -0.1)\">\n       <use xlink:href=\"#DejaVuSans-50\"/>\n       <use x=\"63.623047\" xlink:href=\"#DejaVuSans-46\"/>\n       <use x=\"95.410156\" xlink:href=\"#DejaVuSans-48\"/>\n      </g>\n     </g>\n    </g>\n   </g>\n   <g id=\"line2d_19\">\n    <path clip-path=\"url(#p9d53fbc069)\" d=\"M 12.70611 13.377273 \nL 17.009095 15.098969 \nL 21.31208 20.252614 \nL 25.615065 21.580439 \nL 29.91805 33.673985 \nL 30.103125 34.166743 \nL 34.40611 95.437336 \nL 38.709095 98.245508 \nL 43.01208 101.143127 \nL 47.315065 103.711819 \nL 51.61805 105.594061 \nL 51.803125 105.59513 \nL 56.10611 116.282695 \nL 60.409095 116.465153 \nL 64.71208 117.045975 \nL 69.015065 117.514489 \nL 73.31805 118.061847 \nL 73.503125 118.070596 \nL 77.80611 121.200108 \nL 82.109095 121.437265 \nL 86.41208 121.567498 \nL 90.715065 121.967944 \nL 95.01805 122.257302 \nL 95.203125 122.279165 \nL 99.50611 124.285058 \nL 103.809095 124.533993 \nL 108.11208 124.315321 \nL 112.415065 124.456133 \nL 116.71805 124.644874 \nL 116.903125 124.642133 \nL 121.20611 125.726953 \nL 125.509095 125.549027 \nL 129.81208 126.000091 \nL 134.115065 126.039023 \nL 138.41805 126.021431 \nL 138.603125 126.041587 \nL 142.90611 127.265798 \nL 147.209095 126.991576 \nL 151.51208 127.141917 \nL 155.815065 127.249367 \nL 160.11805 127.248103 \nL 160.303125 127.235447 \nL 164.60611 128.025243 \nL 168.909095 128.009482 \nL 173.21208 128.182807 \nL 177.515065 128.238225 \nL 181.81805 128.304927 \nL 182.003125 128.303364 \nL 186.30611 129.132918 \nL 190.609095 129.157967 \nL 194.91208 128.943834 \nL 199.215065 129.121 \nL 203.51805 129.142286 \nL 203.703125 129.154225 \nL 208.00611 129.583757 \nL 212.309095 129.583291 \nL 216.61208 129.834284 \nL 220.915065 129.860242 \nL 225.21805 129.882352 \nL 225.403125 129.8901 \n\" style=\"fill:none;stroke:#1f77b4;stroke-linecap:square;stroke-width:1.5;\"/>\n   </g>\n   <g id=\"line2d_20\">\n    <path clip-path=\"url(#p9d53fbc069)\" d=\"M 12.70611 136.922727 \nL 17.009095 134.55996 \nL 21.31208 132.692113 \nL 25.615065 132.144846 \nL 29.91805 128.1398 \nL 30.103125 127.954213 \nL 34.40611 105.714213 \nL 38.709095 104.498328 \nL 43.01208 103.412518 \nL 47.315065 102.323535 \nL 51.61805 101.567354 \nL 51.803125 101.546195 \nL 56.10611 97.243467 \nL 60.409095 97.067389 \nL 64.71208 96.90083 \nL 69.015065 96.714045 \nL 73.31805 96.565807 \nL 73.503125 96.564832 \nL 77.80611 95.658771 \nL 82.109095 95.499349 \nL 86.41208 95.433519 \nL 90.715065 95.300667 \nL 95.01805 95.185741 \nL 95.203125 95.175036 \nL 99.50611 94.454783 \nL 103.809095 94.262049 \nL 108.11208 94.286637 \nL 112.415065 94.267998 \nL 116.71805 94.220647 \nL 116.903125 94.220495 \nL 121.20611 94.040763 \nL 125.509095 94.126422 \nL 129.81208 93.942413 \nL 134.115065 93.843271 \nL 138.41805 93.824711 \nL 138.603125 93.821117 \nL 142.90611 93.241277 \nL 147.209095 93.345971 \nL 151.51208 93.319005 \nL 155.815065 93.281727 \nL 160.11805 93.276492 \nL 160.303125 93.280117 \nL 164.60611 92.97954 \nL 168.909095 93.084235 \nL 173.21208 92.989058 \nL 177.515065 92.933141 \nL 181.81805 92.931952 \nL 182.003125 92.930779 \nL 186.30611 92.655939 \nL 190.609095 92.603591 \nL 194.91208 92.644835 \nL 199.215065 92.600022 \nL 203.51805 92.573135 \nL 203.703125 92.568224 \nL 208.00611 92.408479 \nL 212.309095 92.334717 \nL 216.61208 92.197503 \nL 220.915065 92.183623 \nL 225.21805 92.185765 \nL 225.403125 92.189617 \n\" style=\"fill:none;stroke:#bf00bf;stroke-dasharray:5.55,2.4;stroke-dashoffset:0;stroke-width:1.5;\"/>\n   </g>\n   <g id=\"line2d_21\">\n    <path clip-path=\"url(#p9d53fbc069)\" d=\"M 30.103125 108.738768 \nL 51.803125 97.782792 \nL 73.503125 97.244624 \nL 95.203125 95.675438 \nL 116.903125 96.054988 \nL 138.603125 94.984317 \nL 160.303125 93.602073 \nL 182.003125 93.987289 \nL 203.703125 94.196891 \nL 225.403125 93.177204 \n\" style=\"fill:none;stroke:#008000;stroke-dasharray:9.6,2.4,1.5,2.4;stroke-dashoffset:0;stroke-width:1.5;\"/>\n   </g>\n   <g id=\"patch_3\">\n    <path d=\"M 30.103125 143.1 \nL 30.103125 7.2 \n\" style=\"fill:none;stroke:#000000;stroke-linecap:square;stroke-linejoin:miter;stroke-width:0.8;\"/>\n   </g>\n   <g id=\"patch_4\">\n    <path d=\"M 225.403125 143.1 \nL 225.403125 7.2 \n\" style=\"fill:none;stroke:#000000;stroke-linecap:square;stroke-linejoin:miter;stroke-width:0.8;\"/>\n   </g>\n   <g id=\"patch_5\">\n    <path d=\"M 30.103125 143.1 \nL 225.403125 143.1 \n\" style=\"fill:none;stroke:#000000;stroke-linecap:square;stroke-linejoin:miter;stroke-width:0.8;\"/>\n   </g>\n   <g id=\"patch_6\">\n    <path d=\"M 30.103125 7.2 \nL 225.403125 7.2 \n\" style=\"fill:none;stroke:#000000;stroke-linecap:square;stroke-linejoin:miter;stroke-width:0.8;\"/>\n   </g>\n   <g id=\"legend_1\">\n    <g id=\"patch_7\">\n     <path d=\"M 140.634375 59.234375 \nL 218.403125 59.234375 \nQ 220.403125 59.234375 220.403125 57.234375 \nL 220.403125 14.2 \nQ 220.403125 12.2 218.403125 12.2 \nL 140.634375 12.2 \nQ 138.634375 12.2 138.634375 14.2 \nL 138.634375 57.234375 \nQ 138.634375 59.234375 140.634375 59.234375 \nz\n\" style=\"fill:#ffffff;opacity:0.8;stroke:#cccccc;stroke-linejoin:miter;\"/>\n    </g>\n    <g id=\"line2d_22\">\n     <path d=\"M 142.634375 20.298438 \nL 162.634375 20.298438 \n\" style=\"fill:none;stroke:#1f77b4;stroke-linecap:square;stroke-width:1.5;\"/>\n    </g>\n    <g id=\"line2d_23\"/>\n    <g id=\"text_11\">\n     <!-- train loss -->\n     <defs>\n      <path d=\"M 18.3125 70.21875 \nL 18.3125 54.6875 \nL 36.8125 54.6875 \nL 36.8125 47.703125 \nL 18.3125 47.703125 \nL 18.3125 18.015625 \nQ 18.3125 11.328125 20.140625 9.421875 \nQ 21.96875 7.515625 27.59375 7.515625 \nL 36.8125 7.515625 \nL 36.8125 0 \nL 27.59375 0 \nQ 17.1875 0 13.234375 3.875 \nQ 9.28125 7.765625 9.28125 18.015625 \nL 9.28125 47.703125 \nL 2.6875 47.703125 \nL 2.6875 54.6875 \nL 9.28125 54.6875 \nL 9.28125 70.21875 \nz\n\" id=\"DejaVuSans-116\"/>\n      <path d=\"M 41.109375 46.296875 \nQ 39.59375 47.171875 37.8125 47.578125 \nQ 36.03125 48 33.890625 48 \nQ 26.265625 48 22.1875 43.046875 \nQ 18.109375 38.09375 18.109375 28.8125 \nL 18.109375 0 \nL 9.078125 0 \nL 9.078125 54.6875 \nL 18.109375 54.6875 \nL 18.109375 46.1875 \nQ 20.953125 51.171875 25.484375 53.578125 \nQ 30.03125 56 36.53125 56 \nQ 37.453125 56 38.578125 55.875 \nQ 39.703125 55.765625 41.0625 55.515625 \nz\n\" id=\"DejaVuSans-114\"/>\n      <path d=\"M 34.28125 27.484375 \nQ 23.390625 27.484375 19.1875 25 \nQ 14.984375 22.515625 14.984375 16.5 \nQ 14.984375 11.71875 18.140625 8.90625 \nQ 21.296875 6.109375 26.703125 6.109375 \nQ 34.1875 6.109375 38.703125 11.40625 \nQ 43.21875 16.703125 43.21875 25.484375 \nL 43.21875 27.484375 \nz\nM 52.203125 31.203125 \nL 52.203125 0 \nL 43.21875 0 \nL 43.21875 8.296875 \nQ 40.140625 3.328125 35.546875 0.953125 \nQ 30.953125 -1.421875 24.3125 -1.421875 \nQ 15.921875 -1.421875 10.953125 3.296875 \nQ 6 8.015625 6 15.921875 \nQ 6 25.140625 12.171875 29.828125 \nQ 18.359375 34.515625 30.609375 34.515625 \nL 43.21875 34.515625 \nL 43.21875 35.40625 \nQ 43.21875 41.609375 39.140625 45 \nQ 35.0625 48.390625 27.6875 48.390625 \nQ 23 48.390625 18.546875 47.265625 \nQ 14.109375 46.140625 10.015625 43.890625 \nL 10.015625 52.203125 \nQ 14.9375 54.109375 19.578125 55.046875 \nQ 24.21875 56 28.609375 56 \nQ 40.484375 56 46.34375 49.84375 \nQ 52.203125 43.703125 52.203125 31.203125 \nz\n\" id=\"DejaVuSans-97\"/>\n      <path d=\"M 9.421875 54.6875 \nL 18.40625 54.6875 \nL 18.40625 0 \nL 9.421875 0 \nz\nM 9.421875 75.984375 \nL 18.40625 75.984375 \nL 18.40625 64.59375 \nL 9.421875 64.59375 \nz\n\" id=\"DejaVuSans-105\"/>\n      <path d=\"M 54.890625 33.015625 \nL 54.890625 0 \nL 45.90625 0 \nL 45.90625 32.71875 \nQ 45.90625 40.484375 42.875 44.328125 \nQ 39.84375 48.1875 33.796875 48.1875 \nQ 26.515625 48.1875 22.3125 43.546875 \nQ 18.109375 38.921875 18.109375 30.90625 \nL 18.109375 0 \nL 9.078125 0 \nL 9.078125 54.6875 \nL 18.109375 54.6875 \nL 18.109375 46.1875 \nQ 21.34375 51.125 25.703125 53.5625 \nQ 30.078125 56 35.796875 56 \nQ 45.21875 56 50.046875 50.171875 \nQ 54.890625 44.34375 54.890625 33.015625 \nz\n\" id=\"DejaVuSans-110\"/>\n      <path id=\"DejaVuSans-32\"/>\n      <path d=\"M 9.421875 75.984375 \nL 18.40625 75.984375 \nL 18.40625 0 \nL 9.421875 0 \nz\n\" id=\"DejaVuSans-108\"/>\n      <path d=\"M 44.28125 53.078125 \nL 44.28125 44.578125 \nQ 40.484375 46.53125 36.375 47.5 \nQ 32.28125 48.484375 27.875 48.484375 \nQ 21.1875 48.484375 17.84375 46.4375 \nQ 14.5 44.390625 14.5 40.28125 \nQ 14.5 37.15625 16.890625 35.375 \nQ 19.28125 33.59375 26.515625 31.984375 \nL 29.59375 31.296875 \nQ 39.15625 29.25 43.1875 25.515625 \nQ 47.21875 21.78125 47.21875 15.09375 \nQ 47.21875 7.46875 41.1875 3.015625 \nQ 35.15625 -1.421875 24.609375 -1.421875 \nQ 20.21875 -1.421875 15.453125 -0.5625 \nQ 10.6875 0.296875 5.421875 2 \nL 5.421875 11.28125 \nQ 10.40625 8.6875 15.234375 7.390625 \nQ 20.0625 6.109375 24.8125 6.109375 \nQ 31.15625 6.109375 34.5625 8.28125 \nQ 37.984375 10.453125 37.984375 14.40625 \nQ 37.984375 18.0625 35.515625 20.015625 \nQ 33.0625 21.96875 24.703125 23.78125 \nL 21.578125 24.515625 \nQ 13.234375 26.265625 9.515625 29.90625 \nQ 5.8125 33.546875 5.8125 39.890625 \nQ 5.8125 47.609375 11.28125 51.796875 \nQ 16.75 56 26.8125 56 \nQ 31.78125 56 36.171875 55.265625 \nQ 40.578125 54.546875 44.28125 53.078125 \nz\n\" id=\"DejaVuSans-115\"/>\n     </defs>\n     <g transform=\"translate(170.634375 23.798438)scale(0.1 -0.1)\">\n      <use xlink:href=\"#DejaVuSans-116\"/>\n      <use x=\"39.208984\" xlink:href=\"#DejaVuSans-114\"/>\n      <use x=\"80.322266\" xlink:href=\"#DejaVuSans-97\"/>\n      <use x=\"141.601562\" xlink:href=\"#DejaVuSans-105\"/>\n      <use x=\"169.384766\" xlink:href=\"#DejaVuSans-110\"/>\n      <use x=\"232.763672\" xlink:href=\"#DejaVuSans-32\"/>\n      <use x=\"264.550781\" xlink:href=\"#DejaVuSans-108\"/>\n      <use x=\"292.333984\" xlink:href=\"#DejaVuSans-111\"/>\n      <use x=\"353.515625\" xlink:href=\"#DejaVuSans-115\"/>\n      <use x=\"405.615234\" xlink:href=\"#DejaVuSans-115\"/>\n     </g>\n    </g>\n    <g id=\"line2d_24\">\n     <path d=\"M 142.634375 34.976562 \nL 162.634375 34.976562 \n\" style=\"fill:none;stroke:#bf00bf;stroke-dasharray:5.55,2.4;stroke-dashoffset:0;stroke-width:1.5;\"/>\n    </g>\n    <g id=\"line2d_25\"/>\n    <g id=\"text_12\">\n     <!-- train acc -->\n     <g transform=\"translate(170.634375 38.476562)scale(0.1 -0.1)\">\n      <use xlink:href=\"#DejaVuSans-116\"/>\n      <use x=\"39.208984\" xlink:href=\"#DejaVuSans-114\"/>\n      <use x=\"80.322266\" xlink:href=\"#DejaVuSans-97\"/>\n      <use x=\"141.601562\" xlink:href=\"#DejaVuSans-105\"/>\n      <use x=\"169.384766\" xlink:href=\"#DejaVuSans-110\"/>\n      <use x=\"232.763672\" xlink:href=\"#DejaVuSans-32\"/>\n      <use x=\"264.550781\" xlink:href=\"#DejaVuSans-97\"/>\n      <use x=\"325.830078\" xlink:href=\"#DejaVuSans-99\"/>\n      <use x=\"380.810547\" xlink:href=\"#DejaVuSans-99\"/>\n     </g>\n    </g>\n    <g id=\"line2d_26\">\n     <path d=\"M 142.634375 49.654688 \nL 162.634375 49.654688 \n\" style=\"fill:none;stroke:#008000;stroke-dasharray:9.6,2.4,1.5,2.4;stroke-dashoffset:0;stroke-width:1.5;\"/>\n    </g>\n    <g id=\"line2d_27\"/>\n    <g id=\"text_13\">\n     <!-- test acc -->\n     <g transform=\"translate(170.634375 53.154688)scale(0.1 -0.1)\">\n      <use xlink:href=\"#DejaVuSans-116\"/>\n      <use x=\"39.208984\" xlink:href=\"#DejaVuSans-101\"/>\n      <use x=\"100.732422\" xlink:href=\"#DejaVuSans-115\"/>\n      <use x=\"152.832031\" xlink:href=\"#DejaVuSans-116\"/>\n      <use x=\"192.041016\" xlink:href=\"#DejaVuSans-32\"/>\n      <use x=\"223.828125\" xlink:href=\"#DejaVuSans-97\"/>\n      <use x=\"285.107422\" xlink:href=\"#DejaVuSans-99\"/>\n      <use x=\"340.087891\" xlink:href=\"#DejaVuSans-99\"/>\n     </g>\n    </g>\n   </g>\n  </g>\n </g>\n <defs>\n  <clipPath id=\"p9d53fbc069\">\n   <rect height=\"135.9\" width=\"195.3\" x=\"30.103125\" y=\"7.2\"/>\n  </clipPath>\n </defs>\n</svg>\n"
          },
          "metadata": {
            "tags": [],
            "needs_background": "light"
          }
        }
      ]
    },
    {
      "cell_type": "markdown",
      "metadata": {
        "id": "LPSGrO_-sBom"
      },
      "source": [
        "批量归一化"
      ]
    },
    {
      "cell_type": "code",
      "metadata": {
        "id": "gk-XQqWwjDmf"
      },
      "source": [
        "import torch\n",
        "from torch import nn\n",
        "from d2l import torch as d2l\n",
        "#批量归一化层实现\n",
        "def batch_norm(X, gamma, beta, moving_mean, moving_var, eps, momentum):\n",
        "  if not torch.is_grad_enabled():\n",
        "    X_hat = (X - moving_mean) / torch.sqrt(moving_var + eps)\n",
        "  else:\n",
        "    assert len(X.shape) in (2, 4)\n",
        "    if len(X.shape) == 2:\n",
        "      mean = X.mean(dim = 0)\n",
        "      var = ((X - mean)**2).mean(dim = 0)\n",
        "    else:\n",
        "      mean = X.mean(dim = (0, 2, 3), keepdim = True)\n",
        "      var = ((X - mean)**2).mean(dim = (0, 2, 3), keepdim = True)\n",
        "    x_hat = (X - mean) / torch.sqrt(var + eps)\n",
        "    moving_mean = momentum * moving_mean + (1.0 - momentum) * mean\n",
        "    moving_var = momentum * moving_var + (1.0 - momentum) * var\n",
        "  Y = gamma * X_hat + beta\n",
        "  return Y, moving_mean.data, moving_var.data\n",
        "class BatchNorm(nn.Module):\n",
        "  def __init__(self, num_features, num_dims):\n",
        "    super().__init__()\n",
        "    if num_dims == 2:\n",
        "      shape = (1, num_features)\n",
        "    else:\n",
        "      shape = (1, num_features, 1, 1)\n",
        "    self.gamma = nn.Parameter(torch.ones(shape))\n",
        "    self.beta = nn.Parameter(torch.zeros(shape))\n",
        "    self.moving_mean = torch.zeros(shape)\n",
        "    self.moving_var = torch.ones(shape)\n",
        "  def forward(self, X):\n",
        "    if self.moving_mean.dvice != X.device:\n",
        "      self.moving_mean = self.moving_mean.to(X.device)\n",
        "      self.moving_var = self.moving_var.to(X.device)\n",
        "    Y, self.moving_mean, self.moving_var = batch_norm(\n",
        "        X, self.gamma, self.beta, self.moving_mean, self.moving_var,\n",
        "        eps = 1e-5, momentum = 0.9\n",
        "    )\n",
        "    return Y"
      ],
      "execution_count": null,
      "outputs": []
    },
    {
      "cell_type": "code",
      "metadata": {
        "id": "lbeMYhN6sXS4"
      },
      "source": [
        "net = nn.Sequential(nn.Conv2d(1, 6, kernel_size = 5), nn.BatchNorm2d(6),\n",
        "           nn.Sigmoid(), nn.MaxPool2d(kernel_size = 2, stride = 2),\n",
        "           nn.Conv2d(6, 16, kernel_size = 5), nn.BatchNorm2d(16),\n",
        "           nn.Sigmoid(), nn.MaxPool2d(kernel_size = 2, stride = 2),\n",
        "           nn.Flatten(), nn.Linear(256, 120), nn.BatchNorm1d(120),\n",
        "           nn.Sigmoid(), nn.Linear(120, 84), nn.BatchNorm1d(84),\n",
        "           nn.Sigmoid(), nn.Linear(84, 10))"
      ],
      "execution_count": null,
      "outputs": []
    },
    {
      "cell_type": "code",
      "metadata": {
        "colab": {
          "base_uri": "https://localhost:8080/",
          "height": 296
        },
        "id": "1y-cq2swydVR",
        "outputId": "aa61504e-f642-42cb-b8d6-b35b107ff3f2"
      },
      "source": [
        "lr, num_epochs, batch_size = 1.0, 10, 256\n",
        "train_iter, test_iter = d2l.load_data_fashion_mnist(batch_size)\n",
        "d2l.train_ch6(net, train_iter, test_iter, num_epochs, lr, d2l.try_gpu())"
      ],
      "execution_count": null,
      "outputs": [
        {
          "output_type": "stream",
          "text": [
            "loss 0.250, train acc 0.908, test acc 0.868\n",
            "37300.1 examples/sec on cuda:0\n"
          ],
          "name": "stdout"
        },
        {
          "output_type": "display_data",
          "data": {
            "text/plain": [
              "<Figure size 252x180 with 1 Axes>"
            ],
            "image/svg+xml": "<?xml version=\"1.0\" encoding=\"utf-8\" standalone=\"no\"?>\n<!DOCTYPE svg PUBLIC \"-//W3C//DTD SVG 1.1//EN\"\n  \"http://www.w3.org/Graphics/SVG/1.1/DTD/svg11.dtd\">\n<!-- Created with matplotlib (https://matplotlib.org/) -->\n<svg height=\"180.65625pt\" version=\"1.1\" viewBox=\"0 0 238.965625 180.65625\" width=\"238.965625pt\" xmlns=\"http://www.w3.org/2000/svg\" xmlns:xlink=\"http://www.w3.org/1999/xlink\">\n <defs>\n  <style type=\"text/css\">\n*{stroke-linecap:butt;stroke-linejoin:round;}\n  </style>\n </defs>\n <g id=\"figure_1\">\n  <g id=\"patch_1\">\n   <path d=\"M 0 180.65625 \nL 238.965625 180.65625 \nL 238.965625 0 \nL 0 0 \nz\n\" style=\"fill:none;\"/>\n  </g>\n  <g id=\"axes_1\">\n   <g id=\"patch_2\">\n    <path d=\"M 30.103125 143.1 \nL 225.403125 143.1 \nL 225.403125 7.2 \nL 30.103125 7.2 \nz\n\" style=\"fill:#ffffff;\"/>\n   </g>\n   <g id=\"matplotlib.axis_1\">\n    <g id=\"xtick_1\">\n     <g id=\"line2d_1\">\n      <path clip-path=\"url(#p7e7a2e71f5)\" d=\"M 51.803125 143.1 \nL 51.803125 7.2 \n\" style=\"fill:none;stroke:#b0b0b0;stroke-linecap:square;stroke-width:0.8;\"/>\n     </g>\n     <g id=\"line2d_2\">\n      <defs>\n       <path d=\"M 0 0 \nL 0 3.5 \n\" id=\"m5c0b896bf0\" style=\"stroke:#000000;stroke-width:0.8;\"/>\n      </defs>\n      <g>\n       <use style=\"stroke:#000000;stroke-width:0.8;\" x=\"51.803125\" xlink:href=\"#m5c0b896bf0\" y=\"143.1\"/>\n      </g>\n     </g>\n     <g id=\"text_1\">\n      <!-- 2 -->\n      <defs>\n       <path d=\"M 19.1875 8.296875 \nL 53.609375 8.296875 \nL 53.609375 0 \nL 7.328125 0 \nL 7.328125 8.296875 \nQ 12.9375 14.109375 22.625 23.890625 \nQ 32.328125 33.6875 34.8125 36.53125 \nQ 39.546875 41.84375 41.421875 45.53125 \nQ 43.3125 49.21875 43.3125 52.78125 \nQ 43.3125 58.59375 39.234375 62.25 \nQ 35.15625 65.921875 28.609375 65.921875 \nQ 23.96875 65.921875 18.8125 64.3125 \nQ 13.671875 62.703125 7.8125 59.421875 \nL 7.8125 69.390625 \nQ 13.765625 71.78125 18.9375 73 \nQ 24.125 74.21875 28.421875 74.21875 \nQ 39.75 74.21875 46.484375 68.546875 \nQ 53.21875 62.890625 53.21875 53.421875 \nQ 53.21875 48.921875 51.53125 44.890625 \nQ 49.859375 40.875 45.40625 35.40625 \nQ 44.1875 33.984375 37.640625 27.21875 \nQ 31.109375 20.453125 19.1875 8.296875 \nz\n\" id=\"DejaVuSans-50\"/>\n      </defs>\n      <g transform=\"translate(48.621875 157.698438)scale(0.1 -0.1)\">\n       <use xlink:href=\"#DejaVuSans-50\"/>\n      </g>\n     </g>\n    </g>\n    <g id=\"xtick_2\">\n     <g id=\"line2d_3\">\n      <path clip-path=\"url(#p7e7a2e71f5)\" d=\"M 95.203125 143.1 \nL 95.203125 7.2 \n\" style=\"fill:none;stroke:#b0b0b0;stroke-linecap:square;stroke-width:0.8;\"/>\n     </g>\n     <g id=\"line2d_4\">\n      <g>\n       <use style=\"stroke:#000000;stroke-width:0.8;\" x=\"95.203125\" xlink:href=\"#m5c0b896bf0\" y=\"143.1\"/>\n      </g>\n     </g>\n     <g id=\"text_2\">\n      <!-- 4 -->\n      <defs>\n       <path d=\"M 37.796875 64.3125 \nL 12.890625 25.390625 \nL 37.796875 25.390625 \nz\nM 35.203125 72.90625 \nL 47.609375 72.90625 \nL 47.609375 25.390625 \nL 58.015625 25.390625 \nL 58.015625 17.1875 \nL 47.609375 17.1875 \nL 47.609375 0 \nL 37.796875 0 \nL 37.796875 17.1875 \nL 4.890625 17.1875 \nL 4.890625 26.703125 \nz\n\" id=\"DejaVuSans-52\"/>\n      </defs>\n      <g transform=\"translate(92.021875 157.698438)scale(0.1 -0.1)\">\n       <use xlink:href=\"#DejaVuSans-52\"/>\n      </g>\n     </g>\n    </g>\n    <g id=\"xtick_3\">\n     <g id=\"line2d_5\">\n      <path clip-path=\"url(#p7e7a2e71f5)\" d=\"M 138.603125 143.1 \nL 138.603125 7.2 \n\" style=\"fill:none;stroke:#b0b0b0;stroke-linecap:square;stroke-width:0.8;\"/>\n     </g>\n     <g id=\"line2d_6\">\n      <g>\n       <use style=\"stroke:#000000;stroke-width:0.8;\" x=\"138.603125\" xlink:href=\"#m5c0b896bf0\" y=\"143.1\"/>\n      </g>\n     </g>\n     <g id=\"text_3\">\n      <!-- 6 -->\n      <defs>\n       <path d=\"M 33.015625 40.375 \nQ 26.375 40.375 22.484375 35.828125 \nQ 18.609375 31.296875 18.609375 23.390625 \nQ 18.609375 15.53125 22.484375 10.953125 \nQ 26.375 6.390625 33.015625 6.390625 \nQ 39.65625 6.390625 43.53125 10.953125 \nQ 47.40625 15.53125 47.40625 23.390625 \nQ 47.40625 31.296875 43.53125 35.828125 \nQ 39.65625 40.375 33.015625 40.375 \nz\nM 52.59375 71.296875 \nL 52.59375 62.3125 \nQ 48.875 64.0625 45.09375 64.984375 \nQ 41.3125 65.921875 37.59375 65.921875 \nQ 27.828125 65.921875 22.671875 59.328125 \nQ 17.53125 52.734375 16.796875 39.40625 \nQ 19.671875 43.65625 24.015625 45.921875 \nQ 28.375 48.1875 33.59375 48.1875 \nQ 44.578125 48.1875 50.953125 41.515625 \nQ 57.328125 34.859375 57.328125 23.390625 \nQ 57.328125 12.15625 50.6875 5.359375 \nQ 44.046875 -1.421875 33.015625 -1.421875 \nQ 20.359375 -1.421875 13.671875 8.265625 \nQ 6.984375 17.96875 6.984375 36.375 \nQ 6.984375 53.65625 15.1875 63.9375 \nQ 23.390625 74.21875 37.203125 74.21875 \nQ 40.921875 74.21875 44.703125 73.484375 \nQ 48.484375 72.75 52.59375 71.296875 \nz\n\" id=\"DejaVuSans-54\"/>\n      </defs>\n      <g transform=\"translate(135.421875 157.698438)scale(0.1 -0.1)\">\n       <use xlink:href=\"#DejaVuSans-54\"/>\n      </g>\n     </g>\n    </g>\n    <g id=\"xtick_4\">\n     <g id=\"line2d_7\">\n      <path clip-path=\"url(#p7e7a2e71f5)\" d=\"M 182.003125 143.1 \nL 182.003125 7.2 \n\" style=\"fill:none;stroke:#b0b0b0;stroke-linecap:square;stroke-width:0.8;\"/>\n     </g>\n     <g id=\"line2d_8\">\n      <g>\n       <use style=\"stroke:#000000;stroke-width:0.8;\" x=\"182.003125\" xlink:href=\"#m5c0b896bf0\" y=\"143.1\"/>\n      </g>\n     </g>\n     <g id=\"text_4\">\n      <!-- 8 -->\n      <defs>\n       <path d=\"M 31.78125 34.625 \nQ 24.75 34.625 20.71875 30.859375 \nQ 16.703125 27.09375 16.703125 20.515625 \nQ 16.703125 13.921875 20.71875 10.15625 \nQ 24.75 6.390625 31.78125 6.390625 \nQ 38.8125 6.390625 42.859375 10.171875 \nQ 46.921875 13.96875 46.921875 20.515625 \nQ 46.921875 27.09375 42.890625 30.859375 \nQ 38.875 34.625 31.78125 34.625 \nz\nM 21.921875 38.8125 \nQ 15.578125 40.375 12.03125 44.71875 \nQ 8.5 49.078125 8.5 55.328125 \nQ 8.5 64.0625 14.71875 69.140625 \nQ 20.953125 74.21875 31.78125 74.21875 \nQ 42.671875 74.21875 48.875 69.140625 \nQ 55.078125 64.0625 55.078125 55.328125 \nQ 55.078125 49.078125 51.53125 44.71875 \nQ 48 40.375 41.703125 38.8125 \nQ 48.828125 37.15625 52.796875 32.3125 \nQ 56.78125 27.484375 56.78125 20.515625 \nQ 56.78125 9.90625 50.3125 4.234375 \nQ 43.84375 -1.421875 31.78125 -1.421875 \nQ 19.734375 -1.421875 13.25 4.234375 \nQ 6.78125 9.90625 6.78125 20.515625 \nQ 6.78125 27.484375 10.78125 32.3125 \nQ 14.796875 37.15625 21.921875 38.8125 \nz\nM 18.3125 54.390625 \nQ 18.3125 48.734375 21.84375 45.5625 \nQ 25.390625 42.390625 31.78125 42.390625 \nQ 38.140625 42.390625 41.71875 45.5625 \nQ 45.3125 48.734375 45.3125 54.390625 \nQ 45.3125 60.0625 41.71875 63.234375 \nQ 38.140625 66.40625 31.78125 66.40625 \nQ 25.390625 66.40625 21.84375 63.234375 \nQ 18.3125 60.0625 18.3125 54.390625 \nz\n\" id=\"DejaVuSans-56\"/>\n      </defs>\n      <g transform=\"translate(178.821875 157.698438)scale(0.1 -0.1)\">\n       <use xlink:href=\"#DejaVuSans-56\"/>\n      </g>\n     </g>\n    </g>\n    <g id=\"xtick_5\">\n     <g id=\"line2d_9\">\n      <path clip-path=\"url(#p7e7a2e71f5)\" d=\"M 225.403125 143.1 \nL 225.403125 7.2 \n\" style=\"fill:none;stroke:#b0b0b0;stroke-linecap:square;stroke-width:0.8;\"/>\n     </g>\n     <g id=\"line2d_10\">\n      <g>\n       <use style=\"stroke:#000000;stroke-width:0.8;\" x=\"225.403125\" xlink:href=\"#m5c0b896bf0\" y=\"143.1\"/>\n      </g>\n     </g>\n     <g id=\"text_5\">\n      <!-- 10 -->\n      <defs>\n       <path d=\"M 12.40625 8.296875 \nL 28.515625 8.296875 \nL 28.515625 63.921875 \nL 10.984375 60.40625 \nL 10.984375 69.390625 \nL 28.421875 72.90625 \nL 38.28125 72.90625 \nL 38.28125 8.296875 \nL 54.390625 8.296875 \nL 54.390625 0 \nL 12.40625 0 \nz\n\" id=\"DejaVuSans-49\"/>\n       <path d=\"M 31.78125 66.40625 \nQ 24.171875 66.40625 20.328125 58.90625 \nQ 16.5 51.421875 16.5 36.375 \nQ 16.5 21.390625 20.328125 13.890625 \nQ 24.171875 6.390625 31.78125 6.390625 \nQ 39.453125 6.390625 43.28125 13.890625 \nQ 47.125 21.390625 47.125 36.375 \nQ 47.125 51.421875 43.28125 58.90625 \nQ 39.453125 66.40625 31.78125 66.40625 \nz\nM 31.78125 74.21875 \nQ 44.046875 74.21875 50.515625 64.515625 \nQ 56.984375 54.828125 56.984375 36.375 \nQ 56.984375 17.96875 50.515625 8.265625 \nQ 44.046875 -1.421875 31.78125 -1.421875 \nQ 19.53125 -1.421875 13.0625 8.265625 \nQ 6.59375 17.96875 6.59375 36.375 \nQ 6.59375 54.828125 13.0625 64.515625 \nQ 19.53125 74.21875 31.78125 74.21875 \nz\n\" id=\"DejaVuSans-48\"/>\n      </defs>\n      <g transform=\"translate(219.040625 157.698438)scale(0.1 -0.1)\">\n       <use xlink:href=\"#DejaVuSans-49\"/>\n       <use x=\"63.623047\" xlink:href=\"#DejaVuSans-48\"/>\n      </g>\n     </g>\n    </g>\n    <g id=\"text_6\">\n     <!-- epoch -->\n     <defs>\n      <path d=\"M 56.203125 29.59375 \nL 56.203125 25.203125 \nL 14.890625 25.203125 \nQ 15.484375 15.921875 20.484375 11.0625 \nQ 25.484375 6.203125 34.421875 6.203125 \nQ 39.59375 6.203125 44.453125 7.46875 \nQ 49.3125 8.734375 54.109375 11.28125 \nL 54.109375 2.78125 \nQ 49.265625 0.734375 44.1875 -0.34375 \nQ 39.109375 -1.421875 33.890625 -1.421875 \nQ 20.796875 -1.421875 13.15625 6.1875 \nQ 5.515625 13.8125 5.515625 26.8125 \nQ 5.515625 40.234375 12.765625 48.109375 \nQ 20.015625 56 32.328125 56 \nQ 43.359375 56 49.78125 48.890625 \nQ 56.203125 41.796875 56.203125 29.59375 \nz\nM 47.21875 32.234375 \nQ 47.125 39.59375 43.09375 43.984375 \nQ 39.0625 48.390625 32.421875 48.390625 \nQ 24.90625 48.390625 20.390625 44.140625 \nQ 15.875 39.890625 15.1875 32.171875 \nz\n\" id=\"DejaVuSans-101\"/>\n      <path d=\"M 18.109375 8.203125 \nL 18.109375 -20.796875 \nL 9.078125 -20.796875 \nL 9.078125 54.6875 \nL 18.109375 54.6875 \nL 18.109375 46.390625 \nQ 20.953125 51.265625 25.265625 53.625 \nQ 29.59375 56 35.59375 56 \nQ 45.5625 56 51.78125 48.09375 \nQ 58.015625 40.1875 58.015625 27.296875 \nQ 58.015625 14.40625 51.78125 6.484375 \nQ 45.5625 -1.421875 35.59375 -1.421875 \nQ 29.59375 -1.421875 25.265625 0.953125 \nQ 20.953125 3.328125 18.109375 8.203125 \nz\nM 48.6875 27.296875 \nQ 48.6875 37.203125 44.609375 42.84375 \nQ 40.53125 48.484375 33.40625 48.484375 \nQ 26.265625 48.484375 22.1875 42.84375 \nQ 18.109375 37.203125 18.109375 27.296875 \nQ 18.109375 17.390625 22.1875 11.75 \nQ 26.265625 6.109375 33.40625 6.109375 \nQ 40.53125 6.109375 44.609375 11.75 \nQ 48.6875 17.390625 48.6875 27.296875 \nz\n\" id=\"DejaVuSans-112\"/>\n      <path d=\"M 30.609375 48.390625 \nQ 23.390625 48.390625 19.1875 42.75 \nQ 14.984375 37.109375 14.984375 27.296875 \nQ 14.984375 17.484375 19.15625 11.84375 \nQ 23.34375 6.203125 30.609375 6.203125 \nQ 37.796875 6.203125 41.984375 11.859375 \nQ 46.1875 17.53125 46.1875 27.296875 \nQ 46.1875 37.015625 41.984375 42.703125 \nQ 37.796875 48.390625 30.609375 48.390625 \nz\nM 30.609375 56 \nQ 42.328125 56 49.015625 48.375 \nQ 55.71875 40.765625 55.71875 27.296875 \nQ 55.71875 13.875 49.015625 6.21875 \nQ 42.328125 -1.421875 30.609375 -1.421875 \nQ 18.84375 -1.421875 12.171875 6.21875 \nQ 5.515625 13.875 5.515625 27.296875 \nQ 5.515625 40.765625 12.171875 48.375 \nQ 18.84375 56 30.609375 56 \nz\n\" id=\"DejaVuSans-111\"/>\n      <path d=\"M 48.78125 52.59375 \nL 48.78125 44.1875 \nQ 44.96875 46.296875 41.140625 47.34375 \nQ 37.3125 48.390625 33.40625 48.390625 \nQ 24.65625 48.390625 19.8125 42.84375 \nQ 14.984375 37.3125 14.984375 27.296875 \nQ 14.984375 17.28125 19.8125 11.734375 \nQ 24.65625 6.203125 33.40625 6.203125 \nQ 37.3125 6.203125 41.140625 7.25 \nQ 44.96875 8.296875 48.78125 10.40625 \nL 48.78125 2.09375 \nQ 45.015625 0.34375 40.984375 -0.53125 \nQ 36.96875 -1.421875 32.421875 -1.421875 \nQ 20.0625 -1.421875 12.78125 6.34375 \nQ 5.515625 14.109375 5.515625 27.296875 \nQ 5.515625 40.671875 12.859375 48.328125 \nQ 20.21875 56 33.015625 56 \nQ 37.15625 56 41.109375 55.140625 \nQ 45.0625 54.296875 48.78125 52.59375 \nz\n\" id=\"DejaVuSans-99\"/>\n      <path d=\"M 54.890625 33.015625 \nL 54.890625 0 \nL 45.90625 0 \nL 45.90625 32.71875 \nQ 45.90625 40.484375 42.875 44.328125 \nQ 39.84375 48.1875 33.796875 48.1875 \nQ 26.515625 48.1875 22.3125 43.546875 \nQ 18.109375 38.921875 18.109375 30.90625 \nL 18.109375 0 \nL 9.078125 0 \nL 9.078125 75.984375 \nL 18.109375 75.984375 \nL 18.109375 46.1875 \nQ 21.34375 51.125 25.703125 53.5625 \nQ 30.078125 56 35.796875 56 \nQ 45.21875 56 50.046875 50.171875 \nQ 54.890625 44.34375 54.890625 33.015625 \nz\n\" id=\"DejaVuSans-104\"/>\n     </defs>\n     <g transform=\"translate(112.525 171.376563)scale(0.1 -0.1)\">\n      <use xlink:href=\"#DejaVuSans-101\"/>\n      <use x=\"61.523438\" xlink:href=\"#DejaVuSans-112\"/>\n      <use x=\"125\" xlink:href=\"#DejaVuSans-111\"/>\n      <use x=\"186.181641\" xlink:href=\"#DejaVuSans-99\"/>\n      <use x=\"241.162109\" xlink:href=\"#DejaVuSans-104\"/>\n     </g>\n    </g>\n   </g>\n   <g id=\"matplotlib.axis_2\">\n    <g id=\"ytick_1\">\n     <g id=\"line2d_11\">\n      <path clip-path=\"url(#p7e7a2e71f5)\" d=\"M 30.103125 117.108458 \nL 225.403125 117.108458 \n\" style=\"fill:none;stroke:#b0b0b0;stroke-linecap:square;stroke-width:0.8;\"/>\n     </g>\n     <g id=\"line2d_12\">\n      <defs>\n       <path d=\"M 0 0 \nL -3.5 0 \n\" id=\"m0bd2730d9b\" style=\"stroke:#000000;stroke-width:0.8;\"/>\n      </defs>\n      <g>\n       <use style=\"stroke:#000000;stroke-width:0.8;\" x=\"30.103125\" xlink:href=\"#m0bd2730d9b\" y=\"117.108458\"/>\n      </g>\n     </g>\n     <g id=\"text_7\">\n      <!-- 0.4 -->\n      <defs>\n       <path d=\"M 10.6875 12.40625 \nL 21 12.40625 \nL 21 0 \nL 10.6875 0 \nz\n\" id=\"DejaVuSans-46\"/>\n      </defs>\n      <g transform=\"translate(7.2 120.907676)scale(0.1 -0.1)\">\n       <use xlink:href=\"#DejaVuSans-48\"/>\n       <use x=\"63.623047\" xlink:href=\"#DejaVuSans-46\"/>\n       <use x=\"95.410156\" xlink:href=\"#DejaVuSans-52\"/>\n      </g>\n     </g>\n    </g>\n    <g id=\"ytick_2\">\n     <g id=\"line2d_13\">\n      <path clip-path=\"url(#p7e7a2e71f5)\" d=\"M 30.103125 90.72253 \nL 225.403125 90.72253 \n\" style=\"fill:none;stroke:#b0b0b0;stroke-linecap:square;stroke-width:0.8;\"/>\n     </g>\n     <g id=\"line2d_14\">\n      <g>\n       <use style=\"stroke:#000000;stroke-width:0.8;\" x=\"30.103125\" xlink:href=\"#m0bd2730d9b\" y=\"90.72253\"/>\n      </g>\n     </g>\n     <g id=\"text_8\">\n      <!-- 0.6 -->\n      <g transform=\"translate(7.2 94.521749)scale(0.1 -0.1)\">\n       <use xlink:href=\"#DejaVuSans-48\"/>\n       <use x=\"63.623047\" xlink:href=\"#DejaVuSans-46\"/>\n       <use x=\"95.410156\" xlink:href=\"#DejaVuSans-54\"/>\n      </g>\n     </g>\n    </g>\n    <g id=\"ytick_3\">\n     <g id=\"line2d_15\">\n      <path clip-path=\"url(#p7e7a2e71f5)\" d=\"M 30.103125 64.336603 \nL 225.403125 64.336603 \n\" style=\"fill:none;stroke:#b0b0b0;stroke-linecap:square;stroke-width:0.8;\"/>\n     </g>\n     <g id=\"line2d_16\">\n      <g>\n       <use style=\"stroke:#000000;stroke-width:0.8;\" x=\"30.103125\" xlink:href=\"#m0bd2730d9b\" y=\"64.336603\"/>\n      </g>\n     </g>\n     <g id=\"text_9\">\n      <!-- 0.8 -->\n      <g transform=\"translate(7.2 68.135822)scale(0.1 -0.1)\">\n       <use xlink:href=\"#DejaVuSans-48\"/>\n       <use x=\"63.623047\" xlink:href=\"#DejaVuSans-46\"/>\n       <use x=\"95.410156\" xlink:href=\"#DejaVuSans-56\"/>\n      </g>\n     </g>\n    </g>\n    <g id=\"ytick_4\">\n     <g id=\"line2d_17\">\n      <path clip-path=\"url(#p7e7a2e71f5)\" d=\"M 30.103125 37.950676 \nL 225.403125 37.950676 \n\" style=\"fill:none;stroke:#b0b0b0;stroke-linecap:square;stroke-width:0.8;\"/>\n     </g>\n     <g id=\"line2d_18\">\n      <g>\n       <use style=\"stroke:#000000;stroke-width:0.8;\" x=\"30.103125\" xlink:href=\"#m0bd2730d9b\" y=\"37.950676\"/>\n      </g>\n     </g>\n     <g id=\"text_10\">\n      <!-- 1.0 -->\n      <g transform=\"translate(7.2 41.749895)scale(0.1 -0.1)\">\n       <use xlink:href=\"#DejaVuSans-49\"/>\n       <use x=\"63.623047\" xlink:href=\"#DejaVuSans-46\"/>\n       <use x=\"95.410156\" xlink:href=\"#DejaVuSans-48\"/>\n      </g>\n     </g>\n    </g>\n    <g id=\"ytick_5\">\n     <g id=\"line2d_19\">\n      <path clip-path=\"url(#p7e7a2e71f5)\" d=\"M 30.103125 11.564749 \nL 225.403125 11.564749 \n\" style=\"fill:none;stroke:#b0b0b0;stroke-linecap:square;stroke-width:0.8;\"/>\n     </g>\n     <g id=\"line2d_20\">\n      <g>\n       <use style=\"stroke:#000000;stroke-width:0.8;\" x=\"30.103125\" xlink:href=\"#m0bd2730d9b\" y=\"11.564749\"/>\n      </g>\n     </g>\n     <g id=\"text_11\">\n      <!-- 1.2 -->\n      <g transform=\"translate(7.2 15.363968)scale(0.1 -0.1)\">\n       <use xlink:href=\"#DejaVuSans-49\"/>\n       <use x=\"63.623047\" xlink:href=\"#DejaVuSans-46\"/>\n       <use x=\"95.410156\" xlink:href=\"#DejaVuSans-50\"/>\n      </g>\n     </g>\n    </g>\n   </g>\n   <g id=\"line2d_21\">\n    <path clip-path=\"url(#p7e7a2e71f5)\" d=\"M 12.743125 13.377273 \nL 17.083125 48.55165 \nL 21.423125 64.890268 \nL 25.763125 74.594472 \nL 30.103125 81.991713 \nL 34.443125 115.21257 \nL 38.783125 115.239925 \nL 43.123125 116.147581 \nL 47.463125 116.491872 \nL 51.803125 117.307935 \nL 56.143125 121.228752 \nL 60.483125 122.143094 \nL 64.823125 122.703806 \nL 69.163125 122.822138 \nL 73.503125 123.222728 \nL 77.843125 126.02066 \nL 82.183125 126.598169 \nL 86.523125 126.685446 \nL 90.863125 127.347616 \nL 95.203125 127.360966 \nL 99.543125 129.519972 \nL 103.883125 128.589029 \nL 108.223125 129.02198 \nL 112.563125 129.44276 \nL 116.903125 129.723869 \nL 121.243125 130.320811 \nL 125.583125 130.30992 \nL 129.923125 131.205434 \nL 134.263125 131.498189 \nL 138.603125 131.488718 \nL 142.943125 133.623221 \nL 147.283125 132.895227 \nL 151.623125 132.696059 \nL 155.963125 133.263713 \nL 160.303125 133.101051 \nL 164.643125 134.901935 \nL 168.983125 135.019951 \nL 173.323125 134.993317 \nL 177.663125 134.665842 \nL 182.003125 134.53296 \nL 186.343125 136.675097 \nL 190.683125 135.877652 \nL 195.023125 135.653254 \nL 199.363125 135.969969 \nL 203.703125 136.025909 \nL 208.043125 136.714543 \nL 212.383125 136.823087 \nL 216.723125 136.90179 \nL 221.063125 136.796827 \nL 225.403125 136.922727 \n\" style=\"fill:none;stroke:#1f77b4;stroke-linecap:square;stroke-width:1.5;\"/>\n   </g>\n   <g id=\"line2d_22\">\n    <path clip-path=\"url(#p7e7a2e71f5)\" d=\"M 12.743125 90.768583 \nL 17.083125 80.143598 \nL 21.423125 74.67577 \nL 25.763125 71.54986 \nL 30.103125 69.044292 \nL 34.443125 57.380473 \nL 38.783125 57.66556 \nL 43.123125 57.395093 \nL 47.463125 57.183105 \nL 51.803125 56.91776 \nL 56.143125 55.878282 \nL 60.483125 55.423239 \nL 64.823125 55.085154 \nL 69.163125 54.998349 \nL 73.503125 54.923424 \nL 77.843125 53.904601 \nL 82.183125 53.67982 \nL 86.523125 53.736472 \nL 90.863125 53.397474 \nL 95.203125 53.390841 \nL 99.543125 52.89583 \nL 103.883125 53.16447 \nL 108.223125 52.89583 \nL 112.563125 52.766993 \nL 116.903125 52.68062 \nL 121.243125 52.172147 \nL 125.583125 52.33662 \nL 129.923125 52.110013 \nL 134.263125 51.952849 \nL 138.603125 51.983592 \nL 142.943125 51.251096 \nL 147.283125 51.492323 \nL 151.623125 51.528873 \nL 155.963125 51.338815 \nL 160.303125 51.447078 \nL 164.643125 50.83443 \nL 168.983125 50.735745 \nL 173.323125 50.713816 \nL 177.663125 50.839912 \nL 182.003125 50.95454 \nL 186.343125 50.099781 \nL 190.683125 50.242325 \nL 195.023125 50.384869 \nL 199.363125 50.247808 \nL 203.703125 50.301489 \nL 208.043125 49.748905 \nL 212.383125 50.055922 \nL 216.723125 50.037647 \nL 221.063125 50.083334 \nL 225.403125 50.03763 \n\" style=\"fill:none;stroke:#bf00bf;stroke-dasharray:5.55,2.4;stroke-dashoffset:0;stroke-width:1.5;\"/>\n   </g>\n   <g id=\"line2d_23\">\n    <path clip-path=\"url(#p7e7a2e71f5)\" d=\"M 30.103125 60.286363 \nL 51.803125 67.727195 \nL 73.503125 72.503048 \nL 95.203125 66.223197 \nL 116.903125 56.249317 \nL 138.603125 60.53703 \nL 160.303125 61.025169 \nL 182.003125 58.162296 \nL 203.703125 56.829807 \nL 225.403125 55.404967 \n\" style=\"fill:none;stroke:#008000;stroke-dasharray:9.6,2.4,1.5,2.4;stroke-dashoffset:0;stroke-width:1.5;\"/>\n   </g>\n   <g id=\"patch_3\">\n    <path d=\"M 30.103125 143.1 \nL 30.103125 7.2 \n\" style=\"fill:none;stroke:#000000;stroke-linecap:square;stroke-linejoin:miter;stroke-width:0.8;\"/>\n   </g>\n   <g id=\"patch_4\">\n    <path d=\"M 225.403125 143.1 \nL 225.403125 7.2 \n\" style=\"fill:none;stroke:#000000;stroke-linecap:square;stroke-linejoin:miter;stroke-width:0.8;\"/>\n   </g>\n   <g id=\"patch_5\">\n    <path d=\"M 30.103125 143.1 \nL 225.403125 143.1 \n\" style=\"fill:none;stroke:#000000;stroke-linecap:square;stroke-linejoin:miter;stroke-width:0.8;\"/>\n   </g>\n   <g id=\"patch_6\">\n    <path d=\"M 30.103125 7.2 \nL 225.403125 7.2 \n\" style=\"fill:none;stroke:#000000;stroke-linecap:square;stroke-linejoin:miter;stroke-width:0.8;\"/>\n   </g>\n   <g id=\"legend_1\">\n    <g id=\"patch_7\">\n     <path d=\"M 140.634375 98.667187 \nL 218.403125 98.667187 \nQ 220.403125 98.667187 220.403125 96.667187 \nL 220.403125 53.632812 \nQ 220.403125 51.632812 218.403125 51.632812 \nL 140.634375 51.632812 \nQ 138.634375 51.632812 138.634375 53.632812 \nL 138.634375 96.667187 \nQ 138.634375 98.667187 140.634375 98.667187 \nz\n\" style=\"fill:#ffffff;opacity:0.8;stroke:#cccccc;stroke-linejoin:miter;\"/>\n    </g>\n    <g id=\"line2d_24\">\n     <path d=\"M 142.634375 59.73125 \nL 162.634375 59.73125 \n\" style=\"fill:none;stroke:#1f77b4;stroke-linecap:square;stroke-width:1.5;\"/>\n    </g>\n    <g id=\"line2d_25\"/>\n    <g id=\"text_12\">\n     <!-- train loss -->\n     <defs>\n      <path d=\"M 18.3125 70.21875 \nL 18.3125 54.6875 \nL 36.8125 54.6875 \nL 36.8125 47.703125 \nL 18.3125 47.703125 \nL 18.3125 18.015625 \nQ 18.3125 11.328125 20.140625 9.421875 \nQ 21.96875 7.515625 27.59375 7.515625 \nL 36.8125 7.515625 \nL 36.8125 0 \nL 27.59375 0 \nQ 17.1875 0 13.234375 3.875 \nQ 9.28125 7.765625 9.28125 18.015625 \nL 9.28125 47.703125 \nL 2.6875 47.703125 \nL 2.6875 54.6875 \nL 9.28125 54.6875 \nL 9.28125 70.21875 \nz\n\" id=\"DejaVuSans-116\"/>\n      <path d=\"M 41.109375 46.296875 \nQ 39.59375 47.171875 37.8125 47.578125 \nQ 36.03125 48 33.890625 48 \nQ 26.265625 48 22.1875 43.046875 \nQ 18.109375 38.09375 18.109375 28.8125 \nL 18.109375 0 \nL 9.078125 0 \nL 9.078125 54.6875 \nL 18.109375 54.6875 \nL 18.109375 46.1875 \nQ 20.953125 51.171875 25.484375 53.578125 \nQ 30.03125 56 36.53125 56 \nQ 37.453125 56 38.578125 55.875 \nQ 39.703125 55.765625 41.0625 55.515625 \nz\n\" id=\"DejaVuSans-114\"/>\n      <path d=\"M 34.28125 27.484375 \nQ 23.390625 27.484375 19.1875 25 \nQ 14.984375 22.515625 14.984375 16.5 \nQ 14.984375 11.71875 18.140625 8.90625 \nQ 21.296875 6.109375 26.703125 6.109375 \nQ 34.1875 6.109375 38.703125 11.40625 \nQ 43.21875 16.703125 43.21875 25.484375 \nL 43.21875 27.484375 \nz\nM 52.203125 31.203125 \nL 52.203125 0 \nL 43.21875 0 \nL 43.21875 8.296875 \nQ 40.140625 3.328125 35.546875 0.953125 \nQ 30.953125 -1.421875 24.3125 -1.421875 \nQ 15.921875 -1.421875 10.953125 3.296875 \nQ 6 8.015625 6 15.921875 \nQ 6 25.140625 12.171875 29.828125 \nQ 18.359375 34.515625 30.609375 34.515625 \nL 43.21875 34.515625 \nL 43.21875 35.40625 \nQ 43.21875 41.609375 39.140625 45 \nQ 35.0625 48.390625 27.6875 48.390625 \nQ 23 48.390625 18.546875 47.265625 \nQ 14.109375 46.140625 10.015625 43.890625 \nL 10.015625 52.203125 \nQ 14.9375 54.109375 19.578125 55.046875 \nQ 24.21875 56 28.609375 56 \nQ 40.484375 56 46.34375 49.84375 \nQ 52.203125 43.703125 52.203125 31.203125 \nz\n\" id=\"DejaVuSans-97\"/>\n      <path d=\"M 9.421875 54.6875 \nL 18.40625 54.6875 \nL 18.40625 0 \nL 9.421875 0 \nz\nM 9.421875 75.984375 \nL 18.40625 75.984375 \nL 18.40625 64.59375 \nL 9.421875 64.59375 \nz\n\" id=\"DejaVuSans-105\"/>\n      <path d=\"M 54.890625 33.015625 \nL 54.890625 0 \nL 45.90625 0 \nL 45.90625 32.71875 \nQ 45.90625 40.484375 42.875 44.328125 \nQ 39.84375 48.1875 33.796875 48.1875 \nQ 26.515625 48.1875 22.3125 43.546875 \nQ 18.109375 38.921875 18.109375 30.90625 \nL 18.109375 0 \nL 9.078125 0 \nL 9.078125 54.6875 \nL 18.109375 54.6875 \nL 18.109375 46.1875 \nQ 21.34375 51.125 25.703125 53.5625 \nQ 30.078125 56 35.796875 56 \nQ 45.21875 56 50.046875 50.171875 \nQ 54.890625 44.34375 54.890625 33.015625 \nz\n\" id=\"DejaVuSans-110\"/>\n      <path id=\"DejaVuSans-32\"/>\n      <path d=\"M 9.421875 75.984375 \nL 18.40625 75.984375 \nL 18.40625 0 \nL 9.421875 0 \nz\n\" id=\"DejaVuSans-108\"/>\n      <path d=\"M 44.28125 53.078125 \nL 44.28125 44.578125 \nQ 40.484375 46.53125 36.375 47.5 \nQ 32.28125 48.484375 27.875 48.484375 \nQ 21.1875 48.484375 17.84375 46.4375 \nQ 14.5 44.390625 14.5 40.28125 \nQ 14.5 37.15625 16.890625 35.375 \nQ 19.28125 33.59375 26.515625 31.984375 \nL 29.59375 31.296875 \nQ 39.15625 29.25 43.1875 25.515625 \nQ 47.21875 21.78125 47.21875 15.09375 \nQ 47.21875 7.46875 41.1875 3.015625 \nQ 35.15625 -1.421875 24.609375 -1.421875 \nQ 20.21875 -1.421875 15.453125 -0.5625 \nQ 10.6875 0.296875 5.421875 2 \nL 5.421875 11.28125 \nQ 10.40625 8.6875 15.234375 7.390625 \nQ 20.0625 6.109375 24.8125 6.109375 \nQ 31.15625 6.109375 34.5625 8.28125 \nQ 37.984375 10.453125 37.984375 14.40625 \nQ 37.984375 18.0625 35.515625 20.015625 \nQ 33.0625 21.96875 24.703125 23.78125 \nL 21.578125 24.515625 \nQ 13.234375 26.265625 9.515625 29.90625 \nQ 5.8125 33.546875 5.8125 39.890625 \nQ 5.8125 47.609375 11.28125 51.796875 \nQ 16.75 56 26.8125 56 \nQ 31.78125 56 36.171875 55.265625 \nQ 40.578125 54.546875 44.28125 53.078125 \nz\n\" id=\"DejaVuSans-115\"/>\n     </defs>\n     <g transform=\"translate(170.634375 63.23125)scale(0.1 -0.1)\">\n      <use xlink:href=\"#DejaVuSans-116\"/>\n      <use x=\"39.208984\" xlink:href=\"#DejaVuSans-114\"/>\n      <use x=\"80.322266\" xlink:href=\"#DejaVuSans-97\"/>\n      <use x=\"141.601562\" xlink:href=\"#DejaVuSans-105\"/>\n      <use x=\"169.384766\" xlink:href=\"#DejaVuSans-110\"/>\n      <use x=\"232.763672\" xlink:href=\"#DejaVuSans-32\"/>\n      <use x=\"264.550781\" xlink:href=\"#DejaVuSans-108\"/>\n      <use x=\"292.333984\" xlink:href=\"#DejaVuSans-111\"/>\n      <use x=\"353.515625\" xlink:href=\"#DejaVuSans-115\"/>\n      <use x=\"405.615234\" xlink:href=\"#DejaVuSans-115\"/>\n     </g>\n    </g>\n    <g id=\"line2d_26\">\n     <path d=\"M 142.634375 74.409375 \nL 162.634375 74.409375 \n\" style=\"fill:none;stroke:#bf00bf;stroke-dasharray:5.55,2.4;stroke-dashoffset:0;stroke-width:1.5;\"/>\n    </g>\n    <g id=\"line2d_27\"/>\n    <g id=\"text_13\">\n     <!-- train acc -->\n     <g transform=\"translate(170.634375 77.909375)scale(0.1 -0.1)\">\n      <use xlink:href=\"#DejaVuSans-116\"/>\n      <use x=\"39.208984\" xlink:href=\"#DejaVuSans-114\"/>\n      <use x=\"80.322266\" xlink:href=\"#DejaVuSans-97\"/>\n      <use x=\"141.601562\" xlink:href=\"#DejaVuSans-105\"/>\n      <use x=\"169.384766\" xlink:href=\"#DejaVuSans-110\"/>\n      <use x=\"232.763672\" xlink:href=\"#DejaVuSans-32\"/>\n      <use x=\"264.550781\" xlink:href=\"#DejaVuSans-97\"/>\n      <use x=\"325.830078\" xlink:href=\"#DejaVuSans-99\"/>\n      <use x=\"380.810547\" xlink:href=\"#DejaVuSans-99\"/>\n     </g>\n    </g>\n    <g id=\"line2d_28\">\n     <path d=\"M 142.634375 89.0875 \nL 162.634375 89.0875 \n\" style=\"fill:none;stroke:#008000;stroke-dasharray:9.6,2.4,1.5,2.4;stroke-dashoffset:0;stroke-width:1.5;\"/>\n    </g>\n    <g id=\"line2d_29\"/>\n    <g id=\"text_14\">\n     <!-- test acc -->\n     <g transform=\"translate(170.634375 92.5875)scale(0.1 -0.1)\">\n      <use xlink:href=\"#DejaVuSans-116\"/>\n      <use x=\"39.208984\" xlink:href=\"#DejaVuSans-101\"/>\n      <use x=\"100.732422\" xlink:href=\"#DejaVuSans-115\"/>\n      <use x=\"152.832031\" xlink:href=\"#DejaVuSans-116\"/>\n      <use x=\"192.041016\" xlink:href=\"#DejaVuSans-32\"/>\n      <use x=\"223.828125\" xlink:href=\"#DejaVuSans-97\"/>\n      <use x=\"285.107422\" xlink:href=\"#DejaVuSans-99\"/>\n      <use x=\"340.087891\" xlink:href=\"#DejaVuSans-99\"/>\n     </g>\n    </g>\n   </g>\n  </g>\n </g>\n <defs>\n  <clipPath id=\"p7e7a2e71f5\">\n   <rect height=\"135.9\" width=\"195.3\" x=\"30.103125\" y=\"7.2\"/>\n  </clipPath>\n </defs>\n</svg>\n"
          },
          "metadata": {
            "tags": [],
            "needs_background": "light"
          }
        }
      ]
    },
    {
      "cell_type": "markdown",
      "metadata": {
        "id": "INroFbVRz9yG"
      },
      "source": [
        "残差神经网络"
      ]
    },
    {
      "cell_type": "markdown",
      "metadata": {
        "id": "3olHwKQJ0EKF"
      },
      "source": [
        "![image.png](data:image/png;base64,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)"
      ]
    },
    {
      "cell_type": "code",
      "metadata": {
        "id": "IftLeTPvy6e0"
      },
      "source": [
        "import torch\n",
        "from torch import nn\n",
        "from torch.nn import functional as F\n",
        "from d2l import torch as d2l\n",
        "#残差块\n",
        "class Residual(nn.Module):\n",
        "  def __init__(self, input_channels, num_channels, use_1x1conv = False, strides = 1):\n",
        "    super().__init__()\n",
        "    self.conv1 = nn.Conv2d(input_channels, num_channels, kernel_size = 3, padding = 1, stride = strides)\n",
        "    self.conv2 = nn.Conv2d(num_channels, num_channels, kernel_size = 3, padding = 1)\n",
        "    if use_1x1conv:\n",
        "      self.conv3 = nn.Conv2d(input_channels, num_channels, kernel_size = 1, stride = strides)\n",
        "    else:\n",
        "      self.conv3 = None\n",
        "    self.bn1 = nn.BatchNorm2d(num_channels)\n",
        "    self.bn2 = nn.BatchNorm2d(num_channels)\n",
        "    self.relu = nn.ReLU(inplace = True)\n",
        "  def forward(self, X):\n",
        "    Y = F.relu(self.bn1(self.conv1(X)))\n",
        "    Y = self.bn2(self.conv2(Y))\n",
        "    if self.conv3:\n",
        "      X = self.conv3(X)\n",
        "    Y += X\n",
        "    return F.relu(Y)"
      ],
      "execution_count": null,
      "outputs": []
    },
    {
      "cell_type": "code",
      "metadata": {
        "colab": {
          "base_uri": "https://localhost:8080/"
        },
        "id": "AcOXQd9r2Dqn",
        "outputId": "1022104e-1913-45e2-a921-8844f78c0032"
      },
      "source": [
        "#ResNet 模型\n",
        "b1 = nn.Sequential(nn.Conv2d(1, 64, kernel_size = 7, stride = 2, padding = 3),\n",
        "          nn.BatchNorm2d(64), nn.ReLU(),\n",
        "          nn.MaxPool2d(kernel_size = 3, stride = 2, padding = 1))\n",
        "def resnet_block(input_channels, num_channels, num_residuals, first_block = False):\n",
        "  blk = []\n",
        "  for i in range(num_residuals):\n",
        "    if i == 0 and not first_block:\n",
        "      blk.append(Residual(input_channels, num_channels, use_1x1conv = True, strides = 2)\n",
        "      )\n",
        "    else:\n",
        "      blk.append(Residual(num_channels, num_channels))\n",
        "  return blk\n",
        "b2 = nn.Sequential(*resnet_block(64, 64, 2, first_block = True))\n",
        "b3 = nn.Sequential(*resnet_block(64, 128, 2))\n",
        "b4 = nn.Sequential(*resnet_block(128, 256, 2))\n",
        "b5 = nn.Sequential(*resnet_block(256, 512, 2))\n",
        "net = nn.Sequential(b1, b2, b3, b4, b5, nn.AdaptiveAvgPool2d((1, 1)),\n",
        "                    nn.Flatten(), nn.Linear(512, 10))\n",
        "X = torch.randn(size = (1, 1, 224, 224))\n",
        "for layer in net:\n",
        "  X = layer(X)\n",
        "  print(layer.__class__.__name__,'output shape:\\t', X.shape)"
      ],
      "execution_count": null,
      "outputs": [
        {
          "output_type": "stream",
          "text": [
            "Sequential output shape:\t torch.Size([1, 64, 56, 56])\n",
            "Sequential output shape:\t torch.Size([1, 64, 56, 56])\n",
            "Sequential output shape:\t torch.Size([1, 128, 28, 28])\n",
            "Sequential output shape:\t torch.Size([1, 256, 14, 14])\n",
            "Sequential output shape:\t torch.Size([1, 512, 7, 7])\n",
            "AdaptiveAvgPool2d output shape:\t torch.Size([1, 512, 1, 1])\n",
            "Flatten output shape:\t torch.Size([1, 512])\n",
            "Linear output shape:\t torch.Size([1, 10])\n"
          ],
          "name": "stdout"
        }
      ]
    },
    {
      "cell_type": "code",
      "metadata": {
        "colab": {
          "base_uri": "https://localhost:8080/",
          "height": 296
        },
        "id": "-VoCFm3T5OzB",
        "outputId": "bc4e4a91-5469-4fed-922b-010e2fb18d8e"
      },
      "source": [
        "lr, num_epochs, batch_size = 0.05, 10, 256\n",
        "train_iter, test_iter = d2l.load_data_fashion_mnist(batch_size, resize = 96)\n",
        "d2l.train_ch6(net, train_iter, test_iter, num_epochs, lr, d2l.try_gpu())"
      ],
      "execution_count": null,
      "outputs": [
        {
          "output_type": "stream",
          "text": [
            "loss 0.016, train acc 0.996, test acc 0.911\n",
            "1391.0 examples/sec on cuda:0\n"
          ],
          "name": "stdout"
        },
        {
          "output_type": "display_data",
          "data": {
            "text/plain": [
              "<Figure size 252x180 with 1 Axes>"
            ],
            "image/svg+xml": "<?xml version=\"1.0\" encoding=\"utf-8\" standalone=\"no\"?>\n<!DOCTYPE svg PUBLIC \"-//W3C//DTD SVG 1.1//EN\"\n  \"http://www.w3.org/Graphics/SVG/1.1/DTD/svg11.dtd\">\n<!-- Created with matplotlib (https://matplotlib.org/) -->\n<svg height=\"180.65625pt\" version=\"1.1\" viewBox=\"0 0 238.965625 180.65625\" width=\"238.965625pt\" xmlns=\"http://www.w3.org/2000/svg\" xmlns:xlink=\"http://www.w3.org/1999/xlink\">\n <defs>\n  <style type=\"text/css\">\n*{stroke-linecap:butt;stroke-linejoin:round;}\n  </style>\n </defs>\n <g id=\"figure_1\">\n  <g id=\"patch_1\">\n   <path d=\"M 0 180.65625 \nL 238.965625 180.65625 \nL 238.965625 0 \nL 0 0 \nz\n\" style=\"fill:none;\"/>\n  </g>\n  <g id=\"axes_1\">\n   <g id=\"patch_2\">\n    <path d=\"M 30.103125 143.1 \nL 225.403125 143.1 \nL 225.403125 7.2 \nL 30.103125 7.2 \nz\n\" style=\"fill:#ffffff;\"/>\n   </g>\n   <g id=\"matplotlib.axis_1\">\n    <g id=\"xtick_1\">\n     <g id=\"line2d_1\">\n      <path clip-path=\"url(#p29252a6cdc)\" d=\"M 51.803125 143.1 \nL 51.803125 7.2 \n\" style=\"fill:none;stroke:#b0b0b0;stroke-linecap:square;stroke-width:0.8;\"/>\n     </g>\n     <g id=\"line2d_2\">\n      <defs>\n       <path d=\"M 0 0 \nL 0 3.5 \n\" id=\"mbf4a31fa70\" style=\"stroke:#000000;stroke-width:0.8;\"/>\n      </defs>\n      <g>\n       <use style=\"stroke:#000000;stroke-width:0.8;\" x=\"51.803125\" xlink:href=\"#mbf4a31fa70\" y=\"143.1\"/>\n      </g>\n     </g>\n     <g id=\"text_1\">\n      <!-- 2 -->\n      <defs>\n       <path d=\"M 19.1875 8.296875 \nL 53.609375 8.296875 \nL 53.609375 0 \nL 7.328125 0 \nL 7.328125 8.296875 \nQ 12.9375 14.109375 22.625 23.890625 \nQ 32.328125 33.6875 34.8125 36.53125 \nQ 39.546875 41.84375 41.421875 45.53125 \nQ 43.3125 49.21875 43.3125 52.78125 \nQ 43.3125 58.59375 39.234375 62.25 \nQ 35.15625 65.921875 28.609375 65.921875 \nQ 23.96875 65.921875 18.8125 64.3125 \nQ 13.671875 62.703125 7.8125 59.421875 \nL 7.8125 69.390625 \nQ 13.765625 71.78125 18.9375 73 \nQ 24.125 74.21875 28.421875 74.21875 \nQ 39.75 74.21875 46.484375 68.546875 \nQ 53.21875 62.890625 53.21875 53.421875 \nQ 53.21875 48.921875 51.53125 44.890625 \nQ 49.859375 40.875 45.40625 35.40625 \nQ 44.1875 33.984375 37.640625 27.21875 \nQ 31.109375 20.453125 19.1875 8.296875 \nz\n\" id=\"DejaVuSans-50\"/>\n      </defs>\n      <g transform=\"translate(48.621875 157.698438)scale(0.1 -0.1)\">\n       <use xlink:href=\"#DejaVuSans-50\"/>\n      </g>\n     </g>\n    </g>\n    <g id=\"xtick_2\">\n     <g id=\"line2d_3\">\n      <path clip-path=\"url(#p29252a6cdc)\" d=\"M 95.203125 143.1 \nL 95.203125 7.2 \n\" style=\"fill:none;stroke:#b0b0b0;stroke-linecap:square;stroke-width:0.8;\"/>\n     </g>\n     <g id=\"line2d_4\">\n      <g>\n       <use style=\"stroke:#000000;stroke-width:0.8;\" x=\"95.203125\" xlink:href=\"#mbf4a31fa70\" y=\"143.1\"/>\n      </g>\n     </g>\n     <g id=\"text_2\">\n      <!-- 4 -->\n      <defs>\n       <path d=\"M 37.796875 64.3125 \nL 12.890625 25.390625 \nL 37.796875 25.390625 \nz\nM 35.203125 72.90625 \nL 47.609375 72.90625 \nL 47.609375 25.390625 \nL 58.015625 25.390625 \nL 58.015625 17.1875 \nL 47.609375 17.1875 \nL 47.609375 0 \nL 37.796875 0 \nL 37.796875 17.1875 \nL 4.890625 17.1875 \nL 4.890625 26.703125 \nz\n\" id=\"DejaVuSans-52\"/>\n      </defs>\n      <g transform=\"translate(92.021875 157.698438)scale(0.1 -0.1)\">\n       <use xlink:href=\"#DejaVuSans-52\"/>\n      </g>\n     </g>\n    </g>\n    <g id=\"xtick_3\">\n     <g id=\"line2d_5\">\n      <path clip-path=\"url(#p29252a6cdc)\" d=\"M 138.603125 143.1 \nL 138.603125 7.2 \n\" style=\"fill:none;stroke:#b0b0b0;stroke-linecap:square;stroke-width:0.8;\"/>\n     </g>\n     <g id=\"line2d_6\">\n      <g>\n       <use style=\"stroke:#000000;stroke-width:0.8;\" x=\"138.603125\" xlink:href=\"#mbf4a31fa70\" y=\"143.1\"/>\n      </g>\n     </g>\n     <g id=\"text_3\">\n      <!-- 6 -->\n      <defs>\n       <path d=\"M 33.015625 40.375 \nQ 26.375 40.375 22.484375 35.828125 \nQ 18.609375 31.296875 18.609375 23.390625 \nQ 18.609375 15.53125 22.484375 10.953125 \nQ 26.375 6.390625 33.015625 6.390625 \nQ 39.65625 6.390625 43.53125 10.953125 \nQ 47.40625 15.53125 47.40625 23.390625 \nQ 47.40625 31.296875 43.53125 35.828125 \nQ 39.65625 40.375 33.015625 40.375 \nz\nM 52.59375 71.296875 \nL 52.59375 62.3125 \nQ 48.875 64.0625 45.09375 64.984375 \nQ 41.3125 65.921875 37.59375 65.921875 \nQ 27.828125 65.921875 22.671875 59.328125 \nQ 17.53125 52.734375 16.796875 39.40625 \nQ 19.671875 43.65625 24.015625 45.921875 \nQ 28.375 48.1875 33.59375 48.1875 \nQ 44.578125 48.1875 50.953125 41.515625 \nQ 57.328125 34.859375 57.328125 23.390625 \nQ 57.328125 12.15625 50.6875 5.359375 \nQ 44.046875 -1.421875 33.015625 -1.421875 \nQ 20.359375 -1.421875 13.671875 8.265625 \nQ 6.984375 17.96875 6.984375 36.375 \nQ 6.984375 53.65625 15.1875 63.9375 \nQ 23.390625 74.21875 37.203125 74.21875 \nQ 40.921875 74.21875 44.703125 73.484375 \nQ 48.484375 72.75 52.59375 71.296875 \nz\n\" id=\"DejaVuSans-54\"/>\n      </defs>\n      <g transform=\"translate(135.421875 157.698438)scale(0.1 -0.1)\">\n       <use xlink:href=\"#DejaVuSans-54\"/>\n      </g>\n     </g>\n    </g>\n    <g id=\"xtick_4\">\n     <g id=\"line2d_7\">\n      <path clip-path=\"url(#p29252a6cdc)\" d=\"M 182.003125 143.1 \nL 182.003125 7.2 \n\" style=\"fill:none;stroke:#b0b0b0;stroke-linecap:square;stroke-width:0.8;\"/>\n     </g>\n     <g id=\"line2d_8\">\n      <g>\n       <use style=\"stroke:#000000;stroke-width:0.8;\" x=\"182.003125\" xlink:href=\"#mbf4a31fa70\" y=\"143.1\"/>\n      </g>\n     </g>\n     <g id=\"text_4\">\n      <!-- 8 -->\n      <defs>\n       <path d=\"M 31.78125 34.625 \nQ 24.75 34.625 20.71875 30.859375 \nQ 16.703125 27.09375 16.703125 20.515625 \nQ 16.703125 13.921875 20.71875 10.15625 \nQ 24.75 6.390625 31.78125 6.390625 \nQ 38.8125 6.390625 42.859375 10.171875 \nQ 46.921875 13.96875 46.921875 20.515625 \nQ 46.921875 27.09375 42.890625 30.859375 \nQ 38.875 34.625 31.78125 34.625 \nz\nM 21.921875 38.8125 \nQ 15.578125 40.375 12.03125 44.71875 \nQ 8.5 49.078125 8.5 55.328125 \nQ 8.5 64.0625 14.71875 69.140625 \nQ 20.953125 74.21875 31.78125 74.21875 \nQ 42.671875 74.21875 48.875 69.140625 \nQ 55.078125 64.0625 55.078125 55.328125 \nQ 55.078125 49.078125 51.53125 44.71875 \nQ 48 40.375 41.703125 38.8125 \nQ 48.828125 37.15625 52.796875 32.3125 \nQ 56.78125 27.484375 56.78125 20.515625 \nQ 56.78125 9.90625 50.3125 4.234375 \nQ 43.84375 -1.421875 31.78125 -1.421875 \nQ 19.734375 -1.421875 13.25 4.234375 \nQ 6.78125 9.90625 6.78125 20.515625 \nQ 6.78125 27.484375 10.78125 32.3125 \nQ 14.796875 37.15625 21.921875 38.8125 \nz\nM 18.3125 54.390625 \nQ 18.3125 48.734375 21.84375 45.5625 \nQ 25.390625 42.390625 31.78125 42.390625 \nQ 38.140625 42.390625 41.71875 45.5625 \nQ 45.3125 48.734375 45.3125 54.390625 \nQ 45.3125 60.0625 41.71875 63.234375 \nQ 38.140625 66.40625 31.78125 66.40625 \nQ 25.390625 66.40625 21.84375 63.234375 \nQ 18.3125 60.0625 18.3125 54.390625 \nz\n\" id=\"DejaVuSans-56\"/>\n      </defs>\n      <g transform=\"translate(178.821875 157.698438)scale(0.1 -0.1)\">\n       <use xlink:href=\"#DejaVuSans-56\"/>\n      </g>\n     </g>\n    </g>\n    <g id=\"xtick_5\">\n     <g id=\"line2d_9\">\n      <path clip-path=\"url(#p29252a6cdc)\" d=\"M 225.403125 143.1 \nL 225.403125 7.2 \n\" style=\"fill:none;stroke:#b0b0b0;stroke-linecap:square;stroke-width:0.8;\"/>\n     </g>\n     <g id=\"line2d_10\">\n      <g>\n       <use style=\"stroke:#000000;stroke-width:0.8;\" x=\"225.403125\" xlink:href=\"#mbf4a31fa70\" y=\"143.1\"/>\n      </g>\n     </g>\n     <g id=\"text_5\">\n      <!-- 10 -->\n      <defs>\n       <path d=\"M 12.40625 8.296875 \nL 28.515625 8.296875 \nL 28.515625 63.921875 \nL 10.984375 60.40625 \nL 10.984375 69.390625 \nL 28.421875 72.90625 \nL 38.28125 72.90625 \nL 38.28125 8.296875 \nL 54.390625 8.296875 \nL 54.390625 0 \nL 12.40625 0 \nz\n\" id=\"DejaVuSans-49\"/>\n       <path d=\"M 31.78125 66.40625 \nQ 24.171875 66.40625 20.328125 58.90625 \nQ 16.5 51.421875 16.5 36.375 \nQ 16.5 21.390625 20.328125 13.890625 \nQ 24.171875 6.390625 31.78125 6.390625 \nQ 39.453125 6.390625 43.28125 13.890625 \nQ 47.125 21.390625 47.125 36.375 \nQ 47.125 51.421875 43.28125 58.90625 \nQ 39.453125 66.40625 31.78125 66.40625 \nz\nM 31.78125 74.21875 \nQ 44.046875 74.21875 50.515625 64.515625 \nQ 56.984375 54.828125 56.984375 36.375 \nQ 56.984375 17.96875 50.515625 8.265625 \nQ 44.046875 -1.421875 31.78125 -1.421875 \nQ 19.53125 -1.421875 13.0625 8.265625 \nQ 6.59375 17.96875 6.59375 36.375 \nQ 6.59375 54.828125 13.0625 64.515625 \nQ 19.53125 74.21875 31.78125 74.21875 \nz\n\" id=\"DejaVuSans-48\"/>\n      </defs>\n      <g transform=\"translate(219.040625 157.698438)scale(0.1 -0.1)\">\n       <use xlink:href=\"#DejaVuSans-49\"/>\n       <use x=\"63.623047\" xlink:href=\"#DejaVuSans-48\"/>\n      </g>\n     </g>\n    </g>\n    <g id=\"text_6\">\n     <!-- epoch -->\n     <defs>\n      <path d=\"M 56.203125 29.59375 \nL 56.203125 25.203125 \nL 14.890625 25.203125 \nQ 15.484375 15.921875 20.484375 11.0625 \nQ 25.484375 6.203125 34.421875 6.203125 \nQ 39.59375 6.203125 44.453125 7.46875 \nQ 49.3125 8.734375 54.109375 11.28125 \nL 54.109375 2.78125 \nQ 49.265625 0.734375 44.1875 -0.34375 \nQ 39.109375 -1.421875 33.890625 -1.421875 \nQ 20.796875 -1.421875 13.15625 6.1875 \nQ 5.515625 13.8125 5.515625 26.8125 \nQ 5.515625 40.234375 12.765625 48.109375 \nQ 20.015625 56 32.328125 56 \nQ 43.359375 56 49.78125 48.890625 \nQ 56.203125 41.796875 56.203125 29.59375 \nz\nM 47.21875 32.234375 \nQ 47.125 39.59375 43.09375 43.984375 \nQ 39.0625 48.390625 32.421875 48.390625 \nQ 24.90625 48.390625 20.390625 44.140625 \nQ 15.875 39.890625 15.1875 32.171875 \nz\n\" id=\"DejaVuSans-101\"/>\n      <path d=\"M 18.109375 8.203125 \nL 18.109375 -20.796875 \nL 9.078125 -20.796875 \nL 9.078125 54.6875 \nL 18.109375 54.6875 \nL 18.109375 46.390625 \nQ 20.953125 51.265625 25.265625 53.625 \nQ 29.59375 56 35.59375 56 \nQ 45.5625 56 51.78125 48.09375 \nQ 58.015625 40.1875 58.015625 27.296875 \nQ 58.015625 14.40625 51.78125 6.484375 \nQ 45.5625 -1.421875 35.59375 -1.421875 \nQ 29.59375 -1.421875 25.265625 0.953125 \nQ 20.953125 3.328125 18.109375 8.203125 \nz\nM 48.6875 27.296875 \nQ 48.6875 37.203125 44.609375 42.84375 \nQ 40.53125 48.484375 33.40625 48.484375 \nQ 26.265625 48.484375 22.1875 42.84375 \nQ 18.109375 37.203125 18.109375 27.296875 \nQ 18.109375 17.390625 22.1875 11.75 \nQ 26.265625 6.109375 33.40625 6.109375 \nQ 40.53125 6.109375 44.609375 11.75 \nQ 48.6875 17.390625 48.6875 27.296875 \nz\n\" id=\"DejaVuSans-112\"/>\n      <path d=\"M 30.609375 48.390625 \nQ 23.390625 48.390625 19.1875 42.75 \nQ 14.984375 37.109375 14.984375 27.296875 \nQ 14.984375 17.484375 19.15625 11.84375 \nQ 23.34375 6.203125 30.609375 6.203125 \nQ 37.796875 6.203125 41.984375 11.859375 \nQ 46.1875 17.53125 46.1875 27.296875 \nQ 46.1875 37.015625 41.984375 42.703125 \nQ 37.796875 48.390625 30.609375 48.390625 \nz\nM 30.609375 56 \nQ 42.328125 56 49.015625 48.375 \nQ 55.71875 40.765625 55.71875 27.296875 \nQ 55.71875 13.875 49.015625 6.21875 \nQ 42.328125 -1.421875 30.609375 -1.421875 \nQ 18.84375 -1.421875 12.171875 6.21875 \nQ 5.515625 13.875 5.515625 27.296875 \nQ 5.515625 40.765625 12.171875 48.375 \nQ 18.84375 56 30.609375 56 \nz\n\" id=\"DejaVuSans-111\"/>\n      <path d=\"M 48.78125 52.59375 \nL 48.78125 44.1875 \nQ 44.96875 46.296875 41.140625 47.34375 \nQ 37.3125 48.390625 33.40625 48.390625 \nQ 24.65625 48.390625 19.8125 42.84375 \nQ 14.984375 37.3125 14.984375 27.296875 \nQ 14.984375 17.28125 19.8125 11.734375 \nQ 24.65625 6.203125 33.40625 6.203125 \nQ 37.3125 6.203125 41.140625 7.25 \nQ 44.96875 8.296875 48.78125 10.40625 \nL 48.78125 2.09375 \nQ 45.015625 0.34375 40.984375 -0.53125 \nQ 36.96875 -1.421875 32.421875 -1.421875 \nQ 20.0625 -1.421875 12.78125 6.34375 \nQ 5.515625 14.109375 5.515625 27.296875 \nQ 5.515625 40.671875 12.859375 48.328125 \nQ 20.21875 56 33.015625 56 \nQ 37.15625 56 41.109375 55.140625 \nQ 45.0625 54.296875 48.78125 52.59375 \nz\n\" id=\"DejaVuSans-99\"/>\n      <path d=\"M 54.890625 33.015625 \nL 54.890625 0 \nL 45.90625 0 \nL 45.90625 32.71875 \nQ 45.90625 40.484375 42.875 44.328125 \nQ 39.84375 48.1875 33.796875 48.1875 \nQ 26.515625 48.1875 22.3125 43.546875 \nQ 18.109375 38.921875 18.109375 30.90625 \nL 18.109375 0 \nL 9.078125 0 \nL 9.078125 75.984375 \nL 18.109375 75.984375 \nL 18.109375 46.1875 \nQ 21.34375 51.125 25.703125 53.5625 \nQ 30.078125 56 35.796875 56 \nQ 45.21875 56 50.046875 50.171875 \nQ 54.890625 44.34375 54.890625 33.015625 \nz\n\" id=\"DejaVuSans-104\"/>\n     </defs>\n     <g transform=\"translate(112.525 171.376563)scale(0.1 -0.1)\">\n      <use xlink:href=\"#DejaVuSans-101\"/>\n      <use x=\"61.523438\" xlink:href=\"#DejaVuSans-112\"/>\n      <use x=\"125\" xlink:href=\"#DejaVuSans-111\"/>\n      <use x=\"186.181641\" xlink:href=\"#DejaVuSans-99\"/>\n      <use x=\"241.162109\" xlink:href=\"#DejaVuSans-104\"/>\n     </g>\n    </g>\n   </g>\n   <g id=\"matplotlib.axis_2\">\n    <g id=\"ytick_1\">\n     <g id=\"line2d_11\">\n      <path clip-path=\"url(#p29252a6cdc)\" d=\"M 30.103125 138.676608 \nL 225.403125 138.676608 \n\" style=\"fill:none;stroke:#b0b0b0;stroke-linecap:square;stroke-width:0.8;\"/>\n     </g>\n     <g id=\"line2d_12\">\n      <defs>\n       <path d=\"M 0 0 \nL -3.5 0 \n\" id=\"m3f049df54b\" style=\"stroke:#000000;stroke-width:0.8;\"/>\n      </defs>\n      <g>\n       <use style=\"stroke:#000000;stroke-width:0.8;\" x=\"30.103125\" xlink:href=\"#m3f049df54b\" y=\"138.676608\"/>\n      </g>\n     </g>\n     <g id=\"text_7\">\n      <!-- 0.0 -->\n      <defs>\n       <path d=\"M 10.6875 12.40625 \nL 21 12.40625 \nL 21 0 \nL 10.6875 0 \nz\n\" id=\"DejaVuSans-46\"/>\n      </defs>\n      <g transform=\"translate(7.2 142.475827)scale(0.1 -0.1)\">\n       <use xlink:href=\"#DejaVuSans-48\"/>\n       <use x=\"63.623047\" xlink:href=\"#DejaVuSans-46\"/>\n       <use x=\"95.410156\" xlink:href=\"#DejaVuSans-48\"/>\n      </g>\n     </g>\n    </g>\n    <g id=\"ytick_2\">\n     <g id=\"line2d_13\">\n      <path clip-path=\"url(#p29252a6cdc)\" d=\"M 30.103125 113.532104 \nL 225.403125 113.532104 \n\" style=\"fill:none;stroke:#b0b0b0;stroke-linecap:square;stroke-width:0.8;\"/>\n     </g>\n     <g id=\"line2d_14\">\n      <g>\n       <use style=\"stroke:#000000;stroke-width:0.8;\" x=\"30.103125\" xlink:href=\"#m3f049df54b\" y=\"113.532104\"/>\n      </g>\n     </g>\n     <g id=\"text_8\">\n      <!-- 0.2 -->\n      <g transform=\"translate(7.2 117.331323)scale(0.1 -0.1)\">\n       <use xlink:href=\"#DejaVuSans-48\"/>\n       <use x=\"63.623047\" xlink:href=\"#DejaVuSans-46\"/>\n       <use x=\"95.410156\" xlink:href=\"#DejaVuSans-50\"/>\n      </g>\n     </g>\n    </g>\n    <g id=\"ytick_3\">\n     <g id=\"line2d_15\">\n      <path clip-path=\"url(#p29252a6cdc)\" d=\"M 30.103125 88.3876 \nL 225.403125 88.3876 \n\" style=\"fill:none;stroke:#b0b0b0;stroke-linecap:square;stroke-width:0.8;\"/>\n     </g>\n     <g id=\"line2d_16\">\n      <g>\n       <use style=\"stroke:#000000;stroke-width:0.8;\" x=\"30.103125\" xlink:href=\"#m3f049df54b\" y=\"88.3876\"/>\n      </g>\n     </g>\n     <g id=\"text_9\">\n      <!-- 0.4 -->\n      <g transform=\"translate(7.2 92.186819)scale(0.1 -0.1)\">\n       <use xlink:href=\"#DejaVuSans-48\"/>\n       <use x=\"63.623047\" xlink:href=\"#DejaVuSans-46\"/>\n       <use x=\"95.410156\" xlink:href=\"#DejaVuSans-52\"/>\n      </g>\n     </g>\n    </g>\n    <g id=\"ytick_4\">\n     <g id=\"line2d_17\">\n      <path clip-path=\"url(#p29252a6cdc)\" d=\"M 30.103125 63.243096 \nL 225.403125 63.243096 \n\" style=\"fill:none;stroke:#b0b0b0;stroke-linecap:square;stroke-width:0.8;\"/>\n     </g>\n     <g id=\"line2d_18\">\n      <g>\n       <use style=\"stroke:#000000;stroke-width:0.8;\" x=\"30.103125\" xlink:href=\"#m3f049df54b\" y=\"63.243096\"/>\n      </g>\n     </g>\n     <g id=\"text_10\">\n      <!-- 0.6 -->\n      <g transform=\"translate(7.2 67.042315)scale(0.1 -0.1)\">\n       <use xlink:href=\"#DejaVuSans-48\"/>\n       <use x=\"63.623047\" xlink:href=\"#DejaVuSans-46\"/>\n       <use x=\"95.410156\" xlink:href=\"#DejaVuSans-54\"/>\n      </g>\n     </g>\n    </g>\n    <g id=\"ytick_5\">\n     <g id=\"line2d_19\">\n      <path clip-path=\"url(#p29252a6cdc)\" d=\"M 30.103125 38.098592 \nL 225.403125 38.098592 \n\" style=\"fill:none;stroke:#b0b0b0;stroke-linecap:square;stroke-width:0.8;\"/>\n     </g>\n     <g id=\"line2d_20\">\n      <g>\n       <use style=\"stroke:#000000;stroke-width:0.8;\" x=\"30.103125\" xlink:href=\"#m3f049df54b\" y=\"38.098592\"/>\n      </g>\n     </g>\n     <g id=\"text_11\">\n      <!-- 0.8 -->\n      <g transform=\"translate(7.2 41.897811)scale(0.1 -0.1)\">\n       <use xlink:href=\"#DejaVuSans-48\"/>\n       <use x=\"63.623047\" xlink:href=\"#DejaVuSans-46\"/>\n       <use x=\"95.410156\" xlink:href=\"#DejaVuSans-56\"/>\n      </g>\n     </g>\n    </g>\n    <g id=\"ytick_6\">\n     <g id=\"line2d_21\">\n      <path clip-path=\"url(#p29252a6cdc)\" d=\"M 30.103125 12.954088 \nL 225.403125 12.954088 \n\" style=\"fill:none;stroke:#b0b0b0;stroke-linecap:square;stroke-width:0.8;\"/>\n     </g>\n     <g id=\"line2d_22\">\n      <g>\n       <use style=\"stroke:#000000;stroke-width:0.8;\" x=\"30.103125\" xlink:href=\"#m3f049df54b\" y=\"12.954088\"/>\n      </g>\n     </g>\n     <g id=\"text_12\">\n      <!-- 1.0 -->\n      <g transform=\"translate(7.2 16.753306)scale(0.1 -0.1)\">\n       <use xlink:href=\"#DejaVuSans-49\"/>\n       <use x=\"63.623047\" xlink:href=\"#DejaVuSans-46\"/>\n       <use x=\"95.410156\" xlink:href=\"#DejaVuSans-48\"/>\n      </g>\n     </g>\n    </g>\n   </g>\n   <g id=\"line2d_23\">\n    <path clip-path=\"url(#p29252a6cdc)\" d=\"M 12.743125 19.106724 \nL 17.083125 52.18436 \nL 21.423125 65.82149 \nL 25.763125 73.257265 \nL 30.103125 78.103688 \nL 34.443125 105.543984 \nL 38.783125 106.744785 \nL 43.123125 106.66573 \nL 47.463125 106.868081 \nL 51.803125 107.352424 \nL 56.143125 115.386661 \nL 60.483125 115.04197 \nL 64.823125 114.985167 \nL 69.163125 114.648632 \nL 73.503125 114.826188 \nL 77.843125 121.773577 \nL 82.183125 121.204366 \nL 86.523125 120.946227 \nL 90.863125 120.434173 \nL 95.203125 120.392895 \nL 99.543125 124.405955 \nL 103.883125 124.90759 \nL 108.223125 125.077473 \nL 112.563125 124.935539 \nL 116.903125 124.70606 \nL 121.243125 129.423939 \nL 125.583125 129.03652 \nL 129.923125 128.742471 \nL 134.263125 128.597813 \nL 138.603125 128.220281 \nL 142.943125 132.669 \nL 147.283125 132.600626 \nL 151.623125 132.473558 \nL 155.963125 131.952075 \nL 160.303125 131.670107 \nL 164.643125 132.590421 \nL 168.983125 133.248011 \nL 173.323125 133.42369 \nL 177.663125 133.400378 \nL 182.003125 133.189726 \nL 186.343125 135.280113 \nL 190.683125 135.554351 \nL 195.023125 135.630062 \nL 199.363125 135.451748 \nL 203.703125 135.047287 \nL 208.043125 136.564329 \nL 212.383125 136.922727 \nL 216.723125 136.853429 \nL 221.063125 136.849734 \nL 225.403125 136.715192 \n\" style=\"fill:none;stroke:#1f77b4;stroke-linecap:square;stroke-width:1.5;\"/>\n   </g>\n   <g id=\"line2d_24\">\n    <path clip-path=\"url(#p29252a6cdc)\" d=\"M 12.743125 51.730374 \nL 17.083125 42.341936 \nL 21.423125 37.94116 \nL 25.763125 35.607547 \nL 30.103125 34.12576 \nL 34.443125 25.043595 \nL 38.783125 24.636084 \nL 43.123125 24.71271 \nL 47.463125 24.615186 \nL 51.803125 24.394837 \nL 56.143125 21.271502 \nL 60.483125 21.579748 \nL 64.823125 21.658115 \nL 69.163125 21.684238 \nL 73.503125 21.687612 \nL 77.843125 19.004066 \nL 82.183125 19.33321 \nL 86.523125 19.408095 \nL 90.863125 19.631007 \nL 95.203125 19.632049 \nL 99.543125 17.875573 \nL 103.883125 17.656143 \nL 108.223125 17.711871 \nL 112.563125 17.789368 \nL 116.903125 17.874029 \nL 121.243125 16.036546 \nL 125.583125 16.219404 \nL 129.923125 16.409228 \nL 134.263125 16.514589 \nL 138.603125 16.635662 \nL 142.943125 14.83491 \nL 147.283125 14.923727 \nL 151.623125 14.998611 \nL 155.963125 15.237197 \nL 160.303125 15.361674 \nL 164.643125 14.949849 \nL 168.983125 14.67295 \nL 173.323125 14.618964 \nL 177.663125 14.641603 \nL 182.003125 14.716298 \nL 186.343125 13.978091 \nL 190.683125 13.852703 \nL 195.023125 13.84922 \nL 199.363125 13.928458 \nL 203.703125 14.133784 \nL 208.043125 13.539232 \nL 212.383125 13.377273 \nL 216.723125 13.434742 \nL 221.063125 13.439967 \nL 225.403125 13.477932 \n\" style=\"fill:none;stroke:#bf00bf;stroke-dasharray:5.55,2.4;stroke-dashoffset:0;stroke-width:1.5;\"/>\n   </g>\n   <g id=\"line2d_25\">\n    <path clip-path=\"url(#p29252a6cdc)\" d=\"M 30.103125 32.591945 \nL 51.803125 27.940212 \nL 73.503125 26.858998 \nL 95.203125 39.079228 \nL 116.903125 30.454663 \nL 138.603125 25.777785 \nL 160.303125 29.964345 \nL 182.003125 27.387033 \nL 203.703125 24.784577 \nL 225.403125 24.118248 \n\" style=\"fill:none;stroke:#008000;stroke-dasharray:9.6,2.4,1.5,2.4;stroke-dashoffset:0;stroke-width:1.5;\"/>\n   </g>\n   <g id=\"patch_3\">\n    <path d=\"M 30.103125 143.1 \nL 30.103125 7.2 \n\" style=\"fill:none;stroke:#000000;stroke-linecap:square;stroke-linejoin:miter;stroke-width:0.8;\"/>\n   </g>\n   <g id=\"patch_4\">\n    <path d=\"M 225.403125 143.1 \nL 225.403125 7.2 \n\" style=\"fill:none;stroke:#000000;stroke-linecap:square;stroke-linejoin:miter;stroke-width:0.8;\"/>\n   </g>\n   <g id=\"patch_5\">\n    <path d=\"M 30.103125 143.1 \nL 225.403125 143.1 \n\" style=\"fill:none;stroke:#000000;stroke-linecap:square;stroke-linejoin:miter;stroke-width:0.8;\"/>\n   </g>\n   <g id=\"patch_6\">\n    <path d=\"M 30.103125 7.2 \nL 225.403125 7.2 \n\" style=\"fill:none;stroke:#000000;stroke-linecap:square;stroke-linejoin:miter;stroke-width:0.8;\"/>\n   </g>\n   <g id=\"legend_1\">\n    <g id=\"patch_7\">\n     <path d=\"M 140.634375 98.667187 \nL 218.403125 98.667187 \nQ 220.403125 98.667187 220.403125 96.667187 \nL 220.403125 53.632812 \nQ 220.403125 51.632812 218.403125 51.632812 \nL 140.634375 51.632812 \nQ 138.634375 51.632812 138.634375 53.632812 \nL 138.634375 96.667187 \nQ 138.634375 98.667187 140.634375 98.667187 \nz\n\" style=\"fill:#ffffff;opacity:0.8;stroke:#cccccc;stroke-linejoin:miter;\"/>\n    </g>\n    <g id=\"line2d_26\">\n     <path d=\"M 142.634375 59.73125 \nL 162.634375 59.73125 \n\" style=\"fill:none;stroke:#1f77b4;stroke-linecap:square;stroke-width:1.5;\"/>\n    </g>\n    <g id=\"line2d_27\"/>\n    <g id=\"text_13\">\n     <!-- train loss -->\n     <defs>\n      <path d=\"M 18.3125 70.21875 \nL 18.3125 54.6875 \nL 36.8125 54.6875 \nL 36.8125 47.703125 \nL 18.3125 47.703125 \nL 18.3125 18.015625 \nQ 18.3125 11.328125 20.140625 9.421875 \nQ 21.96875 7.515625 27.59375 7.515625 \nL 36.8125 7.515625 \nL 36.8125 0 \nL 27.59375 0 \nQ 17.1875 0 13.234375 3.875 \nQ 9.28125 7.765625 9.28125 18.015625 \nL 9.28125 47.703125 \nL 2.6875 47.703125 \nL 2.6875 54.6875 \nL 9.28125 54.6875 \nL 9.28125 70.21875 \nz\n\" id=\"DejaVuSans-116\"/>\n      <path d=\"M 41.109375 46.296875 \nQ 39.59375 47.171875 37.8125 47.578125 \nQ 36.03125 48 33.890625 48 \nQ 26.265625 48 22.1875 43.046875 \nQ 18.109375 38.09375 18.109375 28.8125 \nL 18.109375 0 \nL 9.078125 0 \nL 9.078125 54.6875 \nL 18.109375 54.6875 \nL 18.109375 46.1875 \nQ 20.953125 51.171875 25.484375 53.578125 \nQ 30.03125 56 36.53125 56 \nQ 37.453125 56 38.578125 55.875 \nQ 39.703125 55.765625 41.0625 55.515625 \nz\n\" id=\"DejaVuSans-114\"/>\n      <path d=\"M 34.28125 27.484375 \nQ 23.390625 27.484375 19.1875 25 \nQ 14.984375 22.515625 14.984375 16.5 \nQ 14.984375 11.71875 18.140625 8.90625 \nQ 21.296875 6.109375 26.703125 6.109375 \nQ 34.1875 6.109375 38.703125 11.40625 \nQ 43.21875 16.703125 43.21875 25.484375 \nL 43.21875 27.484375 \nz\nM 52.203125 31.203125 \nL 52.203125 0 \nL 43.21875 0 \nL 43.21875 8.296875 \nQ 40.140625 3.328125 35.546875 0.953125 \nQ 30.953125 -1.421875 24.3125 -1.421875 \nQ 15.921875 -1.421875 10.953125 3.296875 \nQ 6 8.015625 6 15.921875 \nQ 6 25.140625 12.171875 29.828125 \nQ 18.359375 34.515625 30.609375 34.515625 \nL 43.21875 34.515625 \nL 43.21875 35.40625 \nQ 43.21875 41.609375 39.140625 45 \nQ 35.0625 48.390625 27.6875 48.390625 \nQ 23 48.390625 18.546875 47.265625 \nQ 14.109375 46.140625 10.015625 43.890625 \nL 10.015625 52.203125 \nQ 14.9375 54.109375 19.578125 55.046875 \nQ 24.21875 56 28.609375 56 \nQ 40.484375 56 46.34375 49.84375 \nQ 52.203125 43.703125 52.203125 31.203125 \nz\n\" id=\"DejaVuSans-97\"/>\n      <path d=\"M 9.421875 54.6875 \nL 18.40625 54.6875 \nL 18.40625 0 \nL 9.421875 0 \nz\nM 9.421875 75.984375 \nL 18.40625 75.984375 \nL 18.40625 64.59375 \nL 9.421875 64.59375 \nz\n\" id=\"DejaVuSans-105\"/>\n      <path d=\"M 54.890625 33.015625 \nL 54.890625 0 \nL 45.90625 0 \nL 45.90625 32.71875 \nQ 45.90625 40.484375 42.875 44.328125 \nQ 39.84375 48.1875 33.796875 48.1875 \nQ 26.515625 48.1875 22.3125 43.546875 \nQ 18.109375 38.921875 18.109375 30.90625 \nL 18.109375 0 \nL 9.078125 0 \nL 9.078125 54.6875 \nL 18.109375 54.6875 \nL 18.109375 46.1875 \nQ 21.34375 51.125 25.703125 53.5625 \nQ 30.078125 56 35.796875 56 \nQ 45.21875 56 50.046875 50.171875 \nQ 54.890625 44.34375 54.890625 33.015625 \nz\n\" id=\"DejaVuSans-110\"/>\n      <path id=\"DejaVuSans-32\"/>\n      <path d=\"M 9.421875 75.984375 \nL 18.40625 75.984375 \nL 18.40625 0 \nL 9.421875 0 \nz\n\" id=\"DejaVuSans-108\"/>\n      <path d=\"M 44.28125 53.078125 \nL 44.28125 44.578125 \nQ 40.484375 46.53125 36.375 47.5 \nQ 32.28125 48.484375 27.875 48.484375 \nQ 21.1875 48.484375 17.84375 46.4375 \nQ 14.5 44.390625 14.5 40.28125 \nQ 14.5 37.15625 16.890625 35.375 \nQ 19.28125 33.59375 26.515625 31.984375 \nL 29.59375 31.296875 \nQ 39.15625 29.25 43.1875 25.515625 \nQ 47.21875 21.78125 47.21875 15.09375 \nQ 47.21875 7.46875 41.1875 3.015625 \nQ 35.15625 -1.421875 24.609375 -1.421875 \nQ 20.21875 -1.421875 15.453125 -0.5625 \nQ 10.6875 0.296875 5.421875 2 \nL 5.421875 11.28125 \nQ 10.40625 8.6875 15.234375 7.390625 \nQ 20.0625 6.109375 24.8125 6.109375 \nQ 31.15625 6.109375 34.5625 8.28125 \nQ 37.984375 10.453125 37.984375 14.40625 \nQ 37.984375 18.0625 35.515625 20.015625 \nQ 33.0625 21.96875 24.703125 23.78125 \nL 21.578125 24.515625 \nQ 13.234375 26.265625 9.515625 29.90625 \nQ 5.8125 33.546875 5.8125 39.890625 \nQ 5.8125 47.609375 11.28125 51.796875 \nQ 16.75 56 26.8125 56 \nQ 31.78125 56 36.171875 55.265625 \nQ 40.578125 54.546875 44.28125 53.078125 \nz\n\" id=\"DejaVuSans-115\"/>\n     </defs>\n     <g transform=\"translate(170.634375 63.23125)scale(0.1 -0.1)\">\n      <use xlink:href=\"#DejaVuSans-116\"/>\n      <use x=\"39.208984\" xlink:href=\"#DejaVuSans-114\"/>\n      <use x=\"80.322266\" xlink:href=\"#DejaVuSans-97\"/>\n      <use x=\"141.601562\" xlink:href=\"#DejaVuSans-105\"/>\n      <use x=\"169.384766\" xlink:href=\"#DejaVuSans-110\"/>\n      <use x=\"232.763672\" xlink:href=\"#DejaVuSans-32\"/>\n      <use x=\"264.550781\" xlink:href=\"#DejaVuSans-108\"/>\n      <use x=\"292.333984\" xlink:href=\"#DejaVuSans-111\"/>\n      <use x=\"353.515625\" xlink:href=\"#DejaVuSans-115\"/>\n      <use x=\"405.615234\" xlink:href=\"#DejaVuSans-115\"/>\n     </g>\n    </g>\n    <g id=\"line2d_28\">\n     <path d=\"M 142.634375 74.409375 \nL 162.634375 74.409375 \n\" style=\"fill:none;stroke:#bf00bf;stroke-dasharray:5.55,2.4;stroke-dashoffset:0;stroke-width:1.5;\"/>\n    </g>\n    <g id=\"line2d_29\"/>\n    <g id=\"text_14\">\n     <!-- train acc -->\n     <g transform=\"translate(170.634375 77.909375)scale(0.1 -0.1)\">\n      <use xlink:href=\"#DejaVuSans-116\"/>\n      <use x=\"39.208984\" xlink:href=\"#DejaVuSans-114\"/>\n      <use x=\"80.322266\" xlink:href=\"#DejaVuSans-97\"/>\n      <use x=\"141.601562\" xlink:href=\"#DejaVuSans-105\"/>\n      <use x=\"169.384766\" xlink:href=\"#DejaVuSans-110\"/>\n      <use x=\"232.763672\" xlink:href=\"#DejaVuSans-32\"/>\n      <use x=\"264.550781\" xlink:href=\"#DejaVuSans-97\"/>\n      <use x=\"325.830078\" xlink:href=\"#DejaVuSans-99\"/>\n      <use x=\"380.810547\" xlink:href=\"#DejaVuSans-99\"/>\n     </g>\n    </g>\n    <g id=\"line2d_30\">\n     <path d=\"M 142.634375 89.0875 \nL 162.634375 89.0875 \n\" style=\"fill:none;stroke:#008000;stroke-dasharray:9.6,2.4,1.5,2.4;stroke-dashoffset:0;stroke-width:1.5;\"/>\n    </g>\n    <g id=\"line2d_31\"/>\n    <g id=\"text_15\">\n     <!-- test acc -->\n     <g transform=\"translate(170.634375 92.5875)scale(0.1 -0.1)\">\n      <use xlink:href=\"#DejaVuSans-116\"/>\n      <use x=\"39.208984\" xlink:href=\"#DejaVuSans-101\"/>\n      <use x=\"100.732422\" xlink:href=\"#DejaVuSans-115\"/>\n      <use x=\"152.832031\" xlink:href=\"#DejaVuSans-116\"/>\n      <use x=\"192.041016\" xlink:href=\"#DejaVuSans-32\"/>\n      <use x=\"223.828125\" xlink:href=\"#DejaVuSans-97\"/>\n      <use x=\"285.107422\" xlink:href=\"#DejaVuSans-99\"/>\n      <use x=\"340.087891\" xlink:href=\"#DejaVuSans-99\"/>\n     </g>\n    </g>\n   </g>\n  </g>\n </g>\n <defs>\n  <clipPath id=\"p29252a6cdc\">\n   <rect height=\"135.9\" width=\"195.3\" x=\"30.103125\" y=\"7.2\"/>\n  </clipPath>\n </defs>\n</svg>\n"
          },
          "metadata": {
            "tags": [],
            "needs_background": "light"
          }
        }
      ]
    },
    {
      "cell_type": "markdown",
      "metadata": {
        "id": "_Ou6h9gqnSDO"
      },
      "source": [
        "DenseNet"
      ]
    },
    {
      "cell_type": "code",
      "metadata": {
        "id": "f_BqDGTU6OZ8"
      },
      "source": [
        "import torch\n",
        "from torch import nn\n",
        "from d2l import torch as d2l\n",
        "#新型卷积块\n",
        "def conv_block(input_channels, num_channels):\n",
        "  return nn.Sequential(\n",
        "      nn.BatchNorm2d(input_channels), nn.ReLU(),\n",
        "      nn.Conv2d(input_channels, num_channels, kernel_size = 3, padding = 1)\n",
        "  )"
      ],
      "execution_count": null,
      "outputs": []
    },
    {
      "cell_type": "code",
      "metadata": {
        "id": "8pze73cAn_IU"
      },
      "source": [
        "#稠密块\n",
        "class DenseBlock(nn.Module):\n",
        "  def __init__(self, num_convs, input_channels, num_channels):\n",
        "    super(DenseBlock, self).__init__()\n",
        "    layer = []\n",
        "    for i in range(num_convs):\n",
        "      layer.append(\n",
        "          conv_block(num_channels * i + input_channels, num_channels)\n",
        "      )\n",
        "    self.net = nn.Sequential(*layer)\n",
        "  def forward(self, X):\n",
        "    for blk in self.net:\n",
        "      Y = blk(X)\n",
        "      X = torch.cat((X, Y), dim = 1)\n",
        "    return X"
      ],
      "execution_count": null,
      "outputs": []
    },
    {
      "cell_type": "code",
      "metadata": {
        "id": "MXuxZMCuobgo"
      },
      "source": [
        "#过渡层\n",
        "def transition_block(input_channels, num_channels):\n",
        "  return nn.Sequential(\n",
        "      nn.BatchNorm2d(input_channels), nn.ReLU(),\n",
        "      nn.Conv2d(input_channels, num_channels, kernel_size = 1),\n",
        "      nn.AvgPool2d(kernel_size = 2, stride = 2)\n",
        "  )"
      ],
      "execution_count": null,
      "outputs": []
    },
    {
      "cell_type": "code",
      "metadata": {
        "id": "bTQxAouppk-3"
      },
      "source": [
        "#Densenet\n",
        "b1 = nn.Sequential(nn.Conv2d(1, 64, kernel_size = 7, stride = 2, padding = 3),\n",
        "                   nn.BatchNorm2d(64), nn.ReLU(),\n",
        "                   nn.MaxPool2d(kernel_size = 3, stride = 2, padding = 1))\n",
        "num_channels, growth_rate = 64, 32\n",
        "num_convs_in_dense_blocks = [4, 4, 4, 4]\n",
        "blks = []\n",
        "for i, num_convs in enumerate(num_convs_in_dense_blocks):\n",
        "  blks.append(DenseBlock(num_convs, num_channels, growth_rate))\n",
        "  num_channels += num_convs * growth_rate\n",
        "  if i != len(num_convs_in_dense_blocks) - 1:\n",
        "    blks.append(transition_block(num_channels, num_channels //2))\n",
        "    num_channels = num_channels //2\n",
        "net = nn.Sequential(b1, *blks, nn.BatchNorm2d(num_channels), nn.ReLU(),\n",
        "           nn.AdaptiveAvgPool2d((1, 1)), nn.Flatten(),\n",
        "           nn.Linear(num_channels, 10))"
      ],
      "execution_count": null,
      "outputs": []
    },
    {
      "cell_type": "code",
      "metadata": {
        "colab": {
          "base_uri": "https://localhost:8080/",
          "height": 296,
          "referenced_widgets": [
            "e3695996207943598ee219795e906234",
            "366fe923eaf84f74b28e0860836bca07",
            "9880c29d1fdf4b32ae7e4ed25e85638b",
            "c6dc5dcbefcc470da02ecc1ab1a37b00",
            "709ea62af349484ea5ed95f9cd8c42bb",
            "55cde2b7f9fa487cb3c4ab5716118fed",
            "e3149a22c46342a791d6d25a9cd2bfc4",
            "08aca7b3f4bb4560a9c7487509b20caf",
            "69383ea3d9da4d36a245225bf8fa2215",
            "195210819f374a06bfcfed69a8582db3",
            "5348fba18b854b65bc9e8deb1ac44f8a",
            "c5a99eace2f444a2aaca0f15a80c306f",
            "f0c0e3c468c54d2da7383f6cc257a8f7",
            "867afd99df0d4379b8fa811d4e773714",
            "a010e55647d44fbf8fd3684f2aa5489e",
            "e7e97eee39cb46ba92eb17972648d25f",
            "430e3cb236f04540b2b9512790dcb827",
            "7b85c93737544e168977293ee8471afe",
            "836f209c09754c149fdc32ae719a875d",
            "1cc005afeb0e4e6eb7cede83720ee336",
            "8335ad86727b4c9ca9d7525b429e49c4",
            "989234aed3574d82bed182f7ef53a025",
            "847fa395d75a4d998d0c2400b3f269ae",
            "e64f637487ea4e3887274eb2d25e14b0",
            "fd65ceca92624cccbfa40d8cd4f6e3f4",
            "b0a1e12a70f146579e9fbc6c93349be1",
            "cb4bdef505cf4b1fa81b9cc1f9ca00fe",
            "d0196ebf27254cb48c6e44ce4a4f6c85",
            "fd6a831b659043c08e9ca2c94e28eb9e",
            "adafb308b6064c4f94d072cc6404a3e6",
            "542ab3502a264b4dac08c06e3b2df272",
            "4b4225a7edaf462aaad8c001ea163c0b"
          ]
        },
        "id": "Q6GlIjRnqG1p",
        "outputId": "8a3a3b93-7416-46af-ed0c-b1ef644245e4"
      },
      "source": [
        "lr, num_epochs, batch_size = 0.1, 10, 256\n",
        "train_iter, test_iter = d2l.load_data_fashion_mnist(batch_size, resize = 96)\n",
        "d2l.train_ch6(net, train_iter, test_iter, num_epochs, lr, d2l.try_gpu())"
      ],
      "execution_count": null,
      "outputs": [
        {
          "output_type": "stream",
          "text": [
            "loss 0.140, train acc 0.948, test acc 0.887\n",
            "1875.0 examples/sec on cuda:0\n"
          ],
          "name": "stdout"
        },
        {
          "output_type": "display_data",
          "data": {
            "text/plain": [
              "<Figure size 252x180 with 1 Axes>"
            ],
            "image/svg+xml": "<?xml version=\"1.0\" encoding=\"utf-8\" standalone=\"no\"?>\n<!DOCTYPE svg PUBLIC \"-//W3C//DTD SVG 1.1//EN\"\n  \"http://www.w3.org/Graphics/SVG/1.1/DTD/svg11.dtd\">\n<!-- Created with matplotlib (https://matplotlib.org/) -->\n<svg height=\"180.65625pt\" version=\"1.1\" viewBox=\"0 0 238.965625 180.65625\" width=\"238.965625pt\" xmlns=\"http://www.w3.org/2000/svg\" xmlns:xlink=\"http://www.w3.org/1999/xlink\">\n <defs>\n  <style type=\"text/css\">\n*{stroke-linecap:butt;stroke-linejoin:round;}\n  </style>\n </defs>\n <g id=\"figure_1\">\n  <g id=\"patch_1\">\n   <path d=\"M 0 180.65625 \nL 238.965625 180.65625 \nL 238.965625 0 \nL 0 0 \nz\n\" style=\"fill:none;\"/>\n  </g>\n  <g id=\"axes_1\">\n   <g id=\"patch_2\">\n    <path d=\"M 30.103125 143.1 \nL 225.403125 143.1 \nL 225.403125 7.2 \nL 30.103125 7.2 \nz\n\" style=\"fill:#ffffff;\"/>\n   </g>\n   <g id=\"matplotlib.axis_1\">\n    <g id=\"xtick_1\">\n     <g id=\"line2d_1\">\n      <path clip-path=\"url(#p65b978f404)\" d=\"M 51.803125 143.1 \nL 51.803125 7.2 \n\" style=\"fill:none;stroke:#b0b0b0;stroke-linecap:square;stroke-width:0.8;\"/>\n     </g>\n     <g id=\"line2d_2\">\n      <defs>\n       <path d=\"M 0 0 \nL 0 3.5 \n\" id=\"mace53de927\" style=\"stroke:#000000;stroke-width:0.8;\"/>\n      </defs>\n      <g>\n       <use style=\"stroke:#000000;stroke-width:0.8;\" x=\"51.803125\" xlink:href=\"#mace53de927\" y=\"143.1\"/>\n      </g>\n     </g>\n     <g id=\"text_1\">\n      <!-- 2 -->\n      <defs>\n       <path d=\"M 19.1875 8.296875 \nL 53.609375 8.296875 \nL 53.609375 0 \nL 7.328125 0 \nL 7.328125 8.296875 \nQ 12.9375 14.109375 22.625 23.890625 \nQ 32.328125 33.6875 34.8125 36.53125 \nQ 39.546875 41.84375 41.421875 45.53125 \nQ 43.3125 49.21875 43.3125 52.78125 \nQ 43.3125 58.59375 39.234375 62.25 \nQ 35.15625 65.921875 28.609375 65.921875 \nQ 23.96875 65.921875 18.8125 64.3125 \nQ 13.671875 62.703125 7.8125 59.421875 \nL 7.8125 69.390625 \nQ 13.765625 71.78125 18.9375 73 \nQ 24.125 74.21875 28.421875 74.21875 \nQ 39.75 74.21875 46.484375 68.546875 \nQ 53.21875 62.890625 53.21875 53.421875 \nQ 53.21875 48.921875 51.53125 44.890625 \nQ 49.859375 40.875 45.40625 35.40625 \nQ 44.1875 33.984375 37.640625 27.21875 \nQ 31.109375 20.453125 19.1875 8.296875 \nz\n\" id=\"DejaVuSans-50\"/>\n      </defs>\n      <g transform=\"translate(48.621875 157.698438)scale(0.1 -0.1)\">\n       <use xlink:href=\"#DejaVuSans-50\"/>\n      </g>\n     </g>\n    </g>\n    <g id=\"xtick_2\">\n     <g id=\"line2d_3\">\n      <path clip-path=\"url(#p65b978f404)\" d=\"M 95.203125 143.1 \nL 95.203125 7.2 \n\" style=\"fill:none;stroke:#b0b0b0;stroke-linecap:square;stroke-width:0.8;\"/>\n     </g>\n     <g id=\"line2d_4\">\n      <g>\n       <use style=\"stroke:#000000;stroke-width:0.8;\" x=\"95.203125\" xlink:href=\"#mace53de927\" y=\"143.1\"/>\n      </g>\n     </g>\n     <g id=\"text_2\">\n      <!-- 4 -->\n      <defs>\n       <path d=\"M 37.796875 64.3125 \nL 12.890625 25.390625 \nL 37.796875 25.390625 \nz\nM 35.203125 72.90625 \nL 47.609375 72.90625 \nL 47.609375 25.390625 \nL 58.015625 25.390625 \nL 58.015625 17.1875 \nL 47.609375 17.1875 \nL 47.609375 0 \nL 37.796875 0 \nL 37.796875 17.1875 \nL 4.890625 17.1875 \nL 4.890625 26.703125 \nz\n\" id=\"DejaVuSans-52\"/>\n      </defs>\n      <g transform=\"translate(92.021875 157.698438)scale(0.1 -0.1)\">\n       <use xlink:href=\"#DejaVuSans-52\"/>\n      </g>\n     </g>\n    </g>\n    <g id=\"xtick_3\">\n     <g id=\"line2d_5\">\n      <path clip-path=\"url(#p65b978f404)\" d=\"M 138.603125 143.1 \nL 138.603125 7.2 \n\" style=\"fill:none;stroke:#b0b0b0;stroke-linecap:square;stroke-width:0.8;\"/>\n     </g>\n     <g id=\"line2d_6\">\n      <g>\n       <use style=\"stroke:#000000;stroke-width:0.8;\" x=\"138.603125\" xlink:href=\"#mace53de927\" y=\"143.1\"/>\n      </g>\n     </g>\n     <g id=\"text_3\">\n      <!-- 6 -->\n      <defs>\n       <path d=\"M 33.015625 40.375 \nQ 26.375 40.375 22.484375 35.828125 \nQ 18.609375 31.296875 18.609375 23.390625 \nQ 18.609375 15.53125 22.484375 10.953125 \nQ 26.375 6.390625 33.015625 6.390625 \nQ 39.65625 6.390625 43.53125 10.953125 \nQ 47.40625 15.53125 47.40625 23.390625 \nQ 47.40625 31.296875 43.53125 35.828125 \nQ 39.65625 40.375 33.015625 40.375 \nz\nM 52.59375 71.296875 \nL 52.59375 62.3125 \nQ 48.875 64.0625 45.09375 64.984375 \nQ 41.3125 65.921875 37.59375 65.921875 \nQ 27.828125 65.921875 22.671875 59.328125 \nQ 17.53125 52.734375 16.796875 39.40625 \nQ 19.671875 43.65625 24.015625 45.921875 \nQ 28.375 48.1875 33.59375 48.1875 \nQ 44.578125 48.1875 50.953125 41.515625 \nQ 57.328125 34.859375 57.328125 23.390625 \nQ 57.328125 12.15625 50.6875 5.359375 \nQ 44.046875 -1.421875 33.015625 -1.421875 \nQ 20.359375 -1.421875 13.671875 8.265625 \nQ 6.984375 17.96875 6.984375 36.375 \nQ 6.984375 53.65625 15.1875 63.9375 \nQ 23.390625 74.21875 37.203125 74.21875 \nQ 40.921875 74.21875 44.703125 73.484375 \nQ 48.484375 72.75 52.59375 71.296875 \nz\n\" id=\"DejaVuSans-54\"/>\n      </defs>\n      <g transform=\"translate(135.421875 157.698438)scale(0.1 -0.1)\">\n       <use xlink:href=\"#DejaVuSans-54\"/>\n      </g>\n     </g>\n    </g>\n    <g id=\"xtick_4\">\n     <g id=\"line2d_7\">\n      <path clip-path=\"url(#p65b978f404)\" d=\"M 182.003125 143.1 \nL 182.003125 7.2 \n\" style=\"fill:none;stroke:#b0b0b0;stroke-linecap:square;stroke-width:0.8;\"/>\n     </g>\n     <g id=\"line2d_8\">\n      <g>\n       <use style=\"stroke:#000000;stroke-width:0.8;\" x=\"182.003125\" xlink:href=\"#mace53de927\" y=\"143.1\"/>\n      </g>\n     </g>\n     <g id=\"text_4\">\n      <!-- 8 -->\n      <defs>\n       <path d=\"M 31.78125 34.625 \nQ 24.75 34.625 20.71875 30.859375 \nQ 16.703125 27.09375 16.703125 20.515625 \nQ 16.703125 13.921875 20.71875 10.15625 \nQ 24.75 6.390625 31.78125 6.390625 \nQ 38.8125 6.390625 42.859375 10.171875 \nQ 46.921875 13.96875 46.921875 20.515625 \nQ 46.921875 27.09375 42.890625 30.859375 \nQ 38.875 34.625 31.78125 34.625 \nz\nM 21.921875 38.8125 \nQ 15.578125 40.375 12.03125 44.71875 \nQ 8.5 49.078125 8.5 55.328125 \nQ 8.5 64.0625 14.71875 69.140625 \nQ 20.953125 74.21875 31.78125 74.21875 \nQ 42.671875 74.21875 48.875 69.140625 \nQ 55.078125 64.0625 55.078125 55.328125 \nQ 55.078125 49.078125 51.53125 44.71875 \nQ 48 40.375 41.703125 38.8125 \nQ 48.828125 37.15625 52.796875 32.3125 \nQ 56.78125 27.484375 56.78125 20.515625 \nQ 56.78125 9.90625 50.3125 4.234375 \nQ 43.84375 -1.421875 31.78125 -1.421875 \nQ 19.734375 -1.421875 13.25 4.234375 \nQ 6.78125 9.90625 6.78125 20.515625 \nQ 6.78125 27.484375 10.78125 32.3125 \nQ 14.796875 37.15625 21.921875 38.8125 \nz\nM 18.3125 54.390625 \nQ 18.3125 48.734375 21.84375 45.5625 \nQ 25.390625 42.390625 31.78125 42.390625 \nQ 38.140625 42.390625 41.71875 45.5625 \nQ 45.3125 48.734375 45.3125 54.390625 \nQ 45.3125 60.0625 41.71875 63.234375 \nQ 38.140625 66.40625 31.78125 66.40625 \nQ 25.390625 66.40625 21.84375 63.234375 \nQ 18.3125 60.0625 18.3125 54.390625 \nz\n\" id=\"DejaVuSans-56\"/>\n      </defs>\n      <g transform=\"translate(178.821875 157.698438)scale(0.1 -0.1)\">\n       <use xlink:href=\"#DejaVuSans-56\"/>\n      </g>\n     </g>\n    </g>\n    <g id=\"xtick_5\">\n     <g id=\"line2d_9\">\n      <path clip-path=\"url(#p65b978f404)\" d=\"M 225.403125 143.1 \nL 225.403125 7.2 \n\" style=\"fill:none;stroke:#b0b0b0;stroke-linecap:square;stroke-width:0.8;\"/>\n     </g>\n     <g id=\"line2d_10\">\n      <g>\n       <use style=\"stroke:#000000;stroke-width:0.8;\" x=\"225.403125\" xlink:href=\"#mace53de927\" y=\"143.1\"/>\n      </g>\n     </g>\n     <g id=\"text_5\">\n      <!-- 10 -->\n      <defs>\n       <path d=\"M 12.40625 8.296875 \nL 28.515625 8.296875 \nL 28.515625 63.921875 \nL 10.984375 60.40625 \nL 10.984375 69.390625 \nL 28.421875 72.90625 \nL 38.28125 72.90625 \nL 38.28125 8.296875 \nL 54.390625 8.296875 \nL 54.390625 0 \nL 12.40625 0 \nz\n\" id=\"DejaVuSans-49\"/>\n       <path d=\"M 31.78125 66.40625 \nQ 24.171875 66.40625 20.328125 58.90625 \nQ 16.5 51.421875 16.5 36.375 \nQ 16.5 21.390625 20.328125 13.890625 \nQ 24.171875 6.390625 31.78125 6.390625 \nQ 39.453125 6.390625 43.28125 13.890625 \nQ 47.125 21.390625 47.125 36.375 \nQ 47.125 51.421875 43.28125 58.90625 \nQ 39.453125 66.40625 31.78125 66.40625 \nz\nM 31.78125 74.21875 \nQ 44.046875 74.21875 50.515625 64.515625 \nQ 56.984375 54.828125 56.984375 36.375 \nQ 56.984375 17.96875 50.515625 8.265625 \nQ 44.046875 -1.421875 31.78125 -1.421875 \nQ 19.53125 -1.421875 13.0625 8.265625 \nQ 6.59375 17.96875 6.59375 36.375 \nQ 6.59375 54.828125 13.0625 64.515625 \nQ 19.53125 74.21875 31.78125 74.21875 \nz\n\" id=\"DejaVuSans-48\"/>\n      </defs>\n      <g transform=\"translate(219.040625 157.698438)scale(0.1 -0.1)\">\n       <use xlink:href=\"#DejaVuSans-49\"/>\n       <use x=\"63.623047\" xlink:href=\"#DejaVuSans-48\"/>\n      </g>\n     </g>\n    </g>\n    <g id=\"text_6\">\n     <!-- epoch -->\n     <defs>\n      <path d=\"M 56.203125 29.59375 \nL 56.203125 25.203125 \nL 14.890625 25.203125 \nQ 15.484375 15.921875 20.484375 11.0625 \nQ 25.484375 6.203125 34.421875 6.203125 \nQ 39.59375 6.203125 44.453125 7.46875 \nQ 49.3125 8.734375 54.109375 11.28125 \nL 54.109375 2.78125 \nQ 49.265625 0.734375 44.1875 -0.34375 \nQ 39.109375 -1.421875 33.890625 -1.421875 \nQ 20.796875 -1.421875 13.15625 6.1875 \nQ 5.515625 13.8125 5.515625 26.8125 \nQ 5.515625 40.234375 12.765625 48.109375 \nQ 20.015625 56 32.328125 56 \nQ 43.359375 56 49.78125 48.890625 \nQ 56.203125 41.796875 56.203125 29.59375 \nz\nM 47.21875 32.234375 \nQ 47.125 39.59375 43.09375 43.984375 \nQ 39.0625 48.390625 32.421875 48.390625 \nQ 24.90625 48.390625 20.390625 44.140625 \nQ 15.875 39.890625 15.1875 32.171875 \nz\n\" id=\"DejaVuSans-101\"/>\n      <path d=\"M 18.109375 8.203125 \nL 18.109375 -20.796875 \nL 9.078125 -20.796875 \nL 9.078125 54.6875 \nL 18.109375 54.6875 \nL 18.109375 46.390625 \nQ 20.953125 51.265625 25.265625 53.625 \nQ 29.59375 56 35.59375 56 \nQ 45.5625 56 51.78125 48.09375 \nQ 58.015625 40.1875 58.015625 27.296875 \nQ 58.015625 14.40625 51.78125 6.484375 \nQ 45.5625 -1.421875 35.59375 -1.421875 \nQ 29.59375 -1.421875 25.265625 0.953125 \nQ 20.953125 3.328125 18.109375 8.203125 \nz\nM 48.6875 27.296875 \nQ 48.6875 37.203125 44.609375 42.84375 \nQ 40.53125 48.484375 33.40625 48.484375 \nQ 26.265625 48.484375 22.1875 42.84375 \nQ 18.109375 37.203125 18.109375 27.296875 \nQ 18.109375 17.390625 22.1875 11.75 \nQ 26.265625 6.109375 33.40625 6.109375 \nQ 40.53125 6.109375 44.609375 11.75 \nQ 48.6875 17.390625 48.6875 27.296875 \nz\n\" id=\"DejaVuSans-112\"/>\n      <path d=\"M 30.609375 48.390625 \nQ 23.390625 48.390625 19.1875 42.75 \nQ 14.984375 37.109375 14.984375 27.296875 \nQ 14.984375 17.484375 19.15625 11.84375 \nQ 23.34375 6.203125 30.609375 6.203125 \nQ 37.796875 6.203125 41.984375 11.859375 \nQ 46.1875 17.53125 46.1875 27.296875 \nQ 46.1875 37.015625 41.984375 42.703125 \nQ 37.796875 48.390625 30.609375 48.390625 \nz\nM 30.609375 56 \nQ 42.328125 56 49.015625 48.375 \nQ 55.71875 40.765625 55.71875 27.296875 \nQ 55.71875 13.875 49.015625 6.21875 \nQ 42.328125 -1.421875 30.609375 -1.421875 \nQ 18.84375 -1.421875 12.171875 6.21875 \nQ 5.515625 13.875 5.515625 27.296875 \nQ 5.515625 40.765625 12.171875 48.375 \nQ 18.84375 56 30.609375 56 \nz\n\" id=\"DejaVuSans-111\"/>\n      <path d=\"M 48.78125 52.59375 \nL 48.78125 44.1875 \nQ 44.96875 46.296875 41.140625 47.34375 \nQ 37.3125 48.390625 33.40625 48.390625 \nQ 24.65625 48.390625 19.8125 42.84375 \nQ 14.984375 37.3125 14.984375 27.296875 \nQ 14.984375 17.28125 19.8125 11.734375 \nQ 24.65625 6.203125 33.40625 6.203125 \nQ 37.3125 6.203125 41.140625 7.25 \nQ 44.96875 8.296875 48.78125 10.40625 \nL 48.78125 2.09375 \nQ 45.015625 0.34375 40.984375 -0.53125 \nQ 36.96875 -1.421875 32.421875 -1.421875 \nQ 20.0625 -1.421875 12.78125 6.34375 \nQ 5.515625 14.109375 5.515625 27.296875 \nQ 5.515625 40.671875 12.859375 48.328125 \nQ 20.21875 56 33.015625 56 \nQ 37.15625 56 41.109375 55.140625 \nQ 45.0625 54.296875 48.78125 52.59375 \nz\n\" id=\"DejaVuSans-99\"/>\n      <path d=\"M 54.890625 33.015625 \nL 54.890625 0 \nL 45.90625 0 \nL 45.90625 32.71875 \nQ 45.90625 40.484375 42.875 44.328125 \nQ 39.84375 48.1875 33.796875 48.1875 \nQ 26.515625 48.1875 22.3125 43.546875 \nQ 18.109375 38.921875 18.109375 30.90625 \nL 18.109375 0 \nL 9.078125 0 \nL 9.078125 75.984375 \nL 18.109375 75.984375 \nL 18.109375 46.1875 \nQ 21.34375 51.125 25.703125 53.5625 \nQ 30.078125 56 35.796875 56 \nQ 45.21875 56 50.046875 50.171875 \nQ 54.890625 44.34375 54.890625 33.015625 \nz\n\" id=\"DejaVuSans-104\"/>\n     </defs>\n     <g transform=\"translate(112.525 171.376563)scale(0.1 -0.1)\">\n      <use xlink:href=\"#DejaVuSans-101\"/>\n      <use x=\"61.523438\" xlink:href=\"#DejaVuSans-112\"/>\n      <use x=\"125\" xlink:href=\"#DejaVuSans-111\"/>\n      <use x=\"186.181641\" xlink:href=\"#DejaVuSans-99\"/>\n      <use x=\"241.162109\" xlink:href=\"#DejaVuSans-104\"/>\n     </g>\n    </g>\n   </g>\n   <g id=\"matplotlib.axis_2\">\n    <g id=\"ytick_1\">\n     <g id=\"line2d_11\">\n      <path clip-path=\"url(#p65b978f404)\" d=\"M 30.103125 127.401118 \nL 225.403125 127.401118 \n\" style=\"fill:none;stroke:#b0b0b0;stroke-linecap:square;stroke-width:0.8;\"/>\n     </g>\n     <g id=\"line2d_12\">\n      <defs>\n       <path d=\"M 0 0 \nL -3.5 0 \n\" id=\"md5d53f7be1\" style=\"stroke:#000000;stroke-width:0.8;\"/>\n      </defs>\n      <g>\n       <use style=\"stroke:#000000;stroke-width:0.8;\" x=\"30.103125\" xlink:href=\"#md5d53f7be1\" y=\"127.401118\"/>\n      </g>\n     </g>\n     <g id=\"text_7\">\n      <!-- 0.2 -->\n      <defs>\n       <path d=\"M 10.6875 12.40625 \nL 21 12.40625 \nL 21 0 \nL 10.6875 0 \nz\n\" id=\"DejaVuSans-46\"/>\n      </defs>\n      <g transform=\"translate(7.2 131.200337)scale(0.1 -0.1)\">\n       <use xlink:href=\"#DejaVuSans-48\"/>\n       <use x=\"63.623047\" xlink:href=\"#DejaVuSans-46\"/>\n       <use x=\"95.410156\" xlink:href=\"#DejaVuSans-50\"/>\n      </g>\n     </g>\n    </g>\n    <g id=\"ytick_2\">\n     <g id=\"line2d_13\">\n      <path clip-path=\"url(#p65b978f404)\" d=\"M 30.103125 96.993412 \nL 225.403125 96.993412 \n\" style=\"fill:none;stroke:#b0b0b0;stroke-linecap:square;stroke-width:0.8;\"/>\n     </g>\n     <g id=\"line2d_14\">\n      <g>\n       <use style=\"stroke:#000000;stroke-width:0.8;\" x=\"30.103125\" xlink:href=\"#md5d53f7be1\" y=\"96.993412\"/>\n      </g>\n     </g>\n     <g id=\"text_8\">\n      <!-- 0.4 -->\n      <g transform=\"translate(7.2 100.79263)scale(0.1 -0.1)\">\n       <use xlink:href=\"#DejaVuSans-48\"/>\n       <use x=\"63.623047\" xlink:href=\"#DejaVuSans-46\"/>\n       <use x=\"95.410156\" xlink:href=\"#DejaVuSans-52\"/>\n      </g>\n     </g>\n    </g>\n    <g id=\"ytick_3\">\n     <g id=\"line2d_15\">\n      <path clip-path=\"url(#p65b978f404)\" d=\"M 30.103125 66.585705 \nL 225.403125 66.585705 \n\" style=\"fill:none;stroke:#b0b0b0;stroke-linecap:square;stroke-width:0.8;\"/>\n     </g>\n     <g id=\"line2d_16\">\n      <g>\n       <use style=\"stroke:#000000;stroke-width:0.8;\" x=\"30.103125\" xlink:href=\"#md5d53f7be1\" y=\"66.585705\"/>\n      </g>\n     </g>\n     <g id=\"text_9\">\n      <!-- 0.6 -->\n      <g transform=\"translate(7.2 70.384924)scale(0.1 -0.1)\">\n       <use xlink:href=\"#DejaVuSans-48\"/>\n       <use x=\"63.623047\" xlink:href=\"#DejaVuSans-46\"/>\n       <use x=\"95.410156\" xlink:href=\"#DejaVuSans-54\"/>\n      </g>\n     </g>\n    </g>\n    <g id=\"ytick_4\">\n     <g id=\"line2d_17\">\n      <path clip-path=\"url(#p65b978f404)\" d=\"M 30.103125 36.177998 \nL 225.403125 36.177998 \n\" style=\"fill:none;stroke:#b0b0b0;stroke-linecap:square;stroke-width:0.8;\"/>\n     </g>\n     <g id=\"line2d_18\">\n      <g>\n       <use style=\"stroke:#000000;stroke-width:0.8;\" x=\"30.103125\" xlink:href=\"#md5d53f7be1\" y=\"36.177998\"/>\n      </g>\n     </g>\n     <g id=\"text_10\">\n      <!-- 0.8 -->\n      <g transform=\"translate(7.2 39.977217)scale(0.1 -0.1)\">\n       <use xlink:href=\"#DejaVuSans-48\"/>\n       <use x=\"63.623047\" xlink:href=\"#DejaVuSans-46\"/>\n       <use x=\"95.410156\" xlink:href=\"#DejaVuSans-56\"/>\n      </g>\n     </g>\n    </g>\n   </g>\n   <g id=\"line2d_19\">\n    <path clip-path=\"url(#p65b978f404)\" d=\"M 12.743125 18.159707 \nL 17.083125 49.730263 \nL 21.423125 64.663673 \nL 25.763125 73.458932 \nL 30.103125 79.423561 \nL 34.443125 107.553318 \nL 38.783125 109.118653 \nL 43.123125 110.437718 \nL 47.463125 111.0773 \nL 51.803125 111.663415 \nL 56.143125 117.131577 \nL 60.483125 118.599351 \nL 64.823125 118.295196 \nL 69.163125 119.006361 \nL 73.503125 119.197206 \nL 77.843125 121.947643 \nL 82.183125 122.221107 \nL 86.523125 122.442434 \nL 90.863125 122.923214 \nL 95.203125 123.315006 \nL 99.543125 126.089051 \nL 103.883125 126.132158 \nL 108.223125 126.511873 \nL 112.563125 126.379609 \nL 116.903125 126.51579 \nL 121.243125 129.86438 \nL 125.583125 129.822828 \nL 129.923125 129.324653 \nL 134.263125 129.447601 \nL 138.603125 129.248686 \nL 142.943125 132.088003 \nL 147.283125 131.318472 \nL 151.623125 131.47218 \nL 155.963125 131.242599 \nL 160.303125 131.228075 \nL 164.643125 132.616628 \nL 168.983125 133.727539 \nL 173.323125 133.698916 \nL 177.663125 133.614924 \nL 182.003125 133.3008 \nL 186.343125 134.893898 \nL 190.683125 134.979666 \nL 195.023125 134.813187 \nL 199.363125 134.537848 \nL 203.703125 134.673002 \nL 208.043125 136.922727 \nL 212.383125 136.337105 \nL 216.723125 136.676554 \nL 221.063125 136.690505 \nL 225.403125 136.516598 \n\" style=\"fill:none;stroke:#1f77b4;stroke-linecap:square;stroke-width:1.5;\"/>\n   </g>\n   <g id=\"line2d_20\">\n    <path clip-path=\"url(#p65b978f404)\" d=\"M 12.743125 52.031351 \nL 17.083125 42.383627 \nL 21.423125 37.874616 \nL 25.763125 35.073596 \nL 30.103125 33.172703 \nL 34.443125 24.358114 \nL 38.783125 23.606261 \nL 43.123125 22.930226 \nL 47.463125 22.715411 \nL 51.803125 22.606025 \nL 56.143125 20.744166 \nL 60.483125 20.156584 \nL 64.823125 20.221871 \nL 69.163125 19.948087 \nL 73.503125 19.838924 \nL 77.843125 19.17728 \nL 82.183125 18.867694 \nL 86.523125 18.705529 \nL 90.863125 18.539153 \nL 95.203125 18.371752 \nL 99.543125 17.016493 \nL 103.883125 17.155491 \nL 108.223125 17.029129 \nL 112.563125 17.130219 \nL 116.903125 17.117434 \nL 121.243125 15.841328 \nL 125.583125 16.113006 \nL 129.923125 16.211989 \nL 134.263125 16.154074 \nL 138.603125 16.253348 \nL 142.943125 15.17161 \nL 147.283125 15.468561 \nL 151.623125 15.445394 \nL 155.963125 15.440129 \nL 160.303125 15.47035 \nL 164.643125 14.880978 \nL 168.983125 14.495575 \nL 173.323125 14.548226 \nL 177.663125 14.599823 \nL 182.003125 14.717759 \nL 186.343125 13.958537 \nL 190.683125 14.154398 \nL 195.023125 14.143868 \nL 199.363125 14.324986 \nL 203.703125 14.23377 \nL 208.043125 13.377273 \nL 212.383125 13.762676 \nL 216.723125 13.57524 \nL 221.063125 13.48468 \nL 225.403125 13.618014 \n\" style=\"fill:none;stroke:#bf00bf;stroke-dasharray:5.55,2.4;stroke-dashoffset:0;stroke-width:1.5;\"/>\n   </g>\n   <g id=\"line2d_21\">\n    <path clip-path=\"url(#p65b978f404)\" d=\"M 30.103125 28.971372 \nL 51.803125 28.652091 \nL 73.503125 24.379808 \nL 95.203125 35.083321 \nL 116.903125 25.748155 \nL 138.603125 28.880149 \nL 160.303125 20.457214 \nL 182.003125 48.128227 \nL 203.703125 20.061914 \nL 225.403125 22.950646 \n\" style=\"fill:none;stroke:#008000;stroke-dasharray:9.6,2.4,1.5,2.4;stroke-dashoffset:0;stroke-width:1.5;\"/>\n   </g>\n   <g id=\"patch_3\">\n    <path d=\"M 30.103125 143.1 \nL 30.103125 7.2 \n\" style=\"fill:none;stroke:#000000;stroke-linecap:square;stroke-linejoin:miter;stroke-width:0.8;\"/>\n   </g>\n   <g id=\"patch_4\">\n    <path d=\"M 225.403125 143.1 \nL 225.403125 7.2 \n\" style=\"fill:none;stroke:#000000;stroke-linecap:square;stroke-linejoin:miter;stroke-width:0.8;\"/>\n   </g>\n   <g id=\"patch_5\">\n    <path d=\"M 30.103125 143.1 \nL 225.403125 143.1 \n\" style=\"fill:none;stroke:#000000;stroke-linecap:square;stroke-linejoin:miter;stroke-width:0.8;\"/>\n   </g>\n   <g id=\"patch_6\">\n    <path d=\"M 30.103125 7.2 \nL 225.403125 7.2 \n\" style=\"fill:none;stroke:#000000;stroke-linecap:square;stroke-linejoin:miter;stroke-width:0.8;\"/>\n   </g>\n   <g id=\"legend_1\">\n    <g id=\"patch_7\">\n     <path d=\"M 140.634375 98.667187 \nL 218.403125 98.667187 \nQ 220.403125 98.667187 220.403125 96.667187 \nL 220.403125 53.632812 \nQ 220.403125 51.632812 218.403125 51.632812 \nL 140.634375 51.632812 \nQ 138.634375 51.632812 138.634375 53.632812 \nL 138.634375 96.667187 \nQ 138.634375 98.667187 140.634375 98.667187 \nz\n\" style=\"fill:#ffffff;opacity:0.8;stroke:#cccccc;stroke-linejoin:miter;\"/>\n    </g>\n    <g id=\"line2d_22\">\n     <path d=\"M 142.634375 59.73125 \nL 162.634375 59.73125 \n\" style=\"fill:none;stroke:#1f77b4;stroke-linecap:square;stroke-width:1.5;\"/>\n    </g>\n    <g id=\"line2d_23\"/>\n    <g id=\"text_11\">\n     <!-- train loss -->\n     <defs>\n      <path d=\"M 18.3125 70.21875 \nL 18.3125 54.6875 \nL 36.8125 54.6875 \nL 36.8125 47.703125 \nL 18.3125 47.703125 \nL 18.3125 18.015625 \nQ 18.3125 11.328125 20.140625 9.421875 \nQ 21.96875 7.515625 27.59375 7.515625 \nL 36.8125 7.515625 \nL 36.8125 0 \nL 27.59375 0 \nQ 17.1875 0 13.234375 3.875 \nQ 9.28125 7.765625 9.28125 18.015625 \nL 9.28125 47.703125 \nL 2.6875 47.703125 \nL 2.6875 54.6875 \nL 9.28125 54.6875 \nL 9.28125 70.21875 \nz\n\" id=\"DejaVuSans-116\"/>\n      <path d=\"M 41.109375 46.296875 \nQ 39.59375 47.171875 37.8125 47.578125 \nQ 36.03125 48 33.890625 48 \nQ 26.265625 48 22.1875 43.046875 \nQ 18.109375 38.09375 18.109375 28.8125 \nL 18.109375 0 \nL 9.078125 0 \nL 9.078125 54.6875 \nL 18.109375 54.6875 \nL 18.109375 46.1875 \nQ 20.953125 51.171875 25.484375 53.578125 \nQ 30.03125 56 36.53125 56 \nQ 37.453125 56 38.578125 55.875 \nQ 39.703125 55.765625 41.0625 55.515625 \nz\n\" id=\"DejaVuSans-114\"/>\n      <path d=\"M 34.28125 27.484375 \nQ 23.390625 27.484375 19.1875 25 \nQ 14.984375 22.515625 14.984375 16.5 \nQ 14.984375 11.71875 18.140625 8.90625 \nQ 21.296875 6.109375 26.703125 6.109375 \nQ 34.1875 6.109375 38.703125 11.40625 \nQ 43.21875 16.703125 43.21875 25.484375 \nL 43.21875 27.484375 \nz\nM 52.203125 31.203125 \nL 52.203125 0 \nL 43.21875 0 \nL 43.21875 8.296875 \nQ 40.140625 3.328125 35.546875 0.953125 \nQ 30.953125 -1.421875 24.3125 -1.421875 \nQ 15.921875 -1.421875 10.953125 3.296875 \nQ 6 8.015625 6 15.921875 \nQ 6 25.140625 12.171875 29.828125 \nQ 18.359375 34.515625 30.609375 34.515625 \nL 43.21875 34.515625 \nL 43.21875 35.40625 \nQ 43.21875 41.609375 39.140625 45 \nQ 35.0625 48.390625 27.6875 48.390625 \nQ 23 48.390625 18.546875 47.265625 \nQ 14.109375 46.140625 10.015625 43.890625 \nL 10.015625 52.203125 \nQ 14.9375 54.109375 19.578125 55.046875 \nQ 24.21875 56 28.609375 56 \nQ 40.484375 56 46.34375 49.84375 \nQ 52.203125 43.703125 52.203125 31.203125 \nz\n\" id=\"DejaVuSans-97\"/>\n      <path d=\"M 9.421875 54.6875 \nL 18.40625 54.6875 \nL 18.40625 0 \nL 9.421875 0 \nz\nM 9.421875 75.984375 \nL 18.40625 75.984375 \nL 18.40625 64.59375 \nL 9.421875 64.59375 \nz\n\" id=\"DejaVuSans-105\"/>\n      <path d=\"M 54.890625 33.015625 \nL 54.890625 0 \nL 45.90625 0 \nL 45.90625 32.71875 \nQ 45.90625 40.484375 42.875 44.328125 \nQ 39.84375 48.1875 33.796875 48.1875 \nQ 26.515625 48.1875 22.3125 43.546875 \nQ 18.109375 38.921875 18.109375 30.90625 \nL 18.109375 0 \nL 9.078125 0 \nL 9.078125 54.6875 \nL 18.109375 54.6875 \nL 18.109375 46.1875 \nQ 21.34375 51.125 25.703125 53.5625 \nQ 30.078125 56 35.796875 56 \nQ 45.21875 56 50.046875 50.171875 \nQ 54.890625 44.34375 54.890625 33.015625 \nz\n\" id=\"DejaVuSans-110\"/>\n      <path id=\"DejaVuSans-32\"/>\n      <path d=\"M 9.421875 75.984375 \nL 18.40625 75.984375 \nL 18.40625 0 \nL 9.421875 0 \nz\n\" id=\"DejaVuSans-108\"/>\n      <path d=\"M 44.28125 53.078125 \nL 44.28125 44.578125 \nQ 40.484375 46.53125 36.375 47.5 \nQ 32.28125 48.484375 27.875 48.484375 \nQ 21.1875 48.484375 17.84375 46.4375 \nQ 14.5 44.390625 14.5 40.28125 \nQ 14.5 37.15625 16.890625 35.375 \nQ 19.28125 33.59375 26.515625 31.984375 \nL 29.59375 31.296875 \nQ 39.15625 29.25 43.1875 25.515625 \nQ 47.21875 21.78125 47.21875 15.09375 \nQ 47.21875 7.46875 41.1875 3.015625 \nQ 35.15625 -1.421875 24.609375 -1.421875 \nQ 20.21875 -1.421875 15.453125 -0.5625 \nQ 10.6875 0.296875 5.421875 2 \nL 5.421875 11.28125 \nQ 10.40625 8.6875 15.234375 7.390625 \nQ 20.0625 6.109375 24.8125 6.109375 \nQ 31.15625 6.109375 34.5625 8.28125 \nQ 37.984375 10.453125 37.984375 14.40625 \nQ 37.984375 18.0625 35.515625 20.015625 \nQ 33.0625 21.96875 24.703125 23.78125 \nL 21.578125 24.515625 \nQ 13.234375 26.265625 9.515625 29.90625 \nQ 5.8125 33.546875 5.8125 39.890625 \nQ 5.8125 47.609375 11.28125 51.796875 \nQ 16.75 56 26.8125 56 \nQ 31.78125 56 36.171875 55.265625 \nQ 40.578125 54.546875 44.28125 53.078125 \nz\n\" id=\"DejaVuSans-115\"/>\n     </defs>\n     <g transform=\"translate(170.634375 63.23125)scale(0.1 -0.1)\">\n      <use xlink:href=\"#DejaVuSans-116\"/>\n      <use x=\"39.208984\" xlink:href=\"#DejaVuSans-114\"/>\n      <use x=\"80.322266\" xlink:href=\"#DejaVuSans-97\"/>\n      <use x=\"141.601562\" xlink:href=\"#DejaVuSans-105\"/>\n      <use x=\"169.384766\" xlink:href=\"#DejaVuSans-110\"/>\n      <use x=\"232.763672\" xlink:href=\"#DejaVuSans-32\"/>\n      <use x=\"264.550781\" xlink:href=\"#DejaVuSans-108\"/>\n      <use x=\"292.333984\" xlink:href=\"#DejaVuSans-111\"/>\n      <use x=\"353.515625\" xlink:href=\"#DejaVuSans-115\"/>\n      <use x=\"405.615234\" xlink:href=\"#DejaVuSans-115\"/>\n     </g>\n    </g>\n    <g id=\"line2d_24\">\n     <path d=\"M 142.634375 74.409375 \nL 162.634375 74.409375 \n\" style=\"fill:none;stroke:#bf00bf;stroke-dasharray:5.55,2.4;stroke-dashoffset:0;stroke-width:1.5;\"/>\n    </g>\n    <g id=\"line2d_25\"/>\n    <g id=\"text_12\">\n     <!-- train acc -->\n     <g transform=\"translate(170.634375 77.909375)scale(0.1 -0.1)\">\n      <use xlink:href=\"#DejaVuSans-116\"/>\n      <use x=\"39.208984\" xlink:href=\"#DejaVuSans-114\"/>\n      <use x=\"80.322266\" xlink:href=\"#DejaVuSans-97\"/>\n      <use x=\"141.601562\" xlink:href=\"#DejaVuSans-105\"/>\n      <use x=\"169.384766\" xlink:href=\"#DejaVuSans-110\"/>\n      <use x=\"232.763672\" xlink:href=\"#DejaVuSans-32\"/>\n      <use x=\"264.550781\" xlink:href=\"#DejaVuSans-97\"/>\n      <use x=\"325.830078\" xlink:href=\"#DejaVuSans-99\"/>\n      <use x=\"380.810547\" xlink:href=\"#DejaVuSans-99\"/>\n     </g>\n    </g>\n    <g id=\"line2d_26\">\n     <path d=\"M 142.634375 89.0875 \nL 162.634375 89.0875 \n\" style=\"fill:none;stroke:#008000;stroke-dasharray:9.6,2.4,1.5,2.4;stroke-dashoffset:0;stroke-width:1.5;\"/>\n    </g>\n    <g id=\"line2d_27\"/>\n    <g id=\"text_13\">\n     <!-- test acc -->\n     <g transform=\"translate(170.634375 92.5875)scale(0.1 -0.1)\">\n      <use xlink:href=\"#DejaVuSans-116\"/>\n      <use x=\"39.208984\" xlink:href=\"#DejaVuSans-101\"/>\n      <use x=\"100.732422\" xlink:href=\"#DejaVuSans-115\"/>\n      <use x=\"152.832031\" xlink:href=\"#DejaVuSans-116\"/>\n      <use x=\"192.041016\" xlink:href=\"#DejaVuSans-32\"/>\n      <use x=\"223.828125\" xlink:href=\"#DejaVuSans-97\"/>\n      <use x=\"285.107422\" xlink:href=\"#DejaVuSans-99\"/>\n      <use x=\"340.087891\" xlink:href=\"#DejaVuSans-99\"/>\n     </g>\n    </g>\n   </g>\n  </g>\n </g>\n <defs>\n  <clipPath id=\"p65b978f404\">\n   <rect height=\"135.9\" width=\"195.3\" x=\"30.103125\" y=\"7.2\"/>\n  </clipPath>\n </defs>\n</svg>\n"
          },
          "metadata": {
            "tags": [],
            "needs_background": "light"
          }
        }
      ]
    },
    {
      "cell_type": "code",
      "metadata": {
        "id": "mXw07TDSsg6e"
      },
      "source": [
        ""
      ],
      "execution_count": null,
      "outputs": []
    }
  ]
}